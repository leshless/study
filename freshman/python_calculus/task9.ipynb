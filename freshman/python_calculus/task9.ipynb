{
  "cells": [
    {
      "cell_type": "markdown",
      "metadata": {
        "id": "view-in-github",
        "colab_type": "text"
      },
      "source": [
        "<a href=\"https://colab.research.google.com/github/leshless/study/blob/main/python_calculus/task9.ipynb\" target=\"_parent\"><img src=\"https://colab.research.google.com/assets/colab-badge.svg\" alt=\"Open In Colab\"/></a>"
      ]
    },
    {
      "cell_type": "code",
      "execution_count": 2,
      "metadata": {
        "id": "CoJlZTex3RnK"
      },
      "outputs": [],
      "source": [
        "import sympy\n",
        "from sympy import Symbol, symbols, S, Function, integrate, Integral, diff, solve"
      ]
    },
    {
      "cell_type": "markdown",
      "metadata": {
        "id": "eVeub0rH3RnL"
      },
      "source": [
        "## Занятие 9\n",
        "## Математический анализ\n",
        "## Интегрирование функции: первообразная и неопределенный интеграл\n",
        "https://docs.sympy.org/1.5.1/modules/integrals/integrals.html\n",
        "\n",
        "https://ru.wikipedia.org/wiki/%D0%9F%D0%B5%D1%80%D0%B2%D0%BE%D0%BE%D0%B1%D1%80%D0%B0%D0%B7%D0%BD%D0%B0%D1%8F\n",
        "\n",
        "https://ru.wikipedia.org/wiki/%D0%A1%D0%BF%D0%B8%D1%81%D0%BE%D0%BA_%D0%B8%D0%BD%D1%82%D0%B5%D0%B3%D1%80%D0%B0%D0%BB%D0%BE%D0%B2_%D1%8D%D0%BB%D0%B5%D0%BC%D0%B5%D0%BD%D1%82%D0%B0%D1%80%D0%BD%D1%8B%D1%85_%D1%84%D1%83%D0%BD%D0%BA%D1%86%D0%B8%D0%B9"
      ]
    },
    {
      "cell_type": "markdown",
      "metadata": {
        "id": "u-QCHQQO3RnM"
      },
      "source": [
        "\n",
        "### Задача 1.\n",
        "Вычислить определенные интегралы:\n",
        "$$\n",
        "1)\\ \\int_2^3 \\frac{1}{\\sqrt{x-2}},\\ 2) \\int_1^6 \\frac{1}{(x-1)^3},\\ 3)\\ \\int_2^\\infty \\frac{1}{(x-1)^3}\n",
        "$$"
      ]
    },
    {
      "cell_type": "code",
      "execution_count": 11,
      "metadata": {
        "id": "4C-kTMQu3RnM",
        "colab": {
          "base_uri": "https://localhost:8080/",
          "height": 92
        },
        "outputId": "b4f92f37-8235-4930-ac03-4ae8df8b204f"
      },
      "outputs": [
        {
          "output_type": "display_data",
          "data": {
            "text/plain": [
              "2"
            ],
            "text/latex": "$\\displaystyle 2$"
          },
          "metadata": {}
        },
        {
          "output_type": "display_data",
          "data": {
            "text/plain": [
              "oo"
            ],
            "text/latex": "$\\displaystyle \\infty$"
          },
          "metadata": {}
        },
        {
          "output_type": "display_data",
          "data": {
            "text/plain": [
              "1/2"
            ],
            "text/latex": "$\\displaystyle \\frac{1}{2}$"
          },
          "metadata": {}
        }
      ],
      "source": [
        "x = Symbol(\"x\")\n",
        "\n",
        "# 1\n",
        "f = lambda x : 1 / sympy.sqrt(x - 2)\n",
        "display(integrate(f(x), (x, 2, 3)))\n",
        "\n",
        "# 2\n",
        "f = lambda x : 1 / (x - 1) ** 3\n",
        "display(integrate(f(x), (x, 1, 6)))\n",
        "\n",
        "# 3\n",
        "f = lambda x : 1 / (x - 1) ** 3\n",
        "display(integrate(f(x), (x, 2, sympy.oo)))"
      ]
    },
    {
      "cell_type": "markdown",
      "metadata": {
        "id": "KEvTvPV73RnM"
      },
      "source": [
        "\n",
        "### Задача 2\n",
        "Описать функцию, находящую неопределенный интеграл $\\int f(x)\\,dx$ в виде $F(x)+C$.\n",
        "\n",
        "Использовать эту функцию для интегрирования $\\sin(3x+5)$, $x{\\rm tg}(x^2)$, $(e^{\\sin x})\\cos x$, $x^2e^{x^3}$"
      ]
    },
    {
      "cell_type": "code",
      "execution_count": 15,
      "metadata": {
        "id": "NqycT_db3RnN",
        "colab": {
          "base_uri": "https://localhost:8080/",
          "height": 154
        },
        "outputId": "c02a1e1a-28f2-4efb-c5fe-cb54ba5bce02"
      },
      "outputs": [
        {
          "output_type": "display_data",
          "data": {
            "text/plain": [
              "C - cos(3*x + 5)/3"
            ],
            "text/latex": "$\\displaystyle C - \\frac{\\cos{\\left(3 x + 5 \\right)}}{3}$"
          },
          "metadata": {}
        },
        {
          "output_type": "display_data",
          "data": {
            "text/plain": [
              "C + log(tan(x**2)**2 + 1)/4"
            ],
            "text/latex": "$\\displaystyle C + \\frac{\\log{\\left(\\tan^{2}{\\left(x^{2} \\right)} + 1 \\right)}}{4}$"
          },
          "metadata": {}
        },
        {
          "output_type": "display_data",
          "data": {
            "text/plain": [
              "C + exp(sin(x))"
            ],
            "text/latex": "$\\displaystyle C + e^{\\sin{\\left(x \\right)}}$"
          },
          "metadata": {}
        },
        {
          "output_type": "display_data",
          "data": {
            "text/plain": [
              "C + exp(x**3)/3"
            ],
            "text/latex": "$\\displaystyle C + \\frac{e^{x^{3}}}{3}$"
          },
          "metadata": {}
        }
      ],
      "source": [
        "def indefinite_integral(f, x):\n",
        "  C = symbols(\"C\")\n",
        "  return integrate(f(x), x) + C\n",
        "\n",
        "x = symbols(\"x\")\n",
        "\n",
        "# 1\n",
        "f = lambda x : sympy.sin(3*x + 5)\n",
        "display(indefinite_integral(f, x))\n",
        "\n",
        "# 2\n",
        "f = lambda x : x * sympy.tan(x**2)\n",
        "display(indefinite_integral(f, x))\n",
        "\n",
        "# 3\n",
        "f = lambda x : sympy.exp(sympy.sin(x)) * sympy.cos(x)\n",
        "display(indefinite_integral(f, x))\n",
        "\n",
        "# 4\n",
        "f = lambda x : x ** 2 * sympy.exp(x ** 3)\n",
        "display(indefinite_integral(f, x))"
      ]
    },
    {
      "cell_type": "markdown",
      "metadata": {
        "id": "kVnaXxWC3RnN"
      },
      "source": [
        "### Задача 3.\n",
        "Найти первообразную функции $\\frac{x-3}{(x+1)^2}$, график которой проходит через начало координат."
      ]
    },
    {
      "cell_type": "code",
      "execution_count": 25,
      "metadata": {
        "id": "0CYPdVPE3RnN",
        "colab": {
          "base_uri": "https://localhost:8080/",
          "height": 88
        },
        "outputId": "2ee8c380-34a7-4dbb-feb6-0793bc142a9a"
      },
      "outputs": [
        {
          "output_type": "display_data",
          "data": {
            "text/plain": [
              "C + log(x + 1) + 4/(x + 1)"
            ],
            "text/latex": "$\\displaystyle C + \\log{\\left(x + 1 \\right)} + \\frac{4}{x + 1}$"
          },
          "metadata": {}
        },
        {
          "output_type": "display_data",
          "data": {
            "text/plain": [
              "log(x + 1) - 4 + 4/(x + 1)"
            ],
            "text/latex": "$\\displaystyle \\log{\\left(x + 1 \\right)} - 4 + \\frac{4}{x + 1}$"
          },
          "metadata": {}
        }
      ],
      "source": [
        "x = Symbol(\"x\")\n",
        "C = Symbol(\"C\")\n",
        "\n",
        "f = lambda x : (x - 3) / (x + 1) ** 2\n",
        "\n",
        "F = integrate(f(x), x) + C\n",
        "display(F)\n",
        "\n",
        "C0 = solve(sympy.Eq(F.subs(x, 0), 0), C)[0]\n",
        "display(F.subs(C, C0))"
      ]
    },
    {
      "cell_type": "markdown",
      "metadata": {
        "id": "UEEl_P5T3RnN"
      },
      "source": [
        "### Задача 4.\n",
        "Описать функцию, вычисляющую неопределенный интеграл от $\\frac{1}{\\sqrt{x^2+a}}$ по формуле \"длинного логарифма\":\n",
        "$$\n",
        "\\int\\frac{1}{\\sqrt{x^2+a}} = \\ln|x + \\sqrt{x^2 + a}| + C,\\quad a \\neq 0.\n",
        "$$\n",
        "Функция возвращает $\\ln|x| + C$ при $a = 0$. Аргументы функции - переменная интегрирования $x$ и параметр $a$.\n",
        "\n",
        "Вызвать функцию при $a = 0, 1, 4$. Сравнить с результатом integrate.\n",
        "\n",
        "Проверить дифференцированием, при необходимости использовать simplyfy для того, чтобы упростить выражение.\n",
        "\n",
        "Рекомендется создавать положительные символы, чтобы не было неоднозначности."
      ]
    },
    {
      "cell_type": "code",
      "execution_count": 42,
      "metadata": {
        "id": "tGU9Tf_x3RnN",
        "colab": {
          "base_uri": "https://localhost:8080/",
          "height": 175
        },
        "outputId": "172a2799-d2f5-41ca-d4d5-37527309f2a5"
      },
      "outputs": [
        {
          "output_type": "display_data",
          "data": {
            "text/plain": [
              "C + log(x)"
            ],
            "text/latex": "$\\displaystyle C + \\log{\\left(x \\right)}$"
          },
          "metadata": {}
        },
        {
          "output_type": "display_data",
          "data": {
            "text/plain": [
              "C + log(x)"
            ],
            "text/latex": "$\\displaystyle C + \\log{\\left(x \\right)}$"
          },
          "metadata": {}
        },
        {
          "output_type": "display_data",
          "data": {
            "text/plain": [
              "C + log(x + sqrt(x**2 + 1))"
            ],
            "text/latex": "$\\displaystyle C + \\log{\\left(x + \\sqrt{x^{2} + 1} \\right)}$"
          },
          "metadata": {}
        },
        {
          "output_type": "display_data",
          "data": {
            "text/plain": [
              "C + asinh(x)"
            ],
            "text/latex": "$\\displaystyle C + \\operatorname{asinh}{\\left(x \\right)}$"
          },
          "metadata": {}
        },
        {
          "output_type": "display_data",
          "data": {
            "text/plain": [
              "C + log(x + sqrt(x**2 + 4))"
            ],
            "text/latex": "$\\displaystyle C + \\log{\\left(x + \\sqrt{x^{2} + 4} \\right)}$"
          },
          "metadata": {}
        },
        {
          "output_type": "display_data",
          "data": {
            "text/plain": [
              "C + asinh(x/2)"
            ],
            "text/latex": "$\\displaystyle C + \\operatorname{asinh}{\\left(\\frac{x}{2} \\right)}$"
          },
          "metadata": {}
        }
      ],
      "source": [
        "def eval(x, a):\n",
        "  C = Symbol(\"C\")\n",
        "\n",
        "  if a == S.Zero:\n",
        "    return sympy.ln(x) + C\n",
        "\n",
        "  return sympy.ln(abs(x + sympy.sqrt(x ** 2 + a))) + C\n",
        "\n",
        "x = Symbol(\"x\", positive=True)\n",
        "a = Symbol(\"a\", positive=True)\n",
        "C = Symbol(\"C\")\n",
        "\n",
        "f = lambda x : 1 / sympy.sqrt(x ** 2 + a)\n",
        "\n",
        "for a0 in [0, 1, 4]:\n",
        "  F1 = eval(x, a0)\n",
        "  F2 = integrate(f(x).subs(a, a0), x) + C\n",
        "\n",
        "  display(F1, F2)\n",
        "\n",
        "  assert sympy.simplify(F1.diff(x)) == sympy.simplify(F2.diff(x))"
      ]
    },
    {
      "cell_type": "markdown",
      "metadata": {
        "id": "cTczr9gb3RnN"
      },
      "source": [
        "### Задача 5.\n",
        "Провести замену переменной $y = x^2$ в интеграле $\\int x e^{x^2}\\,dx$."
      ]
    },
    {
      "cell_type": "code",
      "execution_count": 43,
      "metadata": {
        "id": "9ygWjFQb3RnN",
        "colab": {
          "base_uri": "https://localhost:8080/",
          "height": 55
        },
        "outputId": "31c077b5-05f1-49d8-ad33-2c5c41f3c433"
      },
      "outputs": [
        {
          "output_type": "display_data",
          "data": {
            "text/plain": [
              "Eq(Integral(x*exp(x**2), x), Integral(exp(y)/2, y))"
            ],
            "text/latex": "$\\displaystyle \\int x e^{x^{2}}\\, dx = \\int \\frac{e^{y}}{2}\\, dy$"
          },
          "metadata": {}
        }
      ],
      "source": [
        "x = Symbol(\"x\")\n",
        "y = Symbol(\"y\")\n",
        "\n",
        "I = Integral(x * sympy.exp(x ** 2))\n",
        "display(sympy.Eq(I, I.transform(x ** 2, y)))"
      ]
    },
    {
      "cell_type": "markdown",
      "metadata": {
        "id": "u3rywQfB3RnO"
      },
      "source": [
        "### Индивидуальное задание\n",
        "Провести замену переменных в определенном интеграле, представить результат в виде двух уравнений, как в примере:\n",
        "\\begin{align*}\n",
        "\\int_1^4 \\frac{dx}{\\sqrt{x}\\left(\\sqrt{x}+1\\right)} = \\int_1^2 \\frac{2\\,dy}{y + 1}\\\\\n",
        "\\int_1^2 \\frac{2\\,dy}{y + 1} = 2(\\ln 3 - \\ln 2)\n",
        "\\end{align*}\n",
        "(с точностью до перестановки слагаемых и сомножителей)\n",
        "![image.png](data:image/png;base64,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)"
      ]
    },
    {
      "cell_type": "code",
      "execution_count": 48,
      "metadata": {
        "id": "FuXCPF7T3RnO",
        "colab": {
          "base_uri": "https://localhost:8080/",
          "height": 167
        },
        "outputId": "d45794b2-3944-46f5-ae57-ae6ae39aa7f4"
      },
      "outputs": [
        {
          "output_type": "display_data",
          "data": {
            "text/plain": [
              "Eq(Integral((tan(exp(x))**2 + 1)*exp(x), (x, log(pi/3), log(pi/4))), Integral(-tan(y)**2 - 1, (y, pi/4, pi/3)))"
            ],
            "text/latex": "$\\displaystyle \\int\\limits_{\\log{\\left(\\frac{\\pi}{3} \\right)}}^{\\log{\\left(\\frac{\\pi}{4} \\right)}} \\left(\\tan^{2}{\\left(e^{x} \\right)} + 1\\right) e^{x}\\, dx = \\int\\limits_{\\frac{\\pi}{4}}^{\\frac{\\pi}{3}} \\left(- \\tan^{2}{\\left(y \\right)} - 1\\right)\\, dy$"
          },
          "metadata": {}
        },
        {
          "output_type": "display_data",
          "data": {
            "text/plain": [
              "Eq(Integral(-tan(y)**2 - 1, (y, pi/4, pi/3)), 1 - sqrt(3))"
            ],
            "text/latex": "$\\displaystyle \\int\\limits_{\\frac{\\pi}{4}}^{\\frac{\\pi}{3}} \\left(- \\tan^{2}{\\left(y \\right)} - 1\\right)\\, dy = 1 - \\sqrt{3}$"
          },
          "metadata": {}
        }
      ],
      "source": [
        "x = Symbol(\"x\")\n",
        "y = Symbol(\"y\")\n",
        "\n",
        "f = lambda x : (sympy.tan(sympy.exp(x)) ** 2 + 1) * sympy.exp(x)\n",
        "\n",
        "I = Integral(f(x), (x, sympy.log(S.Pi / 3), sympy.log(S.Pi / 4)))\n",
        "I1 = I.transform(sympy.exp(x), y)\n",
        "\n",
        "display(sympy.Eq(I, I1))\n",
        "\n",
        "display(sympy.Eq(I1, sympy.simplify(I1)))"
      ]
    }
  ],
  "metadata": {
    "kernelspec": {
      "display_name": "Python 3",
      "language": "python",
      "name": "python3"
    },
    "language_info": {
      "codemirror_mode": {
        "name": "ipython",
        "version": 3
      },
      "file_extension": ".py",
      "mimetype": "text/x-python",
      "name": "python",
      "nbconvert_exporter": "python",
      "pygments_lexer": "ipython3",
      "version": "3.7.3"
    },
    "colab": {
      "provenance": [],
      "include_colab_link": true
    }
  },
  "nbformat": 4,
  "nbformat_minor": 0
}