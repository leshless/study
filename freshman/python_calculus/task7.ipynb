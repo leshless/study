{
  "cells": [
    {
      "cell_type": "markdown",
      "metadata": {
        "id": "view-in-github",
        "colab_type": "text"
      },
      "source": [
        "<a href=\"https://colab.research.google.com/github/leshless/study/blob/main/python_calculus/task7.ipynb\" target=\"_parent\"><img src=\"https://colab.research.google.com/assets/colab-badge.svg\" alt=\"Open In Colab\"/></a>"
      ]
    },
    {
      "cell_type": "markdown",
      "metadata": {
        "id": "8w0lijhCLUaV"
      },
      "source": [
        "## Занятие 7\n",
        "## Математический анализ\n",
        "## Исследование функции с sympy.calculus.util и sympy.calculus.singularities"
      ]
    },
    {
      "cell_type": "code",
      "execution_count": 44,
      "metadata": {
        "id": "umzI_i41LUaW"
      },
      "outputs": [],
      "source": [
        "import sympy\n",
        "from sympy import S, Interval, plot\n",
        "from sympy import sin as Sin\n",
        "from sympy import cos as Cos\n",
        "from sympy import exp as Exp\n",
        "from sympy import log as Log\n",
        "from sympy import pi as Pi\n",
        "from sympy.abc import x\n",
        "from sympy.calculus.util import continuous_domain, function_range, periodicity, stationary_points, maximum, minimum, AccumBounds\n",
        "from sympy.calculus.singularities import singularities, is_increasing, is_decreasing, is_monotonic\n",
        "from sympy.calculus.singularities import is_strictly_increasing, is_strictly_decreasing\n",
        "%matplotlib inline"
      ]
    },
    {
      "cell_type": "markdown",
      "metadata": {
        "id": "m8H3TiVeLUaX"
      },
      "source": [
        "## Схема анализа функции.\n",
        "1. Область определения\n",
        "\n",
        "sympy.calculus.util.continuous_domain(f, symbol, domain)\n",
        "\n",
        "f - выражение, описывающее функцию,\n",
        "\n",
        "symbol - переменная, от которой зависит исследуемая функция,\n",
        "\n",
        "domain - область значений переменной, на которой рассматривается функция,\n",
        "\n",
        "если функция рассматривается на всей вещественной прямой, то domain=S.Reals\n",
        "\n",
        "Сингулярные точки (точки, в которых функция не существует) находятся с помощью\n",
        "\n",
        "sympy.calculus.singularities.singularities(f, symbol, domain=None)\n",
        "\n",
        "2. Область значений\n",
        "\n",
        "sympy.calculus.util.function_range(f, symbol, domain)\n",
        "\n",
        "3. Периодичность\n",
        "\n",
        "sympy.calculus.util.periodicity(f, symbol, check=False)\n",
        "\n",
        "4. Стационарные точки\n",
        "\n",
        "sympy.calculus.util.stationary_points(f, symbol, domain=Reals)\n",
        "\n",
        "5. Точки экстремума\n",
        "\n",
        "sympy.calculus.util.maximum(f, symbol, domain=Reals)\n",
        "\n",
        "sympy.calculus.util.minimum(f, symbol, domain=Reals)\n",
        "\n",
        "6. Монотонность\n",
        "\n",
        "sympy.calculus.singularities.is_decreasing(f, interval=Reals, symbol=None)\n",
        "\n",
        "sympy.calculus.singularities.is_increasing(f, interval=Reals, symbol=None)\n",
        "\n",
        "sympy.calculus.singularities.is_monotonic(f, interval=Reals, symbol=None)\n",
        "\n",
        "sympy.calculus.singularities.is_strictly_decreasing(f, interval=Reals, symbol=None)\n",
        "\n",
        "sympy.calculus.singularities.is_strictly_increasing(f, interval=Reals, symbol=None)\n",
        "\n",
        "7. Минимальное и максимальное значение функции на интервале\n",
        "\n",
        "sympy.calculus.util.AccumulationBounds(min, max)\n",
        "\n",
        "Свойства: delta, max, min, mid\n",
        "\n",
        "### Задание 1.  \n",
        "Исследовать функцию по п.1 - 5 на области определения и по п. 1 - 7 на одном периоде, построить график.\n",
        "$$\n",
        "f(x) = e^{\\sin(x)}.\n",
        "$$\n",
        "###### 1. Область определения"
      ]
    },
    {
      "cell_type": "code",
      "source": [
        "def f(x):\n",
        "  return Exp(Sin(x))"
      ],
      "metadata": {
        "id": "s9tMBgl8nAO2"
      },
      "execution_count": 6,
      "outputs": []
    },
    {
      "cell_type": "code",
      "execution_count": 10,
      "metadata": {
        "id": "bQzJ5Ey0LUaY",
        "colab": {
          "base_uri": "https://localhost:8080/",
          "height": 38
        },
        "outputId": "82bca32c-af3a-444b-f3b5-efed0e9c8b43"
      },
      "outputs": [
        {
          "output_type": "display_data",
          "data": {
            "text/plain": [
              "Reals"
            ],
            "text/latex": "$\\displaystyle \\mathbb{R}$"
          },
          "metadata": {}
        }
      ],
      "source": [
        "display(sympy.calculus.util.continuous_domain(f(x), x, S.Reals))"
      ]
    },
    {
      "cell_type": "markdown",
      "metadata": {
        "id": "3wi1hNIuLUaY"
      },
      "source": [
        "Сингулярные точки (точки, где функция не определена)"
      ]
    },
    {
      "cell_type": "code",
      "execution_count": 14,
      "metadata": {
        "id": "uN7NVwNELUaY",
        "colab": {
          "base_uri": "https://localhost:8080/",
          "height": 38
        },
        "outputId": "447f0e2b-2619-4169-d156-c91807544320"
      },
      "outputs": [
        {
          "output_type": "display_data",
          "data": {
            "text/plain": [
              "EmptySet"
            ],
            "text/latex": "$\\displaystyle \\emptyset$"
          },
          "metadata": {}
        }
      ],
      "source": [
        "display(sympy.calculus.singularities(f(x), x, domain=S.Reals))"
      ]
    },
    {
      "cell_type": "markdown",
      "metadata": {
        "id": "s4TL4bFnLUaZ"
      },
      "source": [
        "###### 2. Область значений"
      ]
    },
    {
      "cell_type": "code",
      "execution_count": 16,
      "metadata": {
        "id": "l6uizcGBLUaZ",
        "colab": {
          "base_uri": "https://localhost:8080/",
          "height": 38
        },
        "outputId": "f4cf553d-5b8c-43b5-a7f5-fbd42d7b11b5"
      },
      "outputs": [
        {
          "output_type": "display_data",
          "data": {
            "text/plain": [
              "Interval(exp(-1), E)"
            ],
            "text/latex": "$\\displaystyle \\left[e^{-1}, e\\right]$"
          },
          "metadata": {}
        }
      ],
      "source": [
        "display(sympy.calculus.util.function_range(f(x), x, domain=S.Reals))"
      ]
    },
    {
      "cell_type": "markdown",
      "metadata": {
        "id": "SfjExk9GLUaZ"
      },
      "source": [
        "###### 3. Периодичность"
      ]
    },
    {
      "cell_type": "code",
      "execution_count": 31,
      "metadata": {
        "id": "3tzt_T7_LUaa",
        "colab": {
          "base_uri": "https://localhost:8080/",
          "height": 38
        },
        "outputId": "abe0608f-71c9-4cc7-8049-93afee69d8e9"
      },
      "outputs": [
        {
          "output_type": "display_data",
          "data": {
            "text/plain": [
              "2*pi"
            ],
            "text/latex": "$\\displaystyle 2 \\pi$"
          },
          "metadata": {}
        }
      ],
      "source": [
        "display(sympy.calculus.util.periodicity(f(x), x, check=False))"
      ]
    },
    {
      "cell_type": "markdown",
      "metadata": {
        "id": "80I0aSX5LUaa"
      },
      "source": [
        "###### 4. Стационарные точки"
      ]
    },
    {
      "cell_type": "code",
      "execution_count": 19,
      "metadata": {
        "id": "DOeyxovpLUaa",
        "colab": {
          "base_uri": "https://localhost:8080/",
          "height": 58
        },
        "outputId": "58c8d6d2-b0e2-4250-ae1c-6cfc136c7981"
      },
      "outputs": [
        {
          "output_type": "display_data",
          "data": {
            "text/plain": [
              "Union(ImageSet(Lambda(_n, 2*_n*pi + pi/2), Integers), ImageSet(Lambda(_n, 2*_n*pi + 3*pi/2), Integers))"
            ],
            "text/latex": "$\\displaystyle \\left\\{2 n \\pi + \\frac{\\pi}{2}\\; \\middle|\\; n \\in \\mathbb{Z}\\right\\} \\cup \\left\\{2 n \\pi + \\frac{3 \\pi}{2}\\; \\middle|\\; n \\in \\mathbb{Z}\\right\\}$"
          },
          "metadata": {}
        }
      ],
      "source": [
        "display(sympy.calculus.util.stationary_points(f(x), x, domain=S.Reals))"
      ]
    },
    {
      "cell_type": "markdown",
      "metadata": {
        "id": "tOteCN44LUaa"
      },
      "source": [
        "###### 5. Максимальное и минимальное значения функции"
      ]
    },
    {
      "cell_type": "code",
      "execution_count": 21,
      "metadata": {
        "id": "x4NNP_xGLUab",
        "colab": {
          "base_uri": "https://localhost:8080/",
          "height": 60
        },
        "outputId": "2bdf7abc-503e-4ec4-9076-f722da53038f"
      },
      "outputs": [
        {
          "output_type": "display_data",
          "data": {
            "text/plain": [
              "E"
            ],
            "text/latex": "$\\displaystyle e$"
          },
          "metadata": {}
        },
        {
          "output_type": "display_data",
          "data": {
            "text/plain": [
              "exp(-1)"
            ],
            "text/latex": "$\\displaystyle e^{-1}$"
          },
          "metadata": {}
        }
      ],
      "source": [
        "display(sympy.calculus.util.maximum(f(x), x, domain=S.Reals))\n",
        "display(sympy.calculus.util.minimum(f(x), x, domain=S.Reals))"
      ]
    },
    {
      "cell_type": "markdown",
      "metadata": {
        "id": "9YHQB1p2LUab"
      },
      "source": [
        "##### Исследование периодической функции на одном периоде.\n",
        "Найти пересечение с периодом области определения, множества сингулярных точек и стационарных точек.\n",
        "###### 1. Область определения"
      ]
    },
    {
      "cell_type": "code",
      "source": [
        "D = sympy.Interval(0, 2 * S.Pi)"
      ],
      "metadata": {
        "id": "1fnjtvMto28B"
      },
      "execution_count": 32,
      "outputs": []
    },
    {
      "cell_type": "code",
      "execution_count": 33,
      "metadata": {
        "id": "-ana6T0oLUab",
        "colab": {
          "base_uri": "https://localhost:8080/",
          "height": 38
        },
        "outputId": "1b8ee0a1-75ff-4b47-80ef-d357028c6a00"
      },
      "outputs": [
        {
          "output_type": "display_data",
          "data": {
            "text/plain": [
              "Interval(0, 2*pi)"
            ],
            "text/latex": "$\\displaystyle \\left[0, 2 \\pi\\right]$"
          },
          "metadata": {}
        }
      ],
      "source": [
        "display(sympy.calculus.util.continuous_domain(f(x), x, D))"
      ]
    },
    {
      "cell_type": "markdown",
      "metadata": {
        "id": "z8MEJP40LUab"
      },
      "source": [
        "Сингулярные точки (точки, где функция не определена)"
      ]
    },
    {
      "cell_type": "code",
      "execution_count": 26,
      "metadata": {
        "id": "zKd0Hv3zLUab",
        "colab": {
          "base_uri": "https://localhost:8080/",
          "height": 38
        },
        "outputId": "d1517d07-5373-4330-9ec4-72adcdd7aabf"
      },
      "outputs": [
        {
          "output_type": "display_data",
          "data": {
            "text/plain": [
              "EmptySet"
            ],
            "text/latex": "$\\displaystyle \\emptyset$"
          },
          "metadata": {}
        }
      ],
      "source": [
        "display(sympy.calculus.singularities(f(x), x, domain=D))"
      ]
    },
    {
      "cell_type": "markdown",
      "metadata": {
        "id": "n0Icu4woLUab"
      },
      "source": [
        "###### 2. Область значений"
      ]
    },
    {
      "cell_type": "code",
      "execution_count": 27,
      "metadata": {
        "id": "GmfdzStBLUac",
        "colab": {
          "base_uri": "https://localhost:8080/",
          "height": 38
        },
        "outputId": "18dbcaa2-d996-48c8-88a8-5978ca568637"
      },
      "outputs": [
        {
          "output_type": "display_data",
          "data": {
            "text/plain": [
              "Interval(exp(-1), E)"
            ],
            "text/latex": "$\\displaystyle \\left[e^{-1}, e\\right]$"
          },
          "metadata": {}
        }
      ],
      "source": [
        "display(sympy.calculus.util.function_range(f(x), x, domain=D))"
      ]
    },
    {
      "cell_type": "markdown",
      "metadata": {
        "id": "YEghZve3LUac"
      },
      "source": [
        "###### 4. Стационарные точки"
      ]
    },
    {
      "cell_type": "code",
      "execution_count": 30,
      "metadata": {
        "id": "6Wa07eFZLUac",
        "colab": {
          "base_uri": "https://localhost:8080/",
          "height": 58
        },
        "outputId": "5a7188a1-ca8a-4805-a605-921eb9d317ff"
      },
      "outputs": [
        {
          "output_type": "display_data",
          "data": {
            "text/plain": [
              "{pi/2, 3*pi/2}"
            ],
            "text/latex": "$\\displaystyle \\left\\{\\frac{\\pi}{2}, \\frac{3 \\pi}{2}\\right\\}$"
          },
          "metadata": {}
        }
      ],
      "source": [
        "extr = sympy.calculus.util.stationary_points(f(x), x, domain=D)\n",
        "display(extr)"
      ]
    },
    {
      "cell_type": "markdown",
      "metadata": {
        "id": "OdhIVX_GLUac"
      },
      "source": [
        "###### 5. Максимальное и минимальное значения функции"
      ]
    },
    {
      "cell_type": "code",
      "execution_count": 29,
      "metadata": {
        "id": "PeDGqGnILUac",
        "colab": {
          "base_uri": "https://localhost:8080/",
          "height": 60
        },
        "outputId": "e3597bf6-6b40-44ce-fe04-db2799383e87"
      },
      "outputs": [
        {
          "output_type": "display_data",
          "data": {
            "text/plain": [
              "E"
            ],
            "text/latex": "$\\displaystyle e$"
          },
          "metadata": {}
        },
        {
          "output_type": "display_data",
          "data": {
            "text/plain": [
              "exp(-1)"
            ],
            "text/latex": "$\\displaystyle e^{-1}$"
          },
          "metadata": {}
        }
      ],
      "source": [
        "display(sympy.calculus.util.maximum(f(x), x, domain=D))\n",
        "display(sympy.calculus.util.minimum(f(x), x, domain=D))"
      ]
    },
    {
      "cell_type": "markdown",
      "metadata": {
        "id": "4Vxh83D1LUac"
      },
      "source": [
        "###### 6. Монотонность\n",
        "Исследовать на периоде открытые интервалы (Interval.open), на которые период разбивают стационарные точки."
      ]
    },
    {
      "cell_type": "code",
      "execution_count": 45,
      "metadata": {
        "id": "c643Z150LUac",
        "colab": {
          "base_uri": "https://localhost:8080/",
          "height": 187
        },
        "outputId": "17e081e1-78aa-4494-c79a-c06de63f709c"
      },
      "outputs": [
        {
          "output_type": "display_data",
          "data": {
            "text/plain": [
              "Interval.open(0, pi/2)"
            ],
            "text/latex": "$\\displaystyle \\left(0, \\frac{\\pi}{2}\\right)$"
          },
          "metadata": {}
        },
        {
          "output_type": "display_data",
          "data": {
            "text/plain": [
              "'- strictly increasing'"
            ],
            "application/vnd.google.colaboratory.intrinsic+json": {
              "type": "string"
            }
          },
          "metadata": {}
        },
        {
          "output_type": "display_data",
          "data": {
            "text/plain": [
              "Interval.open(pi/2, 3*pi/2)"
            ],
            "text/latex": "$\\displaystyle \\left(\\frac{\\pi}{2}, \\frac{3 \\pi}{2}\\right)$"
          },
          "metadata": {}
        },
        {
          "output_type": "display_data",
          "data": {
            "text/plain": [
              "'- strictly decreasing'"
            ],
            "application/vnd.google.colaboratory.intrinsic+json": {
              "type": "string"
            }
          },
          "metadata": {}
        },
        {
          "output_type": "display_data",
          "data": {
            "text/plain": [
              "Interval.open(3*pi/2, 2*pi)"
            ],
            "text/latex": "$\\displaystyle \\left(\\frac{3 \\pi}{2}, 2 \\pi\\right)$"
          },
          "metadata": {}
        },
        {
          "output_type": "display_data",
          "data": {
            "text/plain": [
              "'- strictly increasing'"
            ],
            "application/vnd.google.colaboratory.intrinsic+json": {
              "type": "string"
            }
          },
          "metadata": {}
        }
      ],
      "source": [
        "points = [0, S.Pi / 2, 3 * S.Pi / 2, 2 * S.Pi]\n",
        "\n",
        "for i in range(len(points) - 1):\n",
        "  interval = sympy.Interval(points[i], points[i+1], left_open=True, right_open=True)\n",
        "  display(interval)\n",
        "\n",
        "  if sympy.calculus.is_strictly_decreasing(f(x), interval=interval, symbol=x):\n",
        "    display(\"- strictly decreasing\")\n",
        "  elif sympy.calculus.is_strictly_increasing(f(x), interval=interval, symbol=x):\n",
        "    display(\"- strictly increasing\")"
      ]
    },
    {
      "cell_type": "markdown",
      "metadata": {
        "id": "xp-1-13hLUac"
      },
      "source": [
        "###### 7. Минимальное и максимальное значение функции на интервале\n",
        "Найти максимальное и минимальное значение функции на каждом из интервалов монотонности в пределах одного периода"
      ]
    },
    {
      "cell_type": "code",
      "execution_count": 42,
      "metadata": {
        "id": "xj3Y4OH9LUac",
        "colab": {
          "base_uri": "https://localhost:8080/",
          "height": 185
        },
        "outputId": "cbc56a24-335e-46a3-ac62-f5d1839ca5cd"
      },
      "outputs": [
        {
          "output_type": "display_data",
          "data": {
            "text/plain": [
              "Interval.open(0, pi/2)"
            ],
            "text/latex": "$\\displaystyle \\left(0, \\frac{\\pi}{2}\\right)$"
          },
          "metadata": {}
        },
        {
          "output_type": "display_data",
          "data": {
            "text/plain": [
              "[E, 1]"
            ]
          },
          "metadata": {}
        },
        {
          "output_type": "display_data",
          "data": {
            "text/plain": [
              "Interval.open(pi/2, 3*pi/2)"
            ],
            "text/latex": "$\\displaystyle \\left(\\frac{\\pi}{2}, \\frac{3 \\pi}{2}\\right)$"
          },
          "metadata": {}
        },
        {
          "output_type": "display_data",
          "data": {
            "text/plain": [
              "[E, exp(-1)]"
            ]
          },
          "metadata": {}
        },
        {
          "output_type": "display_data",
          "data": {
            "text/plain": [
              "Interval.open(3*pi/2, 2*pi)"
            ],
            "text/latex": "$\\displaystyle \\left(\\frac{3 \\pi}{2}, 2 \\pi\\right)$"
          },
          "metadata": {}
        },
        {
          "output_type": "display_data",
          "data": {
            "text/plain": [
              "[1, exp(-1)]"
            ]
          },
          "metadata": {}
        }
      ],
      "source": [
        "for i in range(len(points) - 1):\n",
        "  interval = sympy.Interval(points[i], points[i+1], left_open=True, right_open=True)\n",
        "  display(interval)\n",
        "  display([sympy.calculus.util.maximum(f(x), x, domain=interval), sympy.calculus.util.minimum(f(x), x, domain=interval)])"
      ]
    },
    {
      "cell_type": "markdown",
      "metadata": {
        "id": "8P4yO3vYLUac"
      },
      "source": [
        "###### График функции на одном периоде."
      ]
    },
    {
      "cell_type": "code",
      "execution_count": 51,
      "metadata": {
        "id": "2ZVDAd3iLUad",
        "colab": {
          "base_uri": "https://localhost:8080/",
          "height": 486
        },
        "outputId": "752c6b42-8ad1-4b88-bdff-f999bcfadd11"
      },
      "outputs": [
        {
          "output_type": "display_data",
          "data": {
            "text/plain": [
              "<Figure size 640x480 with 1 Axes>"
            ],
            "image/png": "[encoded data removed]"
          },
          "metadata": {}
        }
      ],
      "source": [
        "p = plot(xlim=[0, 2 * S.Pi], ylim=[-10, 10], legend=True, show=False)\n",
        "p.extend(plot(f(x), line_color=\"black\", label=f\"$f(x) = {sympy.latex(f(x))}$\", show=False))\n",
        "\n",
        "p.show()"
      ]
    },
    {
      "cell_type": "markdown",
      "metadata": {
        "id": "aEddItXYLUad"
      },
      "source": [
        "### Задание 2.  \n",
        "Исследовать функцию по п.1 - 5 на области определения и по п. 1 - 7  на одном периоде, построить график.\n",
        "$$\n",
        "f(x) = \\frac{1}{\\sin(x) + \\cos(x)}.\n",
        "$$\n",
        "###### 1. Область определения"
      ]
    },
    {
      "cell_type": "code",
      "source": [
        "def f(x):\n",
        "  return 1 / (Sin(x) + Cos(x))"
      ],
      "metadata": {
        "id": "WWMATxeutjZk"
      },
      "execution_count": 52,
      "outputs": []
    },
    {
      "cell_type": "markdown",
      "source": [],
      "metadata": {
        "id": "MD3EZvlftjLt"
      }
    },
    {
      "cell_type": "code",
      "execution_count": 53,
      "metadata": {
        "id": "66NzFfWiLUad",
        "colab": {
          "base_uri": "https://localhost:8080/",
          "height": 58
        },
        "outputId": "30a11e08-d319-436a-8725-f7d0ffe6d985"
      },
      "outputs": [
        {
          "output_type": "display_data",
          "data": {
            "text/plain": [
              "Complement(Reals, Union(ImageSet(Lambda(_n, 2*_n*pi + 3*pi/4), Integers), ImageSet(Lambda(_n, 2*_n*pi + 7*pi/4), Integers)))"
            ],
            "text/latex": "$\\displaystyle \\mathbb{R} \\setminus \\left(\\left\\{2 n \\pi + \\frac{3 \\pi}{4}\\; \\middle|\\; n \\in \\mathbb{Z}\\right\\} \\cup \\left\\{2 n \\pi + \\frac{7 \\pi}{4}\\; \\middle|\\; n \\in \\mathbb{Z}\\right\\}\\right)$"
          },
          "metadata": {}
        }
      ],
      "source": [
        "display(sympy.calculus.util.continuous_domain(f(x), x, S.Reals))"
      ]
    },
    {
      "cell_type": "markdown",
      "metadata": {
        "id": "em6jT_VaLUad"
      },
      "source": [
        "Сингулярные точки (точки, где функция не определена)"
      ]
    },
    {
      "cell_type": "code",
      "execution_count": 54,
      "metadata": {
        "id": "DMsD3-roLUad",
        "colab": {
          "base_uri": "https://localhost:8080/",
          "height": 58
        },
        "outputId": "703594d2-05d1-4c4e-f370-c404b97a0be9"
      },
      "outputs": [
        {
          "output_type": "display_data",
          "data": {
            "text/plain": [
              "Union(ImageSet(Lambda(_n, 2*_n*pi + 3*pi/4), Integers), ImageSet(Lambda(_n, 2*_n*pi + 7*pi/4), Integers))"
            ],
            "text/latex": "$\\displaystyle \\left\\{2 n \\pi + \\frac{3 \\pi}{4}\\; \\middle|\\; n \\in \\mathbb{Z}\\right\\} \\cup \\left\\{2 n \\pi + \\frac{7 \\pi}{4}\\; \\middle|\\; n \\in \\mathbb{Z}\\right\\}$"
          },
          "metadata": {}
        }
      ],
      "source": [
        "display(sympy.calculus.singularities(f(x), x, domain=S.Reals))"
      ]
    },
    {
      "cell_type": "markdown",
      "metadata": {
        "id": "7dOfLynGLUad"
      },
      "source": [
        "###### 2. Область значений"
      ]
    },
    {
      "cell_type": "code",
      "execution_count": 55,
      "metadata": {
        "id": "1yURqZYHLUad",
        "colab": {
          "base_uri": "https://localhost:8080/",
          "height": 68
        },
        "outputId": "fc11a35e-59b9-4b9a-dd92-90004cf98d9e"
      },
      "outputs": [
        {
          "output_type": "display_data",
          "data": {
            "text/plain": [
              "Union(Interval(-oo, -sqrt(2)/2), Interval(sqrt(2)/2, oo))"
            ],
            "text/latex": "$\\displaystyle \\left(-\\infty, - \\frac{\\sqrt{2}}{2}\\right] \\cup \\left[\\frac{\\sqrt{2}}{2}, \\infty\\right)$"
          },
          "metadata": {}
        }
      ],
      "source": [
        "display(sympy.calculus.util.function_range(f(x), x, domain=S.Reals))"
      ]
    },
    {
      "cell_type": "markdown",
      "metadata": {
        "id": "zkYk3H-OLUad"
      },
      "source": [
        "###### 3. Периодичность"
      ]
    },
    {
      "cell_type": "code",
      "execution_count": 56,
      "metadata": {
        "id": "eT_vssPyLUad",
        "colab": {
          "base_uri": "https://localhost:8080/",
          "height": 38
        },
        "outputId": "6be7915b-58c0-42ba-ac19-b0b4d061d945"
      },
      "outputs": [
        {
          "output_type": "display_data",
          "data": {
            "text/plain": [
              "2*pi"
            ],
            "text/latex": "$\\displaystyle 2 \\pi$"
          },
          "metadata": {}
        }
      ],
      "source": [
        "display(sympy.calculus.util.periodicity(f(x), x, check=False))"
      ]
    },
    {
      "cell_type": "markdown",
      "metadata": {
        "id": "_MHJPZUmLUad"
      },
      "source": [
        "###### 4. Стационарные точки"
      ]
    },
    {
      "cell_type": "code",
      "execution_count": 57,
      "metadata": {
        "id": "ILusOHiALUah",
        "colab": {
          "base_uri": "https://localhost:8080/",
          "height": 98
        },
        "outputId": "5254a0b3-c88b-4e19-9103-3cd69a28d5ff"
      },
      "outputs": [
        {
          "output_type": "display_data",
          "data": {
            "text/plain": [
              "Union(Complement(ImageSet(Lambda(_n, 2*_n*pi + 5*pi/4), Integers), Union(ImageSet(Lambda(_n, 2*_n*pi + 3*pi/4), Integers), ImageSet(Lambda(_n, 2*_n*pi + 7*pi/4), Integers))), Complement(ImageSet(Lambda(_n, 2*_n*pi + pi/4), Integers), Union(ImageSet(Lambda(_n, 2*_n*pi + 3*pi/4), Integers), ImageSet(Lambda(_n, 2*_n*pi + 7*pi/4), Integers))))"
            ],
            "text/latex": "$\\displaystyle \\left(\\left\\{2 n \\pi + \\frac{5 \\pi}{4}\\; \\middle|\\; n \\in \\mathbb{Z}\\right\\} \\setminus \\left(\\left\\{2 n \\pi + \\frac{3 \\pi}{4}\\; \\middle|\\; n \\in \\mathbb{Z}\\right\\} \\cup \\left\\{2 n \\pi + \\frac{7 \\pi}{4}\\; \\middle|\\; n \\in \\mathbb{Z}\\right\\}\\right)\\right) \\cup \\left(\\left\\{2 n \\pi + \\frac{\\pi}{4}\\; \\middle|\\; n \\in \\mathbb{Z}\\right\\} \\setminus \\left(\\left\\{2 n \\pi + \\frac{3 \\pi}{4}\\; \\middle|\\; n \\in \\mathbb{Z}\\right\\} \\cup \\left\\{2 n \\pi + \\frac{7 \\pi}{4}\\; \\middle|\\; n \\in \\mathbb{Z}\\right\\}\\right)\\right)$"
          },
          "metadata": {}
        }
      ],
      "source": [
        "display(sympy.calculus.util.stationary_points(f(x), x, domain=S.Reals))"
      ]
    },
    {
      "cell_type": "markdown",
      "metadata": {
        "id": "I6tATWGxLUai"
      },
      "source": [
        "###### 5. Максимальное и минимальное значения функции"
      ]
    },
    {
      "cell_type": "code",
      "execution_count": 58,
      "metadata": {
        "id": "Kba3DxKaLUai",
        "colab": {
          "base_uri": "https://localhost:8080/",
          "height": 58
        },
        "outputId": "1c416679-5c7b-4a19-82d7-92995821e8f6"
      },
      "outputs": [
        {
          "output_type": "display_data",
          "data": {
            "text/plain": [
              "oo"
            ],
            "text/latex": "$\\displaystyle \\infty$"
          },
          "metadata": {}
        },
        {
          "output_type": "display_data",
          "data": {
            "text/plain": [
              "-oo"
            ],
            "text/latex": "$\\displaystyle -\\infty$"
          },
          "metadata": {}
        }
      ],
      "source": [
        "display(sympy.calculus.util.maximum(f(x), x, domain=S.Reals))\n",
        "display(sympy.calculus.util.minimum(f(x), x, domain=S.Reals))"
      ]
    },
    {
      "cell_type": "markdown",
      "metadata": {
        "id": "YZoYYmvkLUai"
      },
      "source": [
        "##### Исследование периодической функции на одном периоде.\n",
        "Найти пересечение с периодом области определения, множества сингулярных точек и стационарных точек.\n",
        "###### 1. Область определения"
      ]
    },
    {
      "cell_type": "code",
      "source": [
        "D = sympy.Interval(0, 2 * S.Pi)"
      ],
      "metadata": {
        "id": "l4Tt-3mCt2wg"
      },
      "execution_count": 59,
      "outputs": []
    },
    {
      "cell_type": "code",
      "execution_count": 60,
      "metadata": {
        "id": "_ddajyYOLUai",
        "colab": {
          "base_uri": "https://localhost:8080/",
          "height": 58
        },
        "outputId": "c709b6cc-6421-475a-b7bb-7e5df3a91789"
      },
      "outputs": [
        {
          "output_type": "display_data",
          "data": {
            "text/plain": [
              "Union(Interval.Ropen(0, 3*pi/4), Interval.open(3*pi/4, 7*pi/4), Interval.Lopen(7*pi/4, 2*pi))"
            ],
            "text/latex": "$\\displaystyle \\left[0, \\frac{3 \\pi}{4}\\right) \\cup \\left(\\frac{3 \\pi}{4}, \\frac{7 \\pi}{4}\\right) \\cup \\left(\\frac{7 \\pi}{4}, 2 \\pi\\right]$"
          },
          "metadata": {}
        }
      ],
      "source": [
        "display(sympy.calculus.util.continuous_domain(f(x), x, D))"
      ]
    },
    {
      "cell_type": "markdown",
      "metadata": {
        "id": "zGwET4wxLUai"
      },
      "source": [
        "Сингулярные точки (точки, где функция не определена)"
      ]
    },
    {
      "cell_type": "code",
      "execution_count": 66,
      "metadata": {
        "id": "aRfUFgF5LUai",
        "colab": {
          "base_uri": "https://localhost:8080/",
          "height": 58
        },
        "outputId": "a0f07a0c-7d18-421c-e684-936ef8cb28b3"
      },
      "outputs": [
        {
          "output_type": "display_data",
          "data": {
            "text/plain": [
              "{3*pi/4, 7*pi/4}"
            ],
            "text/latex": "$\\displaystyle \\left\\{\\frac{3 \\pi}{4}, \\frac{7 \\pi}{4}\\right\\}$"
          },
          "metadata": {}
        }
      ],
      "source": [
        "display(sympy.calculus.singularities(f(x), x, domain=D))"
      ]
    },
    {
      "cell_type": "markdown",
      "metadata": {
        "id": "XrmrnW6pLUai"
      },
      "source": [
        "###### 2. Область значений"
      ]
    },
    {
      "cell_type": "markdown",
      "source": [],
      "metadata": {
        "id": "dpVgmibQuNDo"
      }
    },
    {
      "cell_type": "code",
      "execution_count": 65,
      "metadata": {
        "id": "NeylfkL_LUai",
        "colab": {
          "base_uri": "https://localhost:8080/",
          "height": 68
        },
        "outputId": "23dfe292-71c4-4a27-93f8-9e1200dc3695"
      },
      "outputs": [
        {
          "output_type": "display_data",
          "data": {
            "text/plain": [
              "Union(Interval(-oo, -sqrt(2)/2), Interval(sqrt(2)/2, oo))"
            ],
            "text/latex": "$\\displaystyle \\left(-\\infty, - \\frac{\\sqrt{2}}{2}\\right] \\cup \\left[\\frac{\\sqrt{2}}{2}, \\infty\\right)$"
          },
          "metadata": {}
        }
      ],
      "source": [
        "display(sympy.calculus.util.function_range(f(x), x, domain=D))"
      ]
    },
    {
      "cell_type": "markdown",
      "metadata": {
        "id": "MPiiMplxLUaj"
      },
      "source": [
        "###### 4. Стационарные точки"
      ]
    },
    {
      "cell_type": "code",
      "execution_count": 67,
      "metadata": {
        "id": "7qhIqENgLUaj",
        "colab": {
          "base_uri": "https://localhost:8080/",
          "height": 58
        },
        "outputId": "e839e95a-3b9a-4701-a3c3-51c7f658a160"
      },
      "outputs": [
        {
          "output_type": "display_data",
          "data": {
            "text/plain": [
              "{pi/4, 5*pi/4}"
            ],
            "text/latex": "$\\displaystyle \\left\\{\\frac{\\pi}{4}, \\frac{5 \\pi}{4}\\right\\}$"
          },
          "metadata": {}
        }
      ],
      "source": [
        "display(sympy.calculus.util.stationary_points(f(x), x, domain=D))"
      ]
    },
    {
      "cell_type": "markdown",
      "metadata": {
        "id": "TqdFE4W5LUaj"
      },
      "source": [
        "###### 5. Максимальное и минимальное значения функции"
      ]
    },
    {
      "cell_type": "code",
      "execution_count": 68,
      "metadata": {
        "id": "0_a44HSrLUaj",
        "colab": {
          "base_uri": "https://localhost:8080/",
          "height": 58
        },
        "outputId": "f4790d68-bd3d-4bb4-e5fb-dee5b4000262"
      },
      "outputs": [
        {
          "output_type": "display_data",
          "data": {
            "text/plain": [
              "oo"
            ],
            "text/latex": "$\\displaystyle \\infty$"
          },
          "metadata": {}
        },
        {
          "output_type": "display_data",
          "data": {
            "text/plain": [
              "-oo"
            ],
            "text/latex": "$\\displaystyle -\\infty$"
          },
          "metadata": {}
        }
      ],
      "source": [
        "display(sympy.calculus.util.maximum(f(x), x, domain=D))\n",
        "display(sympy.calculus.util.minimum(f(x), x, domain=D))"
      ]
    },
    {
      "cell_type": "markdown",
      "metadata": {
        "id": "uCif2hsgLUaj"
      },
      "source": [
        "###### 6. Монотонность"
      ]
    },
    {
      "cell_type": "code",
      "execution_count": 69,
      "metadata": {
        "id": "0Zone0ryLUak",
        "colab": {
          "base_uri": "https://localhost:8080/",
          "height": 306
        },
        "outputId": "97e9d556-f951-475b-ad97-5bc038498d43"
      },
      "outputs": [
        {
          "output_type": "display_data",
          "data": {
            "text/plain": [
              "Interval.open(0, pi/4)"
            ],
            "text/latex": "$\\displaystyle \\left(0, \\frac{\\pi}{4}\\right)$"
          },
          "metadata": {}
        },
        {
          "output_type": "display_data",
          "data": {
            "text/plain": [
              "'- strictly decreasing'"
            ],
            "application/vnd.google.colaboratory.intrinsic+json": {
              "type": "string"
            }
          },
          "metadata": {}
        },
        {
          "output_type": "display_data",
          "data": {
            "text/plain": [
              "Interval.open(pi/4, 3*pi/4)"
            ],
            "text/latex": "$\\displaystyle \\left(\\frac{\\pi}{4}, \\frac{3 \\pi}{4}\\right)$"
          },
          "metadata": {}
        },
        {
          "output_type": "display_data",
          "data": {
            "text/plain": [
              "'- strictly increasing'"
            ],
            "application/vnd.google.colaboratory.intrinsic+json": {
              "type": "string"
            }
          },
          "metadata": {}
        },
        {
          "output_type": "display_data",
          "data": {
            "text/plain": [
              "Interval.open(3*pi/4, 5*pi/4)"
            ],
            "text/latex": "$\\displaystyle \\left(\\frac{3 \\pi}{4}, \\frac{5 \\pi}{4}\\right)$"
          },
          "metadata": {}
        },
        {
          "output_type": "display_data",
          "data": {
            "text/plain": [
              "'- strictly increasing'"
            ],
            "application/vnd.google.colaboratory.intrinsic+json": {
              "type": "string"
            }
          },
          "metadata": {}
        },
        {
          "output_type": "display_data",
          "data": {
            "text/plain": [
              "Interval.open(5*pi/4, 7*pi/4)"
            ],
            "text/latex": "$\\displaystyle \\left(\\frac{5 \\pi}{4}, \\frac{7 \\pi}{4}\\right)$"
          },
          "metadata": {}
        },
        {
          "output_type": "display_data",
          "data": {
            "text/plain": [
              "'- strictly decreasing'"
            ],
            "application/vnd.google.colaboratory.intrinsic+json": {
              "type": "string"
            }
          },
          "metadata": {}
        },
        {
          "output_type": "display_data",
          "data": {
            "text/plain": [
              "Interval.open(7*pi/4, 2*pi)"
            ],
            "text/latex": "$\\displaystyle \\left(\\frac{7 \\pi}{4}, 2 \\pi\\right)$"
          },
          "metadata": {}
        },
        {
          "output_type": "display_data",
          "data": {
            "text/plain": [
              "'- strictly decreasing'"
            ],
            "application/vnd.google.colaboratory.intrinsic+json": {
              "type": "string"
            }
          },
          "metadata": {}
        }
      ],
      "source": [
        "points = [0, S.Pi / 4, 3 * S.Pi / 4, 5 * S.Pi / 4, 7 * S.Pi / 4, 2 * S.Pi]\n",
        "\n",
        "for i in range(len(points) - 1):\n",
        "  interval = sympy.Interval(points[i], points[i+1], left_open=True, right_open=True)\n",
        "  display(interval)\n",
        "\n",
        "  if sympy.calculus.is_strictly_decreasing(f(x), interval=interval, symbol=x):\n",
        "    display(\"- strictly decreasing\")\n",
        "  elif sympy.calculus.is_strictly_increasing(f(x), interval=interval, symbol=x):\n",
        "    display(\"- strictly increasing\")"
      ]
    },
    {
      "cell_type": "markdown",
      "metadata": {
        "id": "Bf7l6fkTLUak"
      },
      "source": [
        "###### 7. Минимальное и максимальное значение функции на периоде"
      ]
    },
    {
      "cell_type": "code",
      "execution_count": 70,
      "metadata": {
        "id": "EARamnv-LUak",
        "colab": {
          "base_uri": "https://localhost:8080/",
          "height": 303
        },
        "outputId": "e7c89400-3c3f-487b-936e-9b50d1524491"
      },
      "outputs": [
        {
          "output_type": "display_data",
          "data": {
            "text/plain": [
              "Interval.open(0, pi/4)"
            ],
            "text/latex": "$\\displaystyle \\left(0, \\frac{\\pi}{4}\\right)$"
          },
          "metadata": {}
        },
        {
          "output_type": "display_data",
          "data": {
            "text/plain": [
              "[1, sqrt(2)/2]"
            ]
          },
          "metadata": {}
        },
        {
          "output_type": "display_data",
          "data": {
            "text/plain": [
              "Interval.open(pi/4, 3*pi/4)"
            ],
            "text/latex": "$\\displaystyle \\left(\\frac{\\pi}{4}, \\frac{3 \\pi}{4}\\right)$"
          },
          "metadata": {}
        },
        {
          "output_type": "display_data",
          "data": {
            "text/plain": [
              "[oo, sqrt(2)/2]"
            ]
          },
          "metadata": {}
        },
        {
          "output_type": "display_data",
          "data": {
            "text/plain": [
              "Interval.open(3*pi/4, 5*pi/4)"
            ],
            "text/latex": "$\\displaystyle \\left(\\frac{3 \\pi}{4}, \\frac{5 \\pi}{4}\\right)$"
          },
          "metadata": {}
        },
        {
          "output_type": "display_data",
          "data": {
            "text/plain": [
              "[-sqrt(2)/2, -oo]"
            ]
          },
          "metadata": {}
        },
        {
          "output_type": "display_data",
          "data": {
            "text/plain": [
              "Interval.open(5*pi/4, 7*pi/4)"
            ],
            "text/latex": "$\\displaystyle \\left(\\frac{5 \\pi}{4}, \\frac{7 \\pi}{4}\\right)$"
          },
          "metadata": {}
        },
        {
          "output_type": "display_data",
          "data": {
            "text/plain": [
              "[-sqrt(2)/2, -oo]"
            ]
          },
          "metadata": {}
        },
        {
          "output_type": "display_data",
          "data": {
            "text/plain": [
              "Interval.open(7*pi/4, 2*pi)"
            ],
            "text/latex": "$\\displaystyle \\left(\\frac{7 \\pi}{4}, 2 \\pi\\right)$"
          },
          "metadata": {}
        },
        {
          "output_type": "display_data",
          "data": {
            "text/plain": [
              "[oo, 1]"
            ]
          },
          "metadata": {}
        }
      ],
      "source": [
        "for i in range(len(points) - 1):\n",
        "  interval = sympy.Interval(points[i], points[i+1], left_open=True, right_open=True)\n",
        "  display(interval)\n",
        "  display([sympy.calculus.util.maximum(f(x), x, domain=interval), sympy.calculus.util.minimum(f(x), x, domain=interval)])"
      ]
    },
    {
      "cell_type": "markdown",
      "metadata": {
        "id": "hSTuG5HGLUak"
      },
      "source": [
        "###### График"
      ]
    },
    {
      "cell_type": "code",
      "execution_count": 84,
      "metadata": {
        "id": "3wRkYFnTLUak",
        "colab": {
          "base_uri": "https://localhost:8080/",
          "height": 486
        },
        "outputId": "1d09d84f-2510-468a-d2c5-3411a985ba46"
      },
      "outputs": [
        {
          "output_type": "display_data",
          "data": {
            "text/plain": [
              "<Figure size 640x480 with 1 Axes>"
            ],
            "image/png": "[encoded data removed]"
          },
          "metadata": {}
        }
      ],
      "source": [
        "p = plot(xlim=[0, 2 * S.Pi], ylim=[-10, 10], legend=True, show=False)\n",
        "p.extend(plot(f(x), (x, 0, 3/4*S.Pi - 0.01), line_color=\"black\", label=f\"$f(x) = {sympy.latex(f(x))}$\", show=False))\n",
        "p.extend(plot(f(x), (x, 3/4*S.Pi + 0.01, 7/4*S.Pi - 0.01), line_color=\"black\", label=\"\", show=False))\n",
        "p.extend(plot(f(x), (x, 7/4*S.Pi + 0.01, 2*S.Pi), line_color=\"black\", label=\"\", show=False))\n",
        "\n",
        "\n",
        "p.show()"
      ]
    },
    {
      "cell_type": "markdown",
      "metadata": {
        "id": "08BTXxwoLUak"
      },
      "source": [
        "### Индивидуальное задание.  \n",
        "Исследовать функцию $f(x)$, найти минимальное и максимальное значение на каком-нибудь конечном интервале, не содержащем точек разрыва, построить график.\n",
        "\n",
        "![image.png](data:image/png;base64,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)\n",
        "###### 1. Область определения"
      ]
    },
    {
      "cell_type": "code",
      "source": [
        "def f(x):\n",
        "  return Sin(2*x) + 3\n",
        "\n",
        "D = Interval(0, S.Pi)"
      ],
      "metadata": {
        "id": "IcGPWzD5xtnU"
      },
      "execution_count": 101,
      "outputs": []
    },
    {
      "cell_type": "code",
      "execution_count": 102,
      "metadata": {
        "id": "IuNwcIpTLUak",
        "colab": {
          "base_uri": "https://localhost:8080/",
          "height": 38
        },
        "outputId": "6a460a49-19a2-49a9-d2b7-4f4d5953b5af"
      },
      "outputs": [
        {
          "output_type": "display_data",
          "data": {
            "text/plain": [
              "Interval(0, pi)"
            ],
            "text/latex": "$\\displaystyle \\left[0, \\pi\\right]$"
          },
          "metadata": {}
        }
      ],
      "source": [
        "display(sympy.calculus.util.continuous_domain(f(x), x, D))"
      ]
    },
    {
      "cell_type": "markdown",
      "metadata": {
        "id": "vlDaBo47LUak"
      },
      "source": [
        "Сингулярные точки (точки, где функция не определена)"
      ]
    },
    {
      "cell_type": "code",
      "execution_count": 103,
      "metadata": {
        "id": "qWLBqT1ELUal",
        "colab": {
          "base_uri": "https://localhost:8080/",
          "height": 38
        },
        "outputId": "45f5ba27-94c4-44a7-8c6c-0b8a045f218f"
      },
      "outputs": [
        {
          "output_type": "display_data",
          "data": {
            "text/plain": [
              "EmptySet"
            ],
            "text/latex": "$\\displaystyle \\emptyset$"
          },
          "metadata": {}
        }
      ],
      "source": [
        "display(sympy.calculus.singularities(f(x), x, domain=D))"
      ]
    },
    {
      "cell_type": "markdown",
      "metadata": {
        "id": "Sst9uzO8LUal"
      },
      "source": [
        "###### 2. Область значений"
      ]
    },
    {
      "cell_type": "code",
      "execution_count": 104,
      "metadata": {
        "id": "e91xKNG2LUal",
        "colab": {
          "base_uri": "https://localhost:8080/",
          "height": 38
        },
        "outputId": "1c6a2f38-9c2b-4f5d-db43-731db7bcd376"
      },
      "outputs": [
        {
          "output_type": "display_data",
          "data": {
            "text/plain": [
              "Interval(2, 4)"
            ],
            "text/latex": "$\\displaystyle \\left[2, 4\\right]$"
          },
          "metadata": {}
        }
      ],
      "source": [
        "display(sympy.calculus.util.function_range(f(x), x, domain=D))"
      ]
    },
    {
      "cell_type": "markdown",
      "metadata": {
        "id": "g7yCPVmTLUal"
      },
      "source": [
        "###### 3. Периодичность"
      ]
    },
    {
      "cell_type": "code",
      "execution_count": 105,
      "metadata": {
        "id": "4e5U_B54LUal",
        "colab": {
          "base_uri": "https://localhost:8080/",
          "height": 38
        },
        "outputId": "0db16293-b94b-4bf5-f4e9-46072a058bd0"
      },
      "outputs": [
        {
          "output_type": "display_data",
          "data": {
            "text/plain": [
              "pi"
            ],
            "text/latex": "$\\displaystyle \\pi$"
          },
          "metadata": {}
        }
      ],
      "source": [
        "display(sympy.calculus.util.periodicity(f(x), x, check=False))"
      ]
    },
    {
      "cell_type": "markdown",
      "metadata": {
        "id": "xqlGe2__LUal"
      },
      "source": [
        "###### 4. Стационарные точки"
      ]
    },
    {
      "cell_type": "code",
      "execution_count": 106,
      "metadata": {
        "id": "xTExU_kfLUal",
        "colab": {
          "base_uri": "https://localhost:8080/",
          "height": 58
        },
        "outputId": "bf129f49-bffe-479b-b488-9265cd8d8195"
      },
      "outputs": [
        {
          "output_type": "display_data",
          "data": {
            "text/plain": [
              "{pi/4, 3*pi/4}"
            ],
            "text/latex": "$\\displaystyle \\left\\{\\frac{\\pi}{4}, \\frac{3 \\pi}{4}\\right\\}$"
          },
          "metadata": {}
        }
      ],
      "source": [
        "display(sympy.calculus.util.stationary_points(f(x), x, domain=D))"
      ]
    },
    {
      "cell_type": "markdown",
      "metadata": {
        "id": "N-Tw4i4DLUal"
      },
      "source": [
        "###### 5. Максимальное и минимальное значения функции"
      ]
    },
    {
      "cell_type": "code",
      "execution_count": 107,
      "metadata": {
        "id": "kI-ONnGFLUal",
        "colab": {
          "base_uri": "https://localhost:8080/",
          "height": 58
        },
        "outputId": "0f384650-3704-474b-931a-bc855ff86e3b"
      },
      "outputs": [
        {
          "output_type": "display_data",
          "data": {
            "text/plain": [
              "4"
            ],
            "text/latex": "$\\displaystyle 4$"
          },
          "metadata": {}
        },
        {
          "output_type": "display_data",
          "data": {
            "text/plain": [
              "2"
            ],
            "text/latex": "$\\displaystyle 2$"
          },
          "metadata": {}
        }
      ],
      "source": [
        "display(sympy.calculus.util.maximum(f(x), x, domain=D))\n",
        "display(sympy.calculus.util.minimum(f(x), x, domain=D))"
      ]
    },
    {
      "cell_type": "markdown",
      "metadata": {
        "id": "2_gLhQ1ZLUam"
      },
      "source": [
        "###### 6. Монотонность  "
      ]
    },
    {
      "cell_type": "code",
      "execution_count": 109,
      "metadata": {
        "id": "Xbs_HWBxLUam",
        "colab": {
          "base_uri": "https://localhost:8080/",
          "height": 139
        },
        "outputId": "81a8a529-3fea-4e62-b9e3-2cf53fc5c106"
      },
      "outputs": [
        {
          "output_type": "display_data",
          "data": {
            "text/plain": [
              "Interval.open(0, 0.25*pi)"
            ],
            "text/latex": "$\\displaystyle \\left(0, 0.25 \\pi\\right)$"
          },
          "metadata": {}
        },
        {
          "output_type": "display_data",
          "data": {
            "text/plain": [
              "'- strictly increasing'"
            ],
            "application/vnd.google.colaboratory.intrinsic+json": {
              "type": "string"
            }
          },
          "metadata": {}
        },
        {
          "output_type": "display_data",
          "data": {
            "text/plain": [
              "Interval.open(0.25*pi, 0.75*pi)"
            ],
            "text/latex": "$\\displaystyle \\left(0.25 \\pi, 0.75 \\pi\\right)$"
          },
          "metadata": {}
        },
        {
          "output_type": "display_data",
          "data": {
            "text/plain": [
              "'- strictly decreasing'"
            ],
            "application/vnd.google.colaboratory.intrinsic+json": {
              "type": "string"
            }
          },
          "metadata": {}
        },
        {
          "output_type": "display_data",
          "data": {
            "text/plain": [
              "Interval.open(0.75*pi, pi)"
            ],
            "text/latex": "$\\displaystyle \\left(0.75 \\pi, \\pi\\right)$"
          },
          "metadata": {}
        },
        {
          "output_type": "display_data",
          "data": {
            "text/plain": [
              "'- strictly increasing'"
            ],
            "application/vnd.google.colaboratory.intrinsic+json": {
              "type": "string"
            }
          },
          "metadata": {}
        }
      ],
      "source": [
        "points = [0, 1/4*S.Pi, 3/4*S.Pi, S.Pi]\n",
        "\n",
        "for i in range(len(points) - 1):\n",
        "  interval = sympy.Interval(points[i], points[i+1], left_open=True, right_open=True)\n",
        "  display(interval)\n",
        "\n",
        "  if sympy.calculus.is_strictly_decreasing(f(x), interval=interval, symbol=x):\n",
        "    display(\"- strictly decreasing\")\n",
        "  elif sympy.calculus.is_strictly_increasing(f(x), interval=interval, symbol=x):\n",
        "    display(\"- strictly increasing\")"
      ]
    },
    {
      "cell_type": "markdown",
      "metadata": {
        "id": "n0OfHlAULUam"
      },
      "source": [
        "###### 7. Минимальное и максимальное значение функции на интервале"
      ]
    },
    {
      "cell_type": "code",
      "execution_count": 111,
      "metadata": {
        "id": "RHnWUjTTLUam",
        "colab": {
          "base_uri": "https://localhost:8080/",
          "height": 137
        },
        "outputId": "388ff4d2-659c-46df-c1af-6f4d15bb3e3d"
      },
      "outputs": [
        {
          "output_type": "display_data",
          "data": {
            "text/plain": [
              "Interval.open(0, 0.25*pi)"
            ],
            "text/latex": "$\\displaystyle \\left(0, 0.25 \\pi\\right)$"
          },
          "metadata": {}
        },
        {
          "output_type": "display_data",
          "data": {
            "text/plain": [
              "[4, 3]"
            ]
          },
          "metadata": {}
        },
        {
          "output_type": "display_data",
          "data": {
            "text/plain": [
              "Interval.open(0.25*pi, 0.75*pi)"
            ],
            "text/latex": "$\\displaystyle \\left(0.25 \\pi, 0.75 \\pi\\right)$"
          },
          "metadata": {}
        },
        {
          "output_type": "display_data",
          "data": {
            "text/plain": [
              "[4, 2]"
            ]
          },
          "metadata": {}
        },
        {
          "output_type": "display_data",
          "data": {
            "text/plain": [
              "Interval.open(0.75*pi, pi)"
            ],
            "text/latex": "$\\displaystyle \\left(0.75 \\pi, \\pi\\right)$"
          },
          "metadata": {}
        },
        {
          "output_type": "display_data",
          "data": {
            "text/plain": [
              "[3, 2]"
            ]
          },
          "metadata": {}
        }
      ],
      "source": [
        "for i in range(len(points) - 1):\n",
        "  interval = sympy.Interval(points[i], points[i+1], left_open=True, right_open=True)\n",
        "  display(interval)\n",
        "  display([sympy.calculus.util.maximum(f(x), x, domain=interval), sympy.calculus.util.minimum(f(x), x, domain=interval)])"
      ]
    },
    {
      "cell_type": "markdown",
      "metadata": {
        "id": "eoz-FbUtLUam"
      },
      "source": [
        "###### График"
      ]
    },
    {
      "cell_type": "code",
      "execution_count": 113,
      "metadata": {
        "id": "RVF1Mt71LUam",
        "colab": {
          "base_uri": "https://localhost:8080/",
          "height": 486
        },
        "outputId": "b55e41d4-30e4-47c9-8bdb-b4c3520e7ccd"
      },
      "outputs": [
        {
          "output_type": "display_data",
          "data": {
            "text/plain": [
              "<Figure size 640x480 with 1 Axes>"
            ],
            "image/png": "[encoded data removed]"
          },
          "metadata": {}
        }
      ],
      "source": [
        "p = plot(xlim=[0, S.Pi], ylim=[-10, 10], legend=True, show=False)\n",
        "p.extend(plot(f(x), line_color=\"black\", label=f\"$f(x) = {sympy.latex(f(x))}$\", show=False))\n",
        "\n",
        "p.show()"
      ]
    }
  ],
  "metadata": {
    "kernelspec": {
      "display_name": "Python 3",
      "language": "python",
      "name": "python3"
    },
    "language_info": {
      "codemirror_mode": {
        "name": "ipython",
        "version": 3
      },
      "file_extension": ".py",
      "mimetype": "text/x-python",
      "name": "python",
      "nbconvert_exporter": "python",
      "pygments_lexer": "ipython3",
      "version": "3.7.3"
    },
    "colab": {
      "provenance": [],
      "include_colab_link": true
    }
  },
  "nbformat": 4,
  "nbformat_minor": 0
}