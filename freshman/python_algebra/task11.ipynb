{
  "nbformat": 4,
  "nbformat_minor": 0,
  "metadata": {
    "kernelspec": {
      "display_name": "Python 3",
      "language": "python",
      "name": "python3"
    },
    "language_info": {
      "codemirror_mode": {
        "name": "ipython",
        "version": 3
      },
      "file_extension": ".py",
      "mimetype": "text/x-python",
      "name": "python",
      "nbconvert_exporter": "python",
      "pygments_lexer": "ipython3",
      "version": "3.7.3"
    },
    "colab": {
      "provenance": [],
      "include_colab_link": true
    }
  },
  "cells": [
    {
      "cell_type": "markdown",
      "metadata": {
        "id": "view-in-github",
        "colab_type": "text"
      },
      "source": [
        "<a href=\"https://colab.research.google.com/github/leshless/study/blob/main/python_algebra/task11.ipynb\" target=\"_parent\"><img src=\"https://colab.research.google.com/assets/colab-badge.svg\" alt=\"Open In Colab\"/></a>"
      ]
    },
    {
      "cell_type": "code",
      "metadata": {
        "id": "N4mLs7g4G85I"
      },
      "source": [
        "import sympy\n",
        "import numpy as np\n",
        "import pandas as pd\n",
        "from sympy import latex, Matrix, plot, solve, linsolve, symbols, eye, zeros\n",
        "from sympy import lambdify, S, Point, Line\n",
        "from sympy import pi as Pi\n",
        "from sympy import cos as Cos\n",
        "from sympy import sin as Sin\n",
        "from sympy.vector import Vector, matrix_to_vector, AxisOrienter, express\n",
        "from sympy.vector import CoordSys3D\n",
        "import matplotlib.pyplot as plt\n",
        "from IPython.display import Latex"
      ],
      "execution_count": 1,
      "outputs": []
    },
    {
      "cell_type": "markdown",
      "metadata": {
        "id": "L53ZTfO2G85R"
      },
      "source": [
        "# Практическое занятие 11\n",
        "# Компьютерный практикум по алгебре на Python\n",
        "## Линейные операторы на плоскости и в пространстве\n",
        "### Задание 1.\n",
        "Написать функцию, составляющую матрицу линейного оператора поворота на $\\alpha$ градусов или радиан **по** или **против часовой стрелки** на плоскости. Параметры: обязательные - угол поворота, необязательные - тип меры угла (градусы или радианы), направление поворота (по или против часовой стрелки). Значения по умолчанию - против часовой стрелки в радианах.\n",
        "\n",
        "Использовать полученную функцию для выведения на экран координат векторов, полученных поворотом вектора [1, 2]\n",
        "\n",
        "1) на 20, 30, 45 градусов **по  часовой стрелке**\n",
        "\n",
        "2) на $\\pi/6$ радиан **против часовой стрелки**."
      ]
    },
    {
      "cell_type": "code",
      "metadata": {
        "id": "PTVXRfaWG85S",
        "colab": {
          "base_uri": "https://localhost:8080/",
          "height": 210
        },
        "outputId": "45a7dcab-a18b-4947-88c7-fa1abd93f2fc"
      },
      "source": [
        "def rotation_matrix(angle, radians=True, counterclockwise=True):\n",
        "    if not radians:\n",
        "        angle = sympy.rad(angle)\n",
        "\n",
        "    if not counterclockwise:\n",
        "        angle = -angle\n",
        "\n",
        "    cos_a = sympy.cos(angle)\n",
        "    sin_a = sympy.sin(angle)\n",
        "    return sympy.Matrix([[cos_a, -sin_a], [sin_a, cos_a]])\n",
        "\n",
        "vec = sympy.Matrix([1, 2])\n",
        "\n",
        "angles = [20, 30, 45]\n",
        "for angle in angles:\n",
        "  display(rotation_matrix(angle, radians=False, counterclockwise=False) * vec)\n",
        "\n",
        "angle = sympy.pi / 6\n",
        "display(rotation_matrix(angle) * vec)"
      ],
      "execution_count": 2,
      "outputs": [
        {
          "output_type": "display_data",
          "data": {
            "text/plain": [
              "Matrix([\n",
              "[ 2*sin(pi/9) + cos(pi/9)],\n",
              "[-sin(pi/9) + 2*cos(pi/9)]])"
            ],
            "text/latex": "$\\displaystyle \\left[\\begin{matrix}2 \\sin{\\left(\\frac{\\pi}{9} \\right)} + \\cos{\\left(\\frac{\\pi}{9} \\right)}\\\\- \\sin{\\left(\\frac{\\pi}{9} \\right)} + 2 \\cos{\\left(\\frac{\\pi}{9} \\right)}\\end{matrix}\\right]$"
          },
          "metadata": {}
        },
        {
          "output_type": "display_data",
          "data": {
            "text/plain": [
              "Matrix([\n",
              "[ sqrt(3)/2 + 1],\n",
              "[-1/2 + sqrt(3)]])"
            ],
            "text/latex": "$\\displaystyle \\left[\\begin{matrix}\\frac{\\sqrt{3}}{2} + 1\\\\- \\frac{1}{2} + \\sqrt{3}\\end{matrix}\\right]$"
          },
          "metadata": {}
        },
        {
          "output_type": "display_data",
          "data": {
            "text/plain": [
              "Matrix([\n",
              "[3*sqrt(2)/2],\n",
              "[  sqrt(2)/2]])"
            ],
            "text/latex": "$\\displaystyle \\left[\\begin{matrix}\\frac{3 \\sqrt{2}}{2}\\\\\\frac{\\sqrt{2}}{2}\\end{matrix}\\right]$"
          },
          "metadata": {}
        },
        {
          "output_type": "display_data",
          "data": {
            "text/plain": [
              "Matrix([\n",
              "[-1 + sqrt(3)/2],\n",
              "[ 1/2 + sqrt(3)]])"
            ],
            "text/latex": "$\\displaystyle \\left[\\begin{matrix}-1 + \\frac{\\sqrt{3}}{2}\\\\\\frac{1}{2} + \\sqrt{3}\\end{matrix}\\right]$"
          },
          "metadata": {}
        }
      ]
    },
    {
      "cell_type": "markdown",
      "metadata": {
        "id": "oqFUkn1SG85T"
      },
      "source": [
        "### Задание 2.\n",
        "Найти собственные числа и собственные векторы линейного оператора, заданного матрицей\n",
        "$$\n",
        "\\left(\\begin{matrix}\n",
        "-34&20&-5\\\\\n",
        "-40&56&-20\\\\\n",
        "20&-8&50\n",
        "\\end{matrix}\\right)\n",
        "$$\n",
        "Воспользоваться eigenvals и eigenvects, проверить выполнение равенства нулю характеристического многочлена $|A-\\lambda E|$ и условия $Ax=\\lambda x$.\n"
      ]
    },
    {
      "cell_type": "code",
      "metadata": {
        "id": "kvICFOnpG85U",
        "colab": {
          "base_uri": "https://localhost:8080/",
          "height": 218
        },
        "outputId": "0a66d560-2d6e-40f3-cf66-289ad0e5eb54"
      },
      "source": [
        "A = sympy.Matrix([\n",
        "    [-34, 20, -5],\n",
        "    [-40, 56, -20],\n",
        "    [20, -8, 50]\n",
        "])\n",
        "\n",
        "l = sympy.Symbol(\"labmda\")\n",
        "lambdas = solve((A - l * eye(3)).det(), l)\n",
        "display(lambdas)\n",
        "\n",
        "for eigval, mult, vecs in A.eigenvects():\n",
        "    display(Latex(f'{latex(eigval)} - {mult}, {latex(vecs)}'))\n",
        "\n",
        "    assert eigval in lambdas\n",
        "    for vec in vecs:\n",
        "      assert A * vec == eigval * vec\n",
        "\n"
      ],
      "execution_count": 11,
      "outputs": [
        {
          "output_type": "display_data",
          "data": {
            "text/plain": [
              "[-24, 40, 56]"
            ]
          },
          "metadata": {}
        },
        {
          "output_type": "display_data",
          "data": {
            "text/plain": [
              "<IPython.core.display.Latex object>"
            ],
            "text/latex": "-24 - 1, \\left[ \\left[\\begin{matrix}- \\frac{9}{2}\\\\-2\\\\1\\end{matrix}\\right]\\right]"
          },
          "metadata": {}
        },
        {
          "output_type": "display_data",
          "data": {
            "text/plain": [
              "<IPython.core.display.Latex object>"
            ],
            "text/latex": "40 - 1, \\left[ \\left[\\begin{matrix}\\frac{5}{6}\\\\\\frac{10}{3}\\\\1\\end{matrix}\\right]\\right]"
          },
          "metadata": {}
        },
        {
          "output_type": "display_data",
          "data": {
            "text/plain": [
              "<IPython.core.display.Latex object>"
            ],
            "text/latex": "56 - 1, \\left[ \\left[\\begin{matrix}- \\frac{1}{2}\\\\-2\\\\1\\end{matrix}\\right]\\right]"
          },
          "metadata": {}
        }
      ]
    },
    {
      "cell_type": "markdown",
      "metadata": {
        "id": "4sQHp6cxG85U"
      },
      "source": [
        "### Задание 3.\n",
        "Построить матрицу оператора из Задания 2 в базисе из векторов $(1,1,1)$, $(0,5,3)$ и $(1,6,0)$.Вывести на экран матрицу перехода к новому базису и матрицу оператора в новом базисе, а также собственные числа и собственные векторы в исходном и новом базисе.\n"
      ]
    },
    {
      "cell_type": "code",
      "metadata": {
        "id": "_TqGZqSKG85V",
        "colab": {
          "base_uri": "https://localhost:8080/",
          "height": 506
        },
        "outputId": "54504723-e114-4d73-9592-2c6dacf018a8"
      },
      "source": [
        "B = sympy.Matrix([\n",
        "    [1, 1, 1],\n",
        "    [0, 5, 3],\n",
        "    [1, 6, 0]\n",
        "])\n",
        "\n",
        "P = B.inv()\n",
        "display(P)\n",
        "\n",
        "A_new = P * A * B\n",
        "display(A_new)\n",
        "\n",
        "for eigval, mult, vects in A.eigenvects():\n",
        "    display(Latex(f'{latex(eigval)} - {mult}, {latex(vecs)}'))\n",
        "\n",
        "for eigval, mult, vects in A_new.eigenvects():\n",
        "    display(Latex(f'{latex(eigval)} - {mult}, {latex(vecs)}'))"
      ],
      "execution_count": 14,
      "outputs": [
        {
          "output_type": "display_data",
          "data": {
            "text/plain": [
              "Matrix([\n",
              "[ 9/10, -3/10, 1/10],\n",
              "[-3/20,  1/20, 3/20],\n",
              "[  1/4,   1/4, -1/4]])"
            ],
            "text/latex": "$\\displaystyle \\left[\\begin{matrix}\\frac{9}{10} & - \\frac{3}{10} & \\frac{1}{10}\\\\- \\frac{3}{20} & \\frac{1}{20} & \\frac{3}{20}\\\\\\frac{1}{4} & \\frac{1}{4} & - \\frac{1}{4}\\end{matrix}\\right]$"
          },
          "metadata": {}
        },
        {
          "output_type": "display_data",
          "data": {
            "text/plain": [
              "Matrix([\n",
              "[-101/10, 122/5, -77/5],\n",
              "[ 267/20, 213/5, 19/10],\n",
              "[ -169/4,   -31,  79/2]])"
            ],
            "text/latex": "$\\displaystyle \\left[\\begin{matrix}- \\frac{101}{10} & \\frac{122}{5} & - \\frac{77}{5}\\\\\\frac{267}{20} & \\frac{213}{5} & \\frac{19}{10}\\\\- \\frac{169}{4} & -31 & \\frac{79}{2}\\end{matrix}\\right]$"
          },
          "metadata": {}
        },
        {
          "output_type": "display_data",
          "data": {
            "text/plain": [
              "<IPython.core.display.Latex object>"
            ],
            "text/latex": "-24 - 1, \\left[ \\left[\\begin{matrix}- \\frac{1}{2}\\\\-2\\\\1\\end{matrix}\\right]\\right]"
          },
          "metadata": {}
        },
        {
          "output_type": "display_data",
          "data": {
            "text/plain": [
              "<IPython.core.display.Latex object>"
            ],
            "text/latex": "40 - 1, \\left[ \\left[\\begin{matrix}- \\frac{1}{2}\\\\-2\\\\1\\end{matrix}\\right]\\right]"
          },
          "metadata": {}
        },
        {
          "output_type": "display_data",
          "data": {
            "text/plain": [
              "<IPython.core.display.Latex object>"
            ],
            "text/latex": "56 - 1, \\left[ \\left[\\begin{matrix}- \\frac{1}{2}\\\\-2\\\\1\\end{matrix}\\right]\\right]"
          },
          "metadata": {}
        },
        {
          "output_type": "display_data",
          "data": {
            "text/plain": [
              "<IPython.core.display.Latex object>"
            ],
            "text/latex": "-24 - 1, \\left[ \\left[\\begin{matrix}- \\frac{1}{2}\\\\-2\\\\1\\end{matrix}\\right]\\right]"
          },
          "metadata": {}
        },
        {
          "output_type": "display_data",
          "data": {
            "text/plain": [
              "<IPython.core.display.Latex object>"
            ],
            "text/latex": "40 - 1, \\left[ \\left[\\begin{matrix}- \\frac{1}{2}\\\\-2\\\\1\\end{matrix}\\right]\\right]"
          },
          "metadata": {}
        },
        {
          "output_type": "display_data",
          "data": {
            "text/plain": [
              "<IPython.core.display.Latex object>"
            ],
            "text/latex": "56 - 1, \\left[ \\left[\\begin{matrix}- \\frac{1}{2}\\\\-2\\\\1\\end{matrix}\\right]\\right]"
          },
          "metadata": {}
        }
      ]
    },
    {
      "cell_type": "markdown",
      "metadata": {
        "id": "q0SjtudQG85V"
      },
      "source": [
        "### Задание 4.\n",
        "Считать из файла 'sem_11_task_4.xlsx' матрицу линейного оператора.\n",
        "Построить матрицу оператора в базисе из собственных векторов с помощью eigenvects и матрицы перехода. Сравнить (визуально) диагональные элементы с собственными числами. Вывести на экран матрицу перехода и матрицу линейного оператора в новом базисе, записать обе матрицы на листы 'P' и 'Anew' 'sem_11_task_4_ans.xlsx'.\n",
        "\n",
        "**Указание:** для записи матрицы sympy в файл xlsx сначала нужно преобразовать матрицу в список с помощью метода матриц tolist, затем на основе полученного списка составить DataFrame.\n",
        "\n",
        "За счет необязательных аргументов header и index функции to_excel обеспечить запись матриц в файл без подписей строк и столбцов."
      ]
    },
    {
      "cell_type": "code",
      "source": [
        "from google.colab import files\n",
        "uploaded = files.upload()"
      ],
      "metadata": {
        "colab": {
          "base_uri": "https://localhost:8080/",
          "height": 108
        },
        "id": "5WFktg5i-Yf5",
        "outputId": "4d338cf2-7c81-4475-b712-252119eca1ed"
      },
      "execution_count": 15,
      "outputs": [
        {
          "output_type": "display_data",
          "data": {
            "text/plain": [
              "<IPython.core.display.HTML object>"
            ],
            "text/html": [
              "\n",
              "     <input type=\"file\" id=\"files-d7ffb04b-1708-4d47-9bf4-a1e825701820\" name=\"files[]\" multiple disabled\n",
              "        style=\"border:none\" />\n",
              "     <output id=\"result-d7ffb04b-1708-4d47-9bf4-a1e825701820\">\n",
              "      Upload widget is only available when the cell has been executed in the\n",
              "      current browser session. Please rerun this cell to enable.\n",
              "      </output>\n",
              "      <script>// Copyright 2017 Google LLC\n",
              "//\n",
              "// Licensed under the Apache License, Version 2.0 (the \"License\");\n",
              "// you may not use this file except in compliance with the License.\n",
              "// You may obtain a copy of the License at\n",
              "//\n",
              "//      http://www.apache.org/licenses/LICENSE-2.0\n",
              "//\n",
              "// Unless required by applicable law or agreed to in writing, software\n",
              "// distributed under the License is distributed on an \"AS IS\" BASIS,\n",
              "// WITHOUT WARRANTIES OR CONDITIONS OF ANY KIND, either express or implied.\n",
              "// See the License for the specific language governing permissions and\n",
              "// limitations under the License.\n",
              "\n",
              "/**\n",
              " * @fileoverview Helpers for google.colab Python module.\n",
              " */\n",
              "(function(scope) {\n",
              "function span(text, styleAttributes = {}) {\n",
              "  const element = document.createElement('span');\n",
              "  element.textContent = text;\n",
              "  for (const key of Object.keys(styleAttributes)) {\n",
              "    element.style[key] = styleAttributes[key];\n",
              "  }\n",
              "  return element;\n",
              "}\n",
              "\n",
              "// Max number of bytes which will be uploaded at a time.\n",
              "const MAX_PAYLOAD_SIZE = 100 * 1024;\n",
              "\n",
              "function _uploadFiles(inputId, outputId) {\n",
              "  const steps = uploadFilesStep(inputId, outputId);\n",
              "  const outputElement = document.getElementById(outputId);\n",
              "  // Cache steps on the outputElement to make it available for the next call\n",
              "  // to uploadFilesContinue from Python.\n",
              "  outputElement.steps = steps;\n",
              "\n",
              "  return _uploadFilesContinue(outputId);\n",
              "}\n",
              "\n",
              "// This is roughly an async generator (not supported in the browser yet),\n",
              "// where there are multiple asynchronous steps and the Python side is going\n",
              "// to poll for completion of each step.\n",
              "// This uses a Promise to block the python side on completion of each step,\n",
              "// then passes the result of the previous step as the input to the next step.\n",
              "function _uploadFilesContinue(outputId) {\n",
              "  const outputElement = document.getElementById(outputId);\n",
              "  const steps = outputElement.steps;\n",
              "\n",
              "  const next = steps.next(outputElement.lastPromiseValue);\n",
              "  return Promise.resolve(next.value.promise).then((value) => {\n",
              "    // Cache the last promise value to make it available to the next\n",
              "    // step of the generator.\n",
              "    outputElement.lastPromiseValue = value;\n",
              "    return next.value.response;\n",
              "  });\n",
              "}\n",
              "\n",
              "/**\n",
              " * Generator function which is called between each async step of the upload\n",
              " * process.\n",
              " * @param {string} inputId Element ID of the input file picker element.\n",
              " * @param {string} outputId Element ID of the output display.\n",
              " * @return {!Iterable<!Object>} Iterable of next steps.\n",
              " */\n",
              "function* uploadFilesStep(inputId, outputId) {\n",
              "  const inputElement = document.getElementById(inputId);\n",
              "  inputElement.disabled = false;\n",
              "\n",
              "  const outputElement = document.getElementById(outputId);\n",
              "  outputElement.innerHTML = '';\n",
              "\n",
              "  const pickedPromise = new Promise((resolve) => {\n",
              "    inputElement.addEventListener('change', (e) => {\n",
              "      resolve(e.target.files);\n",
              "    });\n",
              "  });\n",
              "\n",
              "  const cancel = document.createElement('button');\n",
              "  inputElement.parentElement.appendChild(cancel);\n",
              "  cancel.textContent = 'Cancel upload';\n",
              "  const cancelPromise = new Promise((resolve) => {\n",
              "    cancel.onclick = () => {\n",
              "      resolve(null);\n",
              "    };\n",
              "  });\n",
              "\n",
              "  // Wait for the user to pick the files.\n",
              "  const files = yield {\n",
              "    promise: Promise.race([pickedPromise, cancelPromise]),\n",
              "    response: {\n",
              "      action: 'starting',\n",
              "    }\n",
              "  };\n",
              "\n",
              "  cancel.remove();\n",
              "\n",
              "  // Disable the input element since further picks are not allowed.\n",
              "  inputElement.disabled = true;\n",
              "\n",
              "  if (!files) {\n",
              "    return {\n",
              "      response: {\n",
              "        action: 'complete',\n",
              "      }\n",
              "    };\n",
              "  }\n",
              "\n",
              "  for (const file of files) {\n",
              "    const li = document.createElement('li');\n",
              "    li.append(span(file.name, {fontWeight: 'bold'}));\n",
              "    li.append(span(\n",
              "        `(${file.type || 'n/a'}) - ${file.size} bytes, ` +\n",
              "        `last modified: ${\n",
              "            file.lastModifiedDate ? file.lastModifiedDate.toLocaleDateString() :\n",
              "                                    'n/a'} - `));\n",
              "    const percent = span('0% done');\n",
              "    li.appendChild(percent);\n",
              "\n",
              "    outputElement.appendChild(li);\n",
              "\n",
              "    const fileDataPromise = new Promise((resolve) => {\n",
              "      const reader = new FileReader();\n",
              "      reader.onload = (e) => {\n",
              "        resolve(e.target.result);\n",
              "      };\n",
              "      reader.readAsArrayBuffer(file);\n",
              "    });\n",
              "    // Wait for the data to be ready.\n",
              "    let fileData = yield {\n",
              "      promise: fileDataPromise,\n",
              "      response: {\n",
              "        action: 'continue',\n",
              "      }\n",
              "    };\n",
              "\n",
              "    // Use a chunked sending to avoid message size limits. See b/62115660.\n",
              "    let position = 0;\n",
              "    do {\n",
              "      const length = Math.min(fileData.byteLength - position, MAX_PAYLOAD_SIZE);\n",
              "      const chunk = new Uint8Array(fileData, position, length);\n",
              "      position += length;\n",
              "\n",
              "      const base64 = btoa(String.fromCharCode.apply(null, chunk));\n",
              "      yield {\n",
              "        response: {\n",
              "          action: 'append',\n",
              "          file: file.name,\n",
              "          data: base64,\n",
              "        },\n",
              "      };\n",
              "\n",
              "      let percentDone = fileData.byteLength === 0 ?\n",
              "          100 :\n",
              "          Math.round((position / fileData.byteLength) * 100);\n",
              "      percent.textContent = `${percentDone}% done`;\n",
              "\n",
              "    } while (position < fileData.byteLength);\n",
              "  }\n",
              "\n",
              "  // All done.\n",
              "  yield {\n",
              "    response: {\n",
              "      action: 'complete',\n",
              "    }\n",
              "  };\n",
              "}\n",
              "\n",
              "scope.google = scope.google || {};\n",
              "scope.google.colab = scope.google.colab || {};\n",
              "scope.google.colab._files = {\n",
              "  _uploadFiles,\n",
              "  _uploadFilesContinue,\n",
              "};\n",
              "})(self);\n",
              "</script> "
            ]
          },
          "metadata": {}
        },
        {
          "output_type": "stream",
          "name": "stdout",
          "text": [
            "Saving sem_11_task_5.xlsx to sem_11_task_5.xlsx\n",
            "Saving sem_11_task_4.xlsx to sem_11_task_4.xlsx\n"
          ]
        }
      ]
    },
    {
      "cell_type": "code",
      "metadata": {
        "id": "-umKhqm8G85W",
        "colab": {
          "base_uri": "https://localhost:8080/",
          "height": 139
        },
        "outputId": "c01147fe-616a-42af-cdac-a738dda36d6f"
      },
      "source": [
        "df = pd.read_excel(\"sem_11_task_4.xlsx\", header=None)\n",
        "A = sympy.Matrix(df.values)\n",
        "\n",
        "eigenvectors = A.eigenvects()\n",
        "P = sympy.Matrix.hstack(*[vect for eigval, mult, vects in eigenvectors for vect in vects])\n",
        "display(P)\n",
        "\n",
        "A_new = P.inv() * A * P\n",
        "display(A_new)\n",
        "\n",
        "with pd.ExcelWriter('sem_11_task_4_ans.xlsx') as writer:\n",
        "    pd.DataFrame(list(P)).to_excel(writer, sheet_name='P', header=False, index=False)\n",
        "    pd.DataFrame(list(A_new)).to_excel(writer, sheet_name='A_new', header=False, index=False)"
      ],
      "execution_count": 20,
      "outputs": [
        {
          "output_type": "display_data",
          "data": {
            "text/plain": [
              "Matrix([\n",
              "[9, 5, 8],\n",
              "[6, 3, 5],\n",
              "[1, 1, 1]])"
            ],
            "text/latex": "$\\displaystyle \\left[\\begin{matrix}9 & 5 & 8\\\\6 & 3 & 5\\\\1 & 1 & 1\\end{matrix}\\right]$"
          },
          "metadata": {}
        },
        {
          "output_type": "display_data",
          "data": {
            "text/plain": [
              "Matrix([\n",
              "[-4, 0, 0],\n",
              "[ 0, 2, 0],\n",
              "[ 0, 0, 8]])"
            ],
            "text/latex": "$\\displaystyle \\left[\\begin{matrix}-4 & 0 & 0\\\\0 & 2 & 0\\\\0 & 0 & 8\\end{matrix}\\right]$"
          },
          "metadata": {}
        }
      ]
    },
    {
      "cell_type": "markdown",
      "source": [
        "### Задание 5.\n",
        "Описать функцию от аргументов $a11$, $a12$, $a21$, $a22$, которая с помощью функций  sympy находит собственные числа линейного оператора с матрицей\n",
        "$\\left(\\begin{matrix}a_{11} & a_{12}\\\\ a_{21} & a_{22}\\end{matrix}\\right)$ и возвращает максимальный модуль собственного числа, если это число вещественное. В случае комплексных корней характеристического уравнения функция возвращает -1.\n",
        "\n",
        "Вывести на экран максимальное по модулю собственное число для каждой из матриц, состоящих из  элементов $a11$, $a12$, $a21$, $a22$ файла 'sem_11_task_5.xlsx'."
      ],
      "metadata": {
        "id": "0_DfgUpali7S"
      }
    },
    {
      "cell_type": "code",
      "source": [
        "def max_real_eigenvalue(a11, a12, a21, a22):\n",
        "    A = sympy.Matrix([[a11, a12], [a21, a22]])\n",
        "    reals = [ev for ev in A.eigenvals() if ev.is_real]\n",
        "\n",
        "    if reals != []:\n",
        "        return max(abs(ev) for ev in reals)\n",
        "    else:\n",
        "        return -1\n",
        "\n",
        "df = pd.read_excel(\"sem_11_task_5.xlsx\", header=0, index_col=0)\n",
        "\n",
        "for a11, a12, a21, a22 in df.values:\n",
        "  display(max_real_eigenvalue(a11, a12, a21, a22))\n"
      ],
      "metadata": {
        "id": "FrsObl1_oTgY",
        "colab": {
          "base_uri": "https://localhost:8080/",
          "height": 153
        },
        "outputId": "643a69dd-b75b-4698-d31e-1e9e87aad4ee"
      },
      "execution_count": 29,
      "outputs": [
        {
          "output_type": "display_data",
          "data": {
            "text/plain": [
              "1"
            ],
            "text/latex": "$\\displaystyle 1$"
          },
          "metadata": {}
        },
        {
          "output_type": "display_data",
          "data": {
            "text/plain": [
              "11"
            ],
            "text/latex": "$\\displaystyle 11$"
          },
          "metadata": {}
        },
        {
          "output_type": "display_data",
          "data": {
            "text/plain": [
              "-1"
            ]
          },
          "metadata": {}
        },
        {
          "output_type": "display_data",
          "data": {
            "text/plain": [
              "16"
            ],
            "text/latex": "$\\displaystyle 16$"
          },
          "metadata": {}
        },
        {
          "output_type": "display_data",
          "data": {
            "text/plain": [
              "-1"
            ]
          },
          "metadata": {}
        },
        {
          "output_type": "display_data",
          "data": {
            "text/plain": [
              "18"
            ],
            "text/latex": "$\\displaystyle 18$"
          },
          "metadata": {}
        },
        {
          "output_type": "display_data",
          "data": {
            "text/plain": [
              "18"
            ],
            "text/latex": "$\\displaystyle 18$"
          },
          "metadata": {}
        }
      ]
    },
    {
      "cell_type": "markdown",
      "source": [
        "### Задание 6*.\n",
        "Описать функцию с аргументами $a$, $slope$, где $a$ - горизонтальная координата точки на оси  $OX$, $slope$ - тангенс угла наклона прямой, проходящей через точку $A(a, 0)$. Функция возвращает вертикальную координату точки пересечения прямой с осью $OY$ (при $a = -3$, $slope = 2$ должно получиться 6).\n",
        "\n",
        "С помощью lambdify получить функцию - \"двойник\" для работы с объектами numpy, затем при помощи этой функции и matplotlib.pyplot построить график зависимости вертикальной координаты точки пересечения от $a$, если $a=np.linspace(-5, 5)$, $slope = 2$, затем график при  $slope = np.linspace(-2, 1)$,  $a = -2$."
      ],
      "metadata": {
        "id": "hCVotTaf9bUC"
      }
    },
    {
      "cell_type": "code",
      "source": [],
      "metadata": {
        "id": "84dx-NcJ9K6f"
      },
      "execution_count": null,
      "outputs": []
    },
    {
      "cell_type": "markdown",
      "source": [
        "# Задание 7*\n",
        "\n",
        "Для оператора поворота на угол $\\alpha$  найти значения  угла $\\alpha$, при которых у оператора есть собственные числа и собственные векторы, вывести на экран такие значения $\\alpha$ и соответствующие  собственные числа и собственные векторы для  $\\alpha$ от 0 до $5\\pi$."
      ],
      "metadata": {
        "id": "-Qyx5ZYCRoCR"
      }
    },
    {
      "cell_type": "code",
      "source": [],
      "metadata": {
        "id": "RwdLx0q6Spgg"
      },
      "execution_count": null,
      "outputs": []
    },
    {
      "cell_type": "markdown",
      "metadata": {
        "id": "DeW-9Q28G85W"
      },
      "source": [
        "###  Индивидуальное задание\n",
        "Найти собственные числа и собственные векторы линейного оператора. Построить матрицу оператора в заданном базисе. Построить матрицу оператора в базисе из собственных векторов.\n",
        "\n",
        "Вывести на экран матрицу оператора А, матрицу перехода к базису ($e_1$, $e_2$, $e_3$), матрицу оператора в базисе ($e_1$, $e_2$, $e_3$), матрицу перехода к базису из собственных векторов, матрицу оператора в базисе из собственных векторов.\n",
        "\n",
        "\n",
        "![image.png](data:image/png;base64,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)"
      ]
    },
    {
      "cell_type": "code",
      "metadata": {
        "id": "8gu1WSYwG85X",
        "colab": {
          "base_uri": "https://localhost:8080/",
          "height": 322
        },
        "outputId": "19b84406-3620-4c8d-d134-51d32cb5674a"
      },
      "source": [
        "A = sympy.Matrix([\n",
        "    [48, -208, -44],\n",
        "    [19, -76, -13],\n",
        "    [-44, 160, 24]\n",
        "])\n",
        "\n",
        "e1 = sympy.Matrix([1, -2, 1])\n",
        "e2 = sympy.Matrix([4, 4, -4])\n",
        "e3 = sympy.Matrix([3, -1, -1])\n",
        "\n",
        "eigenvectors = A.eigenvects()\n",
        "display(Latex(latex(eigenvectors)))\n",
        "\n",
        "P = sympy.Matrix.hstack(e1, e2, e3)\n",
        "display(P)\n",
        "A_new = P.inv() * A * P\n",
        "display(A_new)\n",
        "\n",
        "P = sympy.Matrix.hstack(*[vect for eigval, mult, vects in eigenvectors for vect in vects])\n",
        "display(P)\n",
        "A_new = P.inv() * A * P\n",
        "display(A_new)"
      ],
      "execution_count": 33,
      "outputs": [
        {
          "output_type": "display_data",
          "data": {
            "text/plain": [
              "<IPython.core.display.Latex object>"
            ],
            "text/latex": "\\left[ \\left( -12, \\  1, \\  \\left[ \\left[\\begin{matrix}-1\\\\- \\frac{1}{2}\\\\1\\end{matrix}\\right]\\right]\\right), \\  \\left( -8, \\  1, \\  \\left[ \\left[\\begin{matrix}-2\\\\- \\frac{3}{4}\\\\1\\end{matrix}\\right]\\right]\\right), \\  \\left( 16, \\  1, \\  \\left[ \\left[\\begin{matrix}- \\frac{4}{3}\\\\- \\frac{5}{12}\\\\1\\end{matrix}\\right]\\right]\\right)\\right]"
          },
          "metadata": {}
        },
        {
          "output_type": "display_data",
          "data": {
            "text/plain": [
              "Matrix([\n",
              "[ 1,  4,  3],\n",
              "[-2,  4, -1],\n",
              "[ 1, -4, -1]])"
            ],
            "text/latex": "$\\displaystyle \\left[\\begin{matrix}1 & 4 & 3\\\\-2 & 4 & -1\\\\1 & -4 & -1\\end{matrix}\\right]$"
          },
          "metadata": {}
        },
        {
          "output_type": "display_data",
          "data": {
            "text/plain": [
              "Matrix([\n",
              "[-102,   96, -90],\n",
              "[  24,  -32,  24],\n",
              "[ 142, -144, 130]])"
            ],
            "text/latex": "$\\displaystyle \\left[\\begin{matrix}-102 & 96 & -90\\\\24 & -32 & 24\\\\142 & -144 & 130\\end{matrix}\\right]$"
          },
          "metadata": {}
        },
        {
          "output_type": "display_data",
          "data": {
            "text/plain": [
              "Matrix([\n",
              "[  -1,   -2,  -4/3],\n",
              "[-1/2, -3/4, -5/12],\n",
              "[   1,    1,     1]])"
            ],
            "text/latex": "$\\displaystyle \\left[\\begin{matrix}-1 & -2 & - \\frac{4}{3}\\\\- \\frac{1}{2} & - \\frac{3}{4} & - \\frac{5}{12}\\\\1 & 1 & 1\\end{matrix}\\right]$"
          },
          "metadata": {}
        },
        {
          "output_type": "display_data",
          "data": {
            "text/plain": [
              "Matrix([\n",
              "[-12,  0,  0],\n",
              "[  0, -8,  0],\n",
              "[  0,  0, 16]])"
            ],
            "text/latex": "$\\displaystyle \\left[\\begin{matrix}-12 & 0 & 0\\\\0 & -8 & 0\\\\0 & 0 & 16\\end{matrix}\\right]$"
          },
          "metadata": {}
        }
      ]
    }
  ]
}