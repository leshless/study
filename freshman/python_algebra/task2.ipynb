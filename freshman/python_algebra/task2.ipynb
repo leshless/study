{
  "nbformat": 4,
  "nbformat_minor": 0,
  "metadata": {
    "kernelspec": {
      "display_name": "Python 3",
      "language": "python",
      "name": "python3"
    },
    "language_info": {
      "codemirror_mode": {
        "name": "ipython",
        "version": 3
      },
      "file_extension": ".py",
      "mimetype": "text/x-python",
      "name": "python",
      "nbconvert_exporter": "python",
      "pygments_lexer": "ipython3",
      "version": "3.7.3"
    },
    "colab": {
      "provenance": [],
      "include_colab_link": true
    }
  },
  "cells": [
    {
      "cell_type": "markdown",
      "metadata": {
        "id": "view-in-github",
        "colab_type": "text"
      },
      "source": [
        "<a href=\"https://colab.research.google.com/github/leshless/study/blob/main/python_algebra/task2.ipynb\" target=\"_parent\"><img src=\"https://colab.research.google.com/assets/colab-badge.svg\" alt=\"Open In Colab\"/></a>"
      ]
    },
    {
      "cell_type": "markdown",
      "metadata": {
        "id": "V1qo8kCJaU1a"
      },
      "source": [
        "# Практическое занятие 2\n",
        "# Компьютерный практикум по алгебре на Python"
      ]
    },
    {
      "cell_type": "markdown",
      "metadata": {
        "id": "nrNldgTvaU1k"
      },
      "source": [
        "## Матрицы. Подстановки, действия над строками, столбцами и элементами. Формулы Крамера для решения СЛАУ.\n",
        "\n",
        "https://docs.sympy.org/latest/tutorial/matrices.html\n",
        "\n",
        "С помощью конструктора класса Matrix можно создавать матрицы, элементами которых служат не только числа или числовые выражения, но и символы Symbol, играющие роль математических переменных. Переменные могут принимать какие-то значения, эти значения можно подставлять в матрицы (и не только в них!) с помощью метода subs."
      ]
    },
    {
      "cell_type": "code",
      "metadata": {
        "id": "DW7G-QrZaU1l"
      },
      "source": [
        "from sympy import Symbol, symbols, Matrix, simplify, factor, pi, latex, solve\n",
        "from IPython.display import Latex"
      ],
      "execution_count": 43,
      "outputs": []
    },
    {
      "cell_type": "markdown",
      "metadata": {
        "id": "pebe8gBxaU1n"
      },
      "source": [
        "### Задание 1\n",
        "Решить по формулам Крамера СЛАУ\n",
        "\\begin{align*}\n",
        "\\left\\{\\begin{matrix} 2 x_{1} +  x_{3}  = -8\\\\\n",
        "- 4 x_{1} + 5 x_{2} - x_{4} = 20\\\\\n",
        "- 6 x_{2} + x_{3} + 2 x_{4} = 2\\\\\n",
        "2 x_{1} +   x_{2} - x_{3} - x_{4} = 4\\\\\n",
        "\\end{matrix}\\right.\n",
        " \\end{align*}\n",
        "Проверить правильность найденного решения подстановкой (в математическом смысле! subs не нужно использовать).\n",
        "\n",
        "Под проверкой правильности понимается проверка выполнения равенства $AX=b$ или $AX-b=\\bar 0$."
      ]
    },
    {
      "cell_type": "code",
      "source": [
        "A = Matrix([\n",
        "    [2, 0, 1, 0],\n",
        "    [-4, 5, 0, -1],\n",
        "    [0, -6, 1, 2],\n",
        "    [2, 1, -1, -1],\n",
        "])\n",
        "\n",
        "b = Matrix([\n",
        "    -8,\n",
        "    20,\n",
        "    2,\n",
        "    4,\n",
        "])\n",
        "\n",
        "X = Matrix([0 for _ in range(4)])\n",
        "\n",
        "for i in range(4):\n",
        "  A_ = A[ : , : ]\n",
        "  A_[i] = b\n",
        "\n",
        "  X[i] = A_.det() / A.det()\n",
        "\n",
        "assert A*X == b\n",
        "\n",
        "display(X)"
      ],
      "metadata": {
        "id": "iWkPDcU0p24_",
        "colab": {
          "base_uri": "https://localhost:8080/",
          "height": 98
        },
        "outputId": "2f740d72-bc1e-40f1-fbb5-fd642bf31386"
      },
      "execution_count": 38,
      "outputs": [
        {
          "output_type": "display_data",
          "data": {
            "text/plain": [
              "Matrix([\n",
              "[-13],\n",
              "[-20],\n",
              "[ 18],\n",
              "[-68]])"
            ],
            "text/latex": "$\\displaystyle \\left[\\begin{matrix}-13\\\\-20\\\\18\\\\-68\\end{matrix}\\right]$"
          },
          "metadata": {}
        }
      ]
    },
    {
      "cell_type": "markdown",
      "metadata": {
        "id": "WfVS2gyDaU1r"
      },
      "source": [
        "### Задание 2\n",
        "Решить по формулам Крамера СЛАУ с параметром\n",
        "\\begin{align*}\n",
        "\\left\\{\\begin{matrix} x_{1}  + ax_{4}  = 1\\\\\n",
        "a x_{1} + x_{2} = 2\\\\\n",
        "a x_{2} + x_{3} = 1\\\\\n",
        "a x_{3} + x_{4} = 2\\\\\n",
        "\\end{matrix}\\right.\n",
        " \\end{align*}\n",
        "Проверить правильность найденного решения подстановкой.\n",
        "\n",
        "Составить матрицу $S$, столбцы которой являются решениями данной СЛАУ при $a = 0, 2, 3$.\n",
        "\n",
        "**Указание.**\n",
        "\n",
        "Оформить решение по формулам Крамера в виде функции.\n",
        "\n",
        "Параметр $a$ описать как символ.\n",
        "\n",
        "Использовать подстановки **subs** для построения матриц данной СЛАУ при $a = 0, 2, 3$ на основе матрицы с параметром.\n",
        "\n",
        "Воспользоваться **simplify** для того, чтобы упростить выражение при проверке."
      ]
    },
    {
      "cell_type": "code",
      "source": [
        "a = Symbol(\"a\")\n",
        "\n",
        "A = Matrix([\n",
        "    [1, 0, 0, a],\n",
        "    [a, 1, 0, 0],\n",
        "    [0, a, 1, 0],\n",
        "    [0, 0, a, 1],\n",
        "])\n",
        "\n",
        "b = Matrix([\n",
        "    1,\n",
        "    2,\n",
        "    1,\n",
        "    2,\n",
        "])\n",
        "\n",
        "X = Matrix([0 for _ in range(4)])\n",
        "\n",
        "for i in range(4):\n",
        "  A_ = A[ : , : ]\n",
        "  A_[i] = b\n",
        "\n",
        "  X[i] = A_.det() / A.det()\n",
        "\n",
        "assert simplify(A*X) == b\n",
        "\n",
        "display(simplify(X))\n",
        "display(A.subs(a, 0), X.subs(a, 0))\n",
        "display(A.subs(a, 2), X.subs(a, 2))\n",
        "display(A.subs(a, 3), X.subs(a, 3))"
      ],
      "metadata": {
        "id": "tyw56nrIp5Vw",
        "colab": {
          "base_uri": "https://localhost:8080/",
          "height": 590
        },
        "outputId": "28eab814-1c5f-4d08-eb20-5bc53d21b472"
      },
      "execution_count": 44,
      "outputs": [
        {
          "output_type": "display_data",
          "data": {
            "text/plain": [
              "Matrix([\n",
              "[(2*a - 1)/(a**2 - 1)],\n",
              "[  (a - 2)/(a**2 - 1)],\n",
              "[(2*a - 1)/(a**2 - 1)],\n",
              "[  (a - 2)/(a**2 - 1)]])"
            ],
            "text/latex": "$\\displaystyle \\left[\\begin{matrix}\\frac{2 a - 1}{a^{2} - 1}\\\\\\frac{a - 2}{a^{2} - 1}\\\\\\frac{2 a - 1}{a^{2} - 1}\\\\\\frac{a - 2}{a^{2} - 1}\\end{matrix}\\right]$"
          },
          "metadata": {}
        },
        {
          "output_type": "display_data",
          "data": {
            "text/plain": [
              "Matrix([\n",
              "[1, 0, 0, 0],\n",
              "[0, 1, 0, 0],\n",
              "[0, 0, 1, 0],\n",
              "[0, 0, 0, 1]])"
            ],
            "text/latex": "$\\displaystyle \\left[\\begin{matrix}1 & 0 & 0 & 0\\\\0 & 1 & 0 & 0\\\\0 & 0 & 1 & 0\\\\0 & 0 & 0 & 1\\end{matrix}\\right]$"
          },
          "metadata": {}
        },
        {
          "output_type": "display_data",
          "data": {
            "text/plain": [
              "Matrix([\n",
              "[1],\n",
              "[2],\n",
              "[1],\n",
              "[2]])"
            ],
            "text/latex": "$\\displaystyle \\left[\\begin{matrix}1\\\\2\\\\1\\\\2\\end{matrix}\\right]$"
          },
          "metadata": {}
        },
        {
          "output_type": "display_data",
          "data": {
            "text/plain": [
              "Matrix([\n",
              "[1, 0, 0, 2],\n",
              "[2, 1, 0, 0],\n",
              "[0, 2, 1, 0],\n",
              "[0, 0, 2, 1]])"
            ],
            "text/latex": "$\\displaystyle \\left[\\begin{matrix}1 & 0 & 0 & 2\\\\2 & 1 & 0 & 0\\\\0 & 2 & 1 & 0\\\\0 & 0 & 2 & 1\\end{matrix}\\right]$"
          },
          "metadata": {}
        },
        {
          "output_type": "display_data",
          "data": {
            "text/plain": [
              "Matrix([\n",
              "[1],\n",
              "[0],\n",
              "[1],\n",
              "[0]])"
            ],
            "text/latex": "$\\displaystyle \\left[\\begin{matrix}1\\\\0\\\\1\\\\0\\end{matrix}\\right]$"
          },
          "metadata": {}
        },
        {
          "output_type": "display_data",
          "data": {
            "text/plain": [
              "Matrix([\n",
              "[1, 0, 0, 3],\n",
              "[3, 1, 0, 0],\n",
              "[0, 3, 1, 0],\n",
              "[0, 0, 3, 1]])"
            ],
            "text/latex": "$\\displaystyle \\left[\\begin{matrix}1 & 0 & 0 & 3\\\\3 & 1 & 0 & 0\\\\0 & 3 & 1 & 0\\\\0 & 0 & 3 & 1\\end{matrix}\\right]$"
          },
          "metadata": {}
        },
        {
          "output_type": "display_data",
          "data": {
            "text/plain": [
              "Matrix([\n",
              "[5/8],\n",
              "[1/8],\n",
              "[5/8],\n",
              "[1/8]])"
            ],
            "text/latex": "$\\displaystyle \\left[\\begin{matrix}\\frac{5}{8}\\\\\\frac{1}{8}\\\\\\frac{5}{8}\\\\\\frac{1}{8}\\end{matrix}\\right]$"
          },
          "metadata": {}
        }
      ]
    },
    {
      "cell_type": "markdown",
      "metadata": {
        "id": "Ufm8BDgxaU1t"
      },
      "source": [
        "### Задание 3.\n",
        "Решить по формулам Крамера СЛАУ с параметрами\n",
        "\\begin{align*}\n",
        "\\left\\{\\begin{matrix} 2 x_{1} + a_{12} x_{2} + x_{3}  = b_1\\\\\n",
        "x_{1} + a_{22} x_{2} - x_{3}   = b_2\\\\\n",
        "x_{1} + 2 x_{2} + 3 x_{3}   = 1\n",
        "\\end{matrix}\\right.\n",
        "\\end{align*}\n",
        "Проверить правильность найденного решения подстановкой.\n",
        "\n",
        "Найти такие наборы параметров, для которых полученное решение неприменимо (подсказка - из-за деления на ноль).\n",
        "\n",
        "Показать, что для этих наборов определитель матрицы левой части равен нулю, использовать подстановки subs."
      ]
    },
    {
      "cell_type": "code",
      "source": [
        "a1, a2, b1, b2 = symbols(\"a_1 a_2 b_1 b_2\")\n",
        "\n",
        "A = Matrix([\n",
        "    [2, a1, 1],\n",
        "    [1, a2, -1],\n",
        "    [1, 2, 3],\n",
        "])\n",
        "\n",
        "b = Matrix([\n",
        "    b1,\n",
        "    b2,\n",
        "    1,\n",
        "])\n",
        "\n",
        "X = Matrix([0 for _ in range(3)])\n",
        "\n",
        "for i in range(3):\n",
        "  A_ = A[ : , : ]\n",
        "  A_[i] = b\n",
        "\n",
        "  X[i] = A_.det() / A.det()\n",
        "\n",
        "assert simplify(A*X) == b\n",
        "\n",
        "display(simplify(X))\n",
        "\n",
        "sol = solve(A.det(), [a1, a2])[0]\n",
        "display(A.subs([(a1, sol[0]), (a2, sol[1])]).det())\n"
      ],
      "metadata": {
        "id": "4x9qaosKp6aY",
        "colab": {
          "base_uri": "https://localhost:8080/",
          "height": 108
        },
        "outputId": "dc8ca791-d011-4507-b513-6f79c3d0729b"
      },
      "execution_count": 52,
      "outputs": [
        {
          "output_type": "display_data",
          "data": {
            "text/plain": [
              "Matrix([\n",
              "[(-3*a_1*b_2 - a_1 + 3*a_2*b_1 - a_2 + 2*b_1 + 2*b_2)/(-4*a_1 + 5*a_2 + 6)],\n",
              "[                                (-4*b_1 + 5*b_2 + 3)/(-4*a_1 + 5*a_2 + 6)],\n",
              "[   (a_1*b_2 - a_1 - a_2*b_1 + 2*a_2 + 2*b_1 - 4*b_2)/(-4*a_1 + 5*a_2 + 6)]])"
            ],
            "text/latex": "$\\displaystyle \\left[\\begin{matrix}\\frac{- 3 a_{1} b_{2} - a_{1} + 3 a_{2} b_{1} - a_{2} + 2 b_{1} + 2 b_{2}}{- 4 a_{1} + 5 a_{2} + 6}\\\\\\frac{- 4 b_{1} + 5 b_{2} + 3}{- 4 a_{1} + 5 a_{2} + 6}\\\\\\frac{a_{1} b_{2} - a_{1} - a_{2} b_{1} + 2 a_{2} + 2 b_{1} - 4 b_{2}}{- 4 a_{1} + 5 a_{2} + 6}\\end{matrix}\\right]$"
          },
          "metadata": {}
        },
        {
          "output_type": "display_data",
          "data": {
            "text/plain": [
              "0"
            ],
            "text/latex": "$\\displaystyle 0$"
          },
          "metadata": {}
        }
      ]
    },
    {
      "cell_type": "markdown",
      "metadata": {
        "id": "bsNtxeRDaU1w"
      },
      "source": [
        "### Задание 4.\n",
        "Дана матрица\n",
        "\\begin{align*}\n",
        "M =\n",
        "\\left(\\begin{matrix}\n",
        "p & 1 & 0  & 0\\\\\n",
        "1 & q & 0  & 0\\\\\n",
        "0 & 0 & p & 1\\\\\n",
        "0 & 0 & 1 & q\n",
        "\\end{matrix}\\right)\n",
        "\\end{align*}\n",
        "Вычислить и вывести на экран определитель этой матрицы.\n",
        "\n",
        "Для целых четных $p$ от 2 до 8 **включительно** найти значения $q$, при которых определитель $M$ равен нулю, выводить на экран в цикле матрицу M, в которую подставлены значения $p$ и $q$. Использовать подстановки subs."
      ]
    },
    {
      "cell_type": "code",
      "source": [
        "p, q = symbols(\"p q\")\n",
        "\n",
        "M = Matrix([\n",
        "    [p, 1, 0, 0],\n",
        "    [1, q, 0, 0],\n",
        "    [0, 0, p, 1],\n",
        "    [0, 0, 1, q],\n",
        "])\n",
        "\n",
        "d = simplify(M.det())\n",
        "\n",
        "display(d)\n",
        "\n",
        "for p_ in range(2, 9):\n",
        "  q_ = solve(d.subs(p, p_))[0]\n",
        "  display(M.subs([(p, p_), (q, q_)]))"
      ],
      "metadata": {
        "id": "1ylv2i9Vp8U4",
        "colab": {
          "base_uri": "https://localhost:8080/",
          "height": 610
        },
        "outputId": "230a92ad-7fbe-4c66-e19a-1445dcd1da07"
      },
      "execution_count": 60,
      "outputs": [
        {
          "output_type": "display_data",
          "data": {
            "text/plain": [
              "(p*q - 1)**2"
            ],
            "text/latex": "$\\displaystyle \\left(p q - 1\\right)^{2}$"
          },
          "metadata": {}
        },
        {
          "output_type": "display_data",
          "data": {
            "text/plain": [
              "Matrix([\n",
              "[2,   1, 0,   0],\n",
              "[1, 1/2, 0,   0],\n",
              "[0,   0, 2,   1],\n",
              "[0,   0, 1, 1/2]])"
            ],
            "text/latex": "$\\displaystyle \\left[\\begin{matrix}2 & 1 & 0 & 0\\\\1 & \\frac{1}{2} & 0 & 0\\\\0 & 0 & 2 & 1\\\\0 & 0 & 1 & \\frac{1}{2}\\end{matrix}\\right]$"
          },
          "metadata": {}
        },
        {
          "output_type": "display_data",
          "data": {
            "text/plain": [
              "Matrix([\n",
              "[3,   1, 0,   0],\n",
              "[1, 1/3, 0,   0],\n",
              "[0,   0, 3,   1],\n",
              "[0,   0, 1, 1/3]])"
            ],
            "text/latex": "$\\displaystyle \\left[\\begin{matrix}3 & 1 & 0 & 0\\\\1 & \\frac{1}{3} & 0 & 0\\\\0 & 0 & 3 & 1\\\\0 & 0 & 1 & \\frac{1}{3}\\end{matrix}\\right]$"
          },
          "metadata": {}
        },
        {
          "output_type": "display_data",
          "data": {
            "text/plain": [
              "Matrix([\n",
              "[4,   1, 0,   0],\n",
              "[1, 1/4, 0,   0],\n",
              "[0,   0, 4,   1],\n",
              "[0,   0, 1, 1/4]])"
            ],
            "text/latex": "$\\displaystyle \\left[\\begin{matrix}4 & 1 & 0 & 0\\\\1 & \\frac{1}{4} & 0 & 0\\\\0 & 0 & 4 & 1\\\\0 & 0 & 1 & \\frac{1}{4}\\end{matrix}\\right]$"
          },
          "metadata": {}
        },
        {
          "output_type": "display_data",
          "data": {
            "text/plain": [
              "Matrix([\n",
              "[5,   1, 0,   0],\n",
              "[1, 1/5, 0,   0],\n",
              "[0,   0, 5,   1],\n",
              "[0,   0, 1, 1/5]])"
            ],
            "text/latex": "$\\displaystyle \\left[\\begin{matrix}5 & 1 & 0 & 0\\\\1 & \\frac{1}{5} & 0 & 0\\\\0 & 0 & 5 & 1\\\\0 & 0 & 1 & \\frac{1}{5}\\end{matrix}\\right]$"
          },
          "metadata": {}
        },
        {
          "output_type": "display_data",
          "data": {
            "text/plain": [
              "Matrix([\n",
              "[6,   1, 0,   0],\n",
              "[1, 1/6, 0,   0],\n",
              "[0,   0, 6,   1],\n",
              "[0,   0, 1, 1/6]])"
            ],
            "text/latex": "$\\displaystyle \\left[\\begin{matrix}6 & 1 & 0 & 0\\\\1 & \\frac{1}{6} & 0 & 0\\\\0 & 0 & 6 & 1\\\\0 & 0 & 1 & \\frac{1}{6}\\end{matrix}\\right]$"
          },
          "metadata": {}
        },
        {
          "output_type": "display_data",
          "data": {
            "text/plain": [
              "Matrix([\n",
              "[7,   1, 0,   0],\n",
              "[1, 1/7, 0,   0],\n",
              "[0,   0, 7,   1],\n",
              "[0,   0, 1, 1/7]])"
            ],
            "text/latex": "$\\displaystyle \\left[\\begin{matrix}7 & 1 & 0 & 0\\\\1 & \\frac{1}{7} & 0 & 0\\\\0 & 0 & 7 & 1\\\\0 & 0 & 1 & \\frac{1}{7}\\end{matrix}\\right]$"
          },
          "metadata": {}
        },
        {
          "output_type": "display_data",
          "data": {
            "text/plain": [
              "Matrix([\n",
              "[8,   1, 0,   0],\n",
              "[1, 1/8, 0,   0],\n",
              "[0,   0, 8,   1],\n",
              "[0,   0, 1, 1/8]])"
            ],
            "text/latex": "$\\displaystyle \\left[\\begin{matrix}8 & 1 & 0 & 0\\\\1 & \\frac{1}{8} & 0 & 0\\\\0 & 0 & 8 & 1\\\\0 & 0 & 1 & \\frac{1}{8}\\end{matrix}\\right]$"
          },
          "metadata": {}
        }
      ]
    },
    {
      "cell_type": "markdown",
      "source": [
        "\n",
        "### Задание 5*.\n",
        "Матрица состоит из $n$  блоков\n",
        "$\n",
        "\\left(\\begin{matrix}\n",
        "p & 1\\\\\n",
        "1 & q\n",
        "\\end{matrix}\\right)\n",
        "$\n",
        "\\begin{align*}\n",
        "M =\n",
        "\\left(\\begin{matrix}\n",
        "p & 1 & 0  & 0\\\\\n",
        "1 & q & 0  & 0\\\\\n",
        "0 & 0 & p & 1\\\\\n",
        "0 & 0 & 1 & q\n",
        "\\end{matrix}\\right)\n",
        "\\end{align*}\n",
        "Вычислить и вывести на экран определитель этой матрицы.\n",
        "\n",
        "Для целых четных $p$ от 2 до 8 **включительно** найти значения $q$, при которых определитель $M$ равен нулю, выводить на экран в цикле матрицу M, в которую подставлены значения $p$ и $q$. Использовать подстановки subs."
      ],
      "metadata": {
        "id": "-15IckQwlH8v"
      }
    },
    {
      "cell_type": "code",
      "source": [
        "p, q, n = symbols(\"p q n\")\n",
        "\n",
        "M = Matrix([\n",
        "    [p, 1, 0, 0],\n",
        "    [1, q, 0, 0],\n",
        "    [0, 0, p, 1],\n",
        "    [0, 0, 1, q],\n",
        "])\n",
        "\n",
        "d = (p*q - 1)**n # (pq - 1)^n = 0 <=> (pq - 1) = 0 (n > 1)\n",
        "display(d)\n",
        "\n",
        "d = (p*q - 1)\n",
        "\n",
        "for p_ in range(2, 9):\n",
        "  q_ = simplify(solve(d.subs(p, p_), q)[0])\n",
        "  display(M.subs([(p, p_), (q, q_)]))"
      ],
      "metadata": {
        "id": "7B9xHg3-p9wU",
        "colab": {
          "base_uri": "https://localhost:8080/",
          "height": 609
        },
        "outputId": "f2a4aa6d-a92f-4dcb-a87c-23336f7c0775"
      },
      "execution_count": 68,
      "outputs": [
        {
          "output_type": "display_data",
          "data": {
            "text/plain": [
              "(p*q - 1)**n"
            ],
            "text/latex": "$\\displaystyle \\left(p q - 1\\right)^{n}$"
          },
          "metadata": {}
        },
        {
          "output_type": "display_data",
          "data": {
            "text/plain": [
              "Matrix([\n",
              "[2,   1, 0,   0],\n",
              "[1, 1/2, 0,   0],\n",
              "[0,   0, 2,   1],\n",
              "[0,   0, 1, 1/2]])"
            ],
            "text/latex": "$\\displaystyle \\left[\\begin{matrix}2 & 1 & 0 & 0\\\\1 & \\frac{1}{2} & 0 & 0\\\\0 & 0 & 2 & 1\\\\0 & 0 & 1 & \\frac{1}{2}\\end{matrix}\\right]$"
          },
          "metadata": {}
        },
        {
          "output_type": "display_data",
          "data": {
            "text/plain": [
              "Matrix([\n",
              "[3,   1, 0,   0],\n",
              "[1, 1/3, 0,   0],\n",
              "[0,   0, 3,   1],\n",
              "[0,   0, 1, 1/3]])"
            ],
            "text/latex": "$\\displaystyle \\left[\\begin{matrix}3 & 1 & 0 & 0\\\\1 & \\frac{1}{3} & 0 & 0\\\\0 & 0 & 3 & 1\\\\0 & 0 & 1 & \\frac{1}{3}\\end{matrix}\\right]$"
          },
          "metadata": {}
        },
        {
          "output_type": "display_data",
          "data": {
            "text/plain": [
              "Matrix([\n",
              "[4,   1, 0,   0],\n",
              "[1, 1/4, 0,   0],\n",
              "[0,   0, 4,   1],\n",
              "[0,   0, 1, 1/4]])"
            ],
            "text/latex": "$\\displaystyle \\left[\\begin{matrix}4 & 1 & 0 & 0\\\\1 & \\frac{1}{4} & 0 & 0\\\\0 & 0 & 4 & 1\\\\0 & 0 & 1 & \\frac{1}{4}\\end{matrix}\\right]$"
          },
          "metadata": {}
        },
        {
          "output_type": "display_data",
          "data": {
            "text/plain": [
              "Matrix([\n",
              "[5,   1, 0,   0],\n",
              "[1, 1/5, 0,   0],\n",
              "[0,   0, 5,   1],\n",
              "[0,   0, 1, 1/5]])"
            ],
            "text/latex": "$\\displaystyle \\left[\\begin{matrix}5 & 1 & 0 & 0\\\\1 & \\frac{1}{5} & 0 & 0\\\\0 & 0 & 5 & 1\\\\0 & 0 & 1 & \\frac{1}{5}\\end{matrix}\\right]$"
          },
          "metadata": {}
        },
        {
          "output_type": "display_data",
          "data": {
            "text/plain": [
              "Matrix([\n",
              "[6,   1, 0,   0],\n",
              "[1, 1/6, 0,   0],\n",
              "[0,   0, 6,   1],\n",
              "[0,   0, 1, 1/6]])"
            ],
            "text/latex": "$\\displaystyle \\left[\\begin{matrix}6 & 1 & 0 & 0\\\\1 & \\frac{1}{6} & 0 & 0\\\\0 & 0 & 6 & 1\\\\0 & 0 & 1 & \\frac{1}{6}\\end{matrix}\\right]$"
          },
          "metadata": {}
        },
        {
          "output_type": "display_data",
          "data": {
            "text/plain": [
              "Matrix([\n",
              "[7,   1, 0,   0],\n",
              "[1, 1/7, 0,   0],\n",
              "[0,   0, 7,   1],\n",
              "[0,   0, 1, 1/7]])"
            ],
            "text/latex": "$\\displaystyle \\left[\\begin{matrix}7 & 1 & 0 & 0\\\\1 & \\frac{1}{7} & 0 & 0\\\\0 & 0 & 7 & 1\\\\0 & 0 & 1 & \\frac{1}{7}\\end{matrix}\\right]$"
          },
          "metadata": {}
        },
        {
          "output_type": "display_data",
          "data": {
            "text/plain": [
              "Matrix([\n",
              "[8,   1, 0,   0],\n",
              "[1, 1/8, 0,   0],\n",
              "[0,   0, 8,   1],\n",
              "[0,   0, 1, 1/8]])"
            ],
            "text/latex": "$\\displaystyle \\left[\\begin{matrix}8 & 1 & 0 & 0\\\\1 & \\frac{1}{8} & 0 & 0\\\\0 & 0 & 8 & 1\\\\0 & 0 & 1 & \\frac{1}{8}\\end{matrix}\\right]$"
          },
          "metadata": {}
        }
      ]
    },
    {
      "cell_type": "markdown",
      "metadata": {
        "id": "sr7hz7rNaU1y"
      },
      "source": [
        "### Индивидуальное задание.\n",
        "1) В матрице $A$ выполнить заданную подстановку.\n",
        "\n",
        "![image.png](data:image/png;base64,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)\n",
        "\n",
        "2) В матрице $B$\n",
        "выполнить подстановки в форме списка,\n",
        "а также выполнить подстановки в форме словаря.\n",
        "\n",
        "Подстановки в форме словаря выполнить одновременно и не одновременно.\n",
        "\n",
        "![image.png](data:image/png;base64,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)\n",
        "\n",
        "Результат каждой подстановки выводить в виде отдельной матрицы."
      ]
    },
    {
      "cell_type": "code",
      "source": [
        "p, y = symbols(\"p y\")\n",
        "\n",
        "A = Matrix([\n",
        "    [18, 7, 3, 0],\n",
        "    [14, 0, 16, 10],\n",
        "    [2, p+4, 7, y-4],\n",
        "])\n",
        "\n",
        "display(A.subs(p, p+y))\n",
        "\n",
        "\n",
        "m, y, g, c, v = symbols(\"m y g c v\")\n",
        "\n",
        "B = Matrix([\n",
        "    [18, 14, 16, 8, y + 1],\n",
        "    [m + 2, 11, 14, 13, 14],\n",
        "    [13, 11, 10, 19, 17],\n",
        "    [v, 4, g, c - 3, 6],\n",
        "    [11, 7, 11, 6, 12],\n",
        "    [6, 4, 13, 13, 19]\n",
        "])\n",
        "\n",
        "display(B.subs([(g, 7*y / m), (v, -4*c + y), (m, 2*y / m)]))\n",
        "display(B.subs({g: v + 1, v: g - 1}, simultaneous=True))\n",
        "display(B.subs({g: v + 1, v: g - 1}))"
      ],
      "metadata": {
        "id": "9f475Os8p_Qk",
        "colab": {
          "base_uri": "https://localhost:8080/",
          "height": 445
        },
        "outputId": "6e7d311c-5cc9-41f2-8b9e-3a0fa03431dc"
      },
      "execution_count": 77,
      "outputs": [
        {
          "output_type": "display_data",
          "data": {
            "text/plain": [
              "Matrix([\n",
              "[18,         7,  3,     0],\n",
              "[14,         0, 16,    10],\n",
              "[ 2, p + y + 4,  7, y - 4]])"
            ],
            "text/latex": "$\\displaystyle \\left[\\begin{matrix}18 & 7 & 3 & 0\\\\14 & 0 & 16 & 10\\\\2 & p + y + 4 & 7 & y - 4\\end{matrix}\\right]$"
          },
          "metadata": {}
        },
        {
          "output_type": "display_data",
          "data": {
            "text/plain": [
              "Matrix([\n",
              "[       18, 14,    16,     8, y + 1],\n",
              "[2 + 2*y/m, 11,    14,    13,    14],\n",
              "[       13, 11,    10,    19,    17],\n",
              "[ -4*c + y,  4, 7*m/2, c - 3,     6],\n",
              "[       11,  7,    11,     6,    12],\n",
              "[        6,  4,    13,    13,    19]])"
            ],
            "text/latex": "$\\displaystyle \\left[\\begin{matrix}18 & 14 & 16 & 8 & y + 1\\\\2 + \\frac{2 y}{m} & 11 & 14 & 13 & 14\\\\13 & 11 & 10 & 19 & 17\\\\- 4 c + y & 4 & \\frac{7 m}{2} & c - 3 & 6\\\\11 & 7 & 11 & 6 & 12\\\\6 & 4 & 13 & 13 & 19\\end{matrix}\\right]$"
          },
          "metadata": {}
        },
        {
          "output_type": "display_data",
          "data": {
            "text/plain": [
              "Matrix([\n",
              "[   18, 14,    16,     8, y + 1],\n",
              "[m + 2, 11,    14,    13,    14],\n",
              "[   13, 11,    10,    19,    17],\n",
              "[g - 1,  4, v + 1, c - 3,     6],\n",
              "[   11,  7,    11,     6,    12],\n",
              "[    6,  4,    13,    13,    19]])"
            ],
            "text/latex": "$\\displaystyle \\left[\\begin{matrix}18 & 14 & 16 & 8 & y + 1\\\\m + 2 & 11 & 14 & 13 & 14\\\\13 & 11 & 10 & 19 & 17\\\\g - 1 & 4 & v + 1 & c - 3 & 6\\\\11 & 7 & 11 & 6 & 12\\\\6 & 4 & 13 & 13 & 19\\end{matrix}\\right]$"
          },
          "metadata": {}
        },
        {
          "output_type": "display_data",
          "data": {
            "text/plain": [
              "Matrix([\n",
              "[   18, 14, 16,     8, y + 1],\n",
              "[m + 2, 11, 14,    13,    14],\n",
              "[   13, 11, 10,    19,    17],\n",
              "[g - 1,  4,  g, c - 3,     6],\n",
              "[   11,  7, 11,     6,    12],\n",
              "[    6,  4, 13,    13,    19]])"
            ],
            "text/latex": "$\\displaystyle \\left[\\begin{matrix}18 & 14 & 16 & 8 & y + 1\\\\m + 2 & 11 & 14 & 13 & 14\\\\13 & 11 & 10 & 19 & 17\\\\g - 1 & 4 & g & c - 3 & 6\\\\11 & 7 & 11 & 6 & 12\\\\6 & 4 & 13 & 13 & 19\\end{matrix}\\right]$"
          },
          "metadata": {}
        }
      ]
    }
  ]
}