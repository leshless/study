{
  "cells": [
    {
      "cell_type": "markdown",
      "metadata": {
        "id": "view-in-github",
        "colab_type": "text"
      },
      "source": [
        "<a href=\"https://colab.research.google.com/github/leshless/study/blob/main/python_algebra/task4.ipynb\" target=\"_parent\"><img src=\"https://colab.research.google.com/assets/colab-badge.svg\" alt=\"Open In Colab\"/></a>"
      ]
    },
    {
      "cell_type": "markdown",
      "metadata": {
        "id": "B600zaglO8R5"
      },
      "source": [
        "## Занятие 4\n",
        "## Компьютерный практикум по алгебре на Python\n",
        "## Фундаментальная система решений однородной СЛАУ"
      ]
    },
    {
      "cell_type": "markdown",
      "metadata": {
        "id": "z-MBGjqlO8R-"
      },
      "source": [
        "https://docs.sympy.org/latest/modules"
      ]
    },
    {
      "cell_type": "code",
      "execution_count": 2,
      "metadata": {
        "id": "mbuIM2VjO8SA"
      },
      "outputs": [],
      "source": [
        "import sympy\n",
        "from sympy import linsolve, Matrix, S, Symbol, symbols, Eq,\\\n",
        "linear_eq_to_matrix, zeros, latex\n",
        "from IPython.display import display, Latex"
      ]
    },
    {
      "cell_type": "markdown",
      "metadata": {
        "id": "MCakxRL6O8SC"
      },
      "source": [
        "### Задание 1.\n",
        "Проверить по теореме Кронекера-Капелли совместность СЛАУ $AX = b$, если\n",
        "\\begin{align*}\n",
        "&a)\\ A = \\left[\\begin{matrix}0 & -4 & 0 & 1\\\\1 & -4 & -4 & 2\\\\4 & 1 & 4 & -3\\\\1 & -8 & -4 & 3\\\\0 & -4 & 0 & 1\\end{matrix}\\right],\\\n",
        "b=\\left[\\begin{matrix}-3\\\\-1\\\\2\\\\-4\\\\-3\\end{matrix}\\right]\n",
        ",\\ b=\\left[\\begin{matrix}-3\\\\1\\\\0\\\\4\\\\0\\end{matrix}\\right]\\\\\n",
        "&b)\\ A = \\left[\\begin{matrix}3 & 0 & -4 & -4\\\\2 & -3 & 4 & -1\\\\-2 & 0 & 2 & -2\\\\1 & -1 & -2 & 3\\end{matrix}\\right],\\\n",
        "b=\\left[\\begin{matrix}3\\\\-1\\\\-2\\\\0\\end{matrix}\\right],\\\n",
        "b=\\left[\\begin{matrix}0\\\\-1\\\\-2\\\\0\\end{matrix}\\right]\\\\\n",
        "&c)\\ A = \\left[\\begin{matrix}-3 & 4 & 4\\\\-4 & -2 & 4\\\\-1 & 0 & -3\\\\-7 & 2 & 8\\\\-3 & 4 & 4\\end{matrix}\\right],\\\n",
        "b=\\left[\\begin{matrix}5\\\\-2\\\\-4\\\\3\\\\5\\end{matrix}\\right],\\\n",
        "b=\\left[\\begin{matrix}5\\\\-2\\\\0\\\\0\\\\0\\end{matrix}\\right]\n",
        "\\end{align*}\n",
        "a) [[0, -4, 0, 1], [1, -4, -4, 2], [4, 1, 4, -3], [1, -8, -4, 3], [0, -4, 0, 1]]\n",
        "\n",
        "[-3, -1, 2, -4, -3]\n",
        "[-3, 1, 0, 4, 0]\n",
        "\n",
        "b) [[3, 0, -4, -4], [2, -3, 4, -1], [-2, 0, 2, -2], [1, -1, -2, 3]]\n",
        "\n",
        "[3, -1, -2, 0]\n",
        "[0, -1, -2, 0]\n",
        "\n",
        "c) [[-3, 4, 4], [-4, -2, 4], [-1, 0, -3], [-7, 2, 8], [-3, 4, 4]]\n",
        "\n",
        "[5, -2, -4, 3, 5]\n",
        "[5, -2, 0, 0, 0]"
      ]
    },
    {
      "cell_type": "code",
      "execution_count": 47,
      "metadata": {
        "id": "MRp9NWkdce6K",
        "colab": {
          "base_uri": "https://localhost:8080/",
          "height": 127
        },
        "outputId": "38c1b4cb-dd34-4702-d278-88176625542e"
      },
      "outputs": [
        {
          "output_type": "display_data",
          "data": {
            "text/plain": [
              "True"
            ]
          },
          "metadata": {}
        },
        {
          "output_type": "display_data",
          "data": {
            "text/plain": [
              "False"
            ]
          },
          "metadata": {}
        },
        {
          "output_type": "display_data",
          "data": {
            "text/plain": [
              "True"
            ]
          },
          "metadata": {}
        },
        {
          "output_type": "display_data",
          "data": {
            "text/plain": [
              "True"
            ]
          },
          "metadata": {}
        },
        {
          "output_type": "display_data",
          "data": {
            "text/plain": [
              "True"
            ]
          },
          "metadata": {}
        },
        {
          "output_type": "display_data",
          "data": {
            "text/plain": [
              "False"
            ]
          },
          "metadata": {}
        }
      ],
      "source": [
        "def display_has_sol(A : Matrix, b : Matrix):\n",
        "  Ab = A.row_join(b)\n",
        "  display(A.rank() == Ab.rank())\n",
        "\n",
        "\n",
        "# a\n",
        "A = Matrix([[0, -4, 0, 1], [1, -4, -4, 2], [4, 1, 4, -3], [1, -8, -4, 3], [0, -4, 0, 1]])\n",
        "b = Matrix([-3, -1, 2, -4, -3])\n",
        "display_has_sol(A, b)\n",
        "\n",
        "b = Matrix([-3, 1, 0, 4, 0])\n",
        "display_has_sol(A, b)\n",
        "\n",
        "# b\n",
        "A = Matrix([[3, 0, -4, -4], [2, -3, 4, -1], [-2, 0, 2, -2], [1, -1, -2, 3]])\n",
        "\n",
        "b = Matrix([3, -1, -2, 0])\n",
        "display_has_sol(A, b)\n",
        "\n",
        "b = Matrix([0, -1, -2, 0])\n",
        "display_has_sol(A, b)\n",
        "\n",
        "# c\n",
        "A = Matrix([[-3, 4, 4], [-4, -2, 4], [-1, 0, -3], [-7, 2, 8], [-3, 4, 4]])\n",
        "\n",
        "b = Matrix([5, -2, -4, 3, 5])\n",
        "display_has_sol(A, b)\n",
        "\n",
        "b = Matrix([5, -2, 0, 0, 0])\n",
        "display_has_sol(A, b)"
      ]
    },
    {
      "cell_type": "markdown",
      "metadata": {
        "id": "F3lXkJ3oO8SM"
      },
      "source": [
        "### Задание 2.\n",
        "\n",
        "Проверить единственность решения в совместных СЛАУ Задания 1."
      ]
    },
    {
      "cell_type": "code",
      "execution_count": 48,
      "metadata": {
        "id": "4CR_p8oGchk6",
        "colab": {
          "base_uri": "https://localhost:8080/",
          "height": 127
        },
        "outputId": "143cb644-b2a0-475a-8bac-9b0b3c6d8f7b"
      },
      "outputs": [
        {
          "output_type": "display_data",
          "data": {
            "text/plain": [
              "False"
            ]
          },
          "metadata": {}
        },
        {
          "output_type": "display_data",
          "data": {
            "text/plain": [
              "False"
            ]
          },
          "metadata": {}
        },
        {
          "output_type": "display_data",
          "data": {
            "text/plain": [
              "True"
            ]
          },
          "metadata": {}
        },
        {
          "output_type": "display_data",
          "data": {
            "text/plain": [
              "True"
            ]
          },
          "metadata": {}
        },
        {
          "output_type": "display_data",
          "data": {
            "text/plain": [
              "False"
            ]
          },
          "metadata": {}
        },
        {
          "output_type": "display_data",
          "data": {
            "text/plain": [
              "False"
            ]
          },
          "metadata": {}
        }
      ],
      "source": [
        "def display_has_single_sol(A : Matrix, b : Matrix):\n",
        "  Ab = A.row_join(b)\n",
        "  display(A.rank() == Ab.rank() and Ab.rank() == Ab.shape[0])\n",
        "\n",
        "\n",
        "# a\n",
        "A = Matrix([[0, -4, 0, 1], [1, -4, -4, 2], [4, 1, 4, -3], [1, -8, -4, 3], [0, -4, 0, 1]])\n",
        "b = Matrix([-3, -1, 2, -4, -3])\n",
        "display_has_single_sol(A, b)\n",
        "\n",
        "b = Matrix([-3, 1, 0, 4, 0])\n",
        "display_has_single_sol(A, b)\n",
        "\n",
        "# b\n",
        "A = Matrix([[3, 0, -4, -4], [2, -3, 4, -1], [-2, 0, 2, -2], [1, -1, -2, 3]])\n",
        "\n",
        "b = Matrix([3, -1, -2, 0])\n",
        "display_has_single_sol(A, b)\n",
        "\n",
        "b = Matrix([0, -1, -2, 0])\n",
        "display_has_single_sol(A, b)\n",
        "\n",
        "# c\n",
        "A = Matrix([[-3, 4, 4], [-4, -2, 4], [-1, 0, -3], [-7, 2, 8], [-3, 4, 4]])\n",
        "\n",
        "b = Matrix([5, -2, -4, 3, 5])\n",
        "display_has_single_sol(A, b)\n",
        "\n",
        "b = Matrix([5, -2, 0, 0, 0])\n",
        "display_has_single_sol(A, b)"
      ]
    },
    {
      "cell_type": "markdown",
      "metadata": {
        "id": "cHZhM0_jO8SO"
      },
      "source": [
        "### Задание 3\n",
        "Для однородных СЛАУ с матрицами $A$ из Задания 1 установить, есть ли у такой однородной СЛАУ нетривиальное решение."
      ]
    },
    {
      "cell_type": "code",
      "source": [
        "def display_has_non_trivial_sol(A : Matrix):\n",
        "  b = zeros(A.shape[0], 1)\n",
        "  Ab = A.row_join(b)\n",
        "  display(A.rank() == Ab.rank() and Ab.rank() < Ab.shape[0])\n",
        "\n",
        "# a\n",
        "A = Matrix([[0, -4, 0, 1], [1, -4, -4, 2], [4, 1, 4, -3], [1, -8, -4, 3], [0, -4, 0, 1]])\n",
        "display_has_non_trivial_sol(A)\n",
        "\n",
        "# b\n",
        "A = Matrix([[3, 0, -4, -4], [2, -3, 4, -1], [-2, 0, 2, -2], [1, -1, -2, 3]])\n",
        "display_has_non_trivial_sol(A)\n",
        "\n",
        "# c\n",
        "A = Matrix([[-3, 4, 4], [-4, -2, 4], [-1, 0, -3], [-7, 2, 8], [-3, 4, 4]])\n",
        "display_has_non_trivial_sol(A)"
      ],
      "metadata": {
        "id": "vVVDFRlKo_tA",
        "colab": {
          "base_uri": "https://localhost:8080/",
          "height": 72
        },
        "outputId": "23461561-39f9-4fda-fb4f-4d00a74f9c0d"
      },
      "execution_count": 46,
      "outputs": [
        {
          "output_type": "display_data",
          "data": {
            "text/plain": [
              "True"
            ]
          },
          "metadata": {}
        },
        {
          "output_type": "display_data",
          "data": {
            "text/plain": [
              "False"
            ]
          },
          "metadata": {}
        },
        {
          "output_type": "display_data",
          "data": {
            "text/plain": [
              "True"
            ]
          },
          "metadata": {}
        }
      ]
    },
    {
      "cell_type": "markdown",
      "metadata": {
        "id": "wmJb1QrxO8SQ"
      },
      "source": [
        "### Задание 4\n",
        "Для однородных СЛАУ с марицей $A$ составить ФСР.\n",
        "$$\n",
        "a)\\ A = \\left[\\begin{matrix}-7 & 1 & 9 & -5\\\\-3 & -6 & -1 & 6\\\\-7 & 1 & 9 & -5\\\\-10 & -5 & 8 & 1\\end{matrix}\\right],\\\n",
        "b)\\ A = \\left[\\begin{matrix}2 & -3 & -8 & 1\\\\3 & 3 & 8 & 2\\\\-8 & -5 & -6 & 0\\\\-1 & -6 & -16 & -1\\\\-13 & -18 & -48 & -9\\end{matrix}\\right],\\\n",
        "c)\\\n",
        "A = \\left[\\begin{matrix}8 & -7 & 1 & 6\\\\-32 & 28 & -4 & -24\\\\-40 & 35 & -5 & -30\\\\8 & -7 & 1 & 6\\\\16 & -14 & 2 & 12\\end{matrix}\\right]\n",
        "$$\n",
        "\n",
        "[[-7, 1, 9, -5], [-3, -6, -1, 6], [-7, 1, 9, -5], [-10, -5, 8, 1]]\n",
        "\n",
        "[[2, -3, -8, 1], [3, 3, 8, 2], [-8, -5, -6, 0], [-1, -6, -16, -1], [-13, -18, -48, -9]]\n",
        "\n",
        "[[8, -7, 1, 6], [-32, 28, -4, -24], [-40, 35, -5, -30], [8, -7, 1, 6], [16, -14, 2, 12]]"
      ]
    },
    {
      "cell_type": "code",
      "execution_count": 50,
      "metadata": {
        "id": "hAnK6Ytsclbl",
        "colab": {
          "base_uri": "https://localhost:8080/",
          "height": 302
        },
        "outputId": "b6415b2a-2bd0-4c7a-c1ea-f98305876e32"
      },
      "outputs": [
        {
          "output_type": "display_data",
          "data": {
            "text/plain": [
              "{(-8/15, 19/15, 0, 1)}"
            ],
            "text/latex": "$\\displaystyle \\left\\{\\left( - \\frac{8}{15}, \\  \\frac{19}{15}, \\  0, \\  1\\right)\\right\\}$"
          },
          "metadata": {}
        },
        {
          "output_type": "display_data",
          "data": {
            "text/plain": [
              "{(53/45, -34/45, 1, 0)}"
            ],
            "text/latex": "$\\displaystyle \\left\\{\\left( \\frac{53}{45}, \\  - \\frac{34}{45}, \\  1, \\  0\\right)\\right\\}$"
          },
          "metadata": {}
        },
        {
          "output_type": "display_data",
          "data": {
            "text/plain": [
              "{(0, 0, 0, 0, 1)}"
            ],
            "text/latex": "$\\displaystyle \\left\\{\\left( 0, \\  0, \\  0, \\  0, \\  1\\right)\\right\\}$"
          },
          "metadata": {}
        },
        {
          "output_type": "display_data",
          "data": {
            "text/plain": [
              "{(-3/5, 9/5, -7/10, 1, 0)}"
            ],
            "text/latex": "$\\displaystyle \\left\\{\\left( - \\frac{3}{5}, \\  \\frac{9}{5}, \\  - \\frac{7}{10}, \\  1, \\  0\\right)\\right\\}$"
          },
          "metadata": {}
        },
        {
          "output_type": "display_data",
          "data": {
            "text/plain": [
              "{(0, 0, 0, 0, 1)}"
            ],
            "text/latex": "$\\displaystyle \\left\\{\\left( 0, \\  0, \\  0, \\  0, \\  1\\right)\\right\\}$"
          },
          "metadata": {}
        },
        {
          "output_type": "display_data",
          "data": {
            "text/plain": [
              "{(-3/4, 0, 0, 1, 0)}"
            ],
            "text/latex": "$\\displaystyle \\left\\{\\left( - \\frac{3}{4}, \\  0, \\  0, \\  1, \\  0\\right)\\right\\}$"
          },
          "metadata": {}
        },
        {
          "output_type": "display_data",
          "data": {
            "text/plain": [
              "{(-1/8, 0, 1, 0, 0)}"
            ],
            "text/latex": "$\\displaystyle \\left\\{\\left( - \\frac{1}{8}, \\  0, \\  1, \\  0, \\  0\\right)\\right\\}$"
          },
          "metadata": {}
        },
        {
          "output_type": "display_data",
          "data": {
            "text/plain": [
              "{(7/8, 1, 0, 0, 0)}"
            ],
            "text/latex": "$\\displaystyle \\left\\{\\left( \\frac{7}{8}, \\  1, \\  0, \\  0, \\  0\\right)\\right\\}$"
          },
          "metadata": {}
        }
      ],
      "source": [
        "def display_fss(A : Matrix):\n",
        "  n = A.shape[0]\n",
        "\n",
        "  x = symbols(f\"x:{n}\")\n",
        "\n",
        "  b = zeros(n, 1)\n",
        "  Ab = A.row_join(b)\n",
        "  r = Ab.rank()\n",
        "\n",
        "  sol = linsolve(Ab, x)\n",
        "\n",
        "  for i in range(n - r):\n",
        "    cur = n - i - 1\n",
        "\n",
        "    sub = [(x[j], 0) for j in range(n)]\n",
        "    sub[cur] = (x[cur], 1)\n",
        "\n",
        "    display(sol.subs(sub))\n",
        "\n",
        "# a\n",
        "A = Matrix([[-7, 1, 9, -5], [-3, -6, -1, 6], [-7, 1, 9, -5], [-10, -5, 8, 1]])\n",
        "display_fss(A)\n",
        "\n",
        "# b\n",
        "A = Matrix([[2, -3, -8, 1], [3, 3, 8, 2], [-8, -5, -6, 0], [-1, -6, -16, -1], [-13, -18, -48, -9]])\n",
        "display_fss(A)\n",
        "\n",
        "# c\n",
        "A = Matrix([[8, -7, 1, 6], [-32, 28, -4, -24], [-40, 35, -5, -30], [8, -7, 1, 6], [16, -14, 2, 12]])\n",
        "display_fss(A)\n"
      ]
    },
    {
      "cell_type": "markdown",
      "metadata": {
        "id": "TbcC_Tc-O8ST"
      },
      "source": [
        "### Задание 5\n",
        "Для однородных СЛАУ с матрицами из Задания 4 построить общее решение, используя построенную в Задании 4 ФСР. Сравнить с результатом, возвращаемым linsolve."
      ]
    },
    {
      "cell_type": "code",
      "execution_count": 62,
      "metadata": {
        "id": "x9rBc4uRcnm9",
        "colab": {
          "base_uri": "https://localhost:8080/",
          "height": 139
        },
        "outputId": "d2b811c0-a9b6-4781-935f-70206dbf803b"
      },
      "outputs": [
        {
          "output_type": "display_data",
          "data": {
            "text/plain": [
              "{(53*x2/45 - 8*x3/15, -34*x2/45 + 19*x3/15, x2, x3)}"
            ],
            "text/latex": "$\\displaystyle \\left\\{\\left( \\frac{53 x_{2}}{45} - \\frac{8 x_{3}}{15}, \\  - \\frac{34 x_{2}}{45} + \\frac{19 x_{3}}{15}, \\  x_{2}, \\  x_{3}\\right)\\right\\}$"
          },
          "metadata": {}
        },
        {
          "output_type": "display_data",
          "data": {
            "text/plain": [
              "{(-3*x3/5, 9*x3/5, -7*x3/10, x3, x4)}"
            ],
            "text/latex": "$\\displaystyle \\left\\{\\left( - \\frac{3 x_{3}}{5}, \\  \\frac{9 x_{3}}{5}, \\  - \\frac{7 x_{3}}{10}, \\  x_{3}, \\  x_{4}\\right)\\right\\}$"
          },
          "metadata": {}
        },
        {
          "output_type": "display_data",
          "data": {
            "text/plain": [
              "{(7*x1/8 - x2/8 - 3*x3/4, x1, x2, x3, x4)}"
            ],
            "text/latex": "$\\displaystyle \\left\\{\\left( \\frac{7 x_{1}}{8} - \\frac{x_{2}}{8} - \\frac{3 x_{3}}{4}, \\  x_{1}, \\  x_{2}, \\  x_{3}, \\  x_{4}\\right)\\right\\}$"
          },
          "metadata": {}
        }
      ],
      "source": [
        "def display_sol(A : Matrix):\n",
        "  n = A.shape[0]\n",
        "\n",
        "  x = symbols(f\"x:{n}\")\n",
        "\n",
        "  b = zeros(n, 1)\n",
        "  Ab = A.row_join(b)\n",
        "  r = Ab.rank()\n",
        "\n",
        "  sol = linsolve(Ab, x)\n",
        "  display(sol)\n",
        "\n",
        "  sol1 = Matrix(list(sol)).transpose()\n",
        "  sol2 = zeros(n, 1)\n",
        "\n",
        "  for i in range(n - r):\n",
        "    cur = n - i - 1\n",
        "\n",
        "    sub = [(x[j], 0) for j in range(n)]\n",
        "    sub[cur] = (x[cur], 1)\n",
        "\n",
        "    sol2 += sol1.subs(sub) * x[cur]\n",
        "\n",
        "  assert sol1 == sol2\n",
        "\n",
        "# a\n",
        "A = Matrix([[-7, 1, 9, -5], [-3, -6, -1, 6], [-7, 1, 9, -5], [-10, -5, 8, 1]])\n",
        "display_sol(A)\n",
        "\n",
        "# b\n",
        "A = Matrix([[2, -3, -8, 1], [3, 3, 8, 2], [-8, -5, -6, 0], [-1, -6, -16, -1], [-13, -18, -48, -9]])\n",
        "display_sol(A)\n",
        "\n",
        "# c\n",
        "A = Matrix([[8, -7, 1, 6], [-32, 28, -4, -24], [-40, 35, -5, -30], [8, -7, 1, 6], [16, -14, 2, 12]])\n",
        "display_sol(A)"
      ]
    },
    {
      "cell_type": "markdown",
      "source": [
        "### Задание 6*\n",
        "Написать функцию с обязательным аргументом матрицей $A$ и необязательным аргументом - именем переменной (по умолчанию $x$), возвращающую ФСР и общее решение однородной СЛАУ.\n",
        "\n",
        "Протестировать функцию на матрицах задания 4 с и без указания имени переменной, в качестве имени указывать соответственно $a$, $b$ и $c$."
      ],
      "metadata": {
        "id": "ATwU2pUrOrFg"
      }
    },
    {
      "cell_type": "code",
      "source": [
        "def get_sol_and_fss(A : Matrix, var_name = \"x\"):\n",
        "  n = A.shape[0]\n",
        "\n",
        "  var = symbols(f\"{var_name}:{n}\")\n",
        "\n",
        "  b = zeros(n, 1)\n",
        "  Ab = A.row_join(b)\n",
        "  r = Ab.rank()\n",
        "\n",
        "  sol = linsolve(Ab, var)\n",
        "  fss = []\n",
        "\n",
        "  for i in range(n - r):\n",
        "    cur = n - i - 1\n",
        "\n",
        "    sub = [(var[j], 0) for j in range(n)]\n",
        "    sub[cur] = (var[cur], 1)\n",
        "\n",
        "    fss.append(sol.subs(sub))\n",
        "\n",
        "  return sol, fss\n",
        "\n",
        "# a\n",
        "A = Matrix([[-7, 1, 9, -5], [-3, -6, -1, 6], [-7, 1, 9, -5], [-10, -5, 8, 1]])\n",
        "sol, fss = get_sol_and_fss(A, var_name=\"a\")\n",
        "display(sol)\n",
        "for s in fss:\n",
        "  display(s)\n",
        "\n",
        "# b\n",
        "A = Matrix([[2, -3, -8, 1], [3, 3, 8, 2], [-8, -5, -6, 0], [-1, -6, -16, -1], [-13, -18, -48, -9]])\n",
        "sol, fss = get_sol_and_fss(A, var_name=\"b\")\n",
        "display(sol)\n",
        "for s in fss:\n",
        "  display(s)\n",
        "\n",
        "# c\n",
        "A = Matrix([[8, -7, 1, 6], [-32, 28, -4, -24], [-40, 35, -5, -30], [8, -7, 1, 6], [16, -14, 2, 12]])\n",
        "sol, fss = get_sol_and_fss(A, var_name=\"c\")\n",
        "display(sol)\n",
        "for s in fss:\n",
        "  display(s)"
      ],
      "metadata": {
        "colab": {
          "base_uri": "https://localhost:8080/",
          "height": 424
        },
        "id": "cme8we_DI4Mn",
        "outputId": "dd58c7c4-6bfb-4427-f487-b8594b6d8f07"
      },
      "execution_count": 70,
      "outputs": [
        {
          "output_type": "display_data",
          "data": {
            "text/plain": [
              "{(53*a2/45 - 8*a3/15, -34*a2/45 + 19*a3/15, a2, a3)}"
            ],
            "text/latex": "$\\displaystyle \\left\\{\\left( \\frac{53 a_{2}}{45} - \\frac{8 a_{3}}{15}, \\  - \\frac{34 a_{2}}{45} + \\frac{19 a_{3}}{15}, \\  a_{2}, \\  a_{3}\\right)\\right\\}$"
          },
          "metadata": {}
        },
        {
          "output_type": "display_data",
          "data": {
            "text/plain": [
              "{(-8/15, 19/15, 0, 1)}"
            ],
            "text/latex": "$\\displaystyle \\left\\{\\left( - \\frac{8}{15}, \\  \\frac{19}{15}, \\  0, \\  1\\right)\\right\\}$"
          },
          "metadata": {}
        },
        {
          "output_type": "display_data",
          "data": {
            "text/plain": [
              "{(53/45, -34/45, 1, 0)}"
            ],
            "text/latex": "$\\displaystyle \\left\\{\\left( \\frac{53}{45}, \\  - \\frac{34}{45}, \\  1, \\  0\\right)\\right\\}$"
          },
          "metadata": {}
        },
        {
          "output_type": "display_data",
          "data": {
            "text/plain": [
              "{(-3*b3/5, 9*b3/5, -7*b3/10, b3, b4)}"
            ],
            "text/latex": "$\\displaystyle \\left\\{\\left( - \\frac{3 b_{3}}{5}, \\  \\frac{9 b_{3}}{5}, \\  - \\frac{7 b_{3}}{10}, \\  b_{3}, \\  b_{4}\\right)\\right\\}$"
          },
          "metadata": {}
        },
        {
          "output_type": "display_data",
          "data": {
            "text/plain": [
              "{(0, 0, 0, 0, 1)}"
            ],
            "text/latex": "$\\displaystyle \\left\\{\\left( 0, \\  0, \\  0, \\  0, \\  1\\right)\\right\\}$"
          },
          "metadata": {}
        },
        {
          "output_type": "display_data",
          "data": {
            "text/plain": [
              "{(-3/5, 9/5, -7/10, 1, 0)}"
            ],
            "text/latex": "$\\displaystyle \\left\\{\\left( - \\frac{3}{5}, \\  \\frac{9}{5}, \\  - \\frac{7}{10}, \\  1, \\  0\\right)\\right\\}$"
          },
          "metadata": {}
        },
        {
          "output_type": "display_data",
          "data": {
            "text/plain": [
              "{(7*c1/8 - c2/8 - 3*c3/4, c1, c2, c3, c4)}"
            ],
            "text/latex": "$\\displaystyle \\left\\{\\left( \\frac{7 c_{1}}{8} - \\frac{c_{2}}{8} - \\frac{3 c_{3}}{4}, \\  c_{1}, \\  c_{2}, \\  c_{3}, \\  c_{4}\\right)\\right\\}$"
          },
          "metadata": {}
        },
        {
          "output_type": "display_data",
          "data": {
            "text/plain": [
              "{(0, 0, 0, 0, 1)}"
            ],
            "text/latex": "$\\displaystyle \\left\\{\\left( 0, \\  0, \\  0, \\  0, \\  1\\right)\\right\\}$"
          },
          "metadata": {}
        },
        {
          "output_type": "display_data",
          "data": {
            "text/plain": [
              "{(-3/4, 0, 0, 1, 0)}"
            ],
            "text/latex": "$\\displaystyle \\left\\{\\left( - \\frac{3}{4}, \\  0, \\  0, \\  1, \\  0\\right)\\right\\}$"
          },
          "metadata": {}
        },
        {
          "output_type": "display_data",
          "data": {
            "text/plain": [
              "{(-1/8, 0, 1, 0, 0)}"
            ],
            "text/latex": "$\\displaystyle \\left\\{\\left( - \\frac{1}{8}, \\  0, \\  1, \\  0, \\  0\\right)\\right\\}$"
          },
          "metadata": {}
        },
        {
          "output_type": "display_data",
          "data": {
            "text/plain": [
              "{(7/8, 1, 0, 0, 0)}"
            ],
            "text/latex": "$\\displaystyle \\left\\{\\left( \\frac{7}{8}, \\  1, \\  0, \\  0, \\  0\\right)\\right\\}$"
          },
          "metadata": {}
        }
      ]
    },
    {
      "cell_type": "markdown",
      "metadata": {
        "id": "q96MSia2O8SU"
      },
      "source": [
        "### Индивидуальное задание.\n",
        "Дана СЛАУ $AX = b$. Проверить совместность по теореме Кронекера-Капелли. Если СЛАУ совместна, проверить единственность решения.\n",
        "Для соответствующей однородной СЛАУ проверить существование нетривиального решения. В случае, если оно существует,\n",
        "найти размерность пространства решений и составить ФСР и общее решение однородной и неоднородной СЛАУ.\n",
        "\n",
        "![image.png](data:image/png;base64,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)"
      ]
    },
    {
      "cell_type": "code",
      "source": [
        "A = Matrix([\n",
        "    [-5, 3, 1, 3, -6],\n",
        "    [7, 8, 4, -5, 7],\n",
        "    [20, 49, 23, -16, 17],\n",
        "    [-50, -31, -17, 34, -53],\n",
        "    [4, -8, -7, 4, 1]\n",
        "])\n",
        "b = Matrix([-45, 163, 680, -950, -41])\n",
        "n = A.shape[0]\n",
        "\n",
        "Ab = A.row_join(b)\n",
        "r = Ab.rank()\n",
        "\n",
        "if r == A.rank():\n",
        "  if r == n:\n",
        "    display(\"there is only one solution of SLAE Ax=b\")\n",
        "  else:\n",
        "    display(\"there are infinitely many solutions of SLAE Ax=b\")\n",
        "\n",
        "A0 = A.row_join(zeros(n, 1))\n",
        "r0 = A0.rank()\n",
        "\n",
        "if r0 == A0.rank() and r < n:\n",
        "  display(f\"there are {n-r0} total solutions in FSS of SLAE AX=0\")\n",
        "\n",
        "  x = symbols(f\"x:{n}\")\n",
        "\n",
        "  sol = linsolve(A0, x)\n",
        "  display(sol)\n",
        "\n",
        "  for i in range(n - r0):\n",
        "    cur = n - i - 1\n",
        "\n",
        "    sub = [(x[j], 0) for j in range(n)]\n",
        "    sub[cur] = (x[cur], 1)\n",
        "\n",
        "    display(sol.subs(sub))\n",
        "\n",
        "\n",
        "  display(f\"there are {n-r} total solutions in FSS of SLAE AX=b\")\n",
        "\n",
        "  x = symbols(f\"x:{n}\")\n",
        "\n",
        "  sol = linsolve(Ab, x)\n",
        "  display(sol)\n",
        "\n",
        "  for i in range(n - r):\n",
        "    cur = n - i - 1\n",
        "\n",
        "    sub = [(x[j], 0) for j in range(n)]\n",
        "    sub[cur] = (x[cur], 1)\n",
        "\n",
        "    display(sol.subs(sub))\n"
      ],
      "metadata": {
        "colab": {
          "base_uri": "https://localhost:8080/",
          "height": 317
        },
        "id": "r6xXji5WTFYL",
        "outputId": "e4d522da-0c08-4a53-9d4a-816a4a2d5e94"
      },
      "execution_count": 82,
      "outputs": [
        {
          "output_type": "display_data",
          "data": {
            "text/plain": [
              "'there are infinitely many solutions of SLAE Ax=b'"
            ],
            "application/vnd.google.colaboratory.intrinsic+json": {
              "type": "string"
            }
          },
          "metadata": {}
        },
        {
          "output_type": "display_data",
          "data": {
            "text/plain": [
              "'there are 2 total solutions in FSS of SLAE AX=0'"
            ],
            "application/vnd.google.colaboratory.intrinsic+json": {
              "type": "string"
            }
          },
          "metadata": {}
        },
        {
          "output_type": "display_data",
          "data": {
            "text/plain": [
              "{(121*x3/227 - 239*x4/227, -148*x3/227 + 146*x4/227, 368*x3/227 - 271*x4/227, x3, x4)}"
            ],
            "text/latex": "$\\displaystyle \\left\\{\\left( \\frac{121 x_{3}}{227} - \\frac{239 x_{4}}{227}, \\  - \\frac{148 x_{3}}{227} + \\frac{146 x_{4}}{227}, \\  \\frac{368 x_{3}}{227} - \\frac{271 x_{4}}{227}, \\  x_{3}, \\  x_{4}\\right)\\right\\}$"
          },
          "metadata": {}
        },
        {
          "output_type": "display_data",
          "data": {
            "text/plain": [
              "{(-239/227, 146/227, -271/227, 0, 1)}"
            ],
            "text/latex": "$\\displaystyle \\left\\{\\left( - \\frac{239}{227}, \\  \\frac{146}{227}, \\  - \\frac{271}{227}, \\  0, \\  1\\right)\\right\\}$"
          },
          "metadata": {}
        },
        {
          "output_type": "display_data",
          "data": {
            "text/plain": [
              "{(121/227, -148/227, 368/227, 1, 0)}"
            ],
            "text/latex": "$\\displaystyle \\left\\{\\left( \\frac{121}{227}, \\  - \\frac{148}{227}, \\  \\frac{368}{227}, \\  1, \\  0\\right)\\right\\}$"
          },
          "metadata": {}
        },
        {
          "output_type": "display_data",
          "data": {
            "text/plain": [
              "'there are 2 total solutions in FSS of SLAE AX=b'"
            ],
            "application/vnd.google.colaboratory.intrinsic+json": {
              "type": "string"
            }
          },
          "metadata": {}
        },
        {
          "output_type": "display_data",
          "data": {
            "text/plain": [
              "{(121*x3/227 - 239*x4/227 + 3035/227, -148*x3/227 + 146*x4/227 + 1021/227, 368*x3/227 - 271*x4/227 + 1897/227, x3, x4)}"
            ],
            "text/latex": "$\\displaystyle \\left\\{\\left( \\frac{121 x_{3}}{227} - \\frac{239 x_{4}}{227} + \\frac{3035}{227}, \\  - \\frac{148 x_{3}}{227} + \\frac{146 x_{4}}{227} + \\frac{1021}{227}, \\  \\frac{368 x_{3}}{227} - \\frac{271 x_{4}}{227} + \\frac{1897}{227}, \\  x_{3}, \\  x_{4}\\right)\\right\\}$"
          },
          "metadata": {}
        },
        {
          "output_type": "display_data",
          "data": {
            "text/plain": [
              "{(2796/227, 1167/227, 1626/227, 0, 1)}"
            ],
            "text/latex": "$\\displaystyle \\left\\{\\left( \\frac{2796}{227}, \\  \\frac{1167}{227}, \\  \\frac{1626}{227}, \\  0, \\  1\\right)\\right\\}$"
          },
          "metadata": {}
        },
        {
          "output_type": "display_data",
          "data": {
            "text/plain": [
              "{(3156/227, 873/227, 2265/227, 1, 0)}"
            ],
            "text/latex": "$\\displaystyle \\left\\{\\left( \\frac{3156}{227}, \\  \\frac{873}{227}, \\  \\frac{2265}{227}, \\  1, \\  0\\right)\\right\\}$"
          },
          "metadata": {}
        }
      ]
    }
  ],
  "metadata": {
    "colab": {
      "provenance": [],
      "include_colab_link": true
    },
    "kernelspec": {
      "display_name": "Python 3 (ipykernel)",
      "language": "python",
      "name": "python3"
    },
    "language_info": {
      "codemirror_mode": {
        "name": "ipython",
        "version": 3
      },
      "file_extension": ".py",
      "mimetype": "text/x-python",
      "name": "python",
      "nbconvert_exporter": "python",
      "pygments_lexer": "ipython3",
      "version": "3.10.7"
    }
  },
  "nbformat": 4,
  "nbformat_minor": 0
}