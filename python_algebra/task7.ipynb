{
  "nbformat": 4,
  "nbformat_minor": 0,
  "metadata": {
    "kernelspec": {
      "display_name": "Python 3",
      "language": "python",
      "name": "python3"
    },
    "language_info": {
      "codemirror_mode": {
        "name": "ipython",
        "version": 3
      },
      "file_extension": ".py",
      "mimetype": "text/x-python",
      "name": "python",
      "nbconvert_exporter": "python",
      "pygments_lexer": "ipython3",
      "version": "3.7.3"
    },
    "colab": {
      "provenance": [],
      "include_colab_link": true
    }
  },
  "cells": [
    {
      "cell_type": "markdown",
      "metadata": {
        "id": "view-in-github",
        "colab_type": "text"
      },
      "source": [
        "<a href=\"https://colab.research.google.com/github/leshless/study/blob/main/python_algebra/task7.ipynb\" target=\"_parent\"><img src=\"https://colab.research.google.com/assets/colab-badge.svg\" alt=\"Open In Colab\"/></a>"
      ]
    },
    {
      "cell_type": "code",
      "metadata": {
        "id": "8eFsGTqm2yYh"
      },
      "source": [
        "import sympy\n",
        "from sympy import  Point, Line, Plane, Point3D, Eq, Matrix, S, Symbol, symbols, latex\n",
        "from IPython.display import display, Latex\n",
        "from google.colab import files\n",
        "import pandas as pd"
      ],
      "execution_count": 2,
      "outputs": []
    },
    {
      "cell_type": "markdown",
      "metadata": {
        "id": "QsFfXQQN2yYq"
      },
      "source": [
        "# Практическое занятие 7\n",
        "# Компьютерный практикум по алгебре на Python\n",
        "https://docs.sympy.org/latest/search.html?q=geometry\n",
        "\n",
        "## Прямые и плоскости в пространстве. Модуль Geometry\n",
        "### Задание 1.\n",
        "Даны точки: $A(7, 5, 4)$,  $B(6, 1, 6)$, $C(5, -3, 8)$, $D(2, 2, 6)$, $F(-7, 8, -1)$.\n",
        "Составить список точек и словарь точек (ключи - точки, значения - имена точек).\n",
        "\n",
        "Составить, пользуясь списком и словарем точек, список и словарь прямых (ключи - прямые Line, значения - имена прямых, состоящие из имен точек, например AD). Рассматривать только прямые, проведенные по различным парам точек, например, $AB$ и $AC$ это разные прямые, а $AB$ и $BA$ это одна и та же прямая, в словарь включаем только $AB$, не включаем $BA$.\n",
        "\n",
        "Вывести на экран значения записей словаря (т.е. имена прямых).\n",
        "\n",
        "Найти среди прямых словаря пары совпадающих прямых, вывести на экран их имена."
      ]
    },
    {
      "cell_type": "code",
      "source": [
        "A = Point3D(7, 5, 4)\n",
        "B = Point3D(6, 1, 6)\n",
        "C = Point3D(5, -3, 8)\n",
        "D = Point3D(2, 2, 6)\n",
        "F = Point3D(-7, 8, -1)\n",
        "\n",
        "points = [A, B, C, D, F]\n",
        "point_names = ([\"A\", \"B\", \"C\", \"D\", \"F\"])\n",
        "\n",
        "display(dict(zip(point_names, points)))\n",
        "\n",
        "lines = []\n",
        "line_names = []\n",
        "for i in range(0, len(points)):\n",
        "  for j in range(i+1, len(points)):\n",
        "    lines.append(Line(points[i], points[j]))\n",
        "    line_names.append(point_names[i] + point_names[j])\n",
        "\n",
        "for i in range(0, len(lines)):\n",
        "  for j in range(i+1, len(lines)):\n",
        "    if lines[i].equals(lines[j]):\n",
        "      display(f\"lines {line_names[i]} and {line_names[j]} are equal\")"
      ],
      "metadata": {
        "id": "U0VPFi2nt5Ru",
        "colab": {
          "base_uri": "https://localhost:8080/",
          "height": 167
        },
        "outputId": "ed27a302-2fb5-409d-df4e-26ef530335d0"
      },
      "execution_count": 7,
      "outputs": [
        {
          "output_type": "display_data",
          "data": {
            "text/plain": [
              "{'A': Point3D(7, 5, 4),\n",
              " 'B': Point3D(6, 1, 6),\n",
              " 'C': Point3D(5, -3, 8),\n",
              " 'D': Point3D(2, 2, 6),\n",
              " 'F': Point3D(-7, 8, -1)}"
            ]
          },
          "metadata": {}
        },
        {
          "output_type": "display_data",
          "data": {
            "text/plain": [
              "'lines AB and AC are equal'"
            ],
            "application/vnd.google.colaboratory.intrinsic+json": {
              "type": "string"
            }
          },
          "metadata": {}
        },
        {
          "output_type": "display_data",
          "data": {
            "text/plain": [
              "'lines AB and BC are equal'"
            ],
            "application/vnd.google.colaboratory.intrinsic+json": {
              "type": "string"
            }
          },
          "metadata": {}
        },
        {
          "output_type": "display_data",
          "data": {
            "text/plain": [
              "'lines AC and BC are equal'"
            ],
            "application/vnd.google.colaboratory.intrinsic+json": {
              "type": "string"
            }
          },
          "metadata": {}
        }
      ]
    },
    {
      "cell_type": "markdown",
      "metadata": {
        "id": "DFLIFpCO2yYz"
      },
      "source": [
        "###  Задание 2\n",
        "Составить список всех плоскостей, проходящих через любые три точки Задания 1 (плоксости, построенные по одинаковым точкам считаются одной плоскостью, т.е. ABC, CBA, ACB и т.п. это одна и та же плоскость, в список включать только ABC). Вывести на экран названия и  уравнения плоскостей из списка и расстояние от  плоскостей до начала координат."
      ]
    },
    {
      "cell_type": "code",
      "source": [
        "A = Point3D(7, 5, 4)\n",
        "B = Point3D(6, 1, 6)\n",
        "C = Point3D(5, -3, 8)\n",
        "D = Point3D(2, 2, 6)\n",
        "F = Point3D(-7, 8, -1)\n",
        "O = Point3D(0, 0, 0)\n",
        "\n",
        "points = [A, B, C, D, F]\n",
        "point_names = ([\"A\", \"B\", \"C\", \"D\", \"F\"])\n",
        "\n",
        "planes = []\n",
        "plane_names = []\n",
        "\n",
        "for i in range(0, len(points)):\n",
        "  for j in range(i+1, len(points)):\n",
        "    for k in range(j+1, len(points)):\n",
        "      if not Point3D.are_collinear(points[i], points[j], points[k]):\n",
        "        planes.append(Plane(points[i], points[j], points[k]))\n",
        "        plane_names.append(point_names[i] + point_names[j] + point_names[k])\n",
        "\n",
        "for i in range(len(planes)):\n",
        "  display(Latex(f\"{plane_names[i]}\"))\n",
        "  display(planes[i].equation())\n",
        "  display(planes[i].distance(O))"
      ],
      "metadata": {
        "id": "iyjiHk_St6_g",
        "colab": {
          "base_uri": "https://localhost:8080/",
          "height": 749
        },
        "outputId": "41b2f23f-a85d-411f-d109-15606f2a356f"
      },
      "execution_count": 20,
      "outputs": [
        {
          "output_type": "display_data",
          "data": {
            "text/plain": [
              "<IPython.core.display.Latex object>"
            ],
            "text/latex": "ABD"
          },
          "metadata": {}
        },
        {
          "output_type": "display_data",
          "data": {
            "text/plain": [
              "-2*x - 8*y - 17*z + 122"
            ],
            "text/latex": "$\\displaystyle - 2 x - 8 y - 17 z + 122$"
          },
          "metadata": {}
        },
        {
          "output_type": "display_data",
          "data": {
            "text/plain": [
              "122*sqrt(357)/357"
            ],
            "text/latex": "$\\displaystyle \\frac{122 \\sqrt{357}}{357}$"
          },
          "metadata": {}
        },
        {
          "output_type": "display_data",
          "data": {
            "text/plain": [
              "<IPython.core.display.Latex object>"
            ],
            "text/latex": "ABF"
          },
          "metadata": {}
        },
        {
          "output_type": "display_data",
          "data": {
            "text/plain": [
              "14*x - 33*y - 59*z + 303"
            ],
            "text/latex": "$\\displaystyle 14 x - 33 y - 59 z + 303$"
          },
          "metadata": {}
        },
        {
          "output_type": "display_data",
          "data": {
            "text/plain": [
              "303*sqrt(4766)/4766"
            ],
            "text/latex": "$\\displaystyle \\frac{303 \\sqrt{4766}}{4766}$"
          },
          "metadata": {}
        },
        {
          "output_type": "display_data",
          "data": {
            "text/plain": [
              "<IPython.core.display.Latex object>"
            ],
            "text/latex": "ACD"
          },
          "metadata": {}
        },
        {
          "output_type": "display_data",
          "data": {
            "text/plain": [
              "-4*x - 16*y - 34*z + 244"
            ],
            "text/latex": "$\\displaystyle - 4 x - 16 y - 34 z + 244$"
          },
          "metadata": {}
        },
        {
          "output_type": "display_data",
          "data": {
            "text/plain": [
              "122*sqrt(357)/357"
            ],
            "text/latex": "$\\displaystyle \\frac{122 \\sqrt{357}}{357}$"
          },
          "metadata": {}
        },
        {
          "output_type": "display_data",
          "data": {
            "text/plain": [
              "<IPython.core.display.Latex object>"
            ],
            "text/latex": "ACF"
          },
          "metadata": {}
        },
        {
          "output_type": "display_data",
          "data": {
            "text/plain": [
              "28*x - 66*y - 118*z + 606"
            ],
            "text/latex": "$\\displaystyle 28 x - 66 y - 118 z + 606$"
          },
          "metadata": {}
        },
        {
          "output_type": "display_data",
          "data": {
            "text/plain": [
              "303*sqrt(4766)/4766"
            ],
            "text/latex": "$\\displaystyle \\frac{303 \\sqrt{4766}}{4766}$"
          },
          "metadata": {}
        },
        {
          "output_type": "display_data",
          "data": {
            "text/plain": [
              "<IPython.core.display.Latex object>"
            ],
            "text/latex": "ADF"
          },
          "metadata": {}
        },
        {
          "output_type": "display_data",
          "data": {
            "text/plain": [
              "9*x - 53*y - 57*z + 430"
            ],
            "text/latex": "$\\displaystyle 9 x - 53 y - 57 z + 430$"
          },
          "metadata": {}
        },
        {
          "output_type": "display_data",
          "data": {
            "text/plain": [
              "430*sqrt(6139)/6139"
            ],
            "text/latex": "$\\displaystyle \\frac{430 \\sqrt{6139}}{6139}$"
          },
          "metadata": {}
        },
        {
          "output_type": "display_data",
          "data": {
            "text/plain": [
              "<IPython.core.display.Latex object>"
            ],
            "text/latex": "BCD"
          },
          "metadata": {}
        },
        {
          "output_type": "display_data",
          "data": {
            "text/plain": [
              "-2*x - 8*y - 17*z + 122"
            ],
            "text/latex": "$\\displaystyle - 2 x - 8 y - 17 z + 122$"
          },
          "metadata": {}
        },
        {
          "output_type": "display_data",
          "data": {
            "text/plain": [
              "122*sqrt(357)/357"
            ],
            "text/latex": "$\\displaystyle \\frac{122 \\sqrt{357}}{357}$"
          },
          "metadata": {}
        },
        {
          "output_type": "display_data",
          "data": {
            "text/plain": [
              "<IPython.core.display.Latex object>"
            ],
            "text/latex": "BCF"
          },
          "metadata": {}
        },
        {
          "output_type": "display_data",
          "data": {
            "text/plain": [
              "14*x - 33*y - 59*z + 303"
            ],
            "text/latex": "$\\displaystyle 14 x - 33 y - 59 z + 303$"
          },
          "metadata": {}
        },
        {
          "output_type": "display_data",
          "data": {
            "text/plain": [
              "303*sqrt(4766)/4766"
            ],
            "text/latex": "$\\displaystyle \\frac{303 \\sqrt{4766}}{4766}$"
          },
          "metadata": {}
        },
        {
          "output_type": "display_data",
          "data": {
            "text/plain": [
              "<IPython.core.display.Latex object>"
            ],
            "text/latex": "BDF"
          },
          "metadata": {}
        },
        {
          "output_type": "display_data",
          "data": {
            "text/plain": [
              "-7*x - 28*y - 15*z + 160"
            ],
            "text/latex": "$\\displaystyle - 7 x - 28 y - 15 z + 160$"
          },
          "metadata": {}
        },
        {
          "output_type": "display_data",
          "data": {
            "text/plain": [
              "80*sqrt(2)/23"
            ],
            "text/latex": "$\\displaystyle \\frac{80 \\sqrt{2}}{23}$"
          },
          "metadata": {}
        },
        {
          "output_type": "display_data",
          "data": {
            "text/plain": [
              "<IPython.core.display.Latex object>"
            ],
            "text/latex": "CDF"
          },
          "metadata": {}
        },
        {
          "output_type": "display_data",
          "data": {
            "text/plain": [
              "-23*x - 3*y + 27*z - 110"
            ],
            "text/latex": "$\\displaystyle - 23 x - 3 y + 27 z - 110$"
          },
          "metadata": {}
        },
        {
          "output_type": "display_data",
          "data": {
            "text/plain": [
              "110*sqrt(1267)/1267"
            ],
            "text/latex": "$\\displaystyle \\frac{110 \\sqrt{1267}}{1267}$"
          },
          "metadata": {}
        }
      ]
    },
    {
      "cell_type": "markdown",
      "source": [
        "###  Задание 2*\n",
        "Составить список всех **различных** плоскостей, проходящих через любые три точки Задания 1. Вывести на экран названия и  уравнения каждой плоскости из списка и расстояние от  плоскости до самой далекой от нее точки."
      ],
      "metadata": {
        "id": "szAjbRFeJ724"
      }
    },
    {
      "cell_type": "code",
      "source": [
        "A = Point3D(7, 5, 4)\n",
        "B = Point3D(6, 1, 6)\n",
        "C = Point3D(5, -3, 8)\n",
        "D = Point3D(2, 2, 6)\n",
        "F = Point3D(-7, 8, -1)\n",
        "\n",
        "points = [A, B, C, D, F]\n",
        "point_names = ([\"A\", \"B\", \"C\", \"D\", \"F\"])\n",
        "\n",
        "planes = []\n",
        "plane_names = []\n",
        "\n",
        "for i in range(0, len(points)):\n",
        "  for j in range(i+1, len(points)):\n",
        "    for k in range(j+1, len(points)):\n",
        "      if not Point3D.are_collinear(points[i], points[j], points[k]):\n",
        "        planes.append(Plane(points[i], points[j], points[k]))\n",
        "        plane_names.append(point_names[i] + point_names[j] + point_names[k])\n",
        "\n",
        "\n",
        "planes_ = []\n",
        "plane_names_ = []\n",
        "\n",
        "for i in range(len(planes)):\n",
        "  unique = True\n",
        "\n",
        "  for j in range(len(planes_)):\n",
        "    if planes[i].equals(planes_[j]):\n",
        "      unique = False\n",
        "\n",
        "  if unique:\n",
        "    planes_.append(planes[i])\n",
        "    plane_names_.append(plane_names[i])\n",
        "\n",
        "for i in range(len(planes_)):\n",
        "  display(Latex(f\"{plane_names_[i]}\"))\n",
        "  display(planes_[i].equation())\n",
        "\n",
        "  mx = S.Zero\n",
        "\n",
        "  for p in points:\n",
        "    if planes_[i].distance(p) > mx:\n",
        "      mx = planes_[i].distance(p)\n",
        "\n",
        "  display(mx)"
      ],
      "metadata": {
        "id": "zZuNIq_6NS0a",
        "colab": {
          "base_uri": "https://localhost:8080/",
          "height": 424
        },
        "outputId": "90a6fa12-84ec-4b17-df8e-b0474053aa46"
      },
      "execution_count": 23,
      "outputs": [
        {
          "output_type": "display_data",
          "data": {
            "text/plain": [
              "<IPython.core.display.Latex object>"
            ],
            "text/latex": "ABD"
          },
          "metadata": {}
        },
        {
          "output_type": "display_data",
          "data": {
            "text/plain": [
              "-2*x - 8*y - 17*z + 122"
            ],
            "text/latex": "$\\displaystyle - 2 x - 8 y - 17 z + 122$"
          },
          "metadata": {}
        },
        {
          "output_type": "display_data",
          "data": {
            "text/plain": [
              "89*sqrt(357)/357"
            ],
            "text/latex": "$\\displaystyle \\frac{89 \\sqrt{357}}{357}$"
          },
          "metadata": {}
        },
        {
          "output_type": "display_data",
          "data": {
            "text/plain": [
              "<IPython.core.display.Latex object>"
            ],
            "text/latex": "ABF"
          },
          "metadata": {}
        },
        {
          "output_type": "display_data",
          "data": {
            "text/plain": [
              "14*x - 33*y - 59*z + 303"
            ],
            "text/latex": "$\\displaystyle 14 x - 33 y - 59 z + 303$"
          },
          "metadata": {}
        },
        {
          "output_type": "display_data",
          "data": {
            "text/plain": [
              "89*sqrt(4766)/4766"
            ],
            "text/latex": "$\\displaystyle \\frac{89 \\sqrt{4766}}{4766}$"
          },
          "metadata": {}
        },
        {
          "output_type": "display_data",
          "data": {
            "text/plain": [
              "<IPython.core.display.Latex object>"
            ],
            "text/latex": "ADF"
          },
          "metadata": {}
        },
        {
          "output_type": "display_data",
          "data": {
            "text/plain": [
              "9*x - 53*y - 57*z + 430"
            ],
            "text/latex": "$\\displaystyle 9 x - 53 y - 57 z + 430$"
          },
          "metadata": {}
        },
        {
          "output_type": "display_data",
          "data": {
            "text/plain": [
              "178*sqrt(6139)/6139"
            ],
            "text/latex": "$\\displaystyle \\frac{178 \\sqrt{6139}}{6139}$"
          },
          "metadata": {}
        },
        {
          "output_type": "display_data",
          "data": {
            "text/plain": [
              "<IPython.core.display.Latex object>"
            ],
            "text/latex": "BDF"
          },
          "metadata": {}
        },
        {
          "output_type": "display_data",
          "data": {
            "text/plain": [
              "-7*x - 28*y - 15*z + 160"
            ],
            "text/latex": "$\\displaystyle - 7 x - 28 y - 15 z + 160$"
          },
          "metadata": {}
        },
        {
          "output_type": "display_data",
          "data": {
            "text/plain": [
              "89*sqrt(2)/46"
            ],
            "text/latex": "$\\displaystyle \\frac{89 \\sqrt{2}}{46}$"
          },
          "metadata": {}
        },
        {
          "output_type": "display_data",
          "data": {
            "text/plain": [
              "<IPython.core.display.Latex object>"
            ],
            "text/latex": "CDF"
          },
          "metadata": {}
        },
        {
          "output_type": "display_data",
          "data": {
            "text/plain": [
              "-23*x - 3*y + 27*z - 110"
            ],
            "text/latex": "$\\displaystyle - 23 x - 3 y + 27 z - 110$"
          },
          "metadata": {}
        },
        {
          "output_type": "display_data",
          "data": {
            "text/plain": [
              "178*sqrt(1267)/1267"
            ],
            "text/latex": "$\\displaystyle \\frac{178 \\sqrt{1267}}{1267}$"
          },
          "metadata": {}
        }
      ]
    },
    {
      "cell_type": "markdown",
      "metadata": {
        "id": "Y9SJb76H2yY1"
      },
      "source": [
        "###  Задание 3\n",
        "Точка $G(-1, 2, 0)$, остальные точки из Задания 1. Построить плоскость, перпендикулярную плоскости $ABG$, проходящую через $D$ и $F$. Построить плоскость, параллельную плоскости $ABF$, проходящую через $D$. Найти линию пересечения построенных плоскостей и расстояние от линии до $ABG$.\n",
        "\n",
        "Вывести на экран уравнения построенных  плоскостей, линии пересечения $ABG$  и расстояние от линии  пересечения до $ABG$."
      ]
    },
    {
      "cell_type": "code",
      "metadata": {
        "id": "9keM54mV2yY2",
        "colab": {
          "base_uri": "https://localhost:8080/",
          "height": 102
        },
        "outputId": "2996f252-f345-4dc0-a43d-97b021ba6bac"
      },
      "source": [
        "A = Point3D(7, 5, 4)\n",
        "B = Point3D(6, 1, 6)\n",
        "C = Point3D(5, -3, 8)\n",
        "D = Point3D(2, 2, 6)\n",
        "F = Point3D(-7, 8, -1)\n",
        "G = Point3D(-1, 2, 0)\n",
        "\n",
        "ABG = Plane(A, B, G)\n",
        "plane1 = ABG.perpendicular_plane(D, F)\n",
        "\n",
        "ABF = Plane(A, B, F)\n",
        "plane2 = ABF.parallel_plane(D)\n",
        "\n",
        "line = plane1.intersection(plane2)[0]\n",
        "\n",
        "display(plane1.equation())\n",
        "display(plane2.equation())\n",
        "display(line.equation())\n",
        "display(ABG.distance(line))"
      ],
      "execution_count": 34,
      "outputs": [
        {
          "output_type": "display_data",
          "data": {
            "text/plain": [
              "-314*x - 415*y + 48*z + 1170"
            ],
            "text/latex": "$\\displaystyle - 314 x - 415 y + 48 z + 1170$"
          },
          "metadata": {}
        },
        {
          "output_type": "display_data",
          "data": {
            "text/plain": [
              "14*x - 33*y - 59*z + 392"
            ],
            "text/latex": "$\\displaystyle 14 x - 33 y - 59 z + 392$"
          },
          "metadata": {}
        },
        {
          "output_type": "display_data",
          "data": {
            "text/plain": [
              "(17854*x + 26069*y - 87846, -16172*x + 26069*z - 124070)"
            ],
            "text/latex": "$\\displaystyle \\left( 17854 x + 26069 y - 87846, \\  - 16172 x + 26069 z - 124070\\right)$"
          },
          "metadata": {}
        },
        {
          "output_type": "display_data",
          "data": {
            "text/plain": [
              "0"
            ],
            "text/latex": "$\\displaystyle 0$"
          },
          "metadata": {}
        }
      ]
    },
    {
      "cell_type": "markdown",
      "metadata": {
        "id": "YQtDk8082yY6"
      },
      "source": [
        "###  Задание 4*\n",
        "Вася хочет развесить гирлянду по вершинам растущих во дворе деревьев, координаты вершин в файле \"trees.xlsx\". Гирлянды расходятся от одного из деревьев к каждому из остальных. Длины гирлянд, соединяющих два дерева, - целые числа (если расстояние между вершинами деревьев не целое число, то длина округляется в **большую** сторону).\n",
        "\n",
        "Записать в файл \"chains.xlsx\" суммарную длину гирлянд, расходящихся от центра, если центром может быть любое дерево из \"trees.xlsx\", подпись строки - название центрального дерева. В файле строки должны быть расположены по возрастанию суммарной длины гирлянд."
      ]
    },
    {
      "cell_type": "code",
      "source": [
        "uploaded = files.upload()"
      ],
      "metadata": {
        "colab": {
          "base_uri": "https://localhost:8080/",
          "height": 73
        },
        "id": "g2xFG7387sg6",
        "outputId": "302517be-b2eb-40aa-ebc5-610063a18f58"
      },
      "execution_count": 35,
      "outputs": [
        {
          "output_type": "display_data",
          "data": {
            "text/plain": [
              "<IPython.core.display.HTML object>"
            ],
            "text/html": [
              "\n",
              "     <input type=\"file\" id=\"files-882c57ea-1c3d-4905-83c1-3a6f91bbaf25\" name=\"files[]\" multiple disabled\n",
              "        style=\"border:none\" />\n",
              "     <output id=\"result-882c57ea-1c3d-4905-83c1-3a6f91bbaf25\">\n",
              "      Upload widget is only available when the cell has been executed in the\n",
              "      current browser session. Please rerun this cell to enable.\n",
              "      </output>\n",
              "      <script>// Copyright 2017 Google LLC\n",
              "//\n",
              "// Licensed under the Apache License, Version 2.0 (the \"License\");\n",
              "// you may not use this file except in compliance with the License.\n",
              "// You may obtain a copy of the License at\n",
              "//\n",
              "//      http://www.apache.org/licenses/LICENSE-2.0\n",
              "//\n",
              "// Unless required by applicable law or agreed to in writing, software\n",
              "// distributed under the License is distributed on an \"AS IS\" BASIS,\n",
              "// WITHOUT WARRANTIES OR CONDITIONS OF ANY KIND, either express or implied.\n",
              "// See the License for the specific language governing permissions and\n",
              "// limitations under the License.\n",
              "\n",
              "/**\n",
              " * @fileoverview Helpers for google.colab Python module.\n",
              " */\n",
              "(function(scope) {\n",
              "function span(text, styleAttributes = {}) {\n",
              "  const element = document.createElement('span');\n",
              "  element.textContent = text;\n",
              "  for (const key of Object.keys(styleAttributes)) {\n",
              "    element.style[key] = styleAttributes[key];\n",
              "  }\n",
              "  return element;\n",
              "}\n",
              "\n",
              "// Max number of bytes which will be uploaded at a time.\n",
              "const MAX_PAYLOAD_SIZE = 100 * 1024;\n",
              "\n",
              "function _uploadFiles(inputId, outputId) {\n",
              "  const steps = uploadFilesStep(inputId, outputId);\n",
              "  const outputElement = document.getElementById(outputId);\n",
              "  // Cache steps on the outputElement to make it available for the next call\n",
              "  // to uploadFilesContinue from Python.\n",
              "  outputElement.steps = steps;\n",
              "\n",
              "  return _uploadFilesContinue(outputId);\n",
              "}\n",
              "\n",
              "// This is roughly an async generator (not supported in the browser yet),\n",
              "// where there are multiple asynchronous steps and the Python side is going\n",
              "// to poll for completion of each step.\n",
              "// This uses a Promise to block the python side on completion of each step,\n",
              "// then passes the result of the previous step as the input to the next step.\n",
              "function _uploadFilesContinue(outputId) {\n",
              "  const outputElement = document.getElementById(outputId);\n",
              "  const steps = outputElement.steps;\n",
              "\n",
              "  const next = steps.next(outputElement.lastPromiseValue);\n",
              "  return Promise.resolve(next.value.promise).then((value) => {\n",
              "    // Cache the last promise value to make it available to the next\n",
              "    // step of the generator.\n",
              "    outputElement.lastPromiseValue = value;\n",
              "    return next.value.response;\n",
              "  });\n",
              "}\n",
              "\n",
              "/**\n",
              " * Generator function which is called between each async step of the upload\n",
              " * process.\n",
              " * @param {string} inputId Element ID of the input file picker element.\n",
              " * @param {string} outputId Element ID of the output display.\n",
              " * @return {!Iterable<!Object>} Iterable of next steps.\n",
              " */\n",
              "function* uploadFilesStep(inputId, outputId) {\n",
              "  const inputElement = document.getElementById(inputId);\n",
              "  inputElement.disabled = false;\n",
              "\n",
              "  const outputElement = document.getElementById(outputId);\n",
              "  outputElement.innerHTML = '';\n",
              "\n",
              "  const pickedPromise = new Promise((resolve) => {\n",
              "    inputElement.addEventListener('change', (e) => {\n",
              "      resolve(e.target.files);\n",
              "    });\n",
              "  });\n",
              "\n",
              "  const cancel = document.createElement('button');\n",
              "  inputElement.parentElement.appendChild(cancel);\n",
              "  cancel.textContent = 'Cancel upload';\n",
              "  const cancelPromise = new Promise((resolve) => {\n",
              "    cancel.onclick = () => {\n",
              "      resolve(null);\n",
              "    };\n",
              "  });\n",
              "\n",
              "  // Wait for the user to pick the files.\n",
              "  const files = yield {\n",
              "    promise: Promise.race([pickedPromise, cancelPromise]),\n",
              "    response: {\n",
              "      action: 'starting',\n",
              "    }\n",
              "  };\n",
              "\n",
              "  cancel.remove();\n",
              "\n",
              "  // Disable the input element since further picks are not allowed.\n",
              "  inputElement.disabled = true;\n",
              "\n",
              "  if (!files) {\n",
              "    return {\n",
              "      response: {\n",
              "        action: 'complete',\n",
              "      }\n",
              "    };\n",
              "  }\n",
              "\n",
              "  for (const file of files) {\n",
              "    const li = document.createElement('li');\n",
              "    li.append(span(file.name, {fontWeight: 'bold'}));\n",
              "    li.append(span(\n",
              "        `(${file.type || 'n/a'}) - ${file.size} bytes, ` +\n",
              "        `last modified: ${\n",
              "            file.lastModifiedDate ? file.lastModifiedDate.toLocaleDateString() :\n",
              "                                    'n/a'} - `));\n",
              "    const percent = span('0% done');\n",
              "    li.appendChild(percent);\n",
              "\n",
              "    outputElement.appendChild(li);\n",
              "\n",
              "    const fileDataPromise = new Promise((resolve) => {\n",
              "      const reader = new FileReader();\n",
              "      reader.onload = (e) => {\n",
              "        resolve(e.target.result);\n",
              "      };\n",
              "      reader.readAsArrayBuffer(file);\n",
              "    });\n",
              "    // Wait for the data to be ready.\n",
              "    let fileData = yield {\n",
              "      promise: fileDataPromise,\n",
              "      response: {\n",
              "        action: 'continue',\n",
              "      }\n",
              "    };\n",
              "\n",
              "    // Use a chunked sending to avoid message size limits. See b/62115660.\n",
              "    let position = 0;\n",
              "    do {\n",
              "      const length = Math.min(fileData.byteLength - position, MAX_PAYLOAD_SIZE);\n",
              "      const chunk = new Uint8Array(fileData, position, length);\n",
              "      position += length;\n",
              "\n",
              "      const base64 = btoa(String.fromCharCode.apply(null, chunk));\n",
              "      yield {\n",
              "        response: {\n",
              "          action: 'append',\n",
              "          file: file.name,\n",
              "          data: base64,\n",
              "        },\n",
              "      };\n",
              "\n",
              "      let percentDone = fileData.byteLength === 0 ?\n",
              "          100 :\n",
              "          Math.round((position / fileData.byteLength) * 100);\n",
              "      percent.textContent = `${percentDone}% done`;\n",
              "\n",
              "    } while (position < fileData.byteLength);\n",
              "  }\n",
              "\n",
              "  // All done.\n",
              "  yield {\n",
              "    response: {\n",
              "      action: 'complete',\n",
              "    }\n",
              "  };\n",
              "}\n",
              "\n",
              "scope.google = scope.google || {};\n",
              "scope.google.colab = scope.google.colab || {};\n",
              "scope.google.colab._files = {\n",
              "  _uploadFiles,\n",
              "  _uploadFilesContinue,\n",
              "};\n",
              "})(self);\n",
              "</script> "
            ]
          },
          "metadata": {}
        },
        {
          "output_type": "stream",
          "name": "stdout",
          "text": [
            "Saving trees.xlsx to trees.xlsx\n"
          ]
        }
      ]
    },
    {
      "cell_type": "code",
      "source": [
        "points_table = pd.read_excel('trees.xlsx', index_col=0)\n",
        "coords = points_table.to_numpy()\n",
        "\n",
        "tree_names = points_table.index\n",
        "trees = [Point3D(p) for p in coords]\n",
        "\n",
        "dst_sums = []\n",
        "for t1 in trees:\n",
        "  sum = 0\n",
        "\n",
        "  for t2 in trees:\n",
        "    dst = sympy.ceiling(t1.distance(t2))\n",
        "    sum += dst\n",
        "\n",
        "  dst_sums.append(sum)\n",
        "\n",
        "lst = list(zip(tree_names, dst_sums))\n",
        "lst.sort(key = lambda x : x[1])\n",
        "\n",
        "with pd.ExcelWriter(\"dist.xlsx\") as writer:\n",
        "    df = pd.DataFrame(lst, columns=[\"Дерево\", \"Расстояние\"])\n",
        "    df.to_excel(writer, header=True)\n",
        "\n",
        "files.download(\"dist.xlsx\")"
      ],
      "metadata": {
        "id": "5ZbSTXffbAWh",
        "colab": {
          "base_uri": "https://localhost:8080/",
          "height": 17
        },
        "outputId": "eba9dc62-49e0-49aa-c583-bcbfdb2877bc"
      },
      "execution_count": 48,
      "outputs": [
        {
          "output_type": "display_data",
          "data": {
            "text/plain": [
              "<IPython.core.display.Javascript object>"
            ],
            "application/javascript": [
              "\n",
              "    async function download(id, filename, size) {\n",
              "      if (!google.colab.kernel.accessAllowed) {\n",
              "        return;\n",
              "      }\n",
              "      const div = document.createElement('div');\n",
              "      const label = document.createElement('label');\n",
              "      label.textContent = `Downloading \"${filename}\": `;\n",
              "      div.appendChild(label);\n",
              "      const progress = document.createElement('progress');\n",
              "      progress.max = size;\n",
              "      div.appendChild(progress);\n",
              "      document.body.appendChild(div);\n",
              "\n",
              "      const buffers = [];\n",
              "      let downloaded = 0;\n",
              "\n",
              "      const channel = await google.colab.kernel.comms.open(id);\n",
              "      // Send a message to notify the kernel that we're ready.\n",
              "      channel.send({})\n",
              "\n",
              "      for await (const message of channel.messages) {\n",
              "        // Send a message to notify the kernel that we're ready.\n",
              "        channel.send({})\n",
              "        if (message.buffers) {\n",
              "          for (const buffer of message.buffers) {\n",
              "            buffers.push(buffer);\n",
              "            downloaded += buffer.byteLength;\n",
              "            progress.value = downloaded;\n",
              "          }\n",
              "        }\n",
              "      }\n",
              "      const blob = new Blob(buffers, {type: 'application/binary'});\n",
              "      const a = document.createElement('a');\n",
              "      a.href = window.URL.createObjectURL(blob);\n",
              "      a.download = filename;\n",
              "      div.appendChild(a);\n",
              "      a.click();\n",
              "      div.remove();\n",
              "    }\n",
              "  "
            ]
          },
          "metadata": {}
        },
        {
          "output_type": "display_data",
          "data": {
            "text/plain": [
              "<IPython.core.display.Javascript object>"
            ],
            "application/javascript": [
              "download(\"download_7fdb96c0-8f8e-4f37-a22c-f120259442bd\", \"dist.xlsx\", 5209)"
            ]
          },
          "metadata": {}
        }
      ]
    },
    {
      "cell_type": "markdown",
      "metadata": {
        "id": "RyK8Ftfp2yY7"
      },
      "source": [
        "### Индивидуальное задание\n",
        "\n",
        "![image.png](data:image/png;base64,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)"
      ]
    },
    {
      "cell_type": "code",
      "source": [
        "uploaded = files.upload()"
      ],
      "metadata": {
        "colab": {
          "base_uri": "https://localhost:8080/",
          "height": 73
        },
        "id": "tK4_0lgXANrF",
        "outputId": "8e3a9cdc-8c1a-4647-b1d2-0f77d70e4c38"
      },
      "execution_count": 49,
      "outputs": [
        {
          "output_type": "display_data",
          "data": {
            "text/plain": [
              "<IPython.core.display.HTML object>"
            ],
            "text/html": [
              "\n",
              "     <input type=\"file\" id=\"files-5d721e09-e79d-40ca-be61-3c9749d00eab\" name=\"files[]\" multiple disabled\n",
              "        style=\"border:none\" />\n",
              "     <output id=\"result-5d721e09-e79d-40ca-be61-3c9749d00eab\">\n",
              "      Upload widget is only available when the cell has been executed in the\n",
              "      current browser session. Please rerun this cell to enable.\n",
              "      </output>\n",
              "      <script>// Copyright 2017 Google LLC\n",
              "//\n",
              "// Licensed under the Apache License, Version 2.0 (the \"License\");\n",
              "// you may not use this file except in compliance with the License.\n",
              "// You may obtain a copy of the License at\n",
              "//\n",
              "//      http://www.apache.org/licenses/LICENSE-2.0\n",
              "//\n",
              "// Unless required by applicable law or agreed to in writing, software\n",
              "// distributed under the License is distributed on an \"AS IS\" BASIS,\n",
              "// WITHOUT WARRANTIES OR CONDITIONS OF ANY KIND, either express or implied.\n",
              "// See the License for the specific language governing permissions and\n",
              "// limitations under the License.\n",
              "\n",
              "/**\n",
              " * @fileoverview Helpers for google.colab Python module.\n",
              " */\n",
              "(function(scope) {\n",
              "function span(text, styleAttributes = {}) {\n",
              "  const element = document.createElement('span');\n",
              "  element.textContent = text;\n",
              "  for (const key of Object.keys(styleAttributes)) {\n",
              "    element.style[key] = styleAttributes[key];\n",
              "  }\n",
              "  return element;\n",
              "}\n",
              "\n",
              "// Max number of bytes which will be uploaded at a time.\n",
              "const MAX_PAYLOAD_SIZE = 100 * 1024;\n",
              "\n",
              "function _uploadFiles(inputId, outputId) {\n",
              "  const steps = uploadFilesStep(inputId, outputId);\n",
              "  const outputElement = document.getElementById(outputId);\n",
              "  // Cache steps on the outputElement to make it available for the next call\n",
              "  // to uploadFilesContinue from Python.\n",
              "  outputElement.steps = steps;\n",
              "\n",
              "  return _uploadFilesContinue(outputId);\n",
              "}\n",
              "\n",
              "// This is roughly an async generator (not supported in the browser yet),\n",
              "// where there are multiple asynchronous steps and the Python side is going\n",
              "// to poll for completion of each step.\n",
              "// This uses a Promise to block the python side on completion of each step,\n",
              "// then passes the result of the previous step as the input to the next step.\n",
              "function _uploadFilesContinue(outputId) {\n",
              "  const outputElement = document.getElementById(outputId);\n",
              "  const steps = outputElement.steps;\n",
              "\n",
              "  const next = steps.next(outputElement.lastPromiseValue);\n",
              "  return Promise.resolve(next.value.promise).then((value) => {\n",
              "    // Cache the last promise value to make it available to the next\n",
              "    // step of the generator.\n",
              "    outputElement.lastPromiseValue = value;\n",
              "    return next.value.response;\n",
              "  });\n",
              "}\n",
              "\n",
              "/**\n",
              " * Generator function which is called between each async step of the upload\n",
              " * process.\n",
              " * @param {string} inputId Element ID of the input file picker element.\n",
              " * @param {string} outputId Element ID of the output display.\n",
              " * @return {!Iterable<!Object>} Iterable of next steps.\n",
              " */\n",
              "function* uploadFilesStep(inputId, outputId) {\n",
              "  const inputElement = document.getElementById(inputId);\n",
              "  inputElement.disabled = false;\n",
              "\n",
              "  const outputElement = document.getElementById(outputId);\n",
              "  outputElement.innerHTML = '';\n",
              "\n",
              "  const pickedPromise = new Promise((resolve) => {\n",
              "    inputElement.addEventListener('change', (e) => {\n",
              "      resolve(e.target.files);\n",
              "    });\n",
              "  });\n",
              "\n",
              "  const cancel = document.createElement('button');\n",
              "  inputElement.parentElement.appendChild(cancel);\n",
              "  cancel.textContent = 'Cancel upload';\n",
              "  const cancelPromise = new Promise((resolve) => {\n",
              "    cancel.onclick = () => {\n",
              "      resolve(null);\n",
              "    };\n",
              "  });\n",
              "\n",
              "  // Wait for the user to pick the files.\n",
              "  const files = yield {\n",
              "    promise: Promise.race([pickedPromise, cancelPromise]),\n",
              "    response: {\n",
              "      action: 'starting',\n",
              "    }\n",
              "  };\n",
              "\n",
              "  cancel.remove();\n",
              "\n",
              "  // Disable the input element since further picks are not allowed.\n",
              "  inputElement.disabled = true;\n",
              "\n",
              "  if (!files) {\n",
              "    return {\n",
              "      response: {\n",
              "        action: 'complete',\n",
              "      }\n",
              "    };\n",
              "  }\n",
              "\n",
              "  for (const file of files) {\n",
              "    const li = document.createElement('li');\n",
              "    li.append(span(file.name, {fontWeight: 'bold'}));\n",
              "    li.append(span(\n",
              "        `(${file.type || 'n/a'}) - ${file.size} bytes, ` +\n",
              "        `last modified: ${\n",
              "            file.lastModifiedDate ? file.lastModifiedDate.toLocaleDateString() :\n",
              "                                    'n/a'} - `));\n",
              "    const percent = span('0% done');\n",
              "    li.appendChild(percent);\n",
              "\n",
              "    outputElement.appendChild(li);\n",
              "\n",
              "    const fileDataPromise = new Promise((resolve) => {\n",
              "      const reader = new FileReader();\n",
              "      reader.onload = (e) => {\n",
              "        resolve(e.target.result);\n",
              "      };\n",
              "      reader.readAsArrayBuffer(file);\n",
              "    });\n",
              "    // Wait for the data to be ready.\n",
              "    let fileData = yield {\n",
              "      promise: fileDataPromise,\n",
              "      response: {\n",
              "        action: 'continue',\n",
              "      }\n",
              "    };\n",
              "\n",
              "    // Use a chunked sending to avoid message size limits. See b/62115660.\n",
              "    let position = 0;\n",
              "    do {\n",
              "      const length = Math.min(fileData.byteLength - position, MAX_PAYLOAD_SIZE);\n",
              "      const chunk = new Uint8Array(fileData, position, length);\n",
              "      position += length;\n",
              "\n",
              "      const base64 = btoa(String.fromCharCode.apply(null, chunk));\n",
              "      yield {\n",
              "        response: {\n",
              "          action: 'append',\n",
              "          file: file.name,\n",
              "          data: base64,\n",
              "        },\n",
              "      };\n",
              "\n",
              "      let percentDone = fileData.byteLength === 0 ?\n",
              "          100 :\n",
              "          Math.round((position / fileData.byteLength) * 100);\n",
              "      percent.textContent = `${percentDone}% done`;\n",
              "\n",
              "    } while (position < fileData.byteLength);\n",
              "  }\n",
              "\n",
              "  // All done.\n",
              "  yield {\n",
              "    response: {\n",
              "      action: 'complete',\n",
              "    }\n",
              "  };\n",
              "}\n",
              "\n",
              "scope.google = scope.google || {};\n",
              "scope.google.colab = scope.google.colab || {};\n",
              "scope.google.colab._files = {\n",
              "  _uploadFiles,\n",
              "  _uploadFilesContinue,\n",
              "};\n",
              "})(self);\n",
              "</script> "
            ]
          },
          "metadata": {}
        },
        {
          "output_type": "stream",
          "name": "stdout",
          "text": [
            "Saving points_ind_7_v_84.xlsx to points_ind_7_v_84.xlsx\n"
          ]
        }
      ]
    },
    {
      "cell_type": "code",
      "metadata": {
        "id": "FyP2abYp2yY7",
        "colab": {
          "base_uri": "https://localhost:8080/",
          "height": 120
        },
        "outputId": "38c3b8ed-c60d-42b5-c7d5-a1f9928e11e8"
      },
      "source": [
        "points_table = pd.read_excel('points_ind_7_v_84.xlsx', index_col=0)\n",
        "coords = points_table.to_numpy()\n",
        "\n",
        "point_names = points_table.index\n",
        "points = [Point3D(p) for p in coords]\n",
        "\n",
        "points_to_names = dict(zip(points, point_names))\n",
        "names_to_points = dict(zip(point_names, points))\n",
        "\n",
        "G = names_to_points[\"G\"]\n",
        "L = names_to_points[\"L\"]\n",
        "T = names_to_points[\"T\"]\n",
        "J = names_to_points[\"J\"]\n",
        "P = names_to_points[\"P\"]\n",
        "\n",
        "GLT = Plane(G, L, T)\n",
        "\n",
        "display(Latex(f\"P(GLT, J) = {latex(GLT.distance(J))}\"))\n",
        "display(Latex(f\"GLT:\\;{latex(Eq(GLT.equation(), 0))}\"))\n",
        "\n",
        "t = symbols(\"t\")\n",
        "x, y, z = symbols(\"x y z\")\n",
        "JPeq = [\n",
        "    Eq(x, J[0] + (P[0] - J[0]) * t),\n",
        "    Eq(y, J[1] + (P[1] - J[1]) * t),\n",
        "    Eq(z, J[2] + (P[2] - J[2]) * t),\n",
        "]\n",
        "display(Latex(f\"JP:\\;{latex(JPeq)}\"))\n",
        "\n",
        "from itertools import combinations\n",
        "\n",
        "for points_ in combinations(points, 4):\n",
        "  if Point3D.are_coplanar(points_):\n",
        "    names_ = [points_to_names[p] for p in points_]\n",
        "    display(names_)\n",
        "    break\n",
        "\n",
        "for points_ in combinations(points, 3):\n",
        "  if Point3D.are_collinear(points_[0], points[1], points[2]):\n",
        "    names_ = [points_to_names[p] for p in points_]\n",
        "    display(names_)\n",
        "    break"
      ],
      "execution_count": 70,
      "outputs": [
        {
          "output_type": "display_data",
          "data": {
            "text/plain": [
              "<IPython.core.display.Latex object>"
            ],
            "text/latex": "P(GLT, J) = \\frac{3 \\sqrt{173}}{173}"
          },
          "metadata": {}
        },
        {
          "output_type": "display_data",
          "data": {
            "text/plain": [
              "<IPython.core.display.Latex object>"
            ],
            "text/latex": "GLT:\\;- 8 x + 22 y - 12 z + 14 = 0"
          },
          "metadata": {}
        },
        {
          "output_type": "display_data",
          "data": {
            "text/plain": [
              "<IPython.core.display.Latex object>"
            ],
            "text/latex": "JP:\\;\\left[ x = 10 t - 4, \\  y = 17 t - 4, \\  z = 25 t - 4\\right]"
          },
          "metadata": {}
        },
        {
          "output_type": "display_data",
          "data": {
            "text/plain": [
              "['G', 'J', 'L', 'P']"
            ]
          },
          "metadata": {}
        },
        {
          "output_type": "display_data",
          "data": {
            "text/plain": [
              "['J', 'L', 'P']"
            ]
          },
          "metadata": {}
        }
      ]
    }
  ]
}