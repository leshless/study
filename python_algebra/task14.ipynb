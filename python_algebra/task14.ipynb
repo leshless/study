{
  "cells": [
    {
      "cell_type": "markdown",
      "metadata": {
        "id": "view-in-github",
        "colab_type": "text"
      },
      "source": [
        "<a href=\"https://colab.research.google.com/github/leshless/study/blob/main/python_algebra/task14.ipynb\" target=\"_parent\"><img src=\"https://colab.research.google.com/assets/colab-badge.svg\" alt=\"Open In Colab\"/></a>"
      ]
    },
    {
      "cell_type": "code",
      "source": [
        "import sympy\n",
        "from sympy import Eq, latex, plot_implicit, Matrix, simplify, expand, collect\n",
        "from sympy import pi as Pi\n",
        "from sympy import cos as Cos\n",
        "from sympy import sin as Sin\n",
        "from IPython.display import Latex"
      ],
      "metadata": {
        "id": "CXB-A1DvZXpz"
      },
      "execution_count": 3,
      "outputs": []
    },
    {
      "cell_type": "markdown",
      "metadata": {
        "id": "iy2K466yPrjR"
      },
      "source": [
        "# Практическое занятие 14\n",
        "# Компьютерный практикум по алгебре на Python\n",
        "### Задание 1.\n",
        "Составить матрицу квадратичной формы $16x^2-21y^2+3z^2-4xy-4xz+10yz$, проверить, что она определяет именно заданный многочлен."
      ]
    },
    {
      "cell_type": "code",
      "source": [
        "x, y, z = sympy.symbols(\"x y z\")\n",
        "\n",
        "poly = 16*x**2 - 21*y**2 + 3*z**2 - 4*x*y - 4*x*z + 10*y*z\n",
        "\n",
        "A = sympy.Matrix([\n",
        "    [16, -2, -2],\n",
        "    [-2, -21, 5],\n",
        "    [-2, 5, 3]\n",
        "])\n",
        "display(A)\n",
        "\n",
        "X = sympy.Matrix([x, y, z])\n",
        "\n",
        "assert expand((X.T * A * X)[0]) == poly\n"
      ],
      "metadata": {
        "id": "930QEZ4HZS3O",
        "colab": {
          "base_uri": "https://localhost:8080/",
          "height": 78
        },
        "outputId": "aae746e4-81b9-4c30-95ff-42ef8a02c9dc"
      },
      "execution_count": null,
      "outputs": [
        {
          "output_type": "display_data",
          "data": {
            "text/plain": [
              "Matrix([\n",
              "[16,  -2, -2],\n",
              "[-2, -21,  5],\n",
              "[-2,   5,  3]])"
            ],
            "text/latex": "$\\displaystyle \\left[\\begin{matrix}16 & -2 & -2\\\\-2 & -21 & 5\\\\-2 & 5 & 3\\end{matrix}\\right]$"
          },
          "metadata": {}
        }
      ]
    },
    {
      "cell_type": "markdown",
      "source": [
        "### Задание 2.\n",
        "Заданы векторы  $e_1=(1, 0, 1)$, $e_2=(-1, 0, 1)$, $e_1=(0, 1, 0)$.\n",
        "Вывести (используя цикл!) на экран матрицу квадратичной формы Задания 1 в новом базисе из векторов\n",
        "\n",
        "\n",
        "1.   ($e_1$, $e_2$, $e_3$),\n",
        "2.   ($e_1$, $e_2 - e_1$, $e_3$),\n",
        "3.   ($e_1$, $e_2$, $e_3 - e_1$),\n",
        "4.   ($e_1$, $e_2 - e_1$, $e_3 - e_1$),\n",
        "5.   ($e_1 + e_2$, $e_2$, $e_3 + e_2$),\n",
        "\n",
        "при этом в файл \"task2.xlsx\" записать на листы $A_1$, $A_2$, ... матрицы в новом базисе, а на листы  $P_1$, $P_2$, ... соответствующие матрицы перехода."
      ],
      "metadata": {
        "id": "5SjHvz59du7t"
      }
    },
    {
      "cell_type": "code",
      "source": [
        "from google.colab import files"
      ],
      "metadata": {
        "id": "B62Ybd-DbXug"
      },
      "execution_count": null,
      "outputs": []
    },
    {
      "cell_type": "code",
      "source": [
        "import pandas as pd\n",
        "\n",
        "A = sympy.Matrix([\n",
        "    [16, -2, -2],\n",
        "    [-2, -21, 5],\n",
        "    [-2, 5, 3]\n",
        "])\n",
        "\n",
        "e1 = Matrix([1, 0, 1])\n",
        "e2 = Matrix([-1, 0, 1])\n",
        "e3 = Matrix([0, 1, 0])\n",
        "\n",
        "bases = [\n",
        "    (e1, e2, e3),\n",
        "    (e1, e2 - e1, e3),\n",
        "    (e1, e2, e3 - e1),\n",
        "    (e1, e2 - e1, e3 - e1),\n",
        "    (e1 + e2, e2, e3 + e2)\n",
        "]\n",
        "\n",
        "for i in range(len(bases)):\n",
        "  base = bases[i]\n",
        "  P_i = Matrix.hstack(*base)\n",
        "  P_i_ = P_i.inv()\n",
        "\n",
        "  A_i = P_i_.T * A * P_i_\n",
        "\n",
        "  display(A_i, P_i)\n",
        "\n",
        "  with pd.ExcelWriter('task2.xlsx') as writer:\n",
        "      pd.DataFrame(A_i.tolist()).to_excel(writer, sheet_name=f'A{i}')\n",
        "      pd.DataFrame(P_i.tolist()).to_excel(writer, sheet_name=f'P{i}')\n"
      ],
      "metadata": {
        "id": "OalZV-CEZfw3",
        "colab": {
          "base_uri": "https://localhost:8080/",
          "height": 628
        },
        "outputId": "eed9c3e0-e04e-40aa-f1ae-92973539ea56"
      },
      "execution_count": null,
      "outputs": [
        {
          "output_type": "display_data",
          "data": {
            "text/plain": [
              "Matrix([\n",
              "[-1/4, -7/2, 37/4],\n",
              "[-7/2,    3,  3/2],\n",
              "[37/4,  3/2, -9/4]])"
            ],
            "text/latex": "$\\displaystyle \\left[\\begin{matrix}- \\frac{1}{4} & - \\frac{7}{2} & \\frac{37}{4}\\\\- \\frac{7}{2} & 3 & \\frac{3}{2}\\\\\\frac{37}{4} & \\frac{3}{2} & - \\frac{9}{4}\\end{matrix}\\right]$"
          },
          "metadata": {}
        },
        {
          "output_type": "display_data",
          "data": {
            "text/plain": [
              "Matrix([\n",
              "[1, -1, 0],\n",
              "[0,  0, 1],\n",
              "[1,  1, 0]])"
            ],
            "text/latex": "$\\displaystyle \\left[\\begin{matrix}1 & -1 & 0\\\\0 & 0 & 1\\\\1 & 1 & 0\\end{matrix}\\right]$"
          },
          "metadata": {}
        },
        {
          "output_type": "display_data",
          "data": {
            "text/plain": [
              "Matrix([\n",
              "[-21/4, -5/2, 25/4],\n",
              "[ -5/2,    3,  1/2],\n",
              "[ 25/4,  1/2, 35/4]])"
            ],
            "text/latex": "$\\displaystyle \\left[\\begin{matrix}- \\frac{21}{4} & - \\frac{5}{2} & \\frac{25}{4}\\\\- \\frac{5}{2} & 3 & \\frac{1}{2}\\\\\\frac{25}{4} & \\frac{1}{2} & \\frac{35}{4}\\end{matrix}\\right]$"
          },
          "metadata": {}
        },
        {
          "output_type": "display_data",
          "data": {
            "text/plain": [
              "Matrix([\n",
              "[1, -2, 0],\n",
              "[0,  0, 1],\n",
              "[1,  0, 0]])"
            ],
            "text/latex": "$\\displaystyle \\left[\\begin{matrix}1 & -2 & 0\\\\0 & 0 & 1\\\\1 & 0 & 0\\end{matrix}\\right]$"
          },
          "metadata": {}
        },
        {
          "output_type": "display_data",
          "data": {
            "text/plain": [
              "Matrix([\n",
              "[-1/4, 11/2, 37/4],\n",
              "[11/2,   15, 17/2],\n",
              "[37/4, 17/2, -9/4]])"
            ],
            "text/latex": "$\\displaystyle \\left[\\begin{matrix}- \\frac{1}{4} & \\frac{11}{2} & \\frac{37}{4}\\\\\\frac{11}{2} & 15 & \\frac{17}{2}\\\\\\frac{37}{4} & \\frac{17}{2} & - \\frac{9}{4}\\end{matrix}\\right]$"
          },
          "metadata": {}
        },
        {
          "output_type": "display_data",
          "data": {
            "text/plain": [
              "Matrix([\n",
              "[1, -1, -1],\n",
              "[0,  0,  1],\n",
              "[1,  1, -1]])"
            ],
            "text/latex": "$\\displaystyle \\left[\\begin{matrix}1 & -1 & -1\\\\0 & 0 & 1\\\\1 & 1 & -1\\end{matrix}\\right]$"
          },
          "metadata": {}
        },
        {
          "output_type": "display_data",
          "data": {
            "text/plain": [
              "Matrix([\n",
              "[-21/4, -3/2, 25/4],\n",
              "[ -3/2,   15, 31/2],\n",
              "[ 25/4, 31/2, 35/4]])"
            ],
            "text/latex": "$\\displaystyle \\left[\\begin{matrix}- \\frac{21}{4} & - \\frac{3}{2} & \\frac{25}{4}\\\\- \\frac{3}{2} & 15 & \\frac{31}{2}\\\\\\frac{25}{4} & \\frac{31}{2} & \\frac{35}{4}\\end{matrix}\\right]$"
          },
          "metadata": {}
        },
        {
          "output_type": "display_data",
          "data": {
            "text/plain": [
              "Matrix([\n",
              "[1, -2, -1],\n",
              "[0,  0,  1],\n",
              "[1,  0, -1]])"
            ],
            "text/latex": "$\\displaystyle \\left[\\begin{matrix}1 & -2 & -1\\\\0 & 0 & 1\\\\1 & 0 & -1\\end{matrix}\\right]$"
          },
          "metadata": {}
        },
        {
          "output_type": "display_data",
          "data": {
            "text/plain": [
              "Matrix([\n",
              "[-15, -26, 5],\n",
              "[-26, -28, 0],\n",
              "[  5,   0, 4]])"
            ],
            "text/latex": "$\\displaystyle \\left[\\begin{matrix}-15 & -26 & 5\\\\-26 & -28 & 0\\\\5 & 0 & 4\\end{matrix}\\right]$"
          },
          "metadata": {}
        },
        {
          "output_type": "display_data",
          "data": {
            "text/plain": [
              "Matrix([\n",
              "[0, -1, -1],\n",
              "[0,  0,  1],\n",
              "[2,  1,  1]])"
            ],
            "text/latex": "$\\displaystyle \\left[\\begin{matrix}0 & -1 & -1\\\\0 & 0 & 1\\\\2 & 1 & 1\\end{matrix}\\right]$"
          },
          "metadata": {}
        }
      ]
    },
    {
      "cell_type": "markdown",
      "metadata": {
        "id": "9UM-8WNdPrjW"
      },
      "source": [
        "### Задание 3.\n",
        "В цикле из файла \"sem_14_task_3.xlsx\" считать матрицы, вывести на экран каждую матрицу и ее собственные числа и собственные векторы."
      ]
    },
    {
      "cell_type": "code",
      "source": [
        "files.upload()"
      ],
      "metadata": {
        "colab": {
          "base_uri": "https://localhost:8080/",
          "height": 1000
        },
        "collapsed": true,
        "id": "hEbRlpQoc4mB",
        "outputId": "ff24ccf5-b04e-4996-847f-cb2c3e271b70"
      },
      "execution_count": null,
      "outputs": [
        {
          "output_type": "display_data",
          "data": {
            "text/plain": [
              "<IPython.core.display.HTML object>"
            ],
            "text/html": [
              "\n",
              "     <input type=\"file\" id=\"files-a2009df7-fc17-44b3-82e1-19ae83f24d7a\" name=\"files[]\" multiple disabled\n",
              "        style=\"border:none\" />\n",
              "     <output id=\"result-a2009df7-fc17-44b3-82e1-19ae83f24d7a\">\n",
              "      Upload widget is only available when the cell has been executed in the\n",
              "      current browser session. Please rerun this cell to enable.\n",
              "      </output>\n",
              "      <script>// Copyright 2017 Google LLC\n",
              "//\n",
              "// Licensed under the Apache License, Version 2.0 (the \"License\");\n",
              "// you may not use this file except in compliance with the License.\n",
              "// You may obtain a copy of the License at\n",
              "//\n",
              "//      http://www.apache.org/licenses/LICENSE-2.0\n",
              "//\n",
              "// Unless required by applicable law or agreed to in writing, software\n",
              "// distributed under the License is distributed on an \"AS IS\" BASIS,\n",
              "// WITHOUT WARRANTIES OR CONDITIONS OF ANY KIND, either express or implied.\n",
              "// See the License for the specific language governing permissions and\n",
              "// limitations under the License.\n",
              "\n",
              "/**\n",
              " * @fileoverview Helpers for google.colab Python module.\n",
              " */\n",
              "(function(scope) {\n",
              "function span(text, styleAttributes = {}) {\n",
              "  const element = document.createElement('span');\n",
              "  element.textContent = text;\n",
              "  for (const key of Object.keys(styleAttributes)) {\n",
              "    element.style[key] = styleAttributes[key];\n",
              "  }\n",
              "  return element;\n",
              "}\n",
              "\n",
              "// Max number of bytes which will be uploaded at a time.\n",
              "const MAX_PAYLOAD_SIZE = 100 * 1024;\n",
              "\n",
              "function _uploadFiles(inputId, outputId) {\n",
              "  const steps = uploadFilesStep(inputId, outputId);\n",
              "  const outputElement = document.getElementById(outputId);\n",
              "  // Cache steps on the outputElement to make it available for the next call\n",
              "  // to uploadFilesContinue from Python.\n",
              "  outputElement.steps = steps;\n",
              "\n",
              "  return _uploadFilesContinue(outputId);\n",
              "}\n",
              "\n",
              "// This is roughly an async generator (not supported in the browser yet),\n",
              "// where there are multiple asynchronous steps and the Python side is going\n",
              "// to poll for completion of each step.\n",
              "// This uses a Promise to block the python side on completion of each step,\n",
              "// then passes the result of the previous step as the input to the next step.\n",
              "function _uploadFilesContinue(outputId) {\n",
              "  const outputElement = document.getElementById(outputId);\n",
              "  const steps = outputElement.steps;\n",
              "\n",
              "  const next = steps.next(outputElement.lastPromiseValue);\n",
              "  return Promise.resolve(next.value.promise).then((value) => {\n",
              "    // Cache the last promise value to make it available to the next\n",
              "    // step of the generator.\n",
              "    outputElement.lastPromiseValue = value;\n",
              "    return next.value.response;\n",
              "  });\n",
              "}\n",
              "\n",
              "/**\n",
              " * Generator function which is called between each async step of the upload\n",
              " * process.\n",
              " * @param {string} inputId Element ID of the input file picker element.\n",
              " * @param {string} outputId Element ID of the output display.\n",
              " * @return {!Iterable<!Object>} Iterable of next steps.\n",
              " */\n",
              "function* uploadFilesStep(inputId, outputId) {\n",
              "  const inputElement = document.getElementById(inputId);\n",
              "  inputElement.disabled = false;\n",
              "\n",
              "  const outputElement = document.getElementById(outputId);\n",
              "  outputElement.innerHTML = '';\n",
              "\n",
              "  const pickedPromise = new Promise((resolve) => {\n",
              "    inputElement.addEventListener('change', (e) => {\n",
              "      resolve(e.target.files);\n",
              "    });\n",
              "  });\n",
              "\n",
              "  const cancel = document.createElement('button');\n",
              "  inputElement.parentElement.appendChild(cancel);\n",
              "  cancel.textContent = 'Cancel upload';\n",
              "  const cancelPromise = new Promise((resolve) => {\n",
              "    cancel.onclick = () => {\n",
              "      resolve(null);\n",
              "    };\n",
              "  });\n",
              "\n",
              "  // Wait for the user to pick the files.\n",
              "  const files = yield {\n",
              "    promise: Promise.race([pickedPromise, cancelPromise]),\n",
              "    response: {\n",
              "      action: 'starting',\n",
              "    }\n",
              "  };\n",
              "\n",
              "  cancel.remove();\n",
              "\n",
              "  // Disable the input element since further picks are not allowed.\n",
              "  inputElement.disabled = true;\n",
              "\n",
              "  if (!files) {\n",
              "    return {\n",
              "      response: {\n",
              "        action: 'complete',\n",
              "      }\n",
              "    };\n",
              "  }\n",
              "\n",
              "  for (const file of files) {\n",
              "    const li = document.createElement('li');\n",
              "    li.append(span(file.name, {fontWeight: 'bold'}));\n",
              "    li.append(span(\n",
              "        `(${file.type || 'n/a'}) - ${file.size} bytes, ` +\n",
              "        `last modified: ${\n",
              "            file.lastModifiedDate ? file.lastModifiedDate.toLocaleDateString() :\n",
              "                                    'n/a'} - `));\n",
              "    const percent = span('0% done');\n",
              "    li.appendChild(percent);\n",
              "\n",
              "    outputElement.appendChild(li);\n",
              "\n",
              "    const fileDataPromise = new Promise((resolve) => {\n",
              "      const reader = new FileReader();\n",
              "      reader.onload = (e) => {\n",
              "        resolve(e.target.result);\n",
              "      };\n",
              "      reader.readAsArrayBuffer(file);\n",
              "    });\n",
              "    // Wait for the data to be ready.\n",
              "    let fileData = yield {\n",
              "      promise: fileDataPromise,\n",
              "      response: {\n",
              "        action: 'continue',\n",
              "      }\n",
              "    };\n",
              "\n",
              "    // Use a chunked sending to avoid message size limits. See b/62115660.\n",
              "    let position = 0;\n",
              "    do {\n",
              "      const length = Math.min(fileData.byteLength - position, MAX_PAYLOAD_SIZE);\n",
              "      const chunk = new Uint8Array(fileData, position, length);\n",
              "      position += length;\n",
              "\n",
              "      const base64 = btoa(String.fromCharCode.apply(null, chunk));\n",
              "      yield {\n",
              "        response: {\n",
              "          action: 'append',\n",
              "          file: file.name,\n",
              "          data: base64,\n",
              "        },\n",
              "      };\n",
              "\n",
              "      let percentDone = fileData.byteLength === 0 ?\n",
              "          100 :\n",
              "          Math.round((position / fileData.byteLength) * 100);\n",
              "      percent.textContent = `${percentDone}% done`;\n",
              "\n",
              "    } while (position < fileData.byteLength);\n",
              "  }\n",
              "\n",
              "  // All done.\n",
              "  yield {\n",
              "    response: {\n",
              "      action: 'complete',\n",
              "    }\n",
              "  };\n",
              "}\n",
              "\n",
              "scope.google = scope.google || {};\n",
              "scope.google.colab = scope.google.colab || {};\n",
              "scope.google.colab._files = {\n",
              "  _uploadFiles,\n",
              "  _uploadFilesContinue,\n",
              "};\n",
              "})(self);\n",
              "</script> "
            ]
          },
          "metadata": {}
        },
        {
          "output_type": "stream",
          "name": "stdout",
          "text": [
            "Saving sem_14_task_3.xlsx to sem_14_task_3.xlsx\n"
          ]
        },
        {
          "output_type": "execute_result",
          "data": {
            "text/plain": [
              "{'sem_14_task_3.xlsx': b'PK\\x03\\x04\\x14\\x00\\x00\\x00\\x08\\x00\\xcd\\x80UXFZ\\xc1\\x0c\\x82\\x00\\x00\\x00\\xb1\\x00\\x00\\x00\\x10\\x00\\x00\\x00docProps/app.xmlM\\x8eM\\x0b\\xc20\\x10D\\xffJ\\xe9\\xddnU\\xf0 1 \\xd4\\xa3\\xe0\\xc9{H76\\x90dCv\\x85\\xfc|S\\xc1\\x8f\\xdb<\\xde0\\x8c\\xba\\x15\\xcaX\\xc4#w5\\x86\\xc4\\xa7~\\x11\\xc9G\\x00\\xb6\\x0bF\\xc3C\\xd3\\xa9\\x19G%\\x1aiX\\x1e@\\xcey\\x8b\\x13\\xd9g\\xc4$\\xb0\\x1b\\xc7\\x03`\\x15L3\\xce\\x9b\\xfc\\x1d\\xec\\xb5:\\xe7\\x1c\\xbc5\\xe2)\\xe9\\xab\\xb7\\x85\\x98\\x9ct\\x97j1(\\xf8\\x97k\\xf3\\x8e\\x85\\xd7\\xbc\\x1f\\xb6o\\xf9a\\x05\\xbf\\x93\\xfa\\x05PK\\x03\\x04\\x14\\x00\\x00\\x00\\x08\\x00\\xcd\\x80UX\\x91\\x04\\x06\\xb0\\xee\\x00\\x00\\x00+\\x02\\x00\\x00\\x11\\x00\\x00\\x00docProps/core.xml\\xcd\\x92\\xc1j\\xc30\\x0c\\x86_e\\xf8\\x9e\\xc8qG\\x06&\\xcd\\xa5e\\xa7\\r\\x06+l\\xecfl\\xb55\\x8d\\x1dck$}\\xfb9Y\\x9b2\\xb6\\x07\\xd8\\xd1\\xd2\\xefO\\x9f@\\x8d\\x0eR\\xf7\\x11_b\\x1f0\\x92\\xc5t7\\xba\\xce\\'\\xa9\\xc3\\x9a\\x1d\\x89\\x82\\x04H\\xfa\\x88N\\xa52\\'|n\\xee\\xfb\\xe8\\x14\\xe5g<@P\\xfa\\xa4\\x0e\\x08\\x82\\xf3\\x1a\\x1c\\x922\\x8a\\x14L\\xc0\",D\\xd66FK\\x1dQQ\\x1f/x\\xa3\\x17|\\xf8\\x8c\\xdd\\x0c3\\x1a\\xb0C\\x87\\x9e\\x12Te\\x05\\xac\\x9d&\\x86\\xf3\\xd85p\\x03L0\\xc2\\xe8\\xd2w\\x01\\xcdB\\x9c\\xab\\x7fb\\xe7\\x0e\\xb0KrLvI\\r\\xc3P\\x0e\\xab9\\x97w\\xa8\\xe0\\xfd\\xf9\\xe9u^\\xb7\\xb0>\\x91\\xf2\\x1a\\xf3\\xafd%\\x9d\\x03\\xae\\xd9u\\xf2\\xdbj\\xb3\\xdd=\\xb2Vpq_pQ\\x88jW\\xd5\\x92\\xd7R<|L\\xae?\\xfcn\\xc2\\xae7vo\\xff\\xb1\\xf1U\\xb0m\\xe0\\xd7]\\xb4_PK\\x03\\x04\\x14\\x00\\x00\\x00\\x08\\x00\\xcd\\x80UX\\x99\\\\\\x9c#\\x10\\x06\\x00\\x00\\x9c\\'\\x00\\x00\\x13\\x00\\x00\\x00xl/theme/theme1.xml\\xedZ[s\\xda8\\x14~\\xef\\xaf\\xd0xg\\xf6m\\x0b\\xc66\\x81\\xb6\\xb4\\x13siv\\xdb\\xb4\\x99\\x84\\xedN\\x1f\\x85\\x11X\\x8dlyd\\x91\\x84\\x7f\\xbfG6\\x10\\xcb\\x96\\r\\xed\\x92M\\xba\\x9b<\\x04,\\xe9\\xfb\\xceEG\\xe7\\xe88y\\xf3\\xee.b\\xe8\\x86\\x88\\x94\\xf2x`\\xd9/\\xdb\\xd6\\xbb\\xb7/\\xde\\xe0W2$\\x11A0\\x19\\xa7\\xaf\\xf0\\xc0\\n\\xa5L^\\xb5Zi\\x00\\xc38}\\xc9\\x13\\x12\\xc3\\xdc\\x82\\x8b\\x08Kx\\x14\\xcb\\xd6\\\\\\xe0[\\x1a/#\\xd6\\xea\\xb4\\xdb\\xddV\\x84il\\xa1\\x18Gd`}^,h@\\xd0TQZo_ \\xb4\\xe5\\x1f3\\xf8\\x15\\xcbT\\x8de\\xa3\\x01\\x13WA&\\xb9\\x88\\xb4\\xf2\\xf9l\\xc5\\xfc\\xda\\xde>e\\xcf\\xe9:\\x1d2\\x81n0\\x1bX \\x7f\\xceo\\xa7\\xe4NZ\\x88\\xe1T\\xc2\\xc4\\xc0jg?Vk\\xc7\\xd1\\xd2H\\x80\\x82\\xc9}\\x94\\x05\\xbaI\\xf6\\xa3\\xd3\\x15\\x082\\r;:\\x9dX\\xcev|\\xf6\\xc4\\xed\\x9f\\x8c\\xca\\xdat4m\\x1a\\xe0\\xe3\\xf1x8\\xb6\\xcb\\xd2\\x8bp\\x1c\\x04\\xe0Q\\xbb\\x9e\\xc2\\x9d\\xf4l\\xbf\\xa4A\\t\\xb4\\xa3i\\xd0d\\xd8\\xf6\\xda\\xae\\x91\\xa6\\xaa\\x8dSO\\xd3\\xf7}\\xdf\\xeb\\x9bh\\x9c\\n\\x8d[O\\xd3kw\\xdd\\xd3\\x8e\\x89\\xc6\\xad\\xd0x\\r\\xbe\\xf1O\\x87\\xc3\\xae\\x89\\xc6\\xab\\xd0t\\xebi&\\'\\xfd\\xaek\\xa4\\xe9\\x16hBF\\xe3\\xebz\\x12\\x15\\xb5\\xe5@\\xd3 \\x00Xpv\\xd6\\xcc\\xd2\\x03\\x96^)\\xfau\\x94\\x1a\\xd9\\x1d\\xbb\\xddA\\\\\\xf0X\\xee9\\x89\\x11\\xfe\\xc6\\xc5\\x04\\xd6i\\xd2\\x19\\x964Fr\\x9d\\x90\\x05\\x0e\\x007\\xc4\\xd1LP|\\xafA\\xb6\\x8a\\xe0\\xc2\\x92\\xd2\\\\\\x90\\xd6\\xcf)\\xb5P\\x1a\\x08\\x9a\\xc8\\x81\\xf5G\\x82!\\xc5\\xdc\\xaf\\xfd\\xf5\\x97\\xbb\\xc9\\xa43z\\x9d}:\\xcek\\x94\\x7fi\\xab\\x01\\xa7\\xed\\xbb\\x9b\\xcf\\x93\\xfcs\\xe8\\xe4\\x9f\\xa7\\x93\\xd7MB\\xcep\\xbc,\\t\\xf1\\xfb#[a\\x87\\'n;\\x13r:\\x1cgB|\\xcf\\xf6\\xf6\\x91\\xa5%2\\xcf\\xef\\xf9\\n\\xebN<g\\x1fV\\x96\\xb0]\\xcf\\xcf\\xe4\\x9e\\x8cr#\\xbb\\xdd\\xf6X}\\xf6OGn#\\xd7\\xa9\\xc0\\xb3\"\\xd7\\x94F$E\\x9f\\xc8-\\xba\\xe4\\x118\\xb5I\\r2\\x13?\\x08\\x9d\\x86\\x98jP\\x1c\\x02\\xa4\\t1\\x96\\xa1\\x86\\xf8\\xb4\\xc6\\xac\\x11\\xe0\\x13}\\xb7\\xbe\\x08\\xc8\\xdf\\x8d\\x88\\xf7\\xabo\\x9a=W\\xa1XI\\xda\\x84\\xf8\\x10F\\x1a\\xe2\\x9cs\\xe6s\\xd1l\\xfb\\x07\\xa5F\\xd1\\xf6U\\xbc\\xdc\\xa3\\x97X\\x15\\x01\\x97\\x18\\xdf4\\xaa5,\\xc5\\xd6x\\x95\\xc0\\xf1\\xad\\x9c<\\x1d\\x13\\x12\\xcd\\x94\\x0b\\x06A\\x86\\x97$&\\x12\\xa99~MH\\x13\\xfe+\\xa5\\xda\\xfe\\x9c\\xd3@\\xf0\\x94/$\\xfaJ\\x91\\x8fi\\xb3#\\xa7t&\\xcd\\xe83\\x1a\\xc1F\\xaf\\x1bu\\x87h\\xd2<z\\xfe\\x05\\xf9\\x9c5\\n\\x1c\\x91\\x1b\\x1d\\x02g\\x1b\\xb3F!\\x84i\\xbb\\xf0\\x1e\\xaf$\\x8e\\x9a\\xad\\xc2\\x11+B>b\\x196\\x1ar\\xb5\\x16\\x81\\xb6q\\xa9\\x84`Z\\x12\\xc6\\xd1xN\\xd2\\xb4\\x11\\xfcY\\xac5\\x93>`\\xc8\\xec\\xcd\\x91u\\xce\\xd6\\x91\\x0e\\x11\\x92^7B>b\\xce\\x8b\\x90\\x11\\xbf\\x1e\\x868J\\x9a\\xed\\xa2qX\\x04\\xfd\\x9e^\\xc3I\\xc1\\xe8\\x82\\xcbf\\xfd\\xb8~\\x86\\xd53l,\\x8e\\xf7G\\xd4\\x17J\\xe4\\x0f&\\xa7?\\xe924\\x07\\xa3\\x9aY\\t\\xbd\\x84Vj\\x9f\\xaa\\x874>\\xa8\\x1e2\\n\\x05\\xf1\\xb9\\x1e>\\xe5zx\\n7\\x96\\xc6\\xbcP\\xae\\x82{\\x01\\xff\\xd1\\xda7\\xc2\\xab\\xf8\\x82\\xc09\\x7f.}\\xcf\\xa5\\xef\\xb9\\xf4=\\xa1\\xd2\\xb77#}g\\xc1\\xd3\\x8b[\\xdeFn[\\xc4\\xfb\\xae1\\xda\\xd74.(cWr\\xcd\\xc8\\xc7T\\xaf\\x93)\\xd89\\x9f\\xc0\\xec\\xfdh>\\x9e\\xf1\\xed\\xfa\\xd9$\\x84\\xaf\\x9aY-#\\x16\\x90K\\x81\\xb3A$\\xb8\\xfc\\x8b\\xca\\xf0*\\xc4\\t\\xe8d[%\\t\\xcbT\\xd3e7\\x8a\\x12\\x9eB\\x1bn\\xe9S\\xf5J\\x95\\xd7\\xe5\\xaf\\xb9(\\xb8<[\\xe4\\xe9\\xaf\\xa1t>,\\xcf\\xf9<_\\xe7\\xb4\\xcd\\x0b3C\\xb7rK\\xea\\xb6\\x94\\xbe\\xb5&8J\\xf4\\xb1\\xccpN\\x1e\\xcb\\x0c;g<\\x92\\x1d\\xb6w\\xa0\\x1d5\\xfb\\xf6]v\\xe4#\\xa50S\\x97C\\xb8\\x1aB\\xbe\\x03m\\xba\\x9d\\xdc:8\\x9e\\x98\\x91\\xb9\\n\\xd3R\\x90o\\xc3\\xf9\\xe9\\xc5x\\x1a\\xe29\\xd9\\x04\\xb9}\\x98Wm\\xe7\\xd8\\xd1\\xd1\\xfb\\xe7\\xc1Q\\xb0\\xa3\\xef<\\x96\\x1d\\xc7\\x88\\xf2\\xa2!\\xee\\xa1\\x86\\x98\\xcf\\xc3C\\x87y{_\\x98g\\x95\\xc6P4\\x14ml\\xac$,F\\xb7`\\xb8\\xd7\\xf1,\\x14\\xe0d`-\\xa0\\x07\\x83\\xafQ\\x02\\xf2RU`1[\\xc6\\x03+\\x90\\xa2|L\\x8cE\\xe8p\\xe7\\x97\\\\_\\xe3\\xd1\\x92\\xe3\\xdb\\xa6e\\xb5n\\xaf)w\\x19m\"R9\\xc2i\\x98\\x13g\\xab\\xca\\xdee\\xb1\\xc1U\\x1d\\xcfU[\\xf2\\xb0\\xbej=\\xb4\\x15N\\xcf\\xfeY\\xad\\xc8\\x9f\\x0c\\x11N\\x16\\x0b\\x12Hc\\x94\\x17\\xa6J\\xa2\\xf3\\x19S\\xbe\\xe7+I\\xc4U8\\xbfE3\\xb6\\x12\\x97\\x18\\xbc\\xe3\\xe6\\xc7qNS\\xb8\\x12v\\xb6\\x0f\\x022\\xb9\\xbb9\\xa9ze1g\\xa6\\xf2\\xdf-\\x0c\\t,[\\x88Y\\x12\\xe2M]\\xed\\xd5\\xe7\\x9b\\x9c\\xaez\"v\\xfa\\x97w\\xc1`\\xf2\\xfdp\\xc9G\\x0f\\xe5;\\xe7_\\xf4]C\\xae~\\xf6\\xdd\\xe3\\xfan\\x93;HL\\x9cy\\xc5\\x11\\x01tE\\x02#\\x95\\x1c\\x06\\x16\\x172\\xe4P\\xee\\x92\\x90\\x06\\x13\\x01\\xcd\\x94\\xc9D\\xf0\\x02\\x82d\\xa6\\x1c\\x80\\x98\\xfa\\x0b\\xbd\\xf2\\x0c\\xb9)\\x15\\xce\\xad>9\\x7fE,\\x83\\x86N^\\xd2%\\x12\\x14\\x8a\\xb0\\x0c\\x05!\\x17r\\xe3\\xef\\xef\\x93jw\\x8c\\xd7\\xfa,\\x81m\\x84T2d\\xd5\\x17\\xcaC\\x89\\xc1=3rC\\xd8T%\\xf3\\xae\\xda&\\x0b\\x85\\xdb\\xe2T\\xcd\\xbb\\x1a\\xbe&`K\\xc3zn\\x9d-\\'\\xff\\xdb^\\xd4=\\xb4\\x17=F\\xf3\\xa3\\x99\\xe0\\x1e\\xb3\\x87s\\x9bz\\xb8\\xc2E\\xac\\xffX\\xd6\\x1e\\xf92\\xdf9p\\xdb:\\xde\\x03^\\xe6\\x13,C\\xa4~\\xc1}\\x8a\\x8a\\x80\\x11\\xabb\\xbe\\xba\\xafO\\xf9%\\x9c;\\xb4{\\xf1\\x81 \\x9b\\xfc\\xd6\\xdb\\xa4\\xf6\\xdd\\xe0\\x0c|\\xd4\\xabZ\\xa5d+\\x11?K\\x07|\\x1f\\x92\\x06c\\x8c[\\xf44_\\x8f\\x14b\\xad\\xa6\\xb1\\xad\\xc6\\xda1\\x0cy\\x80X\\xf3\\x0c\\xa1f8\\xdf\\x87E\\x9a\\x1a3\\xd5\\x8b\\xac9\\x8d\\noA\\xd5@\\xe5?\\xdb\\xd4\\rh\\xf6\\r4\\x1c\\x91\\x05^1\\x99\\xb66\\xa3\\xe4N\\n<\\xdc\\xfe\\xef\\r\\xb0\\xc2\\xc4\\x8e\\xe1\\xed\\x8b\\xbf\\x01PK\\x03\\x04\\x14\\x00\\x00\\x00\\x08\\x00\\xcd\\x80UXL`\\xfcFp\\x01\\x00\\x00\\x9c\\x03\\x00\\x00\\x18\\x00\\x00\\x00xl/worksheets/sheet1.xml\\x95S]O\\x83@\\x10\\xfc+\\xe4\\xde\\xdb\\xa3%X\\xd3\\x00\\x89\\xc5\\x18}0i\\xda\\xa8\\xcf\\xd7\\xb2\\xc0\\xa5\\xf7\\x81w[\\xd1\\x7f\\xef\\x1dmIc\\xc0\\xe8\\x13;{\\xc3\\xec\\x0c\\xec%\\xad6\\x07[\\x03`\\xf0)\\x85\\xb2)\\xa9\\x11\\x9b%\\xa5v_\\x83dv\\xaa\\x1bP\\xee\\xa4\\xd4F2t\\xd0T\\xd46\\x06X\\xd1\\xbd$\\x05\\x9d\\x87\\xe1\\r\\x95\\x8c+\\x92%]om\\xb2D\\x1fQp\\x05k\\x13\\xd8\\xa3\\x94\\xcc|\\xad@\\xe86%3rilxU\\xa3o\\xd0,iX\\x05[\\xc0\\x97fm\\x1c\\xa2\\xbdJ\\xc1%(\\xcb\\xb5\\n\\x0c\\x94)\\xb9\\x9b-\\xf3\\xc8\\xf3;\\xc2+\\x87\\xd6^\\xd5\\x81O\\xb2\\xd3\\xfa\\xe0\\xc1S\\x91\\x92\\xd0\\x1b\\x02\\x01{\\xf4\\n\\xcc=> \\x07!\\xbc\\x90\\xb3\\xf1~\\xd6$\\xfdH\\xff\\xe2u}Q\\x7f\\xe8\\xb2\\xbb,;f!\\xd7\\xe2\\x8d\\x17X\\xa7\\xe4\\x96\\x04\\x05\\x94\\xec(p\\xa3\\xdbG8\\xe7\\x89{\\x83\\xf7\\x0cY\\x96\\x18\\xdd\\x06\\xc6\\xe7\\xcc\\x92\\xbd/\\xfcl\\xc7\\xe3\\xca\\x7f\\x9f-\\x1a\\xd7\\xe7n\\x10f\\x8b\\x84\\xa2\\x9b\\xee\\x01\\xdd\\x9f\\xc9\\xab1r4\\xc4\\xce\\xc7\\xd8\\x93\\x9ft\\xea\\\\\\xf5\\xd6\\xe6\\xbd\\xb5\\xf9\\x7f\\xa6\\xad\\xc6\\xd8\\x93x\\xc8\\xdb\\x18;\\xfe\\xc5Y\\xd4;\\x8b\\xfe\\x9a\\xecdm\\x8c>\\xe8lT{\\xd0\\x1a\\xbd\\xfa\\xb7~o\\x9f\\x99\\xa9\\xb8\\xb2\\x81\\x80\\xd2\\xa9\\x84\\xd3EL\\x02s\\xda\\x85\\x13@\\xddt{\\xbf\\xd3\\x88Zve\\xed\\xae\\x0f\\x18Op\\xe7\\xa5\\xd6x\\x01~\\x15\\xfb\\x0b\\x99}\\x03PK\\x03\\x04\\x14\\x00\\x00\\x00\\x08\\x00\\xcd\\x80UX\\x846\\xbf\\xbfu\\x01\\x00\\x00\\x9f\\x03\\x00\\x00\\x18\\x00\\x00\\x00xl/worksheets/sheet2.xml\\x95S\\xdfO\\x830\\x10\\xfeWH\\xdf\\xb72p\\xce,@\\xe20F\\x1fL\\x96-\\xeas\\x07\\x074k)\\xb67\\xd1\\xff\\xde\\x166\\xb2,\\xc3\\xe8\\x13w\\xd7\\x8f\\xef\\x07\\\\\\xa3V\\xe9\\xbd\\xa9\\x00\\xd0\\xfb\\x92\\xa261\\xa9\\x10\\x9b%\\xa5&\\xab@23U\\r\\xd4\\xf6\\xa4PZ2\\xb4\\xad.\\xa9i4\\xb0\\xbc{I\\n\\x1a\\xf8\\xfe-\\x95\\x8c\\xd7$\\x89\\xba\\xd9Z\\'\\x91:\\xa0\\xe05\\xac\\xb5g\\x0eR2\\xfd\\xbd\\x02\\xa1\\xda\\x98\\xcc\\xc8i\\xb0\\xe1e\\x85n@\\x93\\xa8a%l\\x01_\\x9b\\xb5\\xb6\\x1d\\x1dXr.\\xa16\\\\\\xd5\\x9e\\x86\"&\\xf7\\xb3e\\x1a:|\\x07x\\xe3\\xd0\\x9a\\xb3\\xdasIvJ\\xed]\\xf3\\x9c\\xc7\\xc4w\\x86@@\\x86\\x8e\\x81\\xd9\\xc7\\'\\xa4 \\x84#\\xb26>\\x8e\\x9cd\\x90t/\\x9e\\xd7\\'\\xf6\\xc7.\\xbb\\xcd\\xb2c\\x06R%\\xdey\\x8eUL\\xee\\x88\\x97C\\xc1\\x0e\\x027\\xaa}\\x82c\\x9e\\xf9`\\xf0\\x81!K\"\\xadZO\\xbb\\x9cI\\x94\\xb9\\xc2i[\\x1c\\xaf\\xdd\\xf7\\xd9\\xa2\\xb6sn\\x850YD\\x14\\xad\\xbakhv\\x04\\xaf\\xc6\\xc0\\xa1\\x7f\\x05\\x9d\\x8e\\xa1\\'\\xe1\\x059\\xb5\\xae\\x06k\\xc1`-\\xf8\\x8f\\xdaj\\x0c=Y\\x04\\xd7\\xcc\\x8d\\xc1o\\x82_\\xbc\\x85\\x83\\xb7\\xf0\\xaf\\xd9zsc\\xf0K\\xb5\\xde\\xdb(\\xf9\\xfc\\x9a7z\\xf6{\\xdd\\xea\\xbe0]\\xf2\\xdax\\x02\\n\\xcb\\xe2O\\x17s\\xe2\\xe9~\\x1d\\xfa\\x06U\\xd3\\xad\\xfeN!*\\xd9\\x95\\x95\\xbdA\\xa0\\x1d\\xc0\\x9e\\x17J\\xe1\\xa9q\\xdb8\\xdc\\xc9\\xe4\\x07PK\\x03\\x04\\x14\\x00\\x00\\x00\\x08\\x00\\xcd\\x80UXT&\\xeb\\xdfw\\x01\\x00\\x00\\xa0\\x03\\x00\\x00\\x18\\x00\\x00\\x00xl/worksheets/sheet3.xml\\x95\\x93oO\\x830\\x10\\xc6\\xbf\\n\\xe9\\xfb\\xad\\x1b\\xec\\x8fY\\x80\\xc4a\\x8c\\xbe0Y\\xb6\\xa8\\xaf;8\\xa0YK\\xb1\\xbd\\x89~{[\\xd8\\xc84\\xc3\\xe8+\\xee\\xae?\\x9e{\\x0e\\xaea\\xa3\\xf4\\xc1\\x94\\x00\\xe8}HQ\\x99\\x88\\x94\\x88\\xf5\\x8aR\\x93\\x96 \\x99\\x19\\xab\\x1a*{\\x92+-\\x19\\xdaT\\x17\\xd4\\xd4\\x1aX\\xd6\\xbe$\\x05\\xf5\\'\\x93\\x05\\x95\\x8cW$\\x0e\\xdb\\xdaF\\xc7\\xa1:\\xa2\\xe0\\x15l\\xb4g\\x8eR2\\xfd\\xb9\\x06\\xa1\\x9a\\x88L\\xc9\\xb9\\xb0\\xe5E\\x89\\xae@\\xe3\\xb0f\\x05\\xec\\x00\\x9f\\xeb\\x8d\\xb6\\x19\\xedU2.\\xa12\\\\U\\x9e\\x86<\"\\xb7\\xd3U\\x128\\xbe\\x05^84\\xe6\"\\xf6\\xdc${\\xa5\\x0e.y\\xcc\"2q\\x86@@\\x8aN\\x81\\xd9\\xc7;$ \\x84\\x13\\xb26\\xdeN\\x9a\\xa4o\\xe9^\\xbc\\x8c\\xcf\\xea\\xf7\\xed\\xecv\\x96=3\\x90(\\xf1\\xca3,#rC\\xbc\\x0crv\\x14\\xb8U\\xcd\\x03\\x9c\\xe6\\x99\\xf7\\x06\\xef\\x18\\xb28\\xd4\\xaa\\xf1\\xb4\\x9b3\\x0eS\\x17\\xb8\\xde\\x96\\xe3\\x95\\xfb>;\\xd4\\xb6\\xcem#\\x8c\\x97!E\\xdb\\xdd%4=\\xc1\\xeb!8\\xb8F\\'C\\xf4h6\\xfb\\x8eS\\xeb\\xaa\\xb7\\xe6\\xf7\\xd6\\xfc\\xfft[\\x0f\\xd1\\xa3\\xf95o\\x83t\\xe0\\xff\\xe2-\\xe8\\xbd\\x05\\x7f\\x9d\\xad37\\x88\\xffl\\xd7\\xb9\\x1b\\xc2\\x97\\x8bk\\xe6\\xe8\\xc5\\xffu\\xbb\\xfb\\xc4t\\xc1+\\xe3\\t\\xc8\\xad\\xcad\\xbc\\x9c\\x13Ow\\xfb\\xd0%\\xa8\\xeav\\xf7\\xf7\\nQ\\xc96,\\xed\\x15\\x02\\xed\\x00{\\x9e+\\x85\\xe7\\xc4\\xadc\\x7f)\\xe3/PK\\x03\\x04\\x14\\x00\\x00\\x00\\x08\\x00\\xcd\\x80UXns3\\xaey\\x01\\x00\\x00\\x9f\\x03\\x00\\x00\\x18\\x00\\x00\\x00xl/worksheets/sheet4.xml\\x95\\x93\\xdbN\\x83@\\x10\\x86_\\x85\\xec}\\xbb\\x94\\x1e0\\r\\x90\\xd8\\x1a\\xa3\\x17&M\\x1b\\xf5z\\x0bC\\xd9t\\x0f\\xb8;\\x15}{wiK\\xaa)F\\xaf\\x98\\x99\\xfd\\xf8\\xe7\\x1f\\x98M\\x1am\\xf6\\xb6\\x02\\xc0\\xe0C\\neSR!\\xd6sJm^\\x81dv\\xa8kP\\xee\\xa4\\xd4F2t\\xa9\\xd9Q[\\x1b`E\\xfb\\x92\\x144\\n\\xc3\\x19\\x95\\x8c+\\x92%mme\\xb2D\\x1fPp\\x05+\\x13\\xd8\\x83\\x94\\xcc|.@\\xe8&%#r.\\xac\\xf9\\xaeB_\\xa0YR\\xb3\\x1dl\\x00\\x9f\\xeb\\x95q\\x19\\xedT\\n.AY\\xaeU`\\xa0L\\xc9\\xedh\\xbe\\x1c{\\xbe\\x05^84\\xf6\"\\x0e\\xfc$[\\xad\\xf7>y,R\\x12zC  G\\xaf\\xc0\\xdc\\xe3\\x1d\\x96 \\x84\\x17r6\\xdeN\\x9a\\xa4k\\xe9_\\xbc\\x8c\\xcf\\xea\\xf7\\xed\\xecn\\x96-\\xb3\\xb0\\xd4\\xe2\\x95\\x17X\\xa5\\xe4\\x86\\x04\\x05\\x94\\xec p\\xad\\x9b\\x078\\xcd3\\xed\\x0c\\xde1dYbt\\x13\\x18?g\\x96\\xe4>\\xf0\\xbd\\x1d\\xc7\\x95\\xff>\\x1b4\\xae\\xce]#\\xcc\\xe2\\x84\\xa2\\xeb\\xee\\x13\\x9a\\x9f\\xe0E\\x1f<\\x0e\\xaf\\xd0\\xcb>z0\\x99|\\xc7\\xa9s\\xd5Y\\x8b:k\\xd1\\x7f\\xba-\\xfa\\xe8A\\x1c]3\\xd7\\x87\\x8f\\xa2_\\xbc\\x8d;o\\xe3\\xbf\\xcev4\\xd7\\x87\\xff\\xecv\\xf4\\xd6G\\xc7\\xb3k\\xde\\xe8\\xc5\\xef\\xf5\\xab\\xfb\\xc4\\xcc\\x8e+\\x1b\\x08(\\x9dJ8\\x8c\\xa7$0\\xc7u8&\\xa8\\xebv\\xf5\\xb7\\x1aQ\\xcb6\\xac\\xdc\\r\\x02\\xe3\\x01w^j\\x8d\\xe7\\xc4ocw\\'\\xb3/PK\\x03\\x04\\x14\\x00\\x00\\x00\\x08\\x00\\xcd\\x80UXy\\x10\\xa8\\xeap\\x01\\x00\\x00\\x98\\x03\\x00\\x00\\x18\\x00\\x00\\x00xl/worksheets/sheet5.xml\\x95\\x93Qo\\x820\\x10\\xc7\\xbf\\n\\xe9\\xfb,B\\xd4\\xc5\\x00\\xc9dY\\xb6\\x87%F\\xb3\\xed\\xb9\\xc2\\x01\\x8d-e\\xed9\\xb6o\\xbf\\x16\\x94\\xb8D\\x16}\\xe2\\xee\\xfa\\xbb\\xbb\\xff\\x95k\\xd4*\\xbd7\\x15\\x00z\\xdfR\\xd4&&\\x15b\\xb3\\xa4\\xd4d\\x15Hf&\\xaa\\x81\\xda\\x9e\\x14JK\\x86\\xd6\\xd5%5\\x8d\\x06\\x96wIR\\xd0\\xc0\\xf7\\xe7T2^\\x93$\\xeabk\\x9dD\\xea\\x80\\x82\\xd7\\xb0\\xd6\\x9e9H\\xc9\\xf4\\xcf\\n\\x84jc2%\\xa7\\xc0\\x86\\x97\\x15\\xba\\x00M\\xa2\\x86\\x95\\xb0\\x05|k\\xd6\\xdazt\\xa8\\x92s\\t\\xb5\\xe1\\xaa\\xf64\\x141y\\x98.\\xd3\\xd0\\xf1\\x1d\\xf0\\xce\\xa15g\\xb6\\xe7&\\xd9)\\xb5w\\xceK\\x1e\\x13\\xdf\\t\\x02\\x01\\x19\\xba\\n\\xcc~\\xbe \\x05!\\\\!+\\xe3\\xf3X\\x93\\x0c-]\\xe2\\xb9}\\xaa\\xfe\\xd4\\xcdng\\xd91\\x03\\xa9\\x12\\x1f<\\xc7*&\\xf7\\xc4\\xcb\\xa1`\\x07\\x81\\x1b\\xd5>\\xc3q\\x9e\\xd9 \\xf0\\x91!K\"\\xadZO\\xbb9\\x93(s\\x86\\xebm9^\\xbb\\xfb\\xd9\\xa2\\xb6qn\\x1ba\\xb2\\x98G\\x14m{\\xe7\\xd1\\xecH\\xaf\\xc6\\xe80\\xb8@\\xa7c\\xb4\\xff\\x17\\xa6V\\xd4\\xa0,\\x18\\x94\\x05\\xb7\\xf4Z\\x8d\\xd1w\\xb3K\\xca\\xc6\\xe8\\xff\\x94\\x85\\x83\\xb2\\xf0\\xba\\xec^\\xd8-pz%\\xdc\\xeb\\xa2g\\xff\\xd5\\xed\\xec+\\xd3%\\xaf\\x8d\\'\\xa0\\xb0E\\xfc\\xc9bF<\\xdd\\xefA\\xef\\xa0j\\xba\\x9d\\xdf)D%;\\xb3\\xb2O\\x07\\xb4\\x03\\xecy\\xa1\\x14\\x9e\\x1c\\xb7\\x86\\xc3cL~\\x01PK\\x03\\x04\\x14\\x00\\x00\\x00\\x08\\x00\\xcd\\x80UX|\\xf3\\xa3\\xdcQ\\x02\\x00\\x00\\xf6\\t\\x00\\x00\\r\\x00\\x00\\x00xl/styles.xml\\xddV\\xdb\\x8a\\xdb0\\x10\\xfd\\x15\\xe1\\x0f\\xa8\\x93\\x985qI\\xf2PC`\\xa1-\\x0b\\xbb\\x0f}Ub9\\x11\\xe8\\xe2\\xca\\xf2\\x92\\xf4\\xeb;#9v\\xb3\\xabY(}\\xabM\\xf0\\xcc\\x1c\\x9d\\xb9\\x1bg\\xd3\\xfb\\xab\\x12\\xcfg!<\\xbbhe\\xfamv\\xf6\\xbe\\xfb\\x9c\\xe7\\xfd\\xf1,4\\xef?\\xd9N\\x18@Z\\xeb4\\xf7\\xa0\\xbaS\\xdewN\\xf0\\xa6G\\x92V\\xf9j\\xb1(s\\xcd\\xa5\\xc9v\\x1b3\\xe8\\xbd\\xf6=;\\xda\\xc1\\xf8m\\xb6\\xc8\\xf2\\xdd\\xa6\\xb5f\\xb6,\\xb3h\\x80\\xa3\\\\\\x0b\\xf6\\xca\\xd56\\xab\\xb9\\x92\\x07\\'\\xc3Y\\xae\\xa5\\xbaF\\xf3\\n\\rG\\xab\\xacc\\x1eR\\x11H\\x06K\\xff+\\xc2\\xcb\\xa8a\\x96\\xa3\\x1f-\\x8duh\\xccc\\x84\\xf0\\xe8\\xc1\\xa9TjJ`\\x95E\\xc3n\\xd3q\\xef\\x853{P\\x02\\'\\x18\\xdfAl\\x94_\\xae\\x1ddpr\\xfc\\xba\\\\=d3!< \\xc8\\xc1\\xbaF\\xb8\\xbb:\\xa3i\\xb7Q\\xa2\\xf5@p\\xf2t\\xc6\\xa7\\xb7]\\x8e\\xa0\\xf7V\\x83\\xd0H~\\xb2\\x86\\x87\\x1cn\\x8cQ\\x00\\xb7G\\xa1\\xd43\\x8e\\xe8G{\\xe7\\xfb\\xd2\\xb2\\xd8\\xeb\\xc7\\x06\\xdb\\xcc\\xb0\\xd4\\x9b\\x08\\t\\x8dbt\\x13\\x15\\xf4\\xff\\xa7\\xb7\\xe8\\xfb\\x9f\\xdd\\xb2N\\xbeZ\\xffe\\x80jL\\xd0\\x7f\\x0e\\xd6\\x8b\\'\\'Zy\\t\\xfa\\xa5\\xbd\\x8f?\\x85\\x0e\\x89\\xdcE\\x9f\\xac\\x0c\\x97c\\x9b}\\xc7\\x9dS\\xb3\\x0bv\\x18\\xa4\\xf2\\xd2\\x8c\\xdaY6\\x8d0\\xefj\\x03\\xf7\\x9e\\x1f`\\xa9\\xef\\xfc\\xc3\\xf9F\\xb4|P\\xfee\\x02\\xb7\\xd9,\\x7f\\x13\\x8d\\x1ct5\\x9dz\\xc2\\xb2\\xc6S\\xb3\\xfc\\x15g\\xb8,\\xa7\\xcd\\x84X\\xd24\\xe2\"\\x9azT\\xdd\\xe9\\x10D\\x06\\x02D\\x1d/$\\xbcE\\xf6\\xe1J#\\x14\\'bi\\x041*\\x0e\\x95\\x01\\xc5\\x89,*\\xce\\xffT\\xcf\\x9a\\xac\\'bTn\\xeb$\\xb2&9k\\x92\\x13Y)\\xa4\\x0e7\\x15\\'\\xcd\\xa9\\xe0JWZUEQ\\x96TG\\xeb:\\x99AM\\xf5\\xad,\\xf1\\x97\\xf6F\\xe5\\x86\\x0c*\\x0eF\\xfa\\xbb^\\xd3\\xd3\\xa67\\xe4\\xe3=\\xa0f\\xfa\\xd1\\x86P\\x95\\xd2\\x9bHUJ\\xf7\\x1a\\x91t\\xdf\\x90QU\\xe9iSq\\x90AM\\x81\\xda\\x1d\\x8c\\x9f\\x8e\\x83;\\x95\\xe6\\x14\\x05N\\x95\\xca\\x8dz\\x83i\\xa4\\xaa(\\x04w1\\xbd\\xa3eIt\\xa7\\xc4;=\\x1f\\xea-)\\x8a\\xaaJ#\\x88\\xa53(\\n\\n\\xc1\\xb7\\x91F\\xa8\\x0c0\\x07\\n)\\x8a\\xf0\\x1d|\\xf3=\\xcao\\xdf\\xa9|\\xfe\\xa7\\xb7\\xfb\\rPK\\x03\\x04\\x14\\x00\\x00\\x00\\x08\\x00\\xcd\\x80UX\\x97\\x8a\\xbb\\x1c\\xc0\\x00\\x00\\x00\\x13\\x02\\x00\\x00\\x0b\\x00\\x00\\x00_rels/.rels\\x9d\\x92\\xb9n\\xc30\\x0c@\\x7f\\xc5\\xd0\\x9e0\\x07\\xd0!\\x883e\\xf1\\x16\\x04\\xf9\\x01V\\xa2\\x0f\\xd8\\x12\\x05\\x8aE\\x9d\\xbf\\xaf\\xda\\xa5q\\x90\\x0b\\x19y=<\\x12\\xdc\\x1ei@\\xed8\\xa4\\xb6\\x8b\\xa9\\x18\\xfd\\x10RiZ\\xd5\\xb8\\x01H\\xb6%\\x8fi\\xce\\x91B\\xae\\xd4,\\x1e5\\x87\\xd2@D\\xdbcC\\xb0Z,>@.\\x19f\\xb7\\xbdd\\x16\\xa7s\\xa4W\\x88\\\\\\xd7\\x9d\\xa5=\\xdb/OAo\\x80\\xaf:LqBiHK3\\x0e\\xf0\\xcd\\xd2\\x7f2\\xf7\\xf3\\x0c5E\\xe5J#\\x95[\\x1ax\\xd3\\xe5\\xfev\\xe0I\\xd1\\xa1\"X\\x16\\x9aE\\xc9\\xd3\\xa2\\x1d\\xa5\\x7f\\x1d\\xc7\\xf6\\x90\\xd3\\xe9\\xafc\"\\xb4z[\\xe8\\xf9qhT\\n\\x8e\\xdcc%\\x8cqb\\xb4\\xfe5\\x82\\xc9\\x0f\\xec~\\x00PK\\x03\\x04\\x14\\x00\\x00\\x00\\x08\\x00\\xcd\\x80UX\\xb3\\xbe\\xa8\\x83^\\x01\\x00\\x00?\\x04\\x00\\x00\\x0f\\x00\\x00\\x00xl/workbook.xml\\xb5\\x93\\xddj\\xc30\\x0c\\x85_%\\xf8\\x01\\x964M\\n+Ma\\xacl+\\x8c\\xad\\xac\\xa3\\xf7n\\xa24\\xa2\\xfe\\t\\xb6\\xd3n}\\xfa)\\x0ea\\x81A\\xd8M\\xaed\\x1d\\x99\\xc3\\'!\\xad\\xae\\xda\\x9c\\x8fZ\\x9f\\x83/)\\x94\\xcdX\\xe5\\\\\\xbd\\x0cC\\x9bW \\xb9\\xbd\\xd35(\\xaa\\x94\\xdaH\\xee(5\\xa7\\xd0\\xd6\\x06xa+\\x00\\'E\\x18G\\xd1\"\\x94\\x1c\\x15[\\xafz\\xaf\\x9d\\t\\x87\\x89v\\x90;\\xd4\\x8a\\xc4V8 \\\\\\xedo\\xbdM\\x83\\x0bZ<\\xa2@\\xf7\\x9d1\\xff\\x16\\xc0\\x02\\x89\\n%\\xde\\xa0\\xc8X\\xc4\\x02[\\xe9\\xeb\\x8b6x\\xd3\\xcaq\\xb1\\xcf\\x8d\\x16\"c\\xb3\\xaep\\x00\\xe30\\xff#\\xef[\\xc8O~\\xb4^q\\xfc\\xf8\\xc1\\t$c\\x8b\\x88\\x0cK4\\xd6\\xf9\\x1f\\xde\\x9f\\x13\\xe3\\x05\\xe8s\\x975N?\\xa1p`6\\xdc\\xc1\\xb3\\xd1M\\x8d\\xea\\xd4\\xdaP\\x17\\xe1\\xa0\\r?\\x87>vC\\\\\\x9a\\xff\\x8cQ\\x97%\\xe6\\xb0\\xd1y#A\\xb9n\\x8e\\x06D\\x0b\\xa8l\\x85\\xb5e\\x81\\xe2\\x122\\xf6\\xe0\\x9b!\\xf7m\\xd15\\xe6\\x88h0&\\xb3D*\\x98m\\xe1\\xd9&\\xe4\\x88\\x07\\x1c\\xf1\\x08G<1\\xc7|\\xc01\\x1f\\xe1\\x98O\\xcc\\x91\\x0c8\\x92\\x11\\x8edb\\x8et\\xc0\\x91\\x8ep\\xa4~w\\xfb\\x85-\\xa0D\\x05\\xc5\\x1byX\\xd2\\xe9x\\xf2\\x9d\\t\\xda\\xe0\\xf7,N\\xd2\\xd9=\\x1dI#\\xc4#i\\xef\\xeaU\\xf3\\xa2\\xdf\\xff\\xfev\\xd7?PK\\x03\\x04\\x14\\x00\\x00\\x00\\x08\\x00\\xcd\\x80UX\\x859H\\x9d\\xc7\\x00\\x00\\x00<\\x04\\x00\\x00\\x1a\\x00\\x00\\x00xl/_rels/workbook.xml.rels\\xc5\\x94M\\x0e\\x820\\x10F\\xafBz\\x00F\\x0111\\xc0\\xca\\r[\\xe3\\x05\\x9a:P\\xc2O\\x9b\\xce\\x18\\xf1\\xf6\\xa2,\\xa0\\x89\\x0b7\\x86U\\xf3M\\xd3\\xf7\\xbd\\xcd4\\xbb`\\'\\xb91\\x03\\xe9\\xc6R0\\xf6\\xdd@\\xb9\\xd0\\xcc\\xf6\\x04@Jc/)4\\x16\\x87\\xe9\\xa62\\xae\\x97<EW\\x83\\x95\\xaa\\x955B\\xb4\\xdb\\xa5\\xe0\\xd6\\x0cQdkfp}Z\\xfc\\x85h\\xaa\\xaaQx6\\xea\\xde\\xe3\\xc0_\\xc0\\xf00\\xae%\\x8d\\xc8\"\\xb8JW#\\xe7\\x02\\xc6n\\x19\\x13|\\x8e}8\\x91EP\\xder\\xe1\\xca\\xdb^\\xc0\\xd6B\\x91\\'\\x14m/\\x14{B\\xf1\\xf6B\\x89\\'\\x94l/t\\xf0\\x84\\x0e\\x7f\\x14\"~vH\\x8b\\xcd\\x9c\\xbd\\xfa\\xf4\\x8f\\xf5<\\xbd\\xc5\\xa5\\xfd\\x13\\xe7\\xa1\\xbfF\\xc7\\xb7\\x03x\\x9fE\\xf1\\x02PK\\x03\\x04\\x14\\x00\\x00\\x00\\x08\\x00\\xcd\\x80UXP\\xdd\\xff\\xcb+\\x01\\x00\\x00\\xef\\x05\\x00\\x00\\x13\\x00\\x00\\x00[Content_Types].xml\\xcd\\x94MO\\xc30\\x0c\\x86\\xffJ\\xd5\\xeb\\xd4f\\x8c\\x8f\\x03Zw\\x01\\xae\\xb0\\x03\\x7f \\xb4\\xee\\x1a5_\\x8a\\xbd\\xd1\\xfd{\\xdcv\\x9b\\x04\\x1a\\x15S\\'\\xd1K\\xa2\\xc4\\xf6\\xfb\\xbc\\xb1\\xa5,\\xdf\\xf7\\x1e0j\\x8c\\xb6\\x98\\xc5\\x15\\x91\\x7f\\x14\\x02\\xf3\\n\\x8c\\xc4\\xd4y\\xb0\\x1c)]0\\x92\\xf8\\x186\\xc2\\xcb\\xbc\\x96\\x1b\\x10\\x8b\\xf9\\xfcA\\xe4\\xce\\x12XJ\\xa8\\xd5\\x88W\\xcbg(\\xe5VS\\xf4\\xd2\\xf05*g\\xb38\\x80\\xc68z\\xea\\x13[V\\x16K\\xef\\xb5\\xca%q\\\\\\xecl\\xf1\\x83\\x92\\x1c\\x08)Wv9X)\\x8f3N\\x88\\xc5YB\\x1b\\xf9\\x1dp\\xa8{\\xdbA\\x08\\xaa\\x80h-\\x03\\xbdJ\\xc3Y\\xa2\\xd1\\x02i\\xaf\\x01\\xd3a\\x893\\x1e]Y\\xaa\\x1c\\n\\x97o\\r\\x97\\xa4\\xe8\\x03\\xc8\\x02+\\x002:\\xedEg\\xc3d\\xe2\\x0eC\\xbf\\xde\\x8c\\xe6w2C@\\xce\\\\\\x07\\xe7\\x91\\'\\x16\\xe0r\\xdcq$mu\\xe2Y\\x08\\x02\\xa9\\xe1\\'\\x9e\\x88,=\\xfa}\\xd0N\\xbb\\x80\\xe2\\x8fln\\xef\\xa7\\x0bu7\\x0f\\x14\\xdd6\\xbe\\xc7\\xdfg|\\xd2\\xbf\\xd0\\xc7b\">n\\'\\xe2\\xe3n\">\\xee\\xff\\xd1\\xc7\\x87s\\xf5\\xb5\\xbf\\xa0vO\\x8dT\\xf6\\xc8\\x17\\xdd?\\xbf\\xfa\\x02PK\\x01\\x02\\x14\\x03\\x14\\x00\\x00\\x00\\x08\\x00\\xcd\\x80UXFZ\\xc1\\x0c\\x82\\x00\\x00\\x00\\xb1\\x00\\x00\\x00\\x10\\x00\\x00\\x00\\x00\\x00\\x00\\x00\\x00\\x00\\x00\\x00\\x80\\x01\\x00\\x00\\x00\\x00docProps/app.xmlPK\\x01\\x02\\x14\\x03\\x14\\x00\\x00\\x00\\x08\\x00\\xcd\\x80UX\\x91\\x04\\x06\\xb0\\xee\\x00\\x00\\x00+\\x02\\x00\\x00\\x11\\x00\\x00\\x00\\x00\\x00\\x00\\x00\\x00\\x00\\x00\\x00\\x80\\x01\\xb0\\x00\\x00\\x00docProps/core.xmlPK\\x01\\x02\\x14\\x03\\x14\\x00\\x00\\x00\\x08\\x00\\xcd\\x80UX\\x99\\\\\\x9c#\\x10\\x06\\x00\\x00\\x9c\\'\\x00\\x00\\x13\\x00\\x00\\x00\\x00\\x00\\x00\\x00\\x00\\x00\\x00\\x00\\x80\\x01\\xcd\\x01\\x00\\x00xl/theme/theme1.xmlPK\\x01\\x02\\x14\\x03\\x14\\x00\\x00\\x00\\x08\\x00\\xcd\\x80UXL`\\xfcFp\\x01\\x00\\x00\\x9c\\x03\\x00\\x00\\x18\\x00\\x00\\x00\\x00\\x00\\x00\\x00\\x00\\x00\\x00\\x00\\x80\\x81\\x0e\\x08\\x00\\x00xl/worksheets/sheet1.xmlPK\\x01\\x02\\x14\\x03\\x14\\x00\\x00\\x00\\x08\\x00\\xcd\\x80UX\\x846\\xbf\\xbfu\\x01\\x00\\x00\\x9f\\x03\\x00\\x00\\x18\\x00\\x00\\x00\\x00\\x00\\x00\\x00\\x00\\x00\\x00\\x00\\x80\\x81\\xb4\\t\\x00\\x00xl/worksheets/sheet2.xmlPK\\x01\\x02\\x14\\x03\\x14\\x00\\x00\\x00\\x08\\x00\\xcd\\x80UXT&\\xeb\\xdfw\\x01\\x00\\x00\\xa0\\x03\\x00\\x00\\x18\\x00\\x00\\x00\\x00\\x00\\x00\\x00\\x00\\x00\\x00\\x00\\x80\\x81_\\x0b\\x00\\x00xl/worksheets/sheet3.xmlPK\\x01\\x02\\x14\\x03\\x14\\x00\\x00\\x00\\x08\\x00\\xcd\\x80UXns3\\xaey\\x01\\x00\\x00\\x9f\\x03\\x00\\x00\\x18\\x00\\x00\\x00\\x00\\x00\\x00\\x00\\x00\\x00\\x00\\x00\\x80\\x81\\x0c\\r\\x00\\x00xl/worksheets/sheet4.xmlPK\\x01\\x02\\x14\\x03\\x14\\x00\\x00\\x00\\x08\\x00\\xcd\\x80UXy\\x10\\xa8\\xeap\\x01\\x00\\x00\\x98\\x03\\x00\\x00\\x18\\x00\\x00\\x00\\x00\\x00\\x00\\x00\\x00\\x00\\x00\\x00\\x80\\x81\\xbb\\x0e\\x00\\x00xl/worksheets/sheet5.xmlPK\\x01\\x02\\x14\\x03\\x14\\x00\\x00\\x00\\x08\\x00\\xcd\\x80UX|\\xf3\\xa3\\xdcQ\\x02\\x00\\x00\\xf6\\t\\x00\\x00\\r\\x00\\x00\\x00\\x00\\x00\\x00\\x00\\x00\\x00\\x00\\x00\\x80\\x01a\\x10\\x00\\x00xl/styles.xmlPK\\x01\\x02\\x14\\x03\\x14\\x00\\x00\\x00\\x08\\x00\\xcd\\x80UX\\x97\\x8a\\xbb\\x1c\\xc0\\x00\\x00\\x00\\x13\\x02\\x00\\x00\\x0b\\x00\\x00\\x00\\x00\\x00\\x00\\x00\\x00\\x00\\x00\\x00\\x80\\x01\\xdd\\x12\\x00\\x00_rels/.relsPK\\x01\\x02\\x14\\x03\\x14\\x00\\x00\\x00\\x08\\x00\\xcd\\x80UX\\xb3\\xbe\\xa8\\x83^\\x01\\x00\\x00?\\x04\\x00\\x00\\x0f\\x00\\x00\\x00\\x00\\x00\\x00\\x00\\x00\\x00\\x00\\x00\\x80\\x01\\xc6\\x13\\x00\\x00xl/workbook.xmlPK\\x01\\x02\\x14\\x03\\x14\\x00\\x00\\x00\\x08\\x00\\xcd\\x80UX\\x859H\\x9d\\xc7\\x00\\x00\\x00<\\x04\\x00\\x00\\x1a\\x00\\x00\\x00\\x00\\x00\\x00\\x00\\x00\\x00\\x00\\x00\\x80\\x01Q\\x15\\x00\\x00xl/_rels/workbook.xml.relsPK\\x01\\x02\\x14\\x03\\x14\\x00\\x00\\x00\\x08\\x00\\xcd\\x80UXP\\xdd\\xff\\xcb+\\x01\\x00\\x00\\xef\\x05\\x00\\x00\\x13\\x00\\x00\\x00\\x00\\x00\\x00\\x00\\x00\\x00\\x00\\x00\\x80\\x01P\\x16\\x00\\x00[Content_Types].xmlPK\\x05\\x06\\x00\\x00\\x00\\x00\\r\\x00\\r\\x00V\\x03\\x00\\x00\\xac\\x17\\x00\\x00\\x00\\x00'}"
            ]
          },
          "metadata": {},
          "execution_count": 13
        }
      ]
    },
    {
      "cell_type": "code",
      "source": [
        "file = pd.ExcelFile(\"sem_14_task_3.xlsx\")\n",
        "\n",
        "for sheet_name in file.sheet_names:\n",
        "    df = pd.read_excel(file, sheet_name=sheet_name, header=None)\n",
        "    M = sympy.Matrix(df.values)\n",
        "\n",
        "    eigenvalues = M.eigenvals()\n",
        "    eigenvectors = M.eigenvects()\n",
        "\n",
        "    display(M)\n",
        "    display(eigenvalues)\n",
        "    display(eigenvectors)"
      ],
      "metadata": {
        "id": "6kKl23r4Zg_P",
        "colab": {
          "base_uri": "https://localhost:8080/",
          "height": 1000
        },
        "outputId": "cb6dbe9c-58e1-4469-c34e-5d19892ebc54"
      },
      "execution_count": null,
      "outputs": [
        {
          "output_type": "display_data",
          "data": {
            "text/plain": [
              "Matrix([\n",
              "[  7, 37, -37],\n",
              "[ 37, -5,   5],\n",
              "[-37,  5,  -5]])"
            ],
            "text/latex": "$\\displaystyle \\left[\\begin{matrix}7 & 37 & -37\\\\37 & -5 & 5\\\\-37 & 5 & -5\\end{matrix}\\right]$"
          },
          "metadata": {}
        },
        {
          "output_type": "display_data",
          "data": {
            "text/plain": [
              "{-3*sqrt(1249)/2 - 3/2: 1, -3/2 + 3*sqrt(1249)/2: 1, 0: 1}"
            ]
          },
          "metadata": {}
        },
        {
          "output_type": "display_data",
          "data": {
            "text/plain": [
              "[(0,\n",
              "  1,\n",
              "  [Matrix([\n",
              "   [0],\n",
              "   [1],\n",
              "   [1]])]),\n",
              " (-3/2 + 3*sqrt(1249)/2,\n",
              "  1,\n",
              "  [Matrix([\n",
              "   [-3*sqrt(1249)/74 - 17/74],\n",
              "   [                      -1],\n",
              "   [                       1]])]),\n",
              " (-3*sqrt(1249)/2 - 3/2,\n",
              "  1,\n",
              "  [Matrix([\n",
              "   [-17/74 + 3*sqrt(1249)/74],\n",
              "   [                      -1],\n",
              "   [                       1]])])]"
            ]
          },
          "metadata": {}
        },
        {
          "output_type": "display_data",
          "data": {
            "text/plain": [
              "Matrix([\n",
              "[  7,  30, -37],\n",
              "[ 30, -72,  42],\n",
              "[-37,  42,  -5]])"
            ],
            "text/latex": "$\\displaystyle \\left[\\begin{matrix}7 & 30 & -37\\\\30 & -72 & 42\\\\-37 & 42 & -5\\end{matrix}\\right]$"
          },
          "metadata": {}
        },
        {
          "output_type": "display_data",
          "data": {
            "text/plain": [
              "{-sqrt(5437) - 35: 1, -35 + sqrt(5437): 1, 0: 1}"
            ]
          },
          "metadata": {}
        },
        {
          "output_type": "display_data",
          "data": {
            "text/plain": [
              "[(0,\n",
              "  1,\n",
              "  [Matrix([\n",
              "   [1],\n",
              "   [1],\n",
              "   [1]])]),\n",
              " (-35 + sqrt(5437),\n",
              "  1,\n",
              "  [Matrix([\n",
              "   [-sqrt(5437)/79 - 12/79],\n",
              "   [-67/79 + sqrt(5437)/79],\n",
              "   [                     1]])]),\n",
              " (-sqrt(5437) - 35,\n",
              "  1,\n",
              "  [Matrix([\n",
              "   [-12/79 + sqrt(5437)/79],\n",
              "   [-sqrt(5437)/79 - 67/79],\n",
              "   [                     1]])])]"
            ]
          },
          "metadata": {}
        },
        {
          "output_type": "display_data",
          "data": {
            "text/plain": [
              "Matrix([\n",
              "[  7,  37, -44],\n",
              "[ 37,  -5, -32],\n",
              "[-44, -32,  76]])"
            ],
            "text/latex": "$\\displaystyle \\left[\\begin{matrix}7 & 37 & -44\\\\37 & -5 & -32\\\\-44 & -32 & 76\\end{matrix}\\right]$"
          },
          "metadata": {}
        },
        {
          "output_type": "display_data",
          "data": {
            "text/plain": [
              "{39 - 21*sqrt(13): 1, 39 + 21*sqrt(13): 1, 0: 1}"
            ]
          },
          "metadata": {}
        },
        {
          "output_type": "display_data",
          "data": {
            "text/plain": [
              "[(0,\n",
              "  1,\n",
              "  [Matrix([\n",
              "   [1],\n",
              "   [1],\n",
              "   [1]])]),\n",
              " (39 - 21*sqrt(13),\n",
              "  1,\n",
              "  [Matrix([\n",
              "   [ 23/4 + 7*sqrt(13)/4],\n",
              "   [-27/4 - 7*sqrt(13)/4],\n",
              "   [                   1]])]),\n",
              " (39 + 21*sqrt(13),\n",
              "  1,\n",
              "  [Matrix([\n",
              "   [ 23/4 - 7*sqrt(13)/4],\n",
              "   [-27/4 + 7*sqrt(13)/4],\n",
              "   [                   1]])])]"
            ]
          },
          "metadata": {}
        },
        {
          "output_type": "display_data",
          "data": {
            "text/plain": [
              "Matrix([\n",
              "[  7,  30, -44],\n",
              "[ 30, -72,  12],\n",
              "[-44,  12,  76]])"
            ],
            "text/latex": "$\\displaystyle \\left[\\begin{matrix}7 & 30 & -44\\\\30 & -72 & 12\\\\-44 & 12 & 76\\end{matrix}\\right]$"
          },
          "metadata": {}
        },
        {
          "output_type": "display_data",
          "data": {
            "text/plain": [
              "{11/2 - sqrt(33817)/2: 1, 11/2 + sqrt(33817)/2: 1, 0: 1}"
            ]
          },
          "metadata": {}
        },
        {
          "output_type": "display_data",
          "data": {
            "text/plain": [
              "[(0,\n",
              "  1,\n",
              "  [Matrix([\n",
              "   [2],\n",
              "   [1],\n",
              "   [1]])]),\n",
              " (11/2 - sqrt(33817)/2,\n",
              "  1,\n",
              "  [Matrix([\n",
              "   [117/136 + sqrt(33817)/136],\n",
              "   [ -185/68 - sqrt(33817)/68],\n",
              "   [                        1]])]),\n",
              " (11/2 + sqrt(33817)/2,\n",
              "  1,\n",
              "  [Matrix([\n",
              "   [117/136 - sqrt(33817)/136],\n",
              "   [ -185/68 + sqrt(33817)/68],\n",
              "   [                        1]])])]"
            ]
          },
          "metadata": {}
        },
        {
          "output_type": "display_data",
          "data": {
            "text/plain": [
              "Matrix([\n",
              "[76, 32, 0],\n",
              "[32, -5, 0],\n",
              "[ 0,  0, 0]])"
            ],
            "text/latex": "$\\displaystyle \\left[\\begin{matrix}76 & 32 & 0\\\\32 & -5 & 0\\\\0 & 0 & 0\\end{matrix}\\right]$"
          },
          "metadata": {}
        },
        {
          "output_type": "display_data",
          "data": {
            "text/plain": [
              "{71/2 - sqrt(10657)/2: 1, 71/2 + sqrt(10657)/2: 1, 0: 1}"
            ]
          },
          "metadata": {}
        },
        {
          "output_type": "display_data",
          "data": {
            "text/plain": [
              "[(0,\n",
              "  1,\n",
              "  [Matrix([\n",
              "   [0],\n",
              "   [0],\n",
              "   [1]])]),\n",
              " (71/2 - sqrt(10657)/2,\n",
              "  1,\n",
              "  [Matrix([\n",
              "   [81/64 - sqrt(10657)/64],\n",
              "   [                     1],\n",
              "   [                     0]])]),\n",
              " (71/2 + sqrt(10657)/2,\n",
              "  1,\n",
              "  [Matrix([\n",
              "   [81/64 + sqrt(10657)/64],\n",
              "   [                     1],\n",
              "   [                     0]])])]"
            ]
          },
          "metadata": {}
        }
      ]
    },
    {
      "cell_type": "markdown",
      "source": [
        "### Задание 4.\n",
        "Привести квадратичную форму с матрицей\n",
        "$$\n",
        "\\left[\\begin{matrix}-645 & -12 & -960\\\\-12 & 3 & 9\\\\-960 & 9 & -1205\\end{matrix}\\right]\n",
        "$$\n",
        "к каноническому виду с помощью перехода к новому базису из собственных векторов.\n",
        "\n",
        "Вывести на экран матрицу перехода к новому базису, матрицу квадратичной формы в новом базисе и квадратичную форму в старом и новом базисе (в виде многочлена от переменных $x$, $y$, $z$)."
      ],
      "metadata": {
        "id": "PalqMShnV6wN"
      }
    },
    {
      "cell_type": "code",
      "source": [
        "A = sympy.Matrix([\n",
        "    [-645, -12, -960],\n",
        "    [-12, 3, 9],\n",
        "    [-960, 9, -1205]\n",
        "])\n",
        "\n",
        "eigenvectors = A.eigenvects()\n",
        "P = Matrix.hstack(*[vec[2][0].normalized() for vec in eigenvectors])\n",
        "\n",
        "P_ = P.inv()\n",
        "\n",
        "A_can = P_ * A * P\n",
        "\n",
        "display(P)\n",
        "display(A_can)\n",
        "\n",
        "x, y, z = sympy.symbols('x y z')\n",
        "X = sympy.Matrix([x, y, z])\n",
        "\n",
        "display(X.T * A * X)\n",
        "display(X.T * A_can * X)"
      ],
      "metadata": {
        "id": "eSsL2l0yZhgN",
        "colab": {
          "base_uri": "https://localhost:8080/",
          "height": 191
        },
        "outputId": "58dff3d5-7af3-4867-cd04-5a7ed6510ea0"
      },
      "execution_count": null,
      "outputs": [
        {
          "output_type": "display_data",
          "data": {
            "text/plain": [
              "Matrix([\n",
              "[3/5, -2*sqrt(26)/65, -2*sqrt(26)/13],\n",
              "[  0, -5*sqrt(26)/26,    sqrt(26)/26],\n",
              "[4/5, 3*sqrt(26)/130,  3*sqrt(26)/26]])"
            ],
            "text/latex": "$\\displaystyle \\left[\\begin{matrix}\\frac{3}{5} & - \\frac{2 \\sqrt{26}}{65} & - \\frac{2 \\sqrt{26}}{13}\\\\0 & - \\frac{5 \\sqrt{26}}{26} & \\frac{\\sqrt{26}}{26}\\\\\\frac{4}{5} & \\frac{3 \\sqrt{26}}{130} & \\frac{3 \\sqrt{26}}{26}\\end{matrix}\\right]$"
          },
          "metadata": {}
        },
        {
          "output_type": "display_data",
          "data": {
            "text/plain": [
              "Matrix([\n",
              "[-1925, 0,  0],\n",
              "[    0, 0,  0],\n",
              "[    0, 0, 78]])"
            ],
            "text/latex": "$\\displaystyle \\left[\\begin{matrix}-1925 & 0 & 0\\\\0 & 0 & 0\\\\0 & 0 & 78\\end{matrix}\\right]$"
          },
          "metadata": {}
        },
        {
          "output_type": "display_data",
          "data": {
            "text/plain": [
              "Matrix([[x*(-645*x - 12*y - 960*z) + y*(-12*x + 3*y + 9*z) + z*(-960*x + 9*y - 1205*z)]])"
            ],
            "text/latex": "$\\displaystyle \\left[\\begin{matrix}x \\left(- 645 x - 12 y - 960 z\\right) + y \\left(- 12 x + 3 y + 9 z\\right) + z \\left(- 960 x + 9 y - 1205 z\\right)\\end{matrix}\\right]$"
          },
          "metadata": {}
        },
        {
          "output_type": "display_data",
          "data": {
            "text/plain": [
              "Matrix([[-1925*x**2 + 78*z**2]])"
            ],
            "text/latex": "$\\displaystyle \\left[\\begin{matrix}- 1925 x^{2} + 78 z^{2}\\end{matrix}\\right]$"
          },
          "metadata": {}
        }
      ]
    },
    {
      "cell_type": "markdown",
      "metadata": {
        "id": "D7VmR2N5PrjY"
      },
      "source": [
        "### Задание 5*.\n",
        "Определить тип кривой второго порядка, заданной уравнением\n",
        "$$\n",
        "97x^2 - 144xy + 97y^2 + 482x - 532y = 3452\n",
        "$$\n",
        "Построить в одной координатной плоскости график заданного уравнения и канонического уравнения соответствующей кривой, каноническое уравнение сделать названием графика."
      ]
    },
    {
      "cell_type": "code",
      "source": [
        "A3 = Matrix([\n",
        "    [97, -72, 241],\n",
        "    [-72, 97, -266],\n",
        "    [241, -266, -3452]\n",
        "])\n",
        "\n",
        "X3 = sympy.Matrix([x, y, 1])\n",
        "eq3 = Eq(simplify(expand(X3.T * A3 * X3))[0], 0)\n",
        "display(eq3)\n",
        "\n",
        "alpha = sympy.acot((A3[0, 0] - A3[1, 1]) / (2 * A3[0, 1])) / 2\n",
        "P = Matrix([[Cos(alpha), -Sin(alpha), 0],\n",
        "            [Sin(alpha), Cos(alpha), 0],\n",
        "            [0, 0, 1]])\n",
        "P.simplify()\n",
        "display(P)\n",
        "A3_new = P.T * A3 * P\n",
        "A3_new.simplify()\n",
        "display(A3_new)\n",
        "\n",
        "X, Y = sympy.symbols(\"X Y\")\n",
        "\n",
        "X3 = Matrix((X, Y, 1))\n",
        "simplify(expand((X3.T * A3_new * X3)[0]))\n",
        "X3_new = Matrix((X - A3_new[0, 2] / A3_new[0, 0], Y - A3_new[1, 2] / A3_new[1, 1], 1))\n",
        "eq3_new = simplify(expand(X3_new.T * A3_new * X3_new))[0]\n",
        "free = eq3_new.subs({X: 0, Y: 0})\n",
        "\n",
        "eq3_last = eq3_new / (-free) + 1\n",
        "eq3_last_xy = Eq(eq3_last.subs({X: x, Y: y}), 1)\n",
        "display(expand(eq3_last_xy))\n",
        "\n",
        "p = plot_implicit(eq3, line_color='g', xlabel='$x$', ylabel='$y$', title=f'{latex(eq3_last_xy, mode=\"inline\")}\\n', show=False)\n",
        "p.extend(plot_implicit(eq3_last_xy, line_color='m', show=False))\n",
        "p.show()"
      ],
      "metadata": {
        "id": "VXrgI2iCZo0h",
        "colab": {
          "base_uri": "https://localhost:8080/",
          "height": 687
        },
        "outputId": "22011b22-8842-48f9-f21c-ca65f38a291f"
      },
      "execution_count": 27,
      "outputs": [
        {
          "output_type": "display_data",
          "data": {
            "text/plain": [
              "Eq(97*x**2 - 144*x*y + 482*x + 97*y**2 - 532*y - 3452, 0)"
            ],
            "text/latex": "$\\displaystyle 97 x^{2} - 144 x y + 482 x + 97 y^{2} - 532 y - 3452 = 0$"
          },
          "metadata": {}
        },
        {
          "output_type": "display_data",
          "data": {
            "text/plain": [
              "Matrix([\n",
              "[sqrt(2)/2, -sqrt(2)/2, 0],\n",
              "[sqrt(2)/2,  sqrt(2)/2, 0],\n",
              "[        0,          0, 1]])"
            ],
            "text/latex": "$\\displaystyle \\left[\\begin{matrix}\\frac{\\sqrt{2}}{2} & - \\frac{\\sqrt{2}}{2} & 0\\\\\\frac{\\sqrt{2}}{2} & \\frac{\\sqrt{2}}{2} & 0\\\\0 & 0 & 1\\end{matrix}\\right]$"
          },
          "metadata": {}
        },
        {
          "output_type": "display_data",
          "data": {
            "text/plain": [
              "Matrix([\n",
              "[           25,              0,  -25*sqrt(2)/2],\n",
              "[            0,            169, -507*sqrt(2)/2],\n",
              "[-25*sqrt(2)/2, -507*sqrt(2)/2,          -3452]])"
            ],
            "text/latex": "$\\displaystyle \\left[\\begin{matrix}25 & 0 & - \\frac{25 \\sqrt{2}}{2}\\\\0 & 169 & - \\frac{507 \\sqrt{2}}{2}\\\\- \\frac{25 \\sqrt{2}}{2} & - \\frac{507 \\sqrt{2}}{2} & -3452\\end{matrix}\\right]$"
          },
          "metadata": {}
        },
        {
          "output_type": "display_data",
          "data": {
            "text/plain": [
              "Eq(x**2/169 + y**2/25, 1)"
            ],
            "text/latex": "$\\displaystyle \\frac{x^{2}}{169} + \\frac{y^{2}}{25} = 1$"
          },
          "metadata": {}
        },
        {
          "output_type": "display_data",
          "data": {
            "text/plain": [
              "<Figure size 640x480 with 1 Axes>"
            ],
            "image/png": "[encoded data removed]"
          },
          "metadata": {}
        }
      ]
    },
    {
      "cell_type": "markdown",
      "metadata": {
        "id": "goIfBxdUPrja"
      },
      "source": [
        "### Задание 6*.\n",
        "Определить тип кривой второго порядка, заданной уравнением\n",
        "$$\n",
        "x^2+2xy+y^2-4x+4y=4\n",
        "$$\n",
        "Построить в одной координатной плоскости график заданного уравнения и канонического уравнения соответствующей кривой, каноническое уравнение сделать названием графика.\n",
        "\n",
        "Указание: каноническое уравнение параболы $y^2 = 2px$ или $x^2 = 2py$; для того, чтобы выразить $x$ или $y$ можно воспользоваться solve или solveset."
      ]
    },
    {
      "cell_type": "code",
      "source": [],
      "metadata": {
        "id": "xUmhnq0FZoa6"
      },
      "execution_count": 13,
      "outputs": []
    },
    {
      "cell_type": "markdown",
      "metadata": {
        "id": "WM4LDoZIPrjc"
      },
      "source": [
        "###  Индивидуальное задание\n",
        "Составить матрицу квадратичной формы и привести ее к каноническому виду с помощью перехода к новому базису из собственных векторов. Векторы выводить на экран не нужно. Вывести на экран матрицу в исходном виде и канонической форме, а также саму квадратичную форму в каноническом виде.\n",
        "![image.png](data:image/png;base64,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)"
      ]
    },
    {
      "cell_type": "code",
      "source": [
        "x, y, z = sympy.symbols('x y z')\n",
        "\n",
        "a = 751\n",
        "b = -110 * sympy.sqrt(3)\n",
        "c = 196 * sympy.sqrt(6)\n",
        "d = 125\n",
        "e = 660 * sympy.sqrt(2)\n",
        "f = -376\n",
        "\n",
        "A = sympy.Matrix([\n",
        "    [a, b/2, c/2],\n",
        "    [b/2, d, e/2],\n",
        "    [c/2, e/2, f]\n",
        "])\n",
        "display(A)\n",
        "\n",
        "eigenvects = A.eigenvects()\n",
        "\n",
        "P = Matrix.hstack(*[vec[2][0].normalized() for vec in eigenvects])\n",
        "P_ = P.inv()\n",
        "\n",
        "A_can = P_ * A * P\n",
        "display(A_can)\n",
        "\n",
        "x, y, z = sympy.symbols('x y z')\n",
        "X = sympy.Matrix([x, y, z])\n",
        "quadratic_form = X.T * A_can * X\n",
        "display(quadratic_form[0])"
      ],
      "metadata": {
        "id": "UpatF4CxZh_Z",
        "colab": {
          "base_uri": "https://localhost:8080/",
          "height": 164
        },
        "outputId": "5a25b57c-7221-4251-f763-517857edcbdb"
      },
      "execution_count": 33,
      "outputs": [
        {
          "output_type": "display_data",
          "data": {
            "text/plain": [
              "Matrix([\n",
              "[        751, -55*sqrt(3),  98*sqrt(6)],\n",
              "[-55*sqrt(3),         125, 330*sqrt(2)],\n",
              "[ 98*sqrt(6), 330*sqrt(2),        -376]])"
            ],
            "text/latex": "$\\displaystyle \\left[\\begin{matrix}751 & - 55 \\sqrt{3} & 98 \\sqrt{6}\\\\- 55 \\sqrt{3} & 125 & 330 \\sqrt{2}\\\\98 \\sqrt{6} & 330 \\sqrt{2} & -376\\end{matrix}\\right]$"
          },
          "metadata": {}
        },
        {
          "output_type": "display_data",
          "data": {
            "text/plain": [
              "Matrix([\n",
              "[-700,   0,   0],\n",
              "[   0, 400,   0],\n",
              "[   0,   0, 800]])"
            ],
            "text/latex": "$\\displaystyle \\left[\\begin{matrix}-700 & 0 & 0\\\\0 & 400 & 0\\\\0 & 0 & 800\\end{matrix}\\right]$"
          },
          "metadata": {}
        },
        {
          "output_type": "display_data",
          "data": {
            "text/plain": [
              "-700*x**2 + 400*y**2 + 800*z**2"
            ],
            "text/latex": "$\\displaystyle - 700 x^{2} + 400 y^{2} + 800 z^{2}$"
          },
          "metadata": {}
        }
      ]
    }
  ],
  "metadata": {
    "kernelspec": {
      "display_name": "Python 3",
      "language": "python",
      "name": "python3"
    },
    "language_info": {
      "codemirror_mode": {
        "name": "ipython",
        "version": 3
      },
      "file_extension": ".py",
      "mimetype": "text/x-python",
      "name": "python",
      "nbconvert_exporter": "python",
      "pygments_lexer": "ipython3",
      "version": "3.7.3"
    },
    "colab": {
      "provenance": [],
      "include_colab_link": true
    }
  },
  "nbformat": 4,
  "nbformat_minor": 0
}