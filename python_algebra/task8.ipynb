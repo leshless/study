{
  "nbformat": 4,
  "nbformat_minor": 0,
  "metadata": {
    "kernelspec": {
      "display_name": "Python 3",
      "language": "python",
      "name": "python3"
    },
    "language_info": {
      "codemirror_mode": {
        "name": "ipython",
        "version": 3
      },
      "file_extension": ".py",
      "mimetype": "text/x-python",
      "name": "python",
      "nbconvert_exporter": "python",
      "pygments_lexer": "ipython3",
      "version": "3.7.3"
    },
    "colab": {
      "provenance": [],
      "include_colab_link": true
    }
  },
  "cells": [
    {
      "cell_type": "markdown",
      "metadata": {
        "id": "view-in-github",
        "colab_type": "text"
      },
      "source": [
        "<a href=\"https://colab.research.google.com/github/leshless/study/blob/main/python_algebra/task8.ipynb\" target=\"_parent\"><img src=\"https://colab.research.google.com/assets/colab-badge.svg\" alt=\"Open In Colab\"/></a>"
      ]
    },
    {
      "cell_type": "markdown",
      "metadata": {
        "id": "KqMzidc80GGB"
      },
      "source": [
        "# Практическое занятие 8\n",
        "# Компьютерный практикум по алгебре на Python\n",
        "## Численное решение систем линейных алгебраических уравнений (СЛАУ) с numpy."
      ]
    },
    {
      "cell_type": "markdown",
      "metadata": {
        "id": "675Fb5ND0GGK"
      },
      "source": [
        "https://numpy.org/doc/stable/reference/routines.linalg.html"
      ]
    },
    {
      "cell_type": "code",
      "metadata": {
        "id": "TNk5d0Si0GGK"
      },
      "source": [
        "import numpy as np\n",
        "from numpy import linalg\n",
        "from google.colab import files\n",
        "import pandas as pd"
      ],
      "execution_count": 1,
      "outputs": []
    },
    {
      "cell_type": "markdown",
      "metadata": {
        "id": "dMGJ1uQC0GGM"
      },
      "source": [
        "### Задание 1.\n",
        "Решить СЛАУ с помощью linalg.solve() и выполнить проверку подстановкой.\n",
        "$$\n",
        "\\left\\{\n",
        "\\begin{matrix}\n",
        "-x+4y+3z=18\\\\\n",
        "5x-y+4z=81\\\\\n",
        "-3x+5y+5z=21\n",
        "\\end{matrix}\n",
        "\\right.\n",
        "$$"
      ]
    },
    {
      "cell_type": "code",
      "source": [
        "A = np.array([[-1, 4, 3],\n",
        "              [5, -1, 4],\n",
        "              [-3, 5, 5]])\n",
        "b = np.array([18, 81, 21])\n",
        "\n",
        "X = np.linalg.solve(A, b)\n",
        "print(f\"solution:\\n{X}\")\n",
        "\n",
        "assert np.allclose(np.dot(A, X), b)"
      ],
      "metadata": {
        "colab": {
          "base_uri": "https://localhost:8080/"
        },
        "id": "R3DwmXwDHcPd",
        "outputId": "efc01550-7447-44df-bf89-000d94e23b5b"
      },
      "execution_count": 6,
      "outputs": [
        {
          "output_type": "stream",
          "name": "stdout",
          "text": [
            "solution:\n",
            "[ 8. -1. 10.]\n"
          ]
        }
      ]
    },
    {
      "cell_type": "markdown",
      "source": [
        "### Задание 2.\n",
        "Определить с помощью Теоремы Кронекера-Капелли и linalg.matrix_rank, совместны ли СЛАУ\n",
        "$$\n",
        "a)\\ \\left\\{\n",
        "\\begin{matrix}\n",
        "-x + 4y + 3z = 18\\\\\n",
        "5x - y + 4z = 81\\\\\n",
        "8x - 13y - 5z = 2\n",
        "\\end{matrix}\n",
        "\\right.\n",
        "b)\\ \\left\\{\n",
        "\\begin{matrix}\n",
        "-x + 4y + 3z = 18\\\\\n",
        "5x - y + 4z = 81\\\\\n",
        "8x - 13y - 5z = 27\n",
        "\\end{matrix}\n",
        "\\right.\n",
        "c)\\ \\left\\{\n",
        "\\begin{matrix}\n",
        "-x + 4y + 3z = 18\\\\\n",
        "5x - y + 4z = 81\\\\\n",
        "8x - 13y - z = 27\n",
        "\\end{matrix}\n",
        "\\right.\n",
        "$$\n",
        "\n",
        "Сделать вывод о числе решений каждой СЛАУ (текстом)"
      ],
      "metadata": {
        "id": "E6-UJMGKB8Ej"
      }
    },
    {
      "cell_type": "code",
      "source": [
        "def print_sol_num(A, Ab):\n",
        "  print(f\"Матрица\\n{Ab}\")\n",
        "  if np.linalg.matrix_rank(A) != np.linalg.matrix_rank(Ab):\n",
        "    print(\"- Нет решений\")\n",
        "    return\n",
        "\n",
        "  if np.linalg.matrix_rank(Ab) < Ab.shape[0]:\n",
        "    print(\"- Бесконечное число решений\")\n",
        "    return\n",
        "\n",
        "  print(\"- Одно решение\")\n",
        "\n",
        "\n",
        "# a\n",
        "A = np.array([[-1, 4, 3], [5, -1, 4], [8, -13, -5]])\n",
        "Ab = np.array([[-1, 4, 3, 18], [5, -1, 4, 81], [8, -13, -5, 2]])\n",
        "print_sol_num(A, Ab)\n",
        "\n",
        "# a\n",
        "A = np.array([[-1, 4, 3], [5, -1, 4], [8, -13, -5]])\n",
        "Ab = np.array([[-1, 4, 3, 18], [5, -1, 4, 81], [8, -13, -5, 27]])\n",
        "print_sol_num(A, Ab)\n",
        "\n",
        "# c\n",
        "A = np.array([[-1, 4, 3], [5, -1, 4], [8, -13, -1]])\n",
        "Ab = np.array([[-1, 4, 3, 18], [5, -1, 4, 81], [8, -13, -1, 27]])\n",
        "print_sol_num(A, Ab)\n",
        "\n"
      ],
      "metadata": {
        "colab": {
          "base_uri": "https://localhost:8080/"
        },
        "id": "Xvf70a9dIU6x",
        "outputId": "a5251043-92eb-49cb-c960-7d2488f7be3c"
      },
      "execution_count": 8,
      "outputs": [
        {
          "output_type": "stream",
          "name": "stdout",
          "text": [
            "Матрица\n",
            "[[ -1   4   3  18]\n",
            " [  5  -1   4  81]\n",
            " [  8 -13  -5   2]]\n",
            "- Нет решений\n",
            "Матрица\n",
            "[[ -1   4   3  18]\n",
            " [  5  -1   4  81]\n",
            " [  8 -13  -5  27]]\n",
            "- Бесконечное число решений\n",
            "Матрица\n",
            "[[ -1   4   3  18]\n",
            " [  5  -1   4  81]\n",
            " [  8 -13  -1  27]]\n",
            "- Одно решение\n"
          ]
        }
      ]
    },
    {
      "cell_type": "markdown",
      "source": [
        "### Задание 3\n",
        "Описать функцию print_info с обязательным аргументом **$Ab$** - расширенной матрицей СЛАУ и необязательным аргументом  **end** (по умолчанию \"\\n\", его нужно передавать функции print как ее  необязательный аргумент end), выводящую на экран\n",
        "\n",
        "1) матрицу левой части СЛАУ\n",
        "\n",
        "2) столбец правой части СЛАУ\n",
        "\n",
        "3) транспонированную матрицу, полученную в 1)\n",
        "\n",
        "4) расширенную матрицу, полученную из матрицы 3) и столбца 2)\n",
        "\n",
        "5) созданную на основе списочного выражения np.array $3\\times 4$ из расположенных в шахматном порядке чисел $a$ и $-a$, где $a$ - правый нижний элемент матрицы 3).\n",
        "\n",
        "Применить полученную функцию к расширенным матрицам СЛАУ из Задания 2 со значением **end=\"\\\\n\\\\n\"**, а затем  **end** по умолчанию."
      ],
      "metadata": {
        "id": "Jbd5s9FSDK5X"
      }
    },
    {
      "cell_type": "code",
      "source": [
        "def print_info(Ab, end=\"\\n\"):\n",
        "  A = Ab[ : , :-1]\n",
        "  print(f\"1:\\n{A}\", end=end)\n",
        "\n",
        "  b = Ab[ : , -1]\n",
        "  print(f\"2:\\n{b}\", end=end)\n",
        "\n",
        "  AT = Ab[ : , :-1].T\n",
        "  print(f\"3:\\n{AT}\", end=end)\n",
        "\n",
        "  ATb = np.column_stack((AT, b))\n",
        "  print(f\"4:\\n{ATb}\", end=end)\n",
        "\n",
        "  a = AT[-1, -1]\n",
        "  X = np.array([[((i + j) % 2 * 2 - 1) * a for j in range(4)] for i in range(3)])\n",
        "  print(f\"5:\\n{X}\", end=end)\n",
        "\n",
        "Ab = np.array([[-1, 4, 3, 18], [5, -1, 4, 81], [8, -13, -5, 2]])\n",
        "print_info(Ab, end=\"\\n\\n\")\n",
        "print_info(Ab)"
      ],
      "metadata": {
        "colab": {
          "base_uri": "https://localhost:8080/"
        },
        "id": "HykRPrEDIY1X",
        "outputId": "e7a646c7-a510-486a-c32f-f738902a6048"
      },
      "execution_count": 12,
      "outputs": [
        {
          "output_type": "stream",
          "name": "stdout",
          "text": [
            "1:\n",
            "[[ -1   4   3]\n",
            " [  5  -1   4]\n",
            " [  8 -13  -5]]\n",
            "\n",
            "2:\n",
            "[18 81  2]\n",
            "\n",
            "3:\n",
            "[[ -1   5   8]\n",
            " [  4  -1 -13]\n",
            " [  3   4  -5]]\n",
            "\n",
            "4:\n",
            "[[ -1   5   8  18]\n",
            " [  4  -1 -13  81]\n",
            " [  3   4  -5   2]]\n",
            "\n",
            "5:\n",
            "[[ 5 -5  5 -5]\n",
            " [-5  5 -5  5]\n",
            " [ 5 -5  5 -5]]\n",
            "\n",
            "1:\n",
            "[[ -1   4   3]\n",
            " [  5  -1   4]\n",
            " [  8 -13  -5]]\n",
            "2:\n",
            "[18 81  2]\n",
            "3:\n",
            "[[ -1   5   8]\n",
            " [  4  -1 -13]\n",
            " [  3   4  -5]]\n",
            "4:\n",
            "[[ -1   5   8  18]\n",
            " [  4  -1 -13  81]\n",
            " [  3   4  -5   2]]\n",
            "5:\n",
            "[[ 5 -5  5 -5]\n",
            " [-5  5 -5  5]\n",
            " [ 5 -5  5 -5]]\n"
          ]
        }
      ]
    },
    {
      "cell_type": "markdown",
      "source": [
        "### Задание 4.\n",
        "Исследовать на совместность СЛАУ с параметром $a$ при значениях параметра $a=-1$, $a=0$ и $a=1$ и найти решение, если оно единственно и провести проверку подстановкой.\n",
        "$$\n",
        "\\left\\{\n",
        "\\begin{matrix}\n",
        "-x+5y-3z=8a\\\\\n",
        "4x-ay+5z=-a\\\\\n",
        "3x+4y+2z=5a\n",
        "\\end{matrix}\n",
        "\\right.\n",
        "$$\n",
        "**Указание** - описать функцию check_SLAE от аргументов $A$ и $b$ (матрица левой части и столбец правой части), которая возвращает 0 для несовместной СЛАУ, 1 для совместной СЛАУ с единственным решением и 2 в остальных случаях.\n",
        "\n",
        "Затем в цикле по значениям параметра $a$ проверять с помощью check_SLAE совместность и единственность решения СЛАУ и выводить на экран значение параметра и решение СЛАУ, если оно существует и единственно или \"решений нет\" или \"решение не единственно\"."
      ],
      "metadata": {
        "id": "3ezovPlhQWdy"
      }
    },
    {
      "cell_type": "code",
      "source": [
        "def check_SLAE(A, b):\n",
        "    Ab = np.column_stack((A, b))\n",
        "\n",
        "    if np.linalg.matrix_rank(A) != np.linalg.matrix_rank(Ab):\n",
        "        return 0\n",
        "\n",
        "    if np.linalg.matrix_rank(A) == np.linalg.matrix_rank(Ab) == A.shape[1]:\n",
        "        return 1\n",
        "\n",
        "    return 2\n",
        "\n",
        "for a in [-1, 0, 1]:\n",
        "    A = np.array([[-1, 5, -3], [4, -a, 5], [3, 4, 2]])\n",
        "    b = np.array([-8 * a, -a, 5 * a])\n",
        "\n",
        "    res = check_SLAE(A, b)\n",
        "    if res == 0:\n",
        "      print(f\"a = {a}: Нет решений\")\n",
        "      continue\n",
        "\n",
        "    if res == 1:\n",
        "      X = np.linalg.solve(A, b)\n",
        "      print(f\"a = {a}: Одно решение:\\n{X}\")\n",
        "      continue\n",
        "\n",
        "    print(f\"a = {a}: Бесконечное число решений\")"
      ],
      "metadata": {
        "colab": {
          "base_uri": "https://localhost:8080/"
        },
        "id": "TyMP88gdIZXv",
        "outputId": "ac2ce84e-4e21-43b7-967f-bebd15e4fb58"
      },
      "execution_count": 17,
      "outputs": [
        {
          "output_type": "stream",
          "name": "stdout",
          "text": [
            "a = -1: Одно решение:\n",
            "[-21.85714286   7.          16.28571429]\n",
            "a = 0: Одно решение:\n",
            "[ 0.  0. -0.]\n",
            "a = 1: Нет решений\n"
          ]
        }
      ]
    },
    {
      "cell_type": "markdown",
      "source": [
        "### Задание 5.\n",
        "Считать из файла 'SLAE_5.xlsx' матрицу левой части и столбец правой части с листов 'A5' и 'b5' и вывести их на экран.\n",
        "\n",
        "Решить СЛАУ $AX=b$ и вывести полученное решение на экран.\n",
        "\n",
        "Записать полученное решение в файл  'SLAE_5.xlsx' на лист 'X5'.\n",
        "\n",
        "Скачать полученный файл."
      ],
      "metadata": {
        "id": "AlxPOVRAYm_5"
      }
    },
    {
      "cell_type": "code",
      "source": [
        "from google.colab import files\n",
        "import pandas as pd\n",
        "uploaded = files.upload()"
      ],
      "metadata": {
        "colab": {
          "base_uri": "https://localhost:8080/",
          "height": 73
        },
        "id": "Mesvun65OpCb",
        "outputId": "03793c66-908c-4a4b-f5f0-3fe2c6413f6d"
      },
      "execution_count": 20,
      "outputs": [
        {
          "output_type": "display_data",
          "data": {
            "text/plain": [
              "<IPython.core.display.HTML object>"
            ],
            "text/html": [
              "\n",
              "     <input type=\"file\" id=\"files-d798bcf4-5dc3-4f96-8ed2-11e1858df392\" name=\"files[]\" multiple disabled\n",
              "        style=\"border:none\" />\n",
              "     <output id=\"result-d798bcf4-5dc3-4f96-8ed2-11e1858df392\">\n",
              "      Upload widget is only available when the cell has been executed in the\n",
              "      current browser session. Please rerun this cell to enable.\n",
              "      </output>\n",
              "      <script>// Copyright 2017 Google LLC\n",
              "//\n",
              "// Licensed under the Apache License, Version 2.0 (the \"License\");\n",
              "// you may not use this file except in compliance with the License.\n",
              "// You may obtain a copy of the License at\n",
              "//\n",
              "//      http://www.apache.org/licenses/LICENSE-2.0\n",
              "//\n",
              "// Unless required by applicable law or agreed to in writing, software\n",
              "// distributed under the License is distributed on an \"AS IS\" BASIS,\n",
              "// WITHOUT WARRANTIES OR CONDITIONS OF ANY KIND, either express or implied.\n",
              "// See the License for the specific language governing permissions and\n",
              "// limitations under the License.\n",
              "\n",
              "/**\n",
              " * @fileoverview Helpers for google.colab Python module.\n",
              " */\n",
              "(function(scope) {\n",
              "function span(text, styleAttributes = {}) {\n",
              "  const element = document.createElement('span');\n",
              "  element.textContent = text;\n",
              "  for (const key of Object.keys(styleAttributes)) {\n",
              "    element.style[key] = styleAttributes[key];\n",
              "  }\n",
              "  return element;\n",
              "}\n",
              "\n",
              "// Max number of bytes which will be uploaded at a time.\n",
              "const MAX_PAYLOAD_SIZE = 100 * 1024;\n",
              "\n",
              "function _uploadFiles(inputId, outputId) {\n",
              "  const steps = uploadFilesStep(inputId, outputId);\n",
              "  const outputElement = document.getElementById(outputId);\n",
              "  // Cache steps on the outputElement to make it available for the next call\n",
              "  // to uploadFilesContinue from Python.\n",
              "  outputElement.steps = steps;\n",
              "\n",
              "  return _uploadFilesContinue(outputId);\n",
              "}\n",
              "\n",
              "// This is roughly an async generator (not supported in the browser yet),\n",
              "// where there are multiple asynchronous steps and the Python side is going\n",
              "// to poll for completion of each step.\n",
              "// This uses a Promise to block the python side on completion of each step,\n",
              "// then passes the result of the previous step as the input to the next step.\n",
              "function _uploadFilesContinue(outputId) {\n",
              "  const outputElement = document.getElementById(outputId);\n",
              "  const steps = outputElement.steps;\n",
              "\n",
              "  const next = steps.next(outputElement.lastPromiseValue);\n",
              "  return Promise.resolve(next.value.promise).then((value) => {\n",
              "    // Cache the last promise value to make it available to the next\n",
              "    // step of the generator.\n",
              "    outputElement.lastPromiseValue = value;\n",
              "    return next.value.response;\n",
              "  });\n",
              "}\n",
              "\n",
              "/**\n",
              " * Generator function which is called between each async step of the upload\n",
              " * process.\n",
              " * @param {string} inputId Element ID of the input file picker element.\n",
              " * @param {string} outputId Element ID of the output display.\n",
              " * @return {!Iterable<!Object>} Iterable of next steps.\n",
              " */\n",
              "function* uploadFilesStep(inputId, outputId) {\n",
              "  const inputElement = document.getElementById(inputId);\n",
              "  inputElement.disabled = false;\n",
              "\n",
              "  const outputElement = document.getElementById(outputId);\n",
              "  outputElement.innerHTML = '';\n",
              "\n",
              "  const pickedPromise = new Promise((resolve) => {\n",
              "    inputElement.addEventListener('change', (e) => {\n",
              "      resolve(e.target.files);\n",
              "    });\n",
              "  });\n",
              "\n",
              "  const cancel = document.createElement('button');\n",
              "  inputElement.parentElement.appendChild(cancel);\n",
              "  cancel.textContent = 'Cancel upload';\n",
              "  const cancelPromise = new Promise((resolve) => {\n",
              "    cancel.onclick = () => {\n",
              "      resolve(null);\n",
              "    };\n",
              "  });\n",
              "\n",
              "  // Wait for the user to pick the files.\n",
              "  const files = yield {\n",
              "    promise: Promise.race([pickedPromise, cancelPromise]),\n",
              "    response: {\n",
              "      action: 'starting',\n",
              "    }\n",
              "  };\n",
              "\n",
              "  cancel.remove();\n",
              "\n",
              "  // Disable the input element since further picks are not allowed.\n",
              "  inputElement.disabled = true;\n",
              "\n",
              "  if (!files) {\n",
              "    return {\n",
              "      response: {\n",
              "        action: 'complete',\n",
              "      }\n",
              "    };\n",
              "  }\n",
              "\n",
              "  for (const file of files) {\n",
              "    const li = document.createElement('li');\n",
              "    li.append(span(file.name, {fontWeight: 'bold'}));\n",
              "    li.append(span(\n",
              "        `(${file.type || 'n/a'}) - ${file.size} bytes, ` +\n",
              "        `last modified: ${\n",
              "            file.lastModifiedDate ? file.lastModifiedDate.toLocaleDateString() :\n",
              "                                    'n/a'} - `));\n",
              "    const percent = span('0% done');\n",
              "    li.appendChild(percent);\n",
              "\n",
              "    outputElement.appendChild(li);\n",
              "\n",
              "    const fileDataPromise = new Promise((resolve) => {\n",
              "      const reader = new FileReader();\n",
              "      reader.onload = (e) => {\n",
              "        resolve(e.target.result);\n",
              "      };\n",
              "      reader.readAsArrayBuffer(file);\n",
              "    });\n",
              "    // Wait for the data to be ready.\n",
              "    let fileData = yield {\n",
              "      promise: fileDataPromise,\n",
              "      response: {\n",
              "        action: 'continue',\n",
              "      }\n",
              "    };\n",
              "\n",
              "    // Use a chunked sending to avoid message size limits. See b/62115660.\n",
              "    let position = 0;\n",
              "    do {\n",
              "      const length = Math.min(fileData.byteLength - position, MAX_PAYLOAD_SIZE);\n",
              "      const chunk = new Uint8Array(fileData, position, length);\n",
              "      position += length;\n",
              "\n",
              "      const base64 = btoa(String.fromCharCode.apply(null, chunk));\n",
              "      yield {\n",
              "        response: {\n",
              "          action: 'append',\n",
              "          file: file.name,\n",
              "          data: base64,\n",
              "        },\n",
              "      };\n",
              "\n",
              "      let percentDone = fileData.byteLength === 0 ?\n",
              "          100 :\n",
              "          Math.round((position / fileData.byteLength) * 100);\n",
              "      percent.textContent = `${percentDone}% done`;\n",
              "\n",
              "    } while (position < fileData.byteLength);\n",
              "  }\n",
              "\n",
              "  // All done.\n",
              "  yield {\n",
              "    response: {\n",
              "      action: 'complete',\n",
              "    }\n",
              "  };\n",
              "}\n",
              "\n",
              "scope.google = scope.google || {};\n",
              "scope.google.colab = scope.google.colab || {};\n",
              "scope.google.colab._files = {\n",
              "  _uploadFiles,\n",
              "  _uploadFilesContinue,\n",
              "};\n",
              "})(self);\n",
              "</script> "
            ]
          },
          "metadata": {}
        },
        {
          "output_type": "stream",
          "name": "stdout",
          "text": [
            "Saving SLAE_5.xlsx to SLAE_5.xlsx\n"
          ]
        }
      ]
    },
    {
      "cell_type": "code",
      "source": [
        "A = pd.read_excel(\"SLAE_5.xlsx\", sheet_name='A5', header=None).to_numpy()\n",
        "b = pd.read_excel(\"SLAE_5.xlsx\", sheet_name='b5', header=None).to_numpy()\n",
        "\n",
        "print(f\"A:\\n{A}\")\n",
        "print(f\"B:\\n{b}\")\n",
        "\n",
        "X = np.linalg.solve(A, b)\n",
        "print(f\"X:\\n{X}\")\n",
        "\n",
        "df = pd.DataFrame(X, columns=['Solution'])\n",
        "with pd.ExcelWriter(\"SLAE_5.xlsx\", mode='a') as writer:\n",
        "    df.to_excel(writer, sheet_name='X5', header=False, index=False)"
      ],
      "metadata": {
        "colab": {
          "base_uri": "https://localhost:8080/"
        },
        "id": "V3SgO_w1IaH-",
        "outputId": "8238bb1c-48ca-4e17-b89c-87a6bcc60101"
      },
      "execution_count": 27,
      "outputs": [
        {
          "output_type": "stream",
          "name": "stdout",
          "text": [
            "A:\n",
            "[[ -1   6   9  -1  -3  -8   9   9   1   6  -3   1   6  -3  -2   6   6  -7]\n",
            " [  3   5   0   8   3  -1 -10   9 -10   3  -9  -1   5   9   8  -9  -7   5]\n",
            " [  4   2  -3  -4  -9   3   9   5  -4   8  -4   1 -10   9  -3  -6  -5  -4]\n",
            " [ -7  -9  -5   4   3  -6  -6   7 -10   0   3  -7  -4  -7 -10   8   9   0]\n",
            " [  9  -1   7   9  -8  -2   6   0   3   3  -3  -3  -8  -6  -6  -7   2   0]\n",
            " [ -3   0   3   1  -6 -10  -8  -9  -7   7   6   6   1 -10   6  -7   6   1]\n",
            " [ -1  -6   8  -1   1  -7 -10   7 -10   3   2   6   2   0  -1 -10   6   3]\n",
            " [ -6  -5  -6   5   5  -7   0  -8   3  -2  -7  -2   0   1  -5  -4  -9  -9]\n",
            " [ -8   2  -8   9  -3   5  -5  -6   1   7   8  -3   1   6  -5   6   9  -2]\n",
            " [ -7   7   2  -9   4  -4  -8  -7   4   1  -9   9  -5   5  -6   4   2   0]\n",
            " [ -2  -2   7 -10  -3  -5 -10   8  -6   2  -9   1  -2   2  -3  -6  -5  -4]\n",
            " [  8  -2  -5 -10  -1  -2   8  -5  -1   7  -5   1   1 -10  -4   2   0  -5]\n",
            " [  1   4  -8 -10  -1   2   1   0   3   2   0   1   9  -8  -2  -5   5  -8]\n",
            " [ -3  -2   9   0  -7   3  -3  -6   1  -5  -6   5  -5  -3  -3   6   1   3]\n",
            " [  1  -9   5  -9  -7   8   1  -1   1   3   3 -10   7   9  -3  -2   4  -2]\n",
            " [  5   6   3   6  -9   7   3  -6   4   6  -3   2 -10  -2   8 -10  -6  -8]\n",
            " [ -2   1  -1   9   6   4  -3 -10   8 -10  -7  -4   3 -10  -8  -3  -1 -10]\n",
            " [ -3  -5  -5  -6   6   4  -3   9   5   2  -6   7   3  -1   3   4   7   2]]\n",
            "B:\n",
            "[[   6]\n",
            " [ -89]\n",
            " [ 114]\n",
            " [-298]\n",
            " [ -13]\n",
            " [ -20]\n",
            " [-124]\n",
            " [-272]\n",
            " [  32]\n",
            " [  39]\n",
            " [-184]\n",
            " [-119]\n",
            " [-128]\n",
            " [ 184]\n",
            " [  65]\n",
            " [ 178]\n",
            " [-199]\n",
            " [ -57]]\n",
            "X:\n",
            "[[-1.]\n",
            " [ 6.]\n",
            " [ 6.]\n",
            " [-1.]\n",
            " [-7.]\n",
            " [ 8.]\n",
            " [ 9.]\n",
            " [-6.]\n",
            " [-3.]\n",
            " [-6.]\n",
            " [ 1.]\n",
            " [ 6.]\n",
            " [-4.]\n",
            " [ 8.]\n",
            " [ 9.]\n",
            " [ 3.]\n",
            " [ 7.]\n",
            " [ 4.]]\n"
          ]
        }
      ]
    },
    {
      "cell_type": "code",
      "source": [
        "files.download(\"SLAE_5.xlsx\")"
      ],
      "metadata": {
        "colab": {
          "base_uri": "https://localhost:8080/",
          "height": 17
        },
        "id": "f7EErIGhSwuX",
        "outputId": "797887d4-f628-402a-bb8f-28a40e0be143"
      },
      "execution_count": 33,
      "outputs": [
        {
          "output_type": "display_data",
          "data": {
            "text/plain": [
              "<IPython.core.display.Javascript object>"
            ],
            "application/javascript": [
              "\n",
              "    async function download(id, filename, size) {\n",
              "      if (!google.colab.kernel.accessAllowed) {\n",
              "        return;\n",
              "      }\n",
              "      const div = document.createElement('div');\n",
              "      const label = document.createElement('label');\n",
              "      label.textContent = `Downloading \"${filename}\": `;\n",
              "      div.appendChild(label);\n",
              "      const progress = document.createElement('progress');\n",
              "      progress.max = size;\n",
              "      div.appendChild(progress);\n",
              "      document.body.appendChild(div);\n",
              "\n",
              "      const buffers = [];\n",
              "      let downloaded = 0;\n",
              "\n",
              "      const channel = await google.colab.kernel.comms.open(id);\n",
              "      // Send a message to notify the kernel that we're ready.\n",
              "      channel.send({})\n",
              "\n",
              "      for await (const message of channel.messages) {\n",
              "        // Send a message to notify the kernel that we're ready.\n",
              "        channel.send({})\n",
              "        if (message.buffers) {\n",
              "          for (const buffer of message.buffers) {\n",
              "            buffers.push(buffer);\n",
              "            downloaded += buffer.byteLength;\n",
              "            progress.value = downloaded;\n",
              "          }\n",
              "        }\n",
              "      }\n",
              "      const blob = new Blob(buffers, {type: 'application/binary'});\n",
              "      const a = document.createElement('a');\n",
              "      a.href = window.URL.createObjectURL(blob);\n",
              "      a.download = filename;\n",
              "      div.appendChild(a);\n",
              "      a.click();\n",
              "      div.remove();\n",
              "    }\n",
              "  "
            ]
          },
          "metadata": {}
        },
        {
          "output_type": "display_data",
          "data": {
            "text/plain": [
              "<IPython.core.display.Javascript object>"
            ],
            "application/javascript": [
              "download(\"download_d18ab891-94e0-40b1-a961-8baed697294b\", \"SLAE_5.xlsx\", 7317)"
            ]
          },
          "metadata": {}
        }
      ]
    },
    {
      "cell_type": "markdown",
      "metadata": {
        "id": "PtPxOU3a0GGR"
      },
      "source": [
        "### Индивидуальное задание.\n",
        "Исследовать на совместность СЛАУ с параметром $a$ при заданных значениях параметра $a$ и найти решение, если оно единственно и провести проверку подстановкой.\n",
        "\n",
        "На листы 'A1', 'A2' и т.п. файла 'Name_Ind_8_SLAE.xlsx' записать матрицы при заданных значениях параметра $a$, на листы 'b1', 'b2' и т.п. столбцы правой части СЛАУ, на листы 'X1', 'X2' и т.п. решения СЛАУ (если оно существует!).\n",
        "![image.png](data:image/png;base64,iVBORw0KGgoAAAANSUhEUgAAAakAAABqCAIAAACJRTmiAAATz0lEQVR4Ae2deVAVV77HU68yNRqZJC8mMy5x1BklbxIzcdSXVExiNJbDVHgmA8YZx/hQY1B0VIyOuLC6BdAoiAhEFhWQRRRFB6EgD5FF0VgmARQpZdEiIhT3QrEU3Lq3q1/1Xfvc3u7pvmv3r/+5fbr7d5bP7/T3nu4+/etnSFiAABAAAsoj8IzymgwtBgJAAAiQoH3QCYAAEFAiAdA+JXod2gwEgABoH/QBIAAElEgAtE+JXoc2AwEgANoHfQAIAAElEgDtU6LXoc1AAAiA9kEfAAJAQIkEQPuU6HVoMxAAAqB90AeAABBQIgHQPiV6HdoMBIAAaB/0ASAABJRIALRPiV6HNgMBIADaB30ACAABJRLwdO3T1p8OWR9kWjbszG7UysmN2qbc0A2m1gWt337qJzm1jtYW2/zIxCErb9N4wKrjCXi69g0XrZrg7RcabVhiEq+06KRCI1Q/XjyZnp4UExp+tKRlCC87ScaWotRlEWFne0hS11aaFGtoW3SYn/f4gIuWY2S1xu5HTUdVblp62reJR9O/axtmwzEsKwrQGGcSkIH2TVxw9DFhN2a6e8cCVqc1U+OJnrPLJ07+PP+J7ZlLMrY0obdiyxu/WngMLZjoSFg4Uc7aZ+1HQlV6KPrfnfr/soHbB1dtu9xD84QRB2ifpdvAGh4B0D4rXiMlQVNe/ktyO0GSusa9c0ZNC76msTqEOynJ2JRtX3Va0s7FYxWvfUMFq/wSHhnlTnf/4PKtV0dMjEgStM/CAtZEEZCr9mm6GsrP5Zc0qEb6+zAvW0mCMJxwPWc++/X0DWX9WGAlGZMk2V+bllbblbsUtE9Tt2PGK7PXZvzQS5CaewlfhlzppXkCtI8GA1bFEJCj9hGd5eGfBcTd6hluyd38zmSfpE7atZItkIje+5WFaaEr/DdlNuAKJynJeOB6Wmp1HzmUB9pHkkRPRcT8cb8YNXnBsnXh55ppgz4Sxn229GM4hpeA/LRP15LiO+2vGT9Teqe9tWvmrLDb2A8DNeqOh/VXT6z38Q0pasd9eCLeeLAu/cQ1anAD2qfvtCOtJceiIrcu+cPzz774VmDOQ7ofYdzHe17DTmECstM+TV3I62P9s9RU04n2+AXT1pWhAwZhJuYjujM+eeGlj7+l7v3hL9jGg7cyUq6q9GWB9pEk8bRw/bKvf6AeZgw9KNw+7zcvLkpss/wPgfbhd0mwQAjITfuIzuMLveYdbtNLiDrbf5J/tnpE1WPzPbuRG7F+PhvyDIO9ke/WT372pRWFtj5MlGSsbTizLyrasIQveW2Ut19YTOpV/fBV7zHjyY54Tz6J4aJVVs951SeX+CZ0mP92+ooD/xRA8wRon3yc76KWyE37yP7cpa/+PZ+6S0d0nlk6af6RNlVRSmarrXj7zy6fNnNtjmGAoTq52GvMh4ebLaMN/mwkGdOyJh7HL/D66JhF96h9StO+4eJ1i3beMP/tjNyIWPPNPYsnQPtoHQZWxRCQnfaRA9V7lgWllBZnxsUn7vZdHJqXnFiEMf9v5O6ZvZFJF27cu1+Xtfa92StS682nnzBfScaG7ImuqvQDwT5TX5jqE3wgo7rLPPBRmvaRuvbzISs3xRfdvHv35qVvoyLSbw/QPADaR4MBq2IIyE/7qCHSYGfr417qzri29+cnfZbBgo2EtD1NNSWXSq7f77Z9ap85a0nG5lyYK4rTPgoB0dd6s+xS8bXGTut/INA+ZheBLVgEZKl9WAQ85WBFah+3c0D7uNnAHpsIgPbZhMkNDgLtQ5wA2ofggAQ+AdA+fGausQDtQ7iD9iE4IIFPALQPn5lrLED7EO6gfQgOSOATAO3DZ+YaC9A+hDtoH4IDEvgEQPvwmbnGArQP4Q7ah+CABD4B0D58Zq6xAO1DuIP2ITgggU8AtA+fmWssQPsQ7qB9CA5I4BOQrfbpVLdSI0/cFjE52T5h501R5/Fc0v9T3sG9UWHbtkWmX3+KzslWoPbxeQK0D69nwdEMAnLUvqE7OdFfR+9cPHX8qiLr1wEYAKw32CfsPGvUeeuirNOaH5N3x9f26Ehy+F7y4lenLM+hv4unOO3j9wRon3X3gTQmATlqnx6BtmHPnIkitM8eYec5os4LuEZTtfXtWYFnWvXDvZHyoN+OejeGFkZBcdrH7wnQPoHuBLuFCID2MQlJDDvPGXWeWRKyRdeaFfTpP40hZDS127x/+WYoLeyq4rSPep2X++sBoH1I54EEPgHQPhZmUsLO80SdZymJa5O2Ye9/P//HXTdoYVeVqH08HwAA7ePqO7DdRgKer30BE+azfaNS7DWvnpvosPO8UedtdAn1Gdp0vxk+h+8g3wohOhI+mrBCvt/nZfcjpyeMOLDv59rsBDhQ7gQ8XfsG4uZ6/X5DPdNNkrTPmB1u2HmBqPPMSrJu6avd97cVCbetQ00Tjf+cNubdI6wmnr+R04+GpjE9YcRBD+nn+RSgBc4k4OnaZ4x1zkQmUvukhJ3niDrPrBvPlpGmzB278x5Q17q6h9dv0EI3K+Kal0ZGwBNwzUtjBatiCDhX+zQPr1UbnmOKqSubDbf21UfNmbgSe46LncLOs0adZ6s/so34+fLeHcmVTc3Nzc33Gyv278vqsex3I+3TDqp7h8wBpS1VlLDG9KOAJ0D7JNAGU4qAM7VPdz9+wSt/+ZZ2Pkv3AfOcIUlt08W4mMgv5o5/ccaSXV8fyqrDKUZ62HnrqPO2lq5t/ObDF//jGfPyrPdX1bSp2W6ifYN3Tm9b9NvnP061RNO3tYF8x7H4kd8THqR9PBPW+ZDYa59ri9c1ZYfvjs8uKi2/UnDi64PnH6Iz9u3VSDH5OE/7iI68zbPH/3J2VD39M6ti6ky3YTln6LvFrTsq7Ly42hit3ET7SFJTu23G3AO0zwZJapbRmMOP3J7wFO3jn7BuD3S8ebi4eJLUVG2fPe5lL6+XJs/6NCS3cZC3ts7d6SztI3quHDx8KeHj5yYFldMmbkhuLMc5Izlf98vAXbRP9yD2gz8EX6ONSO3BCtuPHqJ9AhPW7YGOLw8XF0+SpKYmNqbEPZ/GO0n7BmviYy53D11ePc7LL8uez+awzxm+nuLW+9xF+7rTP5n8j5N3Ki+eLax5ZLe/MWw/itS+oY7bpedy8op/7Lbv/UquriMwYZ1pZt8KYhdP2rd8s/aN9PUOOoc4EynXFqdon+an5P057TpS+/3uGaPfO8hyyd9/tywnO4t1yc797j4y0Q1pCvY5g1h7UsJNtG+oaOWEiR+FXWoZGawOWbS6AL3t5zw/4msfob6ZGBgQcallkOit2vXJmvwnBDlQU1aD/hWLboFwX2KZsI4YObiCQsWTDilfUx25amtyZn7RhYzdazadbOA+lREWzkg4Qft0D0/vT7tH3eQjOhIWjPbeWsO8XhpqqysvLWFdSsu/f8Q9ZtbU7vfffK7LGahcXAbRfT7Yf1+Ni2uhqd32xuyIH/Te7Dy+6Nd/y0fu4DjPj0YczK7EAYh4dMpvyrxDxhekNTe2v/n2nvqnhcczreYdiG4BR7nmzawT1s17SdLBFRQq3lHlEz33mzoNI77BCwGTZkfQXtOktd4Vqw7XPuJJwY7VWyL36ZfIFX8a89Lyc9xSho0Axn3YyKQY6B7Evu+9sUJ/qaupCp4+dlmBff7Isf2IOe7T1O144z99U58Yr7t0LYc+eHVF7PFjJWopOEiyvyZhY+CXLEvg5uSbNDQcE9YthTuqgoYSBIsnHVW+bqDfdLGru7tvzujZexrs+azTAhB/zdHapy47dLiiz1QvTfVX059bmGjqgabNJNFVcWzn9n+xLtt3JVerOW8VYJ8z5jI9bcUtrnmHC/93in9WL8WOmjz+8v+kIb50oh8xta875c9ec2MfmCZYEO1x81/4rzUFj0wbTL1BfAtMObD8ck9YtxzswAraUjzpmPI1VVumj3n/oIG7rnHvnNFvhesvGiwNd92aQ7WP6Px3ePhZ44iXaqPuQezc594Ku8NUfs2AWtXDuqjUg8zDzcBA+/QodK3FR74pbLb5CtDMD3NlpGLTe+tKqGGfunzjrHcj6mhDG31WTvMjv/YxeAwXr5nik/TU9B/aVxsy8xX2CxCxLeAiyT5h3WkVtLF40jGAdM2JWyMqjdj7zn0+4fV/1VK9R9d25WjcpYc8JzYXTjtud5T2Eaqa5C3+s8ZNfH9jXpOhiQPfZ0cFfjjJ65V3VkaduqEfO0hvCKv28cX7taFISZNBJRlTleMKOM077lOf/+L3497aXmFD66Qdovnh6LrglAv5hzeu21eBPueQlDGrH/ly5Nc+Ew/Lc2hdc2ZQQGhuVV3VlYLcvIvVlUf9fHecSoy7wBj68ZWKvY9rwrqTKmh78aSDAA3cPB2deO56/e2SIyt9lsXXGV5T7z3/xbSpn+fYsQNhe8a573WIqJ6gCcs5wx/vVyhHSZNBJRmTJG/AaV7t07/+m5NVKdQ6e+wnBp92dNvxlq2+Tix+5K8rv/aZeFi0j8qNGO5qf6Qybxvq7ux14chD9zAnq9JcGX1rnVlBluIdBEirfnC99Mq1xk57dxr+HiK411HjPsGC7XQAyznDH+9XoFxJk0ElGZsqxhWEQUD7tE1n0r8z31g1ZeYxvyx+5K+7kPa5PQ8XV9DFxfM71zl7Zah9/PF+BbDiTwalZSjJ2JSPKO0jVFUFJY69ejPVzzG/XNqn6WooP5df0qAa6e9D7i3ya5/b83BxBV1cvGP6EG6u8tQ+nni/GIAEJ4Py5SXaWJT28dXEI/axaR/RWR7+WUDcrZ7hltzN70z2SaI9NaPmii6cGHDRzS6jPII1VNJAwNO1b+j0Eu8PIpsZ7uSM98s4kmuD4GRQLkNquwRjTu17EDXP2+8kX6kevI/pR11Liu+0v2boIxhqb+2aOSsMmRVLGHAgY0EPbj9U3fkEPF37jOMF09wFa4DMeL/WR3CkhSeDchhSmyUZc2qfYaDDU6wn72L4UVMX8vpY/yz91GOiPX7BtHVlyHMBGPd5srvdou7y0z6BeL+2ULdpMihXRpKMjXOG2T6uaTzZuYr18O3W2kd0Hl/oNe9wm/5PTZ3tP8k/Wz2i6rEE8gft83CPu7768tM+gXi/gsjZJ4MKmhkOkGRsyELLEXBaWdpH9ucuffXv+dQlLdF5Zumk+UfaVEUpma1mP4D2mVHAijgC8tM+kj/erwAmrsmgAmaG3ZKMqSGfdcBp+sumCtM+cqB6z7KglNLizLj4xN2+i0PzkhOLHlvubYD22dQl4SBuAjLUPqqx3PF+uVG4+R6laR814hvsbH2sn36s7f35SR/y7i1on5v3V/evnky1z/3BY9dQgdrHxwi0j48O7LOBAGifDZDc4hDQPsQNoH0IDkjgEwDtw2fmGgvQPoQ7aB+CAxL4BED78Jm5xgK0D+EO2ofggAQ+AdA+fGausQDtQ7iD9iE4IIFPALQPn5lrLED7EO6gfQgOSOATAO3DZ+YaC9A+hDtoH4IDEvgEZKl9EuM28wRPFgYsOW6zvgh1WUTY2R6kNMVpn64tfdPqiLjkE6mmJaOkyYwEtM+MAlbEEZCh9kmL28wfPFkAssS4zabceyu2vPGrhceQzwCZgjaZjpHZr/X7vCRJDhev/+Nrs+a8/Y5hmTl1uv+pdnOzQfvMKGBFHAEZap+kuM1GilzBVPgh2yVuM9lXnZa0c/FYpWsf0Z6RkK8yAVf/38H9F+l/BqB9JjTwK5KADLVPUtxmI0Zx2mePuM39tWlptV25SxWvfeSQSmWMzkd0FUfHlHRbXualXAyxS0We8mBmJCBP7ZMct1mc9tF7lbi4zQPX01Kr+8ihPNA+C8y+ssjQAutPeoH2WQDBmigCMtU+UmLcZqnaJy5u82Bd+olr1Mc7QfssnVlbf+DT9ZcHLRsMa6B91kQgjUlArtpnxCA2brM07RMXt3nwVkbKVZX+wg60z9yNR6q/mvHnRPqdPsMu0D4zIlgRR0B+2meHuM0kKUH7xMZt1jac2RcVbVjCl7w2ytsvLCb1qv5zFXrXGk92cW52eyuW57z6Omu/3/3mb1YUMj9JBNrn9j519wrKT/ukxm02nHIcwZOF3GmHuM3UffzH8Qu8Pjpm0T2qWGVqnzrdd8wkq0916J0A2ifUF2G/AAH5aZ+0uM0CwZP5aUqN20zlTnRVpR8I9pn6wlSf4AMZ1ZZb/IrUPuJR3PzRv9tUqWGAB+1jIIENeARkqH0UAIjbjNcNXH401zUvoaqvvNWhZdYPtI/JBLZgEZCp9mEx8IyDFTnu43YNaB83G9hjEwEZaN8Eb7/QaMMSk3ilBfmqg00M3PggXVtpUqyxcWF+3uMDLrpxZaVUbbholQ1+ZOJgPgSRUguwVRIBT9c+7U8ZWwO/NC1rt59uYLk+8lyHau9l71xrat2XgV+l/+i5beGtuW1+ZOKQlbd5CcFOexPwdO2zNw/IDwgAAWUQAO1Thp+hlUAACKAEQPtQHpACAkBAGQRA+5ThZ2glEAACKAHQPpQHpIAAEFAGAdA+ZfgZWgkEgABKALQP5QEpIAAElEEAtE8ZfoZWAgEggBIA7UN5QAoIAAFlEADtU4afoZVAAAigBED7UB6QAgJAQBkEQPuU4WdoJRAAAigB0D6UB6SAABBQBgHQPmX4GVoJBIAASgC0D+UBKSAABJRBALRPGX6GVgIBIIASAO1DeUAKCAABZRAA7VOGn6GVQAAIoARA+1AekAICQEAZBED7lOFnaCUQAAIoAdA+lAekgAAQUAaB/wc2FGqqCls7PgAAAABJRU5ErkJggg==)\n"
      ]
    },
    {
      "cell_type": "code",
      "source": [
        "def check_SLAE(A, b):\n",
        "    Ab = np.column_stack((A, b))\n",
        "\n",
        "    if np.linalg.matrix_rank(A) != np.linalg.matrix_rank(Ab):\n",
        "        return 0\n",
        "\n",
        "    if np.linalg.matrix_rank(A) == np.linalg.matrix_rank(Ab) == A.shape[1]:\n",
        "        return 1\n",
        "\n",
        "    return 2\n",
        "\n",
        "with pd.ExcelWriter(\"Name_Ind_8_SLAE.xlsx\") as writer:\n",
        "    for i, a in enumerate([-2, 2, 5], start=1):\n",
        "        A = np.array([\n",
        "            [a, 1, 3, 4],\n",
        "            [3, 2, a, 1],\n",
        "            [3, a, 2, 4],\n",
        "            [1, 3, 2, 1]\n",
        "        ])\n",
        "\n",
        "        b = np.array([8, 3, a, 7]).reshape(-1, 1)\n",
        "\n",
        "        pd.DataFrame(A).to_excel(writer, sheet_name=f'A{i}', index=False, header=False)\n",
        "        pd.DataFrame(b).to_excel(writer, sheet_name=f'b{i}', index=False, header=False)\n",
        "\n",
        "        res = check_SLAE(A, b)\n",
        "        if res == 1:\n",
        "            X = np.linalg.solve(A, b)\n",
        "            df = pd.DataFrame(X)\n",
        "            df.to_excel(writer, sheet_name=f'X{i}', index=False, header=False)"
      ],
      "metadata": {
        "id": "TZk1PMM5IanK"
      },
      "execution_count": 32,
      "outputs": []
    },
    {
      "cell_type": "code",
      "source": [
        "files.download(\"Name_Ind_8_SLAE.xlsx\")"
      ],
      "metadata": {
        "colab": {
          "base_uri": "https://localhost:8080/",
          "height": 17
        },
        "id": "K209FCUkS26K",
        "outputId": "ef369524-9f2b-45ba-a49b-406eda38a088"
      },
      "execution_count": 34,
      "outputs": [
        {
          "output_type": "display_data",
          "data": {
            "text/plain": [
              "<IPython.core.display.Javascript object>"
            ],
            "application/javascript": [
              "\n",
              "    async function download(id, filename, size) {\n",
              "      if (!google.colab.kernel.accessAllowed) {\n",
              "        return;\n",
              "      }\n",
              "      const div = document.createElement('div');\n",
              "      const label = document.createElement('label');\n",
              "      label.textContent = `Downloading \"${filename}\": `;\n",
              "      div.appendChild(label);\n",
              "      const progress = document.createElement('progress');\n",
              "      progress.max = size;\n",
              "      div.appendChild(progress);\n",
              "      document.body.appendChild(div);\n",
              "\n",
              "      const buffers = [];\n",
              "      let downloaded = 0;\n",
              "\n",
              "      const channel = await google.colab.kernel.comms.open(id);\n",
              "      // Send a message to notify the kernel that we're ready.\n",
              "      channel.send({})\n",
              "\n",
              "      for await (const message of channel.messages) {\n",
              "        // Send a message to notify the kernel that we're ready.\n",
              "        channel.send({})\n",
              "        if (message.buffers) {\n",
              "          for (const buffer of message.buffers) {\n",
              "            buffers.push(buffer);\n",
              "            downloaded += buffer.byteLength;\n",
              "            progress.value = downloaded;\n",
              "          }\n",
              "        }\n",
              "      }\n",
              "      const blob = new Blob(buffers, {type: 'application/binary'});\n",
              "      const a = document.createElement('a');\n",
              "      a.href = window.URL.createObjectURL(blob);\n",
              "      a.download = filename;\n",
              "      div.appendChild(a);\n",
              "      a.click();\n",
              "      div.remove();\n",
              "    }\n",
              "  "
            ]
          },
          "metadata": {}
        },
        {
          "output_type": "display_data",
          "data": {
            "text/plain": [
              "<IPython.core.display.Javascript object>"
            ],
            "application/javascript": [
              "download(\"download_2ac19e5a-e8ab-4b77-a397-08131de99f55\", \"Name_Ind_8_SLAE.xlsx\", 8908)"
            ]
          },
          "metadata": {}
        }
      ]
    }
  ]
}