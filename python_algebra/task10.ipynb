{
  "nbformat": 4,
  "nbformat_minor": 0,
  "metadata": {
    "kernelspec": {
      "display_name": "Python 3",
      "language": "python",
      "name": "python3"
    },
    "language_info": {
      "codemirror_mode": {
        "name": "ipython",
        "version": 3
      },
      "file_extension": ".py",
      "mimetype": "text/x-python",
      "name": "python",
      "nbconvert_exporter": "python",
      "pygments_lexer": "ipython3",
      "version": "3.7.3"
    },
    "colab": {
      "provenance": [],
      "include_colab_link": true
    }
  },
  "cells": [
    {
      "cell_type": "markdown",
      "metadata": {
        "id": "view-in-github",
        "colab_type": "text"
      },
      "source": [
        "<a href=\"https://colab.research.google.com/github/leshless/study/blob/main/python_algebra/task10.ipynb\" target=\"_parent\"><img src=\"https://colab.research.google.com/assets/colab-badge.svg\" alt=\"Open In Colab\"/></a>"
      ]
    },
    {
      "cell_type": "code",
      "metadata": {
        "id": "BQ-uTnJuCclQ"
      },
      "source": [
        "import sympy\n",
        "from sympy import  Matrix, symbols, latex, S, lambdify\n",
        "from sympy import  sin as Sin\n",
        "from sympy import  cos as Cos\n",
        "from sympy import  pi as Pi\n",
        "from sympy.vector import CoordSys3D, Vector, matrix_to_vector, AxisOrienter, express\n",
        "from IPython.display import Latex\n",
        "import pandas as pd\n",
        "from dataclasses import dataclass, field\n",
        "import numpy as np\n",
        "import matplotlib.pyplot as plt"
      ],
      "execution_count": 1,
      "outputs": []
    },
    {
      "cell_type": "markdown",
      "metadata": {
        "id": "HaZ4p6ZaCclc"
      },
      "source": [
        "# Практическое занятие 10\n",
        "# Компьютерный практикум по алгебре на Python\n",
        "## Векторы\n",
        "### Задание 1.\n",
        "Задать систему координат с именем '1'.\n",
        "Найти скалярное и векторное произведение векторов $a(-\\cos(\\pi/4), \\sin(\\pi/3), 1)$ и $b(2, -1, 3)$."
      ]
    },
    {
      "cell_type": "code",
      "metadata": {
        "id": "c-QIgMUCCcle",
        "colab": {
          "base_uri": "https://localhost:8080/",
          "height": 178
        },
        "outputId": "efeb8d57-e8a7-4477-e0ca-3a8f4b78abed"
      },
      "source": [
        "import sympy\n",
        "\n",
        "N = CoordSys3D('N')\n",
        "\n",
        "a = -sympy.cos(sympy.pi/4) * N.i + sympy.sin(sympy.pi/3) * N.j + 1 * N.k\n",
        "b = 2 * N.i - 1 * N.j + 3 * N.k\n",
        "display(a, b)\n",
        "\n",
        "display(a.dot(b), a.cross(b))"
      ],
      "execution_count": 4,
      "outputs": [
        {
          "output_type": "display_data",
          "data": {
            "text/plain": [
              "(-sqrt(2)/2)*N.i + (sqrt(3)/2)*N.j + N.k"
            ],
            "text/latex": "$\\displaystyle \\left(- \\frac{\\sqrt{2}}{2}\\right)\\mathbf{\\hat{i}_{N}} + \\left(\\frac{\\sqrt{3}}{2}\\right)\\mathbf{\\hat{j}_{N}} + \\mathbf{\\hat{k}_{N}}$"
          },
          "metadata": {}
        },
        {
          "output_type": "display_data",
          "data": {
            "text/plain": [
              "2*N.i + (-1)*N.j + 3*N.k"
            ],
            "text/latex": "$\\displaystyle \\left(2\\right)\\mathbf{\\hat{i}_{N}} - \\mathbf{\\hat{j}_{N}} + \\left(3\\right)\\mathbf{\\hat{k}_{N}}$"
          },
          "metadata": {}
        },
        {
          "output_type": "display_data",
          "data": {
            "text/plain": [
              "-sqrt(2) - sqrt(3)/2 + 3"
            ],
            "text/latex": "$\\displaystyle - \\sqrt{2} - \\frac{\\sqrt{3}}{2} + 3$"
          },
          "metadata": {}
        },
        {
          "output_type": "display_data",
          "data": {
            "text/plain": [
              "(1 + 3*sqrt(3)/2)*N.i + (2 + 3*sqrt(2)/2)*N.j + (-sqrt(3) + sqrt(2)/2)*N.k"
            ],
            "text/latex": "$\\displaystyle \\left(1 + \\frac{3 \\sqrt{3}}{2}\\right)\\mathbf{\\hat{i}_{N}} + \\left(2 + \\frac{3 \\sqrt{2}}{2}\\right)\\mathbf{\\hat{j}_{N}} + \\left(- \\sqrt{3} + \\frac{\\sqrt{2}}{2}\\right)\\mathbf{\\hat{k}_{N}}$"
          },
          "metadata": {}
        }
      ]
    },
    {
      "cell_type": "markdown",
      "metadata": {
        "id": "B8Je98zJCclg"
      },
      "source": [
        "### Задание 2\n",
        "Ввести безымянную систему координат $M$ и символы $\\varphi$ и $c$.\n",
        "Вычислить $5u\\cdot(v - u)$ и $((2v + u)\\times(v - 3u)) $,\n",
        "\n",
        "$u = (\\cos(\\varphi), 2c - 5, \\sin(2\\varphi))$, $v = (\\sin(\\varphi), 2c  + 5, \\cos(2\\varphi))$.\n",
        "\n",
        "Скалярное произведение обозначено $\\cdot$, векторное $\\times$.\n",
        "Использовать  & и ^, скобки расставить как в условии, поскольку приоритет у & и ^ ниже, чем у + и -. Упростить полученное выражение."
      ]
    },
    {
      "cell_type": "code",
      "metadata": {
        "id": "mMHHtgWsCclh",
        "colab": {
          "base_uri": "https://localhost:8080/",
          "height": 134
        },
        "outputId": "cd0239b6-8068-41c9-dfa2-be83f90320b3"
      },
      "source": [
        "phi, c = sympy.symbols('phi c')\n",
        "\n",
        "M = CoordSys3D(\"\")\n",
        "\n",
        "u = sympy.cos(phi) * M.i + (2*c - 5) * M.j + sympy.sin(2*phi) * M.k\n",
        "v = sympy.sin(phi) * M.i + (2*c + 5) * M.j + sympy.cos(2*phi) * M.k\n",
        "display(u, v)\n",
        "\n",
        "display(sympy.simplify(5 * u.dot(v - u)))\n",
        "display(sympy.simplify((2*v + u).cross(v - 3*u)))\n"
      ],
      "execution_count": 11,
      "outputs": [
        {
          "output_type": "display_data",
          "data": {
            "text/plain": [
              "(cos(phi))*.i + (2*c - 5)*.j + (sin(2*phi))*.k"
            ],
            "text/latex": "$\\displaystyle \\left(\\cos{\\left(\\phi \\right)}\\right)\\mathbf{\\hat{i}_{}} + \\left(2 c - 5\\right)\\mathbf{\\hat{j}_{}} + \\left(\\sin{\\left(2 \\phi \\right)}\\right)\\mathbf{\\hat{k}_{}}$"
          },
          "metadata": {}
        },
        {
          "output_type": "display_data",
          "data": {
            "text/plain": [
              "(sin(phi))*.i + (2*c + 5)*.j + (cos(2*phi))*.k"
            ],
            "text/latex": "$\\displaystyle \\left(\\sin{\\left(\\phi \\right)}\\right)\\mathbf{\\hat{i}_{}} + \\left(2 c + 5\\right)\\mathbf{\\hat{j}_{}} + \\left(\\cos{\\left(2 \\phi \\right)}\\right)\\mathbf{\\hat{k}_{}}$"
          },
          "metadata": {}
        },
        {
          "output_type": "display_data",
          "data": {
            "text/plain": [
              "100*c + 5*sqrt(2)*sin(4*phi + pi/4)/2 - 5*sqrt(2)*cos(2*phi + pi/4)/2 - 255"
            ],
            "text/latex": "$\\displaystyle 100 c + \\frac{5 \\sqrt{2} \\sin{\\left(4 \\phi + \\frac{\\pi}{4} \\right)}}{2} - \\frac{5 \\sqrt{2} \\cos{\\left(2 \\phi + \\frac{\\pi}{4} \\right)}}{2} - 255$"
          },
          "metadata": {}
        },
        {
          "output_type": "display_data",
          "data": {
            "text/plain": [
              "(sqrt(2)*(14*c*cos(2*phi + pi/4) - 35*sin(2*phi + pi/4)))*.i + (-7*cos(3*phi))*.j + (sqrt(2)*(14*c*cos(phi + pi/4) + 35*sin(phi + pi/4)))*.k"
            ],
            "text/latex": "$\\displaystyle \\left(\\sqrt{2} \\left(14 c \\cos{\\left(2 \\phi + \\frac{\\pi}{4} \\right)} - 35 \\sin{\\left(2 \\phi + \\frac{\\pi}{4} \\right)}\\right)\\right)\\mathbf{\\hat{i}_{}} + \\left(- 7 \\cos{\\left(3 \\phi \\right)}\\right)\\mathbf{\\hat{j}_{}} + \\left(\\sqrt{2} \\left(14 c \\cos{\\left(\\phi + \\frac{\\pi}{4} \\right)} + 35 \\sin{\\left(\\phi + \\frac{\\pi}{4} \\right)}\\right)\\right)\\mathbf{\\hat{k}_{}}$"
          },
          "metadata": {}
        }
      ]
    },
    {
      "cell_type": "markdown",
      "metadata": {
        "id": "5M-6y40TCclh"
      },
      "source": [
        "### Задание 3\n",
        "В файле \"sem_10_task_3.xlsx\" записаны имена векторов и соответствующие значения параметров $p$, $q$ и углов $\\phi$ **в градусах**.\n",
        "\n",
        "Вывести на экран для каждого вектора $g(p^2 + 2pq - 3, \\cos(\\phi), \\sin^2(\\phi))$ его имя,  координаты  вектора, его длину и проекции на координатные оси. Все вычисления производить аналитически, в том числе переводить градусы в радианы."
      ]
    },
    {
      "cell_type": "code",
      "source": [
        "from google.colab import files\n",
        "uploaded = files.upload()"
      ],
      "metadata": {
        "colab": {
          "base_uri": "https://localhost:8080/",
          "height": 73
        },
        "id": "hWwJan8RpYb7",
        "outputId": "7cf7134b-ca6b-4dd3-dab3-de9c68afd432"
      },
      "execution_count": 13,
      "outputs": [
        {
          "output_type": "display_data",
          "data": {
            "text/plain": [
              "<IPython.core.display.HTML object>"
            ],
            "text/html": [
              "\n",
              "     <input type=\"file\" id=\"files-f9485b91-7959-4d13-9753-937102ff7fb5\" name=\"files[]\" multiple disabled\n",
              "        style=\"border:none\" />\n",
              "     <output id=\"result-f9485b91-7959-4d13-9753-937102ff7fb5\">\n",
              "      Upload widget is only available when the cell has been executed in the\n",
              "      current browser session. Please rerun this cell to enable.\n",
              "      </output>\n",
              "      <script>// Copyright 2017 Google LLC\n",
              "//\n",
              "// Licensed under the Apache License, Version 2.0 (the \"License\");\n",
              "// you may not use this file except in compliance with the License.\n",
              "// You may obtain a copy of the License at\n",
              "//\n",
              "//      http://www.apache.org/licenses/LICENSE-2.0\n",
              "//\n",
              "// Unless required by applicable law or agreed to in writing, software\n",
              "// distributed under the License is distributed on an \"AS IS\" BASIS,\n",
              "// WITHOUT WARRANTIES OR CONDITIONS OF ANY KIND, either express or implied.\n",
              "// See the License for the specific language governing permissions and\n",
              "// limitations under the License.\n",
              "\n",
              "/**\n",
              " * @fileoverview Helpers for google.colab Python module.\n",
              " */\n",
              "(function(scope) {\n",
              "function span(text, styleAttributes = {}) {\n",
              "  const element = document.createElement('span');\n",
              "  element.textContent = text;\n",
              "  for (const key of Object.keys(styleAttributes)) {\n",
              "    element.style[key] = styleAttributes[key];\n",
              "  }\n",
              "  return element;\n",
              "}\n",
              "\n",
              "// Max number of bytes which will be uploaded at a time.\n",
              "const MAX_PAYLOAD_SIZE = 100 * 1024;\n",
              "\n",
              "function _uploadFiles(inputId, outputId) {\n",
              "  const steps = uploadFilesStep(inputId, outputId);\n",
              "  const outputElement = document.getElementById(outputId);\n",
              "  // Cache steps on the outputElement to make it available for the next call\n",
              "  // to uploadFilesContinue from Python.\n",
              "  outputElement.steps = steps;\n",
              "\n",
              "  return _uploadFilesContinue(outputId);\n",
              "}\n",
              "\n",
              "// This is roughly an async generator (not supported in the browser yet),\n",
              "// where there are multiple asynchronous steps and the Python side is going\n",
              "// to poll for completion of each step.\n",
              "// This uses a Promise to block the python side on completion of each step,\n",
              "// then passes the result of the previous step as the input to the next step.\n",
              "function _uploadFilesContinue(outputId) {\n",
              "  const outputElement = document.getElementById(outputId);\n",
              "  const steps = outputElement.steps;\n",
              "\n",
              "  const next = steps.next(outputElement.lastPromiseValue);\n",
              "  return Promise.resolve(next.value.promise).then((value) => {\n",
              "    // Cache the last promise value to make it available to the next\n",
              "    // step of the generator.\n",
              "    outputElement.lastPromiseValue = value;\n",
              "    return next.value.response;\n",
              "  });\n",
              "}\n",
              "\n",
              "/**\n",
              " * Generator function which is called between each async step of the upload\n",
              " * process.\n",
              " * @param {string} inputId Element ID of the input file picker element.\n",
              " * @param {string} outputId Element ID of the output display.\n",
              " * @return {!Iterable<!Object>} Iterable of next steps.\n",
              " */\n",
              "function* uploadFilesStep(inputId, outputId) {\n",
              "  const inputElement = document.getElementById(inputId);\n",
              "  inputElement.disabled = false;\n",
              "\n",
              "  const outputElement = document.getElementById(outputId);\n",
              "  outputElement.innerHTML = '';\n",
              "\n",
              "  const pickedPromise = new Promise((resolve) => {\n",
              "    inputElement.addEventListener('change', (e) => {\n",
              "      resolve(e.target.files);\n",
              "    });\n",
              "  });\n",
              "\n",
              "  const cancel = document.createElement('button');\n",
              "  inputElement.parentElement.appendChild(cancel);\n",
              "  cancel.textContent = 'Cancel upload';\n",
              "  const cancelPromise = new Promise((resolve) => {\n",
              "    cancel.onclick = () => {\n",
              "      resolve(null);\n",
              "    };\n",
              "  });\n",
              "\n",
              "  // Wait for the user to pick the files.\n",
              "  const files = yield {\n",
              "    promise: Promise.race([pickedPromise, cancelPromise]),\n",
              "    response: {\n",
              "      action: 'starting',\n",
              "    }\n",
              "  };\n",
              "\n",
              "  cancel.remove();\n",
              "\n",
              "  // Disable the input element since further picks are not allowed.\n",
              "  inputElement.disabled = true;\n",
              "\n",
              "  if (!files) {\n",
              "    return {\n",
              "      response: {\n",
              "        action: 'complete',\n",
              "      }\n",
              "    };\n",
              "  }\n",
              "\n",
              "  for (const file of files) {\n",
              "    const li = document.createElement('li');\n",
              "    li.append(span(file.name, {fontWeight: 'bold'}));\n",
              "    li.append(span(\n",
              "        `(${file.type || 'n/a'}) - ${file.size} bytes, ` +\n",
              "        `last modified: ${\n",
              "            file.lastModifiedDate ? file.lastModifiedDate.toLocaleDateString() :\n",
              "                                    'n/a'} - `));\n",
              "    const percent = span('0% done');\n",
              "    li.appendChild(percent);\n",
              "\n",
              "    outputElement.appendChild(li);\n",
              "\n",
              "    const fileDataPromise = new Promise((resolve) => {\n",
              "      const reader = new FileReader();\n",
              "      reader.onload = (e) => {\n",
              "        resolve(e.target.result);\n",
              "      };\n",
              "      reader.readAsArrayBuffer(file);\n",
              "    });\n",
              "    // Wait for the data to be ready.\n",
              "    let fileData = yield {\n",
              "      promise: fileDataPromise,\n",
              "      response: {\n",
              "        action: 'continue',\n",
              "      }\n",
              "    };\n",
              "\n",
              "    // Use a chunked sending to avoid message size limits. See b/62115660.\n",
              "    let position = 0;\n",
              "    do {\n",
              "      const length = Math.min(fileData.byteLength - position, MAX_PAYLOAD_SIZE);\n",
              "      const chunk = new Uint8Array(fileData, position, length);\n",
              "      position += length;\n",
              "\n",
              "      const base64 = btoa(String.fromCharCode.apply(null, chunk));\n",
              "      yield {\n",
              "        response: {\n",
              "          action: 'append',\n",
              "          file: file.name,\n",
              "          data: base64,\n",
              "        },\n",
              "      };\n",
              "\n",
              "      let percentDone = fileData.byteLength === 0 ?\n",
              "          100 :\n",
              "          Math.round((position / fileData.byteLength) * 100);\n",
              "      percent.textContent = `${percentDone}% done`;\n",
              "\n",
              "    } while (position < fileData.byteLength);\n",
              "  }\n",
              "\n",
              "  // All done.\n",
              "  yield {\n",
              "    response: {\n",
              "      action: 'complete',\n",
              "    }\n",
              "  };\n",
              "}\n",
              "\n",
              "scope.google = scope.google || {};\n",
              "scope.google.colab = scope.google.colab || {};\n",
              "scope.google.colab._files = {\n",
              "  _uploadFiles,\n",
              "  _uploadFilesContinue,\n",
              "};\n",
              "})(self);\n",
              "</script> "
            ]
          },
          "metadata": {}
        },
        {
          "output_type": "stream",
          "name": "stdout",
          "text": [
            "Saving sem_10_task_3.xlsx to sem_10_task_3.xlsx\n"
          ]
        }
      ]
    },
    {
      "cell_type": "code",
      "metadata": {
        "id": "rhrhfilACcli",
        "colab": {
          "base_uri": "https://localhost:8080/",
          "height": 388
        },
        "outputId": "d142281a-9405-41c2-c073-e4db7005df41"
      },
      "source": [
        "df = pd.read_excel(\"sem_10_task_3.xlsx\")\n",
        "values = df.to_numpy()\n",
        "\n",
        "for row in values:\n",
        "  name, p, q, phi = row\n",
        "\n",
        "  x = p**2 + 2*p*q - 3\n",
        "  y = sympy.cos(np.radians(phi))\n",
        "  z = sympy.sin(np.radians(phi))**2\n",
        "\n",
        "  vector = sympy.Matrix([x, y, z])\n",
        "  length = sympy.sqrt(x**2 + y**2 + z**2)\n",
        "\n",
        "  proj_x = vector.dot(sympy.Matrix([1, 0, 0]))\n",
        "  proj_y = vector.dot(sympy.Matrix([0, 1, 0]))\n",
        "  proj_z = vector.dot(sympy.Matrix([0, 0, 1]))\n",
        "\n",
        "  display(f\"{name} = ({x}, {y}, {z})\")\n",
        "  display(f\"|{name}| = {length}\")\n",
        "  display(f\"Проекция на X: {proj_x}\")\n",
        "  display(f\"Проекция на Y: {proj_y}\")\n",
        "  display(f\"Проекция на Z: {proj_z}\")\n"
      ],
      "execution_count": 22,
      "outputs": [
        {
          "output_type": "display_data",
          "data": {
            "text/plain": [
              "'VectFirst = (2, 0.500000000000000, 0.750000000000000)'"
            ],
            "application/vnd.google.colaboratory.intrinsic+json": {
              "type": "string"
            }
          },
          "metadata": {}
        },
        {
          "output_type": "display_data",
          "data": {
            "text/plain": [
              "'|VectFirst| = 2.19374109684803'"
            ],
            "application/vnd.google.colaboratory.intrinsic+json": {
              "type": "string"
            }
          },
          "metadata": {}
        },
        {
          "output_type": "display_data",
          "data": {
            "text/plain": [
              "'Проекция на X: 2'"
            ],
            "application/vnd.google.colaboratory.intrinsic+json": {
              "type": "string"
            }
          },
          "metadata": {}
        },
        {
          "output_type": "display_data",
          "data": {
            "text/plain": [
              "'Проекция на Y: 0.500000000000000'"
            ],
            "application/vnd.google.colaboratory.intrinsic+json": {
              "type": "string"
            }
          },
          "metadata": {}
        },
        {
          "output_type": "display_data",
          "data": {
            "text/plain": [
              "'Проекция на Z: 0.750000000000000'"
            ],
            "application/vnd.google.colaboratory.intrinsic+json": {
              "type": "string"
            }
          },
          "metadata": {}
        },
        {
          "output_type": "display_data",
          "data": {
            "text/plain": [
              "'VectSecond = (5, 0.707106781186548, 0.500000000000000)'"
            ],
            "application/vnd.google.colaboratory.intrinsic+json": {
              "type": "string"
            }
          },
          "metadata": {}
        },
        {
          "output_type": "display_data",
          "data": {
            "text/plain": [
              "'|VectSecond| = 5.07444578254611'"
            ],
            "application/vnd.google.colaboratory.intrinsic+json": {
              "type": "string"
            }
          },
          "metadata": {}
        },
        {
          "output_type": "display_data",
          "data": {
            "text/plain": [
              "'Проекция на X: 5'"
            ],
            "application/vnd.google.colaboratory.intrinsic+json": {
              "type": "string"
            }
          },
          "metadata": {}
        },
        {
          "output_type": "display_data",
          "data": {
            "text/plain": [
              "'Проекция на Y: 0.707106781186548'"
            ],
            "application/vnd.google.colaboratory.intrinsic+json": {
              "type": "string"
            }
          },
          "metadata": {}
        },
        {
          "output_type": "display_data",
          "data": {
            "text/plain": [
              "'Проекция на Z: 0.500000000000000'"
            ],
            "application/vnd.google.colaboratory.intrinsic+json": {
              "type": "string"
            }
          },
          "metadata": {}
        },
        {
          "output_type": "display_data",
          "data": {
            "text/plain": [
              "'VectThird = (30, 0.866025403784439, 0.250000000000000)'"
            ],
            "application/vnd.google.colaboratory.intrinsic+json": {
              "type": "string"
            }
          },
          "metadata": {}
        },
        {
          "output_type": "display_data",
          "data": {
            "text/plain": [
              "'|VectThird| = 30.0135386117665'"
            ],
            "application/vnd.google.colaboratory.intrinsic+json": {
              "type": "string"
            }
          },
          "metadata": {}
        },
        {
          "output_type": "display_data",
          "data": {
            "text/plain": [
              "'Проекция на X: 30'"
            ],
            "application/vnd.google.colaboratory.intrinsic+json": {
              "type": "string"
            }
          },
          "metadata": {}
        },
        {
          "output_type": "display_data",
          "data": {
            "text/plain": [
              "'Проекция на Y: 0.866025403784439'"
            ],
            "application/vnd.google.colaboratory.intrinsic+json": {
              "type": "string"
            }
          },
          "metadata": {}
        },
        {
          "output_type": "display_data",
          "data": {
            "text/plain": [
              "'Проекция на Z: 0.250000000000000'"
            ],
            "application/vnd.google.colaboratory.intrinsic+json": {
              "type": "string"
            }
          },
          "metadata": {}
        },
        {
          "output_type": "display_data",
          "data": {
            "text/plain": [
              "'VectFourth = (82, 6.12323399573677E-17, 1.00000000000000)'"
            ],
            "application/vnd.google.colaboratory.intrinsic+json": {
              "type": "string"
            }
          },
          "metadata": {}
        },
        {
          "output_type": "display_data",
          "data": {
            "text/plain": [
              "'|VectFourth| = 82.0060973342836'"
            ],
            "application/vnd.google.colaboratory.intrinsic+json": {
              "type": "string"
            }
          },
          "metadata": {}
        },
        {
          "output_type": "display_data",
          "data": {
            "text/plain": [
              "'Проекция на X: 82'"
            ],
            "application/vnd.google.colaboratory.intrinsic+json": {
              "type": "string"
            }
          },
          "metadata": {}
        },
        {
          "output_type": "display_data",
          "data": {
            "text/plain": [
              "'Проекция на Y: 6.12323399573677E-17'"
            ],
            "application/vnd.google.colaboratory.intrinsic+json": {
              "type": "string"
            }
          },
          "metadata": {}
        },
        {
          "output_type": "display_data",
          "data": {
            "text/plain": [
              "'Проекция на Z: 1.00000000000000'"
            ],
            "application/vnd.google.colaboratory.intrinsic+json": {
              "type": "string"
            }
          },
          "metadata": {}
        }
      ]
    },
    {
      "cell_type": "markdown",
      "metadata": {
        "id": "nOqai9ifCclj"
      },
      "source": [
        "### Задание  4\n",
        "Преобразовать матрицу $\\left(\\begin{matrix}-q\\\\ p\\\\ q + p\\end{matrix}\\right)$ в вектор в безымянной системе координат.\n",
        "\n",
        "Вывести на экран матрицу и ее представление в системе координат, а затем вывести векторное представление при $q$ и $p$ из Задания 3 на отдельных строках (использовать цикл, пар $q$ и $p$ столько, сколько векторов в файле Задания 3)."
      ]
    },
    {
      "cell_type": "code",
      "metadata": {
        "id": "5_vhxcIcCclj",
        "colab": {
          "base_uri": "https://localhost:8080/",
          "height": 430
        },
        "outputId": "69379651-02a9-44a9-f5d9-625e19a62f71"
      },
      "source": [
        "df = pd.read_excel(\"sem_10_task_3.xlsx\")\n",
        "values = df.to_numpy()\n",
        "\n",
        "N = CoordSys3D(\"\")\n",
        "p, q = sympy.symbols(\"p q\")\n",
        "\n",
        "M = sympy.Matrix([-1, p, q + p])\n",
        "display(M)\n",
        "\n",
        "v = M.dot([N.i, N.j, N.k])\n",
        "display(v)\n",
        "\n",
        "for row in values:\n",
        "  name, p, q, phi = row\n",
        "\n",
        "  M = sympy.Matrix([-1, p, q + p])\n",
        "  display(M)\n",
        "\n",
        "  v = M.dot([N.i, N.j, N.k])\n",
        "  display(v)"
      ],
      "execution_count": 27,
      "outputs": [
        {
          "output_type": "display_data",
          "data": {
            "text/plain": [
              "Matrix([\n",
              "[   -1],\n",
              "[    p],\n",
              "[p + q]])"
            ],
            "text/latex": "$\\displaystyle \\left[\\begin{matrix}-1\\\\p\\\\p + q\\end{matrix}\\right]$"
          },
          "metadata": {}
        },
        {
          "output_type": "display_data",
          "data": {
            "text/plain": [
              "(-1)*.i + p*.j + (p + q)*.k"
            ],
            "text/latex": "$\\displaystyle - \\mathbf{\\hat{i}_{}} + \\left(p\\right)\\mathbf{\\hat{j}_{}} + \\left(p + q\\right)\\mathbf{\\hat{k}_{}}$"
          },
          "metadata": {}
        },
        {
          "output_type": "display_data",
          "data": {
            "text/plain": [
              "Matrix([\n",
              "[-1],\n",
              "[ 1],\n",
              "[ 3]])"
            ],
            "text/latex": "$\\displaystyle \\left[\\begin{matrix}-1\\\\1\\\\3\\end{matrix}\\right]$"
          },
          "metadata": {}
        },
        {
          "output_type": "display_data",
          "data": {
            "text/plain": [
              "(-1)*.i + .j + 3*.k"
            ],
            "text/latex": "$\\displaystyle - \\mathbf{\\hat{i}_{}} + \\mathbf{\\hat{j}_{}} + \\left(3\\right)\\mathbf{\\hat{k}_{}}$"
          },
          "metadata": {}
        },
        {
          "output_type": "display_data",
          "data": {
            "text/plain": [
              "Matrix([\n",
              "[-1],\n",
              "[ 2],\n",
              "[ 3]])"
            ],
            "text/latex": "$\\displaystyle \\left[\\begin{matrix}-1\\\\2\\\\3\\end{matrix}\\right]$"
          },
          "metadata": {}
        },
        {
          "output_type": "display_data",
          "data": {
            "text/plain": [
              "(-1)*.i + 2*.j + 3*.k"
            ],
            "text/latex": "$\\displaystyle - \\mathbf{\\hat{i}_{}} + \\left(2\\right)\\mathbf{\\hat{j}_{}} + \\left(3\\right)\\mathbf{\\hat{k}_{}}$"
          },
          "metadata": {}
        },
        {
          "output_type": "display_data",
          "data": {
            "text/plain": [
              "Matrix([\n",
              "[-1],\n",
              "[ 3],\n",
              "[ 7]])"
            ],
            "text/latex": "$\\displaystyle \\left[\\begin{matrix}-1\\\\3\\\\7\\end{matrix}\\right]$"
          },
          "metadata": {}
        },
        {
          "output_type": "display_data",
          "data": {
            "text/plain": [
              "(-1)*.i + 3*.j + 7*.k"
            ],
            "text/latex": "$\\displaystyle - \\mathbf{\\hat{i}_{}} + \\left(3\\right)\\mathbf{\\hat{j}_{}} + \\left(7\\right)\\mathbf{\\hat{k}_{}}$"
          },
          "metadata": {}
        },
        {
          "output_type": "display_data",
          "data": {
            "text/plain": [
              "Matrix([\n",
              "[-1],\n",
              "[ 5],\n",
              "[11]])"
            ],
            "text/latex": "$\\displaystyle \\left[\\begin{matrix}-1\\\\5\\\\11\\end{matrix}\\right]$"
          },
          "metadata": {}
        },
        {
          "output_type": "display_data",
          "data": {
            "text/plain": [
              "(-1)*.i + 5*.j + 11*.k"
            ],
            "text/latex": "$\\displaystyle - \\mathbf{\\hat{i}_{}} + \\left(5\\right)\\mathbf{\\hat{j}_{}} + \\left(11\\right)\\mathbf{\\hat{k}_{}}$"
          },
          "metadata": {}
        }
      ]
    },
    {
      "cell_type": "markdown",
      "source": [
        "### Задание 5*.\n",
        "Описать функцию new_cs_rotate с обязательными аргументами cs (старая система координат) и vect (вектор в системе cs) и необязательным аргументом angle - углом поворота системы координат **относительно оси $j$** против часовой стрелки (в радианах, по умолчанию 0). Функция возвращает матрицу поворота, вектор в новой системе координат в векторном и матричном виде (кортеж из 3 элементов).\n",
        "\n",
        "Для тестирования функции ввести систему координат  $M5$ и вектор с координатами (1, -2, 5). С помощью функции получить представления этого вектора в новой системе координат, которая получается поворотом  на угол $\\pi/4$ относительно оси $j$ против и по часовой стрелке.\n",
        "\n",
        "Вывести на экран вектор $b5$ в старой системе координат $M$, в новой системе и матрицу поворота (два случая поворота - по и против часовой стрелки!)."
      ],
      "metadata": {
        "id": "1jDe-KFw2e2c"
      }
    },
    {
      "cell_type": "code",
      "source": [
        "def new_cs_rotate(cs, vect, angle=0):\n",
        "    rotation_matrix = sympy.Matrix([\n",
        "        [sympy.cos(angle), 0, sympy.sin(angle)],\n",
        "        [0, 1, 0],\n",
        "        [-sympy.sin(angle), 0, sympy.cos(angle)]\n",
        "    ])\n",
        "\n",
        "    new_vector = rotation_matrix * vect\n",
        "\n",
        "    return rotation_matrix, new_vector\n",
        "\n",
        "M5 = CoordSys3D('M5')\n",
        "b5 = sympy.Matrix([1, -2, 5])\n",
        "display(M5, b5)\n",
        "\n",
        "angle = sympy.pi / 4\n",
        "\n",
        "R, b5 = new_cs_rotate(M5, b5, angle)\n",
        "display(R)\n",
        "display(b5)"
      ],
      "metadata": {
        "id": "W3Rl3nqT5J6Q",
        "colab": {
          "base_uri": "https://localhost:8080/",
          "height": 273
        },
        "outputId": "bf1c43a7-8a7e-4242-d896-d7f64a6ebf17"
      },
      "execution_count": 40,
      "outputs": [
        {
          "output_type": "display_data",
          "data": {
            "text/plain": [
              "M5"
            ],
            "text/latex": "$\\displaystyle \\operatorname{CoordSys3D}\\left(M5, \\left( \\left[\\begin{matrix}1 & 0 & 0\\\\0 & 1 & 0\\\\0 & 0 & 1\\end{matrix}\\right], \\  \\mathbf{\\hat{0}}\\right)\\right)$"
          },
          "metadata": {}
        },
        {
          "output_type": "display_data",
          "data": {
            "text/plain": [
              "Matrix([\n",
              "[ 1],\n",
              "[-2],\n",
              "[ 5]])"
            ],
            "text/latex": "$\\displaystyle \\left[\\begin{matrix}1\\\\-2\\\\5\\end{matrix}\\right]$"
          },
          "metadata": {}
        },
        {
          "output_type": "display_data",
          "data": {
            "text/plain": [
              "Matrix([\n",
              "[ sqrt(2)/2, 0, sqrt(2)/2],\n",
              "[         0, 1,         0],\n",
              "[-sqrt(2)/2, 0, sqrt(2)/2]])"
            ],
            "text/latex": "$\\displaystyle \\left[\\begin{matrix}\\frac{\\sqrt{2}}{2} & 0 & \\frac{\\sqrt{2}}{2}\\\\0 & 1 & 0\\\\- \\frac{\\sqrt{2}}{2} & 0 & \\frac{\\sqrt{2}}{2}\\end{matrix}\\right]$"
          },
          "metadata": {}
        },
        {
          "output_type": "display_data",
          "data": {
            "text/plain": [
              "Matrix([\n",
              "[3*sqrt(2)],\n",
              "[       -2],\n",
              "[2*sqrt(2)]])"
            ],
            "text/latex": "$\\displaystyle \\left[\\begin{matrix}3 \\sqrt{2}\\\\-2\\\\2 \\sqrt{2}\\end{matrix}\\right]$"
          },
          "metadata": {}
        }
      ]
    },
    {
      "cell_type": "markdown",
      "metadata": {
        "id": "wsupzWmVCclk"
      },
      "source": [
        "### Задание 6.\n",
        "Вектор $a\\_vect(3, -4, 2)$ задан в безымянной системе координат  M.\n",
        "\n",
        "Вывести на экран матричные представления вектора $a\\_vect$ в\n",
        "системе координат, полученной из   M поворотом на $2\\phi$ **по** часовой стрелке относительно оси, определяемой вектором $(p + q, pq, p^2)$ ($\\phi$, $p$, $q$ из Задания 3). Выразить вектор $a\\_vect$ в каждой новой системе координат и вывести **координаты** вектора на экран."
      ]
    },
    {
      "cell_type": "code",
      "metadata": {
        "id": "vbYoiHz8Ccll",
        "colab": {
          "base_uri": "https://localhost:8080/",
          "height": 905
        },
        "outputId": "7562a94b-afa0-41b1-a287-cf87f348452e"
      },
      "source": [
        "def rotation_matrix(axis, angle):\n",
        "    cos_theta = sympy.cos(angle)\n",
        "    sin_theta = sympy.sin(angle)\n",
        "    ux, uy, uz = axis\n",
        "    return sympy.Matrix([\n",
        "        [cos_theta + ux*ux*(1 - cos_theta), ux*uy*(1 - cos_theta) - uz*sin_theta, ux*uz*(1 - cos_theta) + uy*sin_theta],\n",
        "        [uy*ux*(1 - cos_theta) + uz*sin_theta, cos_theta + uy*uy*(1 - cos_theta), uy*uz*(1 - cos_theta) - ux*sin_theta],\n",
        "        [uz*ux*(1 - cos_theta) - uy*sin_theta, uz*uy*(1 - cos_theta) + ux*sin_theta, cos_theta + uz*uz*(1 - cos_theta)]\n",
        "    ])\n",
        "\n",
        "df = pd.read_excel(\"sem_10_task_3.xlsx\")\n",
        "values = df.to_numpy()\n",
        "\n",
        "vect = sympy.Matrix([3, -4, 2])\n",
        "\n",
        "for row in values:\n",
        "  name, p, q, phi = row\n",
        "\n",
        "  axis = sympy.Matrix([p + q, p*q, p**2]).normalized()\n",
        "  display(axis)\n",
        "\n",
        "  M = rotation_matrix(axis, -2*phi)\n",
        "  display(M)\n",
        "\n",
        "  new_vect = M * vect\n",
        "  display(new_vect)\n",
        "\n"
      ],
      "execution_count": 44,
      "outputs": [
        {
          "output_type": "display_data",
          "data": {
            "text/plain": [
              "Matrix([\n",
              "[3*sqrt(14)/14],\n",
              "[   sqrt(14)/7],\n",
              "[  sqrt(14)/14]])"
            ],
            "text/latex": "$\\displaystyle \\left[\\begin{matrix}\\frac{3 \\sqrt{14}}{14}\\\\\\frac{\\sqrt{14}}{7}\\\\\\frac{\\sqrt{14}}{14}\\end{matrix}\\right]$"
          },
          "metadata": {}
        },
        {
          "output_type": "display_data",
          "data": {
            "text/plain": [
              "Matrix([\n",
              "[                       5*cos(120)/14 + 9/14, -3*cos(120)/7 + sqrt(14)*sin(120)/14 + 3/7, -sqrt(14)*sin(120)/7 - 3*cos(120)/14 + 3/14],\n",
              "[ -3*cos(120)/7 - sqrt(14)*sin(120)/14 + 3/7,                         2/7 + 5*cos(120)/7,  -cos(120)/7 + 1/7 + 3*sqrt(14)*sin(120)/14],\n",
              "[-3*cos(120)/14 + 3/14 + sqrt(14)*sin(120)/7, -3*sqrt(14)*sin(120)/14 - cos(120)/7 + 1/7,                       1/14 + 13*cos(120)/14]])"
            ],
            "text/latex": "$\\displaystyle \\left[\\begin{matrix}\\frac{5 \\cos{\\left(120 \\right)}}{14} + \\frac{9}{14} & - \\frac{3 \\cos{\\left(120 \\right)}}{7} + \\frac{\\sqrt{14} \\sin{\\left(120 \\right)}}{14} + \\frac{3}{7} & - \\frac{\\sqrt{14} \\sin{\\left(120 \\right)}}{7} - \\frac{3 \\cos{\\left(120 \\right)}}{14} + \\frac{3}{14}\\\\- \\frac{3 \\cos{\\left(120 \\right)}}{7} - \\frac{\\sqrt{14} \\sin{\\left(120 \\right)}}{14} + \\frac{3}{7} & \\frac{2}{7} + \\frac{5 \\cos{\\left(120 \\right)}}{7} & - \\frac{\\cos{\\left(120 \\right)}}{7} + \\frac{1}{7} + \\frac{3 \\sqrt{14} \\sin{\\left(120 \\right)}}{14}\\\\- \\frac{3 \\cos{\\left(120 \\right)}}{14} + \\frac{3}{14} + \\frac{\\sqrt{14} \\sin{\\left(120 \\right)}}{7} & - \\frac{3 \\sqrt{14} \\sin{\\left(120 \\right)}}{14} - \\frac{\\cos{\\left(120 \\right)}}{7} + \\frac{1}{7} & \\frac{1}{14} + \\frac{13 \\cos{\\left(120 \\right)}}{14}\\end{matrix}\\right]$"
          },
          "metadata": {}
        },
        {
          "output_type": "display_data",
          "data": {
            "text/plain": [
              "Matrix([\n",
              "[-4*sqrt(14)*sin(120)/7 + 9/14 + 33*cos(120)/14],\n",
              "[ -31*cos(120)/7 + 3/7 + 3*sqrt(14)*sin(120)/14],\n",
              "[ 3/14 + 25*cos(120)/14 + 9*sqrt(14)*sin(120)/7]])"
            ],
            "text/latex": "$\\displaystyle \\left[\\begin{matrix}- \\frac{4 \\sqrt{14} \\sin{\\left(120 \\right)}}{7} + \\frac{9}{14} + \\frac{33 \\cos{\\left(120 \\right)}}{14}\\\\- \\frac{31 \\cos{\\left(120 \\right)}}{7} + \\frac{3}{7} + \\frac{3 \\sqrt{14} \\sin{\\left(120 \\right)}}{14}\\\\\\frac{3}{14} + \\frac{25 \\cos{\\left(120 \\right)}}{14} + \\frac{9 \\sqrt{14} \\sin{\\left(120 \\right)}}{7}\\end{matrix}\\right]$"
          },
          "metadata": {}
        },
        {
          "output_type": "display_data",
          "data": {
            "text/plain": [
              "Matrix([\n",
              "[3*sqrt(29)/29],\n",
              "[2*sqrt(29)/29],\n",
              "[4*sqrt(29)/29]])"
            ],
            "text/latex": "$\\displaystyle \\left[\\begin{matrix}\\frac{3 \\sqrt{29}}{29}\\\\\\frac{2 \\sqrt{29}}{29}\\\\\\frac{4 \\sqrt{29}}{29}\\end{matrix}\\right]$"
          },
          "metadata": {}
        },
        {
          "output_type": "display_data",
          "data": {
            "text/plain": [
              "Matrix([\n",
              "[                          20*cos(90)/29 + 9/29, -6*cos(90)/29 + 6/29 + 4*sqrt(29)*sin(90)/29, -2*sqrt(29)*sin(90)/29 - 12*cos(90)/29 + 12/29],\n",
              "[  -4*sqrt(29)*sin(90)/29 - 6*cos(90)/29 + 6/29,                         25*cos(90)/29 + 4/29,   -8*cos(90)/29 + 8/29 + 3*sqrt(29)*sin(90)/29],\n",
              "[-12*cos(90)/29 + 2*sqrt(29)*sin(90)/29 + 12/29, -3*sqrt(29)*sin(90)/29 - 8*cos(90)/29 + 8/29,                          13*cos(90)/29 + 16/29]])"
            ],
            "text/latex": "$\\displaystyle \\left[\\begin{matrix}\\frac{20 \\cos{\\left(90 \\right)}}{29} + \\frac{9}{29} & - \\frac{6 \\cos{\\left(90 \\right)}}{29} + \\frac{6}{29} + \\frac{4 \\sqrt{29} \\sin{\\left(90 \\right)}}{29} & - \\frac{2 \\sqrt{29} \\sin{\\left(90 \\right)}}{29} - \\frac{12 \\cos{\\left(90 \\right)}}{29} + \\frac{12}{29}\\\\- \\frac{4 \\sqrt{29} \\sin{\\left(90 \\right)}}{29} - \\frac{6 \\cos{\\left(90 \\right)}}{29} + \\frac{6}{29} & \\frac{25 \\cos{\\left(90 \\right)}}{29} + \\frac{4}{29} & - \\frac{8 \\cos{\\left(90 \\right)}}{29} + \\frac{8}{29} + \\frac{3 \\sqrt{29} \\sin{\\left(90 \\right)}}{29}\\\\- \\frac{12 \\cos{\\left(90 \\right)}}{29} + \\frac{2 \\sqrt{29} \\sin{\\left(90 \\right)}}{29} + \\frac{12}{29} & - \\frac{3 \\sqrt{29} \\sin{\\left(90 \\right)}}{29} - \\frac{8 \\cos{\\left(90 \\right)}}{29} + \\frac{8}{29} & \\frac{13 \\cos{\\left(90 \\right)}}{29} + \\frac{16}{29}\\end{matrix}\\right]$"
          },
          "metadata": {}
        },
        {
          "output_type": "display_data",
          "data": {
            "text/plain": [
              "Matrix([\n",
              "[-20*sqrt(29)*sin(90)/29 + 60*cos(90)/29 + 27/29],\n",
              "[-6*sqrt(29)*sin(90)/29 + 18/29 - 134*cos(90)/29],\n",
              "[ 22*cos(90)/29 + 36/29 + 18*sqrt(29)*sin(90)/29]])"
            ],
            "text/latex": "$\\displaystyle \\left[\\begin{matrix}- \\frac{20 \\sqrt{29} \\sin{\\left(90 \\right)}}{29} + \\frac{60 \\cos{\\left(90 \\right)}}{29} + \\frac{27}{29}\\\\- \\frac{6 \\sqrt{29} \\sin{\\left(90 \\right)}}{29} + \\frac{18}{29} - \\frac{134 \\cos{\\left(90 \\right)}}{29}\\\\\\frac{22 \\cos{\\left(90 \\right)}}{29} + \\frac{36}{29} + \\frac{18 \\sqrt{29} \\sin{\\left(90 \\right)}}{29}\\end{matrix}\\right]$"
          },
          "metadata": {}
        },
        {
          "output_type": "display_data",
          "data": {
            "text/plain": [
              "Matrix([\n",
              "[7*sqrt(274)/274],\n",
              "[6*sqrt(274)/137],\n",
              "[9*sqrt(274)/274]])"
            ],
            "text/latex": "$\\displaystyle \\left[\\begin{matrix}\\frac{7 \\sqrt{274}}{274}\\\\\\frac{6 \\sqrt{274}}{137}\\\\\\frac{9 \\sqrt{274}}{274}\\end{matrix}\\right]$"
          },
          "metadata": {}
        },
        {
          "output_type": "display_data",
          "data": {
            "text/plain": [
              "Matrix([\n",
              "[                          225*cos(60)/274 + 49/274,  9*sqrt(274)*sin(60)/274 - 42*cos(60)/137 + 42/137, -63*cos(60)/274 - 6*sqrt(274)*sin(60)/137 + 63/274],\n",
              "[-9*sqrt(274)*sin(60)/274 - 42*cos(60)/137 + 42/137,                            65*cos(60)/137 + 72/137,  7*sqrt(274)*sin(60)/274 - 54*cos(60)/137 + 54/137],\n",
              "[ 6*sqrt(274)*sin(60)/137 - 63*cos(60)/274 + 63/274, -7*sqrt(274)*sin(60)/274 - 54*cos(60)/137 + 54/137,                           193*cos(60)/274 + 81/274]])"
            ],
            "text/latex": "$\\displaystyle \\left[\\begin{matrix}\\frac{225 \\cos{\\left(60 \\right)}}{274} + \\frac{49}{274} & \\frac{9 \\sqrt{274} \\sin{\\left(60 \\right)}}{274} - \\frac{42 \\cos{\\left(60 \\right)}}{137} + \\frac{42}{137} & - \\frac{63 \\cos{\\left(60 \\right)}}{274} - \\frac{6 \\sqrt{274} \\sin{\\left(60 \\right)}}{137} + \\frac{63}{274}\\\\- \\frac{9 \\sqrt{274} \\sin{\\left(60 \\right)}}{274} - \\frac{42 \\cos{\\left(60 \\right)}}{137} + \\frac{42}{137} & \\frac{65 \\cos{\\left(60 \\right)}}{137} + \\frac{72}{137} & \\frac{7 \\sqrt{274} \\sin{\\left(60 \\right)}}{274} - \\frac{54 \\cos{\\left(60 \\right)}}{137} + \\frac{54}{137}\\\\\\frac{6 \\sqrt{274} \\sin{\\left(60 \\right)}}{137} - \\frac{63 \\cos{\\left(60 \\right)}}{274} + \\frac{63}{274} & - \\frac{7 \\sqrt{274} \\sin{\\left(60 \\right)}}{274} - \\frac{54 \\cos{\\left(60 \\right)}}{137} + \\frac{54}{137} & \\frac{193 \\cos{\\left(60 \\right)}}{274} + \\frac{81}{274}\\end{matrix}\\right]$"
          },
          "metadata": {}
        },
        {
          "output_type": "display_data",
          "data": {
            "text/plain": [
              "Matrix([\n",
              "[ 885*cos(60)/274 - 63/274 - 30*sqrt(274)*sin(60)/137],\n",
              "[-54/137 - 13*sqrt(274)*sin(60)/274 - 494*cos(60)/137],\n",
              "[ 629*cos(60)/274 + 32*sqrt(274)*sin(60)/137 - 81/274]])"
            ],
            "text/latex": "$\\displaystyle \\left[\\begin{matrix}\\frac{885 \\cos{\\left(60 \\right)}}{274} - \\frac{63}{274} - \\frac{30 \\sqrt{274} \\sin{\\left(60 \\right)}}{137}\\\\- \\frac{54}{137} - \\frac{13 \\sqrt{274} \\sin{\\left(60 \\right)}}{274} - \\frac{494 \\cos{\\left(60 \\right)}}{137}\\\\\\frac{629 \\cos{\\left(60 \\right)}}{274} + \\frac{32 \\sqrt{274} \\sin{\\left(60 \\right)}}{137} - \\frac{81}{274}\\end{matrix}\\right]$"
          },
          "metadata": {}
        },
        {
          "output_type": "display_data",
          "data": {
            "text/plain": [
              "Matrix([\n",
              "[11*sqrt(1646)/1646],\n",
              "[ 15*sqrt(1646)/823],\n",
              "[25*sqrt(1646)/1646]])"
            ],
            "text/latex": "$\\displaystyle \\left[\\begin{matrix}\\frac{11 \\sqrt{1646}}{1646}\\\\\\frac{15 \\sqrt{1646}}{823}\\\\\\frac{25 \\sqrt{1646}}{1646}\\end{matrix}\\right]$"
          },
          "metadata": {}
        },
        {
          "output_type": "display_data",
          "data": {
            "text/plain": [
              "Matrix([\n",
              "[                            1525*cos(180)/1646 + 121/1646,  25*sqrt(1646)*sin(180)/1646 - 165*cos(180)/823 + 165/823, -275*cos(180)/1646 + 275/1646 - 15*sqrt(1646)*sin(180)/823],\n",
              "[-165*cos(180)/823 + 165/823 - 25*sqrt(1646)*sin(180)/1646,                                373*cos(180)/823 + 450/823,   11*sqrt(1646)*sin(180)/1646 - 375*cos(180)/823 + 375/823],\n",
              "[15*sqrt(1646)*sin(180)/823 - 275*cos(180)/1646 + 275/1646, -11*sqrt(1646)*sin(180)/1646 - 375*cos(180)/823 + 375/823,                              1021*cos(180)/1646 + 625/1646]])"
            ],
            "text/latex": "$\\displaystyle \\left[\\begin{matrix}\\frac{1525 \\cos{\\left(180 \\right)}}{1646} + \\frac{121}{1646} & \\frac{25 \\sqrt{1646} \\sin{\\left(180 \\right)}}{1646} - \\frac{165 \\cos{\\left(180 \\right)}}{823} + \\frac{165}{823} & - \\frac{275 \\cos{\\left(180 \\right)}}{1646} + \\frac{275}{1646} - \\frac{15 \\sqrt{1646} \\sin{\\left(180 \\right)}}{823}\\\\- \\frac{165 \\cos{\\left(180 \\right)}}{823} + \\frac{165}{823} - \\frac{25 \\sqrt{1646} \\sin{\\left(180 \\right)}}{1646} & \\frac{373 \\cos{\\left(180 \\right)}}{823} + \\frac{450}{823} & \\frac{11 \\sqrt{1646} \\sin{\\left(180 \\right)}}{1646} - \\frac{375 \\cos{\\left(180 \\right)}}{823} + \\frac{375}{823}\\\\\\frac{15 \\sqrt{1646} \\sin{\\left(180 \\right)}}{823} - \\frac{275 \\cos{\\left(180 \\right)}}{1646} + \\frac{275}{1646} & - \\frac{11 \\sqrt{1646} \\sin{\\left(180 \\right)}}{1646} - \\frac{375 \\cos{\\left(180 \\right)}}{823} + \\frac{375}{823} & \\frac{1021 \\cos{\\left(180 \\right)}}{1646} + \\frac{625}{1646}\\end{matrix}\\right]$"
          },
          "metadata": {}
        },
        {
          "output_type": "display_data",
          "data": {
            "text/plain": [
              "Matrix([\n",
              "[5345*cos(180)/1646 - 407/1646 - 80*sqrt(1646)*sin(180)/823],\n",
              "[-555/823 - 53*sqrt(1646)*sin(180)/1646 - 2737*cos(180)/823],\n",
              "[67*sqrt(1646)*sin(180)/823 + 4217*cos(180)/1646 - 925/1646]])"
            ],
            "text/latex": "$\\displaystyle \\left[\\begin{matrix}\\frac{5345 \\cos{\\left(180 \\right)}}{1646} - \\frac{407}{1646} - \\frac{80 \\sqrt{1646} \\sin{\\left(180 \\right)}}{823}\\\\- \\frac{555}{823} - \\frac{53 \\sqrt{1646} \\sin{\\left(180 \\right)}}{1646} - \\frac{2737 \\cos{\\left(180 \\right)}}{823}\\\\\\frac{67 \\sqrt{1646} \\sin{\\left(180 \\right)}}{823} + \\frac{4217 \\cos{\\left(180 \\right)}}{1646} - \\frac{925}{1646}\\end{matrix}\\right]$"
          },
          "metadata": {}
        }
      ]
    },
    {
      "cell_type": "markdown",
      "source": [
        "### Задание 7*.\n",
        "Описать функцию func7 от аргумента phi (угол в радианах). Функция возвращает полученную с помощью метода magnitude длину вектора $vect(\\sin(\\phi),\\ \\cos(\\phi),\\ \\sin(\\phi) + 3\\cos(\\phi))$. При помощи lambdify построить функцию func7np (двойник этой функции  для использования с numpy). Использовать func7np для построения графика зависимости длины вектора vect от phi при phi от 0 до 4 с шагом 0.1."
      ],
      "metadata": {
        "id": "q74vpvHEJiva"
      }
    },
    {
      "cell_type": "code",
      "source": [
        "phi = sympy.symbols('phi')\n",
        "\n",
        "vect = sympy.Matrix([sympy.sin(phi), sympy.cos(phi), sympy.sin(phi) + 3*sympy.cos(phi)])\n",
        "\n",
        "def func7(phival):\n",
        "    return vect.norm().subs(phi, phival)\n",
        "\n",
        "func7np = sympy.lambdify(phi, vect.norm(), modules=['numpy'])\n",
        "\n",
        "# Построение графика\n",
        "phi_values = np.arange(0, 4, 0.1)\n",
        "lengths = func7np(phi_values)\n",
        "\n",
        "plt.plot(phi_values, lengths)\n",
        "plt.xlabel(\"φ\")\n",
        "plt.ylabel(\"|v|\")\n",
        "plt.show()"
      ],
      "metadata": {
        "id": "BsLSovZXQR8w",
        "colab": {
          "base_uri": "https://localhost:8080/",
          "height": 449
        },
        "outputId": "443272b6-b1eb-4a9b-cf05-4a0c0d021c90"
      },
      "execution_count": 48,
      "outputs": [
        {
          "output_type": "display_data",
          "data": {
            "text/plain": [
              "<Figure size 640x480 with 1 Axes>"
            ],
            "image/png": "[encoded data removed]"
          },
          "metadata": {}
        }
      ]
    },
    {
      "cell_type": "markdown",
      "metadata": {
        "id": "LVIOHcc0Ccll"
      },
      "source": [
        "### Индивидуальное задание.\n",
        "Ввести безымянную систему координат XYZ, задать в ней векторы $v_1$ и $v_2$. Построить новую систему координат XYZ1 с именем Name поворотом  XYZ на $\\alpha$ по часовой стрелке (или против) относительно оси, определяемой вектором $b$, выразить векторы $v_1$ и $v_2$ в новой системе координат. Найти скалярное и векторное произведение векторов в новой и старой системе координат. Выразить вектор, равный векторному произведению $v_1$ и $v_2$ в старой системе координат через новую систему координат, сравнить с векторным произведением $v_1$ и $v_2$, выраженных в новой системе координат.\n",
        "![image.png](data:image/png;base64,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)"
      ]
    },
    {
      "cell_type": "code",
      "source": [
        "# я устал"
      ],
      "metadata": {
        "id": "KrU3AEgAxIIc"
      },
      "execution_count": 59,
      "outputs": []
    }
  ]
}