{
  "nbformat": 4,
  "nbformat_minor": 0,
  "metadata": {
    "kernelspec": {
      "display_name": "Python 3",
      "language": "python",
      "name": "python3"
    },
    "language_info": {
      "codemirror_mode": {
        "name": "ipython",
        "version": 3
      },
      "file_extension": ".py",
      "mimetype": "text/x-python",
      "name": "python",
      "nbconvert_exporter": "python",
      "pygments_lexer": "ipython3",
      "version": "3.7.3"
    },
    "colab": {
      "provenance": [],
      "include_colab_link": true
    }
  },
  "cells": [
    {
      "cell_type": "markdown",
      "metadata": {
        "id": "view-in-github",
        "colab_type": "text"
      },
      "source": [
        "<a href=\"https://colab.research.google.com/github/leshless/study/blob/main/python_algebra/task5.ipynb\" target=\"_parent\"><img src=\"https://colab.research.google.com/assets/colab-badge.svg\" alt=\"Open In Colab\"/></a>"
      ]
    },
    {
      "cell_type": "code",
      "metadata": {
        "id": "89leUlBEO3kD"
      },
      "source": [
        "from sympy import linsolve, Matrix, S, Symbol, symbols, linear_eq_to_matrix,\\\n",
        "Eq, zeros, ones, latex\n",
        "from IPython.display import Latex"
      ],
      "execution_count": 55,
      "outputs": []
    },
    {
      "cell_type": "markdown",
      "metadata": {
        "id": "PVEyzdFgO3kJ"
      },
      "source": [
        "# Занятие 5\n",
        "# Алгебра\n",
        "\n",
        "##  Прямые и плоскости в пространстве. Уравнения прямых и  плоскостей.\n",
        "### Задание 1.\n",
        "Определить, пересекаются ли плоскости (все сразу). Если пересекаются, найти точку пересечения.\n",
        "\n",
        "Составить СЛАУ в виде списка уравнений, решить с помощью linsolve.\n",
        "\n",
        "$-8x+5y-2z+28=0$\n",
        "\n",
        "$-11x-10y-16z+71=0$\n",
        "\n",
        "$-7x+3y+8z-27=0$."
      ]
    },
    {
      "cell_type": "code",
      "source": [
        "x, y, z = symbols(\"x y z\")\n",
        "\n",
        "sys = [\n",
        "    Eq(-8*x + 5*y - 2*z + 28, 0),\n",
        "    Eq(-11*x - 10*y - 16*z + 71, 0),\n",
        "    Eq(-7*x + 3*y + 8*z - 27, 0),\n",
        "]\n",
        "\n",
        "sol = linsolve(sys, (x, y, z))\n",
        "display(sol)"
      ],
      "metadata": {
        "id": "Wkoc3KXxm-YA",
        "colab": {
          "base_uri": "https://localhost:8080/",
          "height": 211
        },
        "outputId": "ffa70fff-8bea-4856-cb5d-919b7f641c32"
      },
      "execution_count": null,
      "outputs": [
        {
          "output_type": "error",
          "ename": "NameError",
          "evalue": "name 'sympy' is not defined",
          "traceback": [
            "\u001b[0;31m---------------------------------------------------------------------------\u001b[0m",
            "\u001b[0;31mNameError\u001b[0m                                 Traceback (most recent call last)",
            "\u001b[0;32m<ipython-input-6-8ede5c0b2e03>\u001b[0m in \u001b[0;36m<cell line: 9>\u001b[0;34m()\u001b[0m\n\u001b[1;32m      7\u001b[0m ]\n\u001b[1;32m      8\u001b[0m \u001b[0;34m\u001b[0m\u001b[0m\n\u001b[0;32m----> 9\u001b[0;31m \u001b[0mdisplay\u001b[0m\u001b[0;34m(\u001b[0m\u001b[0msympy\u001b[0m\u001b[0;34m.\u001b[0m\u001b[0msys\u001b[0m\u001b[0;34m(\u001b[0m\u001b[0msys\u001b[0m\u001b[0;34m)\u001b[0m\u001b[0;34m)\u001b[0m\u001b[0;34m\u001b[0m\u001b[0;34m\u001b[0m\u001b[0m\n\u001b[0m\u001b[1;32m     10\u001b[0m \u001b[0;34m\u001b[0m\u001b[0m\n\u001b[1;32m     11\u001b[0m \u001b[0msol\u001b[0m \u001b[0;34m=\u001b[0m \u001b[0mlinsolve\u001b[0m\u001b[0;34m(\u001b[0m\u001b[0msys\u001b[0m\u001b[0;34m,\u001b[0m \u001b[0;34m(\u001b[0m\u001b[0mx\u001b[0m\u001b[0;34m,\u001b[0m \u001b[0my\u001b[0m\u001b[0;34m,\u001b[0m \u001b[0mz\u001b[0m\u001b[0;34m)\u001b[0m\u001b[0;34m)\u001b[0m\u001b[0;34m\u001b[0m\u001b[0;34m\u001b[0m\u001b[0m\n",
            "\u001b[0;31mNameError\u001b[0m: name 'sympy' is not defined"
          ]
        }
      ]
    },
    {
      "cell_type": "markdown",
      "metadata": {
        "id": "ypS69_K9O3kQ"
      },
      "source": [
        "### Задание 2.\n",
        "Найти точку пересечения прямой, проходящей через точки $A(-3,5,1)$ и $B(5,2,-3)$ и плоскости, в которой лежат точки\n",
        "$K(4,3,0)$, $M(2,4,-2)$ и $N(-2,2,-1)$."
      ]
    },
    {
      "cell_type": "code",
      "source": [
        "A, B, C = symbols(\"A B C\")\n",
        "\n",
        "M = Matrix([\n",
        "  [4, 3, 0, -1],\n",
        "  [2, 4, -2, -1],\n",
        "  [-2, 2, -1, -1]\n",
        "])\n",
        "\n",
        "A, B, C = list(linsolve(M, (A, B, C)))[0]\n",
        "\n",
        "x, y, z = symbols(\"x y z\")\n",
        "t = symbols(\"t\")\n",
        "\n",
        "K = Matrix([-3, 5, 1])\n",
        "M = Matrix([5, 2, -3])\n",
        "\n",
        "sys = [\n",
        "    Eq(A*x + B*y + C*z + 1, 0),\n",
        "    Eq(x, t*(M[0] - K[0]) + K[0]),\n",
        "    Eq(y, t*(M[1] - K[1]) + K[1]),\n",
        "    Eq(z, t*(M[2] - K[2]) + K[2]),\n",
        "]\n",
        "\n",
        "x, y, z, t = list(linsolve(sys, (x, y, z, t)))[0]\n",
        "\n",
        "display((x, y, z))"
      ],
      "metadata": {
        "id": "i8jZ1hzInA6N",
        "colab": {
          "base_uri": "https://localhost:8080/",
          "height": 34
        },
        "outputId": "b42a721f-8a7c-49be-d49b-31a43bc0a3bd"
      },
      "execution_count": null,
      "outputs": [
        {
          "output_type": "display_data",
          "data": {
            "text/plain": [
              "(67/43, 283/86, -55/43)"
            ]
          },
          "metadata": {}
        }
      ]
    },
    {
      "cell_type": "markdown",
      "metadata": {
        "id": "ok151h_IO3kS"
      },
      "source": [
        "### Задание 3.\n",
        "Составить параметрические уравнения прямой, являющейся линией пересечения плоскостей $𝑦+2𝑧−4=0$ и $4𝑥+3𝑦+2𝑧−4=0$.\n",
        "\n",
        "Указание: составить СЛАУ из уравнений плоскостей, воспользоваться linsolve(), заменить переменную в полученном решении на параметр t и составить СЛАУ из параметрических уравнений."
      ]
    },
    {
      "cell_type": "code",
      "source": [
        "x, y, z = symbols(\"x y z\")\n",
        "t = symbols(\"t\")\n",
        "\n",
        "sys = [\n",
        "    Eq(y + 2*z - 4, 0),\n",
        "    Eq(4*x + 3*y + 2*z - 4, 0)\n",
        "]\n",
        "\n",
        "sol = list(linsolve(sys, (x, y, z)).subs(z, t))[0]\n",
        "\n",
        "sys = [\n",
        "\n",
        "       Eq(x, sol[0]),\n",
        "    Eq(y, sol[1]),\n",
        "    Eq(z, sol[2])\n",
        "]\n",
        "\n",
        "display(*sys)"
      ],
      "metadata": {
        "id": "0WCqCtTGnCmv",
        "colab": {
          "base_uri": "https://localhost:8080/",
          "height": 81
        },
        "outputId": "6894f9b8-d8f2-49ad-c0c4-36268b6c82e4"
      },
      "execution_count": null,
      "outputs": [
        {
          "output_type": "display_data",
          "data": {
            "text/plain": [
              "Eq(x, t - 2)"
            ],
            "text/latex": "$\\displaystyle x = t - 2$"
          },
          "metadata": {}
        },
        {
          "output_type": "display_data",
          "data": {
            "text/plain": [
              "Eq(y, 4 - 2*t)"
            ],
            "text/latex": "$\\displaystyle y = 4 - 2 t$"
          },
          "metadata": {}
        },
        {
          "output_type": "display_data",
          "data": {
            "text/plain": [
              "Eq(z, t)"
            ],
            "text/latex": "$\\displaystyle z = t$"
          },
          "metadata": {}
        }
      ]
    },
    {
      "cell_type": "markdown",
      "metadata": {
        "id": "kU3zatrMO3ka"
      },
      "source": [
        "###  Задание 4.\n",
        "Прямая задана параметрическими уравнениями:\n",
        "$$\n",
        "\\left\\{\\begin{matrix}\n",
        "x=2+5t\\\\\n",
        "y=-1-2t\\\\\n",
        "z=4-3t\n",
        "\\end{matrix}\\right..\n",
        "$$\n",
        "Представить прямую в виде линии пересечения двух плоскостей, одна из которых проходит через начало координат, а вторая плоскость перпендикулярна первой плоскости. Вывести на экран уравнения плоскостей.\n",
        "\n",
        "Указание: составить параметрические уравнения прямой в виде списка правых частей уравнений, затем по образцу Примера 5 составить уравнение плоскости, проходящей через начало координат (по трем точкам). Для составления второй плоскости заметим, что вектор нормали к первой плоскости и любой вектор прямой параллельны второй плоскости, поэтому можно применить формулу 4 уравнения плоскости.\n",
        "Вектор нормали можно составить вручную, глядя на уравнение первой плоскости."
      ]
    },
    {
      "cell_type": "code",
      "source": [
        "t = symbols(\"t\")\n",
        "x, y, z = symbols(\"x y z\")\n",
        "\n",
        "sys = Matrix([\n",
        "    2 + 5*t,\n",
        "    -1 - 2*t,\n",
        "    4 - 3*t,\n",
        "])\n",
        "\n",
        "P1 = sys.subs(t, 1).transpose()\n",
        "P2 = sys.subs(t, 2).transpose()\n",
        "M = P1.col_join(P2).row_join(zeros(2, 1))\n",
        "\n",
        "# plane 1\n",
        "A, B, C = symbols(\"A B C\")\n",
        "A, B, C = list(linsolve(M, (A, B, C)).subs(C, 1))[0]\n",
        "display(Eq(A*x + B*y + C*z, 0))\n",
        "\n",
        "# plane 2\n",
        "N = Matrix([A, B, C]).transpose()\n",
        "P3 = P1 + N\n",
        "M = P1.col_join(P2).col_join(P3).row_join(ones(3, 1) * (-1))\n",
        "\n",
        "A, B, C, D = symbols(\"A B C D\")\n",
        "A, B, C, D = list(linsolve(M, (A, B, C, D)).subs(D, 1))[0]\n",
        "display(Eq(A*x + B*y + C*z + D, 0))\n"
      ],
      "metadata": {
        "id": "kCOMh2UlnELD",
        "colab": {
          "base_uri": "https://localhost:8080/",
          "height": 72
        },
        "outputId": "12cd2107-7cb5-4a0c-d591-d9ec50442217"
      },
      "execution_count": 28,
      "outputs": [
        {
          "output_type": "display_data",
          "data": {
            "text/plain": [
              "Eq(11*x + 26*y + z, 0)"
            ],
            "text/latex": "$\\displaystyle 11 x + 26 y + z = 0$"
          },
          "metadata": {}
        },
        {
          "output_type": "display_data",
          "data": {
            "text/plain": [
              "Eq(-2*x/21 + y/21 - 4*z/21 + 1, 0)"
            ],
            "text/latex": "$\\displaystyle - \\frac{2 x}{21} + \\frac{y}{21} - \\frac{4 z}{21} + 1 = 0$"
          },
          "metadata": {}
        }
      ]
    },
    {
      "cell_type": "markdown",
      "source": [
        "###  Задание 5*.\n",
        "Считать данные из файла 'points_task_5.xlsx'. Для каждой тройки точек из файла, не лежащих на одной прямой, вывести на экран название плоскости, состоящее из имен точек в алфавитном порядке, и уравнение плоскости, определяемой этой тройкой точек."
      ],
      "metadata": {
        "id": "xClGHBbbStKi"
      }
    },
    {
      "cell_type": "code",
      "source": [
        "from google.colab import files\n",
        "import pandas as pd\n",
        "\n",
        "# uploaded = files.upload()\n",
        "\n",
        "x, y, z = symbols(\"x y z\")\n",
        "\n",
        "points_table = pd.read_excel('points.xlsx', index_col=0)\n",
        "coords = points_table.to_numpy()\n",
        "names = points_table.index\n",
        "\n",
        "n = len(coords)\n",
        "\n",
        "for i in range(0, n):\n",
        "  for j in range(i+1, n):\n",
        "    for k in range(j+1, n):\n",
        "      P1 = Matrix(list(coords[i])).transpose()\n",
        "      P2 = Matrix(list(coords[j])).transpose()\n",
        "      P3 = Matrix(list(coords[k])).transpose()\n",
        "\n",
        "      M = Matrix([P1, P2, P3])\n",
        "\n",
        "      if M.rank() != 3:\n",
        "        continue\n",
        "\n",
        "      M = M.row_join(ones(3, 1) * -1)\n",
        "\n",
        "      A, B, C, D = symbols(\"A B C D\")\n",
        "      A, B, C, D = list(linsolve(M, (A, B, C, D)).subs(D, 1))[0]\n",
        "\n",
        "      print(f\"Equation of plane {names[i]}{names[j]}{names[k]}:\")\n",
        "      display(Eq(A*x + B*y + C*z + D, 0))\n",
        "\n",
        "\n"
      ],
      "metadata": {
        "id": "aYEy3DHPTk1Y",
        "colab": {
          "base_uri": "https://localhost:8080/",
          "height": 1000
        },
        "outputId": "0a4b9e53-7cd5-482a-f058-ebf75e7f938f"
      },
      "execution_count": 24,
      "outputs": [
        {
          "output_type": "stream",
          "name": "stdout",
          "text": [
            "Equation of plane ABC:\n"
          ]
        },
        {
          "output_type": "display_data",
          "data": {
            "text/plain": [
              "Eq(-431*x/3727 + 1960*y/3727 - 2474*z/3727 + 1, 0)"
            ],
            "text/latex": "$\\displaystyle - \\frac{431 x}{3727} + \\frac{1960 y}{3727} - \\frac{2474 z}{3727} + 1 = 0$"
          },
          "metadata": {}
        },
        {
          "output_type": "stream",
          "name": "stdout",
          "text": [
            "Equation of plane ABD:\n"
          ]
        },
        {
          "output_type": "display_data",
          "data": {
            "text/plain": [
              "Eq(-61*x/1195 + 112*y/1195 - 21*z/239 + 1, 0)"
            ],
            "text/latex": "$\\displaystyle - \\frac{61 x}{1195} + \\frac{112 y}{1195} - \\frac{21 z}{239} + 1 = 0$"
          },
          "metadata": {}
        },
        {
          "output_type": "stream",
          "name": "stdout",
          "text": [
            "Equation of plane ABE:\n"
          ]
        },
        {
          "output_type": "display_data",
          "data": {
            "text/plain": [
              "Eq(-3073*x/73027 + 2464*y/73027 - 579*z/73027 + 1, 0)"
            ],
            "text/latex": "$\\displaystyle - \\frac{3073 x}{73027} + \\frac{2464 y}{73027} - \\frac{579 z}{73027} + 1 = 0$"
          },
          "metadata": {}
        },
        {
          "output_type": "stream",
          "name": "stdout",
          "text": [
            "Equation of plane ABF:\n"
          ]
        },
        {
          "output_type": "display_data",
          "data": {
            "text/plain": [
              "Eq(-4663*x/115731 + 40*y/1837 + 928*z/115731 + 1, 0)"
            ],
            "text/latex": "$\\displaystyle - \\frac{4663 x}{115731} + \\frac{40 y}{1837} + \\frac{928 z}{115731} + 1 = 0$"
          },
          "metadata": {}
        },
        {
          "output_type": "stream",
          "name": "stdout",
          "text": [
            "Equation of plane ABG:\n"
          ]
        },
        {
          "output_type": "display_data",
          "data": {
            "text/plain": [
              "Eq(-337*x/7630 + 26*y/545 - 81*z/3052 + 1, 0)"
            ],
            "text/latex": "$\\displaystyle - \\frac{337 x}{7630} + \\frac{26 y}{545} - \\frac{81 z}{3052} + 1 = 0$"
          },
          "metadata": {}
        },
        {
          "output_type": "stream",
          "name": "stdout",
          "text": [
            "Equation of plane ABH:\n"
          ]
        },
        {
          "output_type": "display_data",
          "data": {
            "text/plain": [
              "Eq(-3116*x/78369 + 476*y/26123 + 1999*z/156738 + 1, 0)"
            ],
            "text/latex": "$\\displaystyle - \\frac{3116 x}{78369} + \\frac{476 y}{26123} + \\frac{1999 z}{156738} + 1 = 0$"
          },
          "metadata": {}
        },
        {
          "output_type": "stream",
          "name": "stdout",
          "text": [
            "Equation of plane ABK:\n"
          ]
        },
        {
          "output_type": "display_data",
          "data": {
            "text/plain": [
              "Eq(-211*x/2307 + 280*y/769 - 1034*z/2307 + 1, 0)"
            ],
            "text/latex": "$\\displaystyle - \\frac{211 x}{2307} + \\frac{280 y}{769} - \\frac{1034 z}{2307} + 1 = 0$"
          },
          "metadata": {}
        },
        {
          "output_type": "stream",
          "name": "stdout",
          "text": [
            "Equation of plane ABM:\n"
          ]
        },
        {
          "output_type": "display_data",
          "data": {
            "text/plain": [
              "Eq(-247*x/1019 + 1400*y/1019 - 1828*z/1019 + 1, 0)"
            ],
            "text/latex": "$\\displaystyle - \\frac{247 x}{1019} + \\frac{1400 y}{1019} - \\frac{1828 z}{1019} + 1 = 0$"
          },
          "metadata": {}
        },
        {
          "output_type": "stream",
          "name": "stdout",
          "text": [
            "Equation of plane ACD:\n"
          ]
        },
        {
          "output_type": "display_data",
          "data": {
            "text/plain": [
              "Eq(-269*x/6981 + 160*y/6981 - 50*z/2327 + 1, 0)"
            ],
            "text/latex": "$\\displaystyle - \\frac{269 x}{6981} + \\frac{160 y}{6981} - \\frac{50 z}{2327} + 1 = 0$"
          },
          "metadata": {}
        },
        {
          "output_type": "stream",
          "name": "stdout",
          "text": [
            "Equation of plane ACE:\n"
          ]
        },
        {
          "output_type": "display_data",
          "data": {
            "text/plain": [
              "Eq(-2200*x/59517 + 755*y/59517 - 167*z/19839 + 1, 0)"
            ],
            "text/latex": "$\\displaystyle - \\frac{2200 x}{59517} + \\frac{755 y}{59517} - \\frac{167 z}{19839} + 1 = 0$"
          },
          "metadata": {}
        },
        {
          "output_type": "stream",
          "name": "stdout",
          "text": [
            "Equation of plane ACF:\n"
          ]
        },
        {
          "output_type": "display_data",
          "data": {
            "text/plain": [
              "Eq(-1608*x/46771 - 195*y/46771 + 613*z/46771 + 1, 0)"
            ],
            "text/latex": "$\\displaystyle - \\frac{1608 x}{46771} - \\frac{195 y}{46771} + \\frac{613 z}{46771} + 1 = 0$"
          },
          "metadata": {}
        },
        {
          "output_type": "stream",
          "name": "stdout",
          "text": [
            "Equation of plane ACG:\n"
          ]
        },
        {
          "output_type": "display_data",
          "data": {
            "text/plain": [
              "Eq(-1797*x/48425 + 132*y/9685 - 466*z/48425 + 1, 0)"
            ],
            "text/latex": "$\\displaystyle - \\frac{1797 x}{48425} + \\frac{132 y}{9685} - \\frac{466 z}{48425} + 1 = 0$"
          },
          "metadata": {}
        },
        {
          "output_type": "stream",
          "name": "stdout",
          "text": [
            "Equation of plane ACH:\n"
          ]
        },
        {
          "output_type": "display_data",
          "data": {
            "text/plain": [
              "Eq(-4269*x/126566 - 1065*y/126566 + 2345*z/126566 + 1, 0)"
            ],
            "text/latex": "$\\displaystyle - \\frac{4269 x}{126566} - \\frac{1065 y}{126566} + \\frac{2345 z}{126566} + 1 = 0$"
          },
          "metadata": {}
        },
        {
          "output_type": "stream",
          "name": "stdout",
          "text": [
            "Equation of plane ACK:\n"
          ]
        },
        {
          "output_type": "display_data",
          "data": {
            "text/plain": [
              "Eq(-57*x/577 + 240*y/577 - 302*z/577 + 1, 0)"
            ],
            "text/latex": "$\\displaystyle - \\frac{57 x}{577} + \\frac{240 y}{577} - \\frac{302 z}{577} + 1 = 0$"
          },
          "metadata": {}
        },
        {
          "output_type": "stream",
          "name": "stdout",
          "text": [
            "Equation of plane ACM:\n"
          ]
        },
        {
          "output_type": "display_data",
          "data": {
            "text/plain": [
              "Eq(-271*x/3317 + 1010*y/3317 - 1264*z/3317 + 1, 0)"
            ],
            "text/latex": "$\\displaystyle - \\frac{271 x}{3317} + \\frac{1010 y}{3317} - \\frac{1264 z}{3317} + 1 = 0$"
          },
          "metadata": {}
        },
        {
          "output_type": "stream",
          "name": "stdout",
          "text": [
            "Equation of plane ADE:\n"
          ]
        },
        {
          "output_type": "display_data",
          "data": {
            "text/plain": [
              "Eq(-191*x/5293 + 48*y/5293 - 45*z/5293 + 1, 0)"
            ],
            "text/latex": "$\\displaystyle - \\frac{191 x}{5293} + \\frac{48 y}{5293} - \\frac{45 z}{5293} + 1 = 0$"
          },
          "metadata": {}
        },
        {
          "output_type": "stream",
          "name": "stdout",
          "text": [
            "Equation of plane ADF:\n"
          ]
        },
        {
          "output_type": "display_data",
          "data": {
            "text/plain": [
              "Eq(-731*x/23167 - 384*y/23167 + 360*z/23167 + 1, 0)"
            ],
            "text/latex": "$\\displaystyle - \\frac{731 x}{23167} - \\frac{384 y}{23167} + \\frac{360 z}{23167} + 1 = 0$"
          },
          "metadata": {}
        },
        {
          "output_type": "stream",
          "name": "stdout",
          "text": [
            "Equation of plane ADG:\n"
          ]
        },
        {
          "output_type": "display_data",
          "data": {
            "text/plain": [
              "Eq(-44*x/1235 + 8*y/1235 - 3*z/494 + 1, 0)"
            ],
            "text/latex": "$\\displaystyle - \\frac{44 x}{1235} + \\frac{8 y}{1235} - \\frac{3 z}{494} + 1 = 0$"
          },
          "metadata": {}
        },
        {
          "output_type": "stream",
          "name": "stdout",
          "text": [
            "Equation of plane ADH:\n"
          ]
        },
        {
          "output_type": "display_data",
          "data": {
            "text/plain": [
              "Eq(-472*x/15533 - 360*y/15533 + 675*z/31066 + 1, 0)"
            ],
            "text/latex": "$\\displaystyle - \\frac{472 x}{15533} - \\frac{360 y}{15533} + \\frac{675 z}{31066} + 1 = 0$"
          },
          "metadata": {}
        },
        {
          "output_type": "stream",
          "name": "stdout",
          "text": [
            "Equation of plane ADK:\n"
          ]
        },
        {
          "output_type": "display_data",
          "data": {
            "text/plain": [
              "Eq(-191*x/3079 + 480*y/3079 - 450*z/3079 + 1, 0)"
            ],
            "text/latex": "$\\displaystyle - \\frac{191 x}{3079} + \\frac{480 y}{3079} - \\frac{450 z}{3079} + 1 = 0$"
          },
          "metadata": {}
        },
        {
          "output_type": "stream",
          "name": "stdout",
          "text": [
            "Equation of plane ADM:\n"
          ]
        },
        {
          "output_type": "display_data",
          "data": {
            "text/plain": [
              "Eq(-461*x/10417 + 576*y/10417 - 540*z/10417 + 1, 0)"
            ],
            "text/latex": "$\\displaystyle - \\frac{461 x}{10417} + \\frac{576 y}{10417} - \\frac{540 z}{10417} + 1 = 0$"
          },
          "metadata": {}
        },
        {
          "output_type": "stream",
          "name": "stdout",
          "text": [
            "Equation of plane AEF:\n"
          ]
        },
        {
          "output_type": "display_data",
          "data": {
            "text/plain": [
              "Eq(-872*x/15259 + 1461*y/15259 - 99*z/15259 + 1, 0)"
            ],
            "text/latex": "$\\displaystyle - \\frac{872 x}{15259} + \\frac{1461 y}{15259} - \\frac{99 z}{15259} + 1 = 0$"
          },
          "metadata": {}
        },
        {
          "output_type": "stream",
          "name": "stdout",
          "text": [
            "Equation of plane AEG:\n"
          ]
        },
        {
          "output_type": "display_data",
          "data": {
            "text/plain": [
              "Eq(-13*x/355 + 4*y/355 - 3*z/355 + 1, 0)"
            ],
            "text/latex": "$\\displaystyle - \\frac{13 x}{355} + \\frac{4 y}{355} - \\frac{3 z}{355} + 1 = 0$"
          },
          "metadata": {}
        },
        {
          "output_type": "stream",
          "name": "stdout",
          "text": [
            "Equation of plane AEH:\n"
          ]
        },
        {
          "output_type": "display_data",
          "data": {
            "text/plain": [
              "Eq(-1373*x/23032 + 2439*y/23032 - 18*z/2879 + 1, 0)"
            ],
            "text/latex": "$\\displaystyle - \\frac{1373 x}{23032} + \\frac{2439 y}{23032} - \\frac{18 z}{2879} + 1 = 0$"
          },
          "metadata": {}
        },
        {
          "output_type": "stream",
          "name": "stdout",
          "text": [
            "Equation of plane AEK:\n"
          ]
        },
        {
          "output_type": "display_data",
          "data": {
            "text/plain": [
              "Eq(-955*x/19688 + 1185*y/19688 - 18*z/2461 + 1, 0)"
            ],
            "text/latex": "$\\displaystyle - \\frac{955 x}{19688} + \\frac{1185 y}{19688} - \\frac{18 z}{2461} + 1 = 0$"
          },
          "metadata": {}
        },
        {
          "output_type": "stream",
          "name": "stdout",
          "text": [
            "Equation of plane AEM:\n"
          ]
        },
        {
          "output_type": "display_data",
          "data": {
            "text/plain": [
              "Eq(-3193*x/81266 + 1809*y/81266 - 333*z/40633 + 1, 0)"
            ],
            "text/latex": "$\\displaystyle - \\frac{3193 x}{81266} + \\frac{1809 y}{81266} - \\frac{333 z}{40633} + 1 = 0$"
          },
          "metadata": {}
        },
        {
          "output_type": "stream",
          "name": "stdout",
          "text": [
            "Equation of plane AFG:\n"
          ]
        },
        {
          "output_type": "display_data",
          "data": {
            "text/plain": [
              "Eq(-135*x/5663 - 204*y/4045 + 628*z/28315 + 1, 0)"
            ],
            "text/latex": "$\\displaystyle - \\frac{135 x}{5663} - \\frac{204 y}{4045} + \\frac{628 z}{28315} + 1 = 0$"
          },
          "metadata": {}
        },
        {
          "output_type": "stream",
          "name": "stdout",
          "text": [
            "Equation of plane AFH:\n"
          ]
        },
        {
          "output_type": "display_data",
          "data": {
            "text/plain": [
              "Eq(-21*x/250 + 267*y/1250 - 37*z/1250 + 1, 0)"
            ],
            "text/latex": "$\\displaystyle - \\frac{21 x}{250} + \\frac{267 y}{1250} - \\frac{37 z}{1250} + 1 = 0$"
          },
          "metadata": {}
        },
        {
          "output_type": "stream",
          "name": "stdout",
          "text": [
            "Equation of plane AFK:\n"
          ]
        },
        {
          "output_type": "display_data",
          "data": {
            "text/plain": [
              "Eq(-503*x/10561 + 570*y/10561 + 18*z/10561 + 1, 0)"
            ],
            "text/latex": "$\\displaystyle - \\frac{503 x}{10561} + \\frac{570 y}{10561} + \\frac{18 z}{10561} + 1 = 0$"
          },
          "metadata": {}
        },
        {
          "output_type": "stream",
          "name": "stdout",
          "text": [
            "Equation of plane AFM:\n"
          ]
        },
        {
          "output_type": "display_data",
          "data": {
            "text/plain": [
              "Eq(-191*x/5143 + 204*y/25715 + 276*z/25715 + 1, 0)"
            ],
            "text/latex": "$\\displaystyle - \\frac{191 x}{5143} + \\frac{204 y}{25715} + \\frac{276 z}{25715} + 1 = 0$"
          },
          "metadata": {}
        },
        {
          "output_type": "stream",
          "name": "stdout",
          "text": [
            "Equation of plane AGH:\n"
          ]
        },
        {
          "output_type": "display_data",
          "data": {
            "text/plain": [
              "Eq(-72*x/3637 - 1272*y/18185 + 1159*z/36370 + 1, 0)"
            ],
            "text/latex": "$\\displaystyle - \\frac{72 x}{3637} - \\frac{1272 y}{18185} + \\frac{1159 z}{36370} + 1 = 0$"
          },
          "metadata": {}
        },
        {
          "output_type": "stream",
          "name": "stdout",
          "text": [
            "Equation of plane AGK:\n"
          ]
        },
        {
          "output_type": "display_data",
          "data": {
            "text/plain": [
              "Eq(-903*x/17275 + 60*y/691 - 794*z/17275 + 1, 0)"
            ],
            "text/latex": "$\\displaystyle - \\frac{903 x}{17275} + \\frac{60 y}{691} - \\frac{794 z}{17275} + 1 = 0$"
          },
          "metadata": {}
        },
        {
          "output_type": "stream",
          "name": "stdout",
          "text": [
            "Equation of plane AGM:\n"
          ]
        },
        {
          "output_type": "display_data",
          "data": {
            "text/plain": [
              "Eq(-545*x/13513 + 1972*y/67565 - 1172*z/67565 + 1, 0)"
            ],
            "text/latex": "$\\displaystyle - \\frac{545 x}{13513} + \\frac{1972 y}{67565} - \\frac{1172 z}{67565} + 1 = 0$"
          },
          "metadata": {}
        },
        {
          "output_type": "stream",
          "name": "stdout",
          "text": [
            "Equation of plane AHK:\n"
          ]
        },
        {
          "output_type": "display_data",
          "data": {
            "text/plain": [
              "Eq(-677*x/14328 + 245*y/4776 + 10*z/1791 + 1, 0)"
            ],
            "text/latex": "$\\displaystyle - \\frac{677 x}{14328} + \\frac{245 y}{4776} + \\frac{10 z}{1791} + 1 = 0$"
          },
          "metadata": {}
        },
        {
          "output_type": "stream",
          "name": "stdout",
          "text": [
            "Equation of plane AHM:\n"
          ]
        },
        {
          "output_type": "display_data",
          "data": {
            "text/plain": [
              "Eq(-1273*x/34820 + 711*y/174100 + 1377*z/87050 + 1, 0)"
            ],
            "text/latex": "$\\displaystyle - \\frac{1273 x}{34820} + \\frac{711 y}{174100} + \\frac{1377 z}{87050} + 1 = 0$"
          },
          "metadata": {}
        },
        {
          "output_type": "stream",
          "name": "stdout",
          "text": [
            "Equation of plane AKM:\n"
          ]
        },
        {
          "output_type": "display_data",
          "data": {
            "text/plain": [
              "Eq(-148*x/1421 + 645*y/1421 - 822*z/1421 + 1, 0)"
            ],
            "text/latex": "$\\displaystyle - \\frac{148 x}{1421} + \\frac{645 y}{1421} - \\frac{822 z}{1421} + 1 = 0$"
          },
          "metadata": {}
        },
        {
          "output_type": "stream",
          "name": "stdout",
          "text": [
            "Equation of plane BCD:\n"
          ]
        },
        {
          "output_type": "display_data",
          "data": {
            "text/plain": [
              "Eq(7*x/18937 + 488*y/18937 - 1094*z/18937 + 1, 0)"
            ],
            "text/latex": "$\\displaystyle \\frac{7 x}{18937} + \\frac{488 y}{18937} - \\frac{1094 z}{18937} + 1 = 0$"
          },
          "metadata": {}
        },
        {
          "output_type": "stream",
          "name": "stdout",
          "text": [
            "Equation of plane BCE:\n"
          ]
        },
        {
          "output_type": "display_data",
          "data": {
            "text/plain": [
              "Eq(221*x/39404 + 251*y/78808 - 599*z/19702 + 1, 0)"
            ],
            "text/latex": "$\\displaystyle \\frac{221 x}{39404} + \\frac{251 y}{78808} - \\frac{599 z}{19702} + 1 = 0$"
          },
          "metadata": {}
        },
        {
          "output_type": "stream",
          "name": "stdout",
          "text": [
            "Equation of plane BCF:\n"
          ]
        },
        {
          "output_type": "display_data",
          "data": {
            "text/plain": [
              "Eq(254*x/31337 - 475*y/62674 - 544*z/31337 + 1, 0)"
            ],
            "text/latex": "$\\displaystyle \\frac{254 x}{31337} - \\frac{475 y}{62674} - \\frac{544 z}{31337} + 1 = 0$"
          },
          "metadata": {}
        },
        {
          "output_type": "stream",
          "name": "stdout",
          "text": [
            "Equation of plane BCG:\n"
          ]
        },
        {
          "output_type": "display_data",
          "data": {
            "text/plain": [
              "Eq(1367*x/122393 - 2544*y/122393 - 166*z/122393 + 1, 0)"
            ],
            "text/latex": "$\\displaystyle \\frac{1367 x}{122393} - \\frac{2544 y}{122393} - \\frac{166 z}{122393} + 1 = 0$"
          },
          "metadata": {}
        },
        {
          "output_type": "stream",
          "name": "stdout",
          "text": [
            "Equation of plane BCH:\n"
          ]
        },
        {
          "output_type": "display_data",
          "data": {
            "text/plain": [
              "Eq(766*x/84847 - 1961*y/169694 - 152*z/12121 + 1, 0)"
            ],
            "text/latex": "$\\displaystyle \\frac{766 x}{84847} - \\frac{1961 y}{169694} - \\frac{152 z}{12121} + 1 = 0$"
          },
          "metadata": {}
        },
        {
          "output_type": "stream",
          "name": "stdout",
          "text": [
            "Equation of plane BCK:\n"
          ]
        },
        {
          "output_type": "display_data",
          "data": {
            "text/plain": [
              "Eq(-119*x/743 + 1600*y/2229 - 666*z/743 + 1, 0)"
            ],
            "text/latex": "$\\displaystyle - \\frac{119 x}{743} + \\frac{1600 y}{2229} - \\frac{666 z}{743} + 1 = 0$"
          },
          "metadata": {}
        },
        {
          "output_type": "stream",
          "name": "stdout",
          "text": [
            "Equation of plane BCM:\n"
          ]
        },
        {
          "output_type": "display_data",
          "data": {
            "text/plain": [
              "Eq(-29*x/913 + 150*y/913 - 206*z/913 + 1, 0)"
            ],
            "text/latex": "$\\displaystyle - \\frac{29 x}{913} + \\frac{150 y}{913} - \\frac{206 z}{913} + 1 = 0$"
          },
          "metadata": {}
        },
        {
          "output_type": "stream",
          "name": "stdout",
          "text": [
            "Equation of plane BDE:\n"
          ]
        },
        {
          "output_type": "display_data",
          "data": {
            "text/plain": [
              "Eq(317*x/11081 - 128*y/11081 - 457*z/11081 + 1, 0)"
            ],
            "text/latex": "$\\displaystyle \\frac{317 x}{11081} - \\frac{128 y}{11081} - \\frac{457 z}{11081} + 1 = 0$"
          },
          "metadata": {}
        },
        {
          "output_type": "stream",
          "name": "stdout",
          "text": [
            "Equation of plane BDF:\n"
          ]
        },
        {
          "output_type": "display_data",
          "data": {
            "text/plain": [
              "Eq(2225*x/55019 - 1496*y/55019 - 1888*z/55019 + 1, 0)"
            ],
            "text/latex": "$\\displaystyle \\frac{2225 x}{55019} - \\frac{1496 y}{55019} - \\frac{1888 z}{55019} + 1 = 0$"
          },
          "metadata": {}
        },
        {
          "output_type": "stream",
          "name": "stdout",
          "text": [
            "Equation of plane BDG:\n"
          ]
        },
        {
          "output_type": "display_data",
          "data": {
            "text/plain": [
              "Eq(188*x/475 - 236*y/475 + 33*z/190 + 1, 0)"
            ],
            "text/latex": "$\\displaystyle \\frac{188 x}{475} - \\frac{236 y}{475} + \\frac{33 z}{190} + 1 = 0$"
          },
          "metadata": {}
        },
        {
          "output_type": "stream",
          "name": "stdout",
          "text": [
            "Equation of plane BDH:\n"
          ]
        },
        {
          "output_type": "display_data",
          "data": {
            "text/plain": [
              "Eq(1684*x/37081 - 1252*y/37081 - 2329*z/74162 + 1, 0)"
            ],
            "text/latex": "$\\displaystyle \\frac{1684 x}{37081} - \\frac{1252 y}{37081} - \\frac{2329 z}{74162} + 1 = 0$"
          },
          "metadata": {}
        },
        {
          "output_type": "stream",
          "name": "stdout",
          "text": [
            "Equation of plane BDK:\n"
          ]
        },
        {
          "output_type": "display_data",
          "data": {
            "text/plain": [
              "Eq(-805*x/23157 + 1672*y/23157 - 1814*z/23157 + 1, 0)"
            ],
            "text/latex": "$\\displaystyle - \\frac{805 x}{23157} + \\frac{1672 y}{23157} - \\frac{1814 z}{23157} + 1 = 0$"
          },
          "metadata": {}
        },
        {
          "output_type": "stream",
          "name": "stdout",
          "text": [
            "Equation of plane BDM:\n"
          ]
        },
        {
          "output_type": "display_data",
          "data": {
            "text/plain": [
              "Eq(-193*x/19229 + 760*y/19229 - 1228*z/19229 + 1, 0)"
            ],
            "text/latex": "$\\displaystyle - \\frac{193 x}{19229} + \\frac{760 y}{19229} - \\frac{1228 z}{19229} + 1 = 0$"
          },
          "metadata": {}
        },
        {
          "output_type": "stream",
          "name": "stdout",
          "text": [
            "Equation of plane BEF:\n"
          ]
        },
        {
          "output_type": "display_data",
          "data": {
            "text/plain": [
              "Eq(1231*x/4462 - 1517*y/8924 - 352*z/2231 + 1, 0)"
            ],
            "text/latex": "$\\displaystyle \\frac{1231 x}{4462} - \\frac{1517 y}{8924} - \\frac{352 z}{2231} + 1 = 0$"
          },
          "metadata": {}
        },
        {
          "output_type": "stream",
          "name": "stdout",
          "text": [
            "Equation of plane BEG:\n"
          ]
        },
        {
          "output_type": "display_data",
          "data": {
            "text/plain": [
              "Eq(-4217*x/183227 + 3944*y/183227 - 3099*z/183227 + 1, 0)"
            ],
            "text/latex": "$\\displaystyle - \\frac{4217 x}{183227} + \\frac{3944 y}{183227} - \\frac{3099 z}{183227} + 1 = 0$"
          },
          "metadata": {}
        },
        {
          "output_type": "stream",
          "name": "stdout",
          "text": [
            "Equation of plane BEH:\n"
          ]
        },
        {
          "output_type": "display_data",
          "data": {
            "text/plain": [
              "Eq(2266*x/5371 - 2831*y/10742 - 1217*z/5371 + 1, 0)"
            ],
            "text/latex": "$\\displaystyle \\frac{2266 x}{5371} - \\frac{2831 y}{10742} - \\frac{1217 z}{5371} + 1 = 0$"
          },
          "metadata": {}
        },
        {
          "output_type": "stream",
          "name": "stdout",
          "text": [
            "Equation of plane BEK:\n"
          ]
        },
        {
          "output_type": "display_data",
          "data": {
            "text/plain": [
              "Eq(-2329*x/92457 + 2119*y/92457 - 1469*z/92457 + 1, 0)"
            ],
            "text/latex": "$\\displaystyle - \\frac{2329 x}{92457} + \\frac{2119 y}{92457} - \\frac{1469 z}{92457} + 1 = 0$"
          },
          "metadata": {}
        },
        {
          "output_type": "stream",
          "name": "stdout",
          "text": [
            "Equation of plane BEM:\n"
          ]
        },
        {
          "output_type": "display_data",
          "data": {
            "text/plain": [
              "Eq(-367*x/75215 + 149*y/15043 - 383*z/15043 + 1, 0)"
            ],
            "text/latex": "$\\displaystyle - \\frac{367 x}{75215} + \\frac{149 y}{15043} - \\frac{383 z}{15043} + 1 = 0$"
          },
          "metadata": {}
        },
        {
          "output_type": "stream",
          "name": "stdout",
          "text": [
            "Equation of plane BFG:\n"
          ]
        },
        {
          "output_type": "display_data",
          "data": {
            "text/plain": [
              "Eq(-297*x/43613 + 64*y/43613 - 416*z/43613 + 1, 0)"
            ],
            "text/latex": "$\\displaystyle - \\frac{297 x}{43613} + \\frac{64 y}{43613} - \\frac{416 z}{43613} + 1 = 0$"
          },
          "metadata": {}
        },
        {
          "output_type": "stream",
          "name": "stdout",
          "text": [
            "Equation of plane BFH:\n"
          ]
        },
        {
          "output_type": "display_data",
          "data": {
            "text/plain": [
              "Eq(-314*x/355 + 379*y/710 + 32*z/71 + 1, 0)"
            ],
            "text/latex": "$\\displaystyle - \\frac{314 x}{355} + \\frac{379 y}{710} + \\frac{32 z}{71} + 1 = 0$"
          },
          "metadata": {}
        },
        {
          "output_type": "stream",
          "name": "stdout",
          "text": [
            "Equation of plane BFK:\n"
          ]
        },
        {
          "output_type": "display_data",
          "data": {
            "text/plain": [
              "Eq(-673*x/29361 + 110*y/9787 - 32*z/29361 + 1, 0)"
            ],
            "text/latex": "$\\displaystyle - \\frac{673 x}{29361} + \\frac{110 y}{9787} - \\frac{32 z}{29361} + 1 = 0$"
          },
          "metadata": {}
        },
        {
          "output_type": "stream",
          "name": "stdout",
          "text": [
            "Equation of plane BFM:\n"
          ]
        },
        {
          "output_type": "display_data",
          "data": {
            "text/plain": [
              "Eq(-359*x/119323 - 100*y/119323 - 1376*z/119323 + 1, 0)"
            ],
            "text/latex": "$\\displaystyle - \\frac{359 x}{119323} - \\frac{100 y}{119323} - \\frac{1376 z}{119323} + 1 = 0$"
          },
          "metadata": {}
        },
        {
          "output_type": "stream",
          "name": "stdout",
          "text": [
            "Equation of plane BGH:\n"
          ]
        },
        {
          "output_type": "display_data",
          "data": {
            "text/plain": [
              "Eq(-300*x/205609 - 1060*y/205609 - 2921*z/411218 + 1, 0)"
            ],
            "text/latex": "$\\displaystyle - \\frac{300 x}{205609} - \\frac{1060 y}{205609} - \\frac{2921 z}{411218} + 1 = 0$"
          },
          "metadata": {}
        },
        {
          "output_type": "stream",
          "name": "stdout",
          "text": [
            "Equation of plane BGK:\n"
          ]
        },
        {
          "output_type": "display_data",
          "data": {
            "text/plain": [
              "Eq(-3797*x/148773 + 3664*y/148773 - 2686*z/148773 + 1, 0)"
            ],
            "text/latex": "$\\displaystyle - \\frac{3797 x}{148773} + \\frac{3664 y}{148773} - \\frac{2686 z}{148773} + 1 = 0$"
          },
          "metadata": {}
        },
        {
          "output_type": "stream",
          "name": "stdout",
          "text": [
            "Equation of plane BGM:\n"
          ]
        },
        {
          "output_type": "display_data",
          "data": {
            "text/plain": [
              "Eq(-305*x/123181 - 480*y/123181 - 932*z/123181 + 1, 0)"
            ],
            "text/latex": "$\\displaystyle - \\frac{305 x}{123181} - \\frac{480 y}{123181} - \\frac{932 z}{123181} + 1 = 0$"
          },
          "metadata": {}
        },
        {
          "output_type": "stream",
          "name": "stdout",
          "text": [
            "Equation of plane BHK:\n"
          ]
        },
        {
          "output_type": "display_data",
          "data": {
            "text/plain": [
              "Eq(-1103*x/49695 + 497*y/66260 + 145*z/39756 + 1, 0)"
            ],
            "text/latex": "$\\displaystyle - \\frac{1103 x}{49695} + \\frac{497 y}{66260} + \\frac{145 z}{39756} + 1 = 0$"
          },
          "metadata": {}
        },
        {
          "output_type": "stream",
          "name": "stdout",
          "text": [
            "Equation of plane BHM:\n"
          ]
        },
        {
          "output_type": "display_data",
          "data": {
            "text/plain": [
              "Eq(-95*x/40396 - 745*y/161584 - 1073*z/161584 + 1, 0)"
            ],
            "text/latex": "$\\displaystyle - \\frac{95 x}{40396} - \\frac{745 y}{161584} - \\frac{1073 z}{161584} + 1 = 0$"
          },
          "metadata": {}
        },
        {
          "output_type": "stream",
          "name": "stdout",
          "text": [
            "Equation of plane BKM:\n"
          ]
        },
        {
          "output_type": "display_data",
          "data": {
            "text/plain": [
              "Eq(27*x/181 - 475*y/543 + 203*z/181 + 1, 0)"
            ],
            "text/latex": "$\\displaystyle \\frac{27 x}{181} - \\frac{475 y}{543} + \\frac{203 z}{181} + 1 = 0$"
          },
          "metadata": {}
        },
        {
          "output_type": "stream",
          "name": "stdout",
          "text": [
            "Equation of plane CDE:\n"
          ]
        },
        {
          "output_type": "display_data",
          "data": {
            "text/plain": [
              "Eq(-172*x/2393 + 49*y/2393 + 23*z/2393 + 1, 0)"
            ],
            "text/latex": "$\\displaystyle - \\frac{172 x}{2393} + \\frac{49 y}{2393} + \\frac{23 z}{2393} + 1 = 0$"
          },
          "metadata": {}
        },
        {
          "output_type": "stream",
          "name": "stdout",
          "text": [
            "Equation of plane CDF:\n"
          ]
        },
        {
          "output_type": "display_data",
          "data": {
            "text/plain": [
              "Eq(-608*x/2857 + 29*y/2857 + 403*z/2857 + 1, 0)"
            ],
            "text/latex": "$\\displaystyle - \\frac{608 x}{2857} + \\frac{29 y}{2857} + \\frac{403 z}{2857} + 1 = 0$"
          },
          "metadata": {}
        },
        {
          "output_type": "stream",
          "name": "stdout",
          "text": [
            "Equation of plane CDG:\n"
          ]
        },
        {
          "output_type": "display_data",
          "data": {
            "text/plain": [
              "Eq(-206*x/4199 + 93*y/4199 - 49*z/4199 + 1, 0)"
            ],
            "text/latex": "$\\displaystyle - \\frac{206 x}{4199} + \\frac{93 y}{4199} - \\frac{49 z}{4199} + 1 = 0$"
          },
          "metadata": {}
        },
        {
          "output_type": "stream",
          "name": "stdout",
          "text": [
            "Equation of plane CDH:\n"
          ]
        },
        {
          "output_type": "display_data",
          "data": {
            "text/plain": [
              "Eq(-1843*x/7382 + 55*y/7382 + 1295*z/7382 + 1, 0)"
            ],
            "text/latex": "$\\displaystyle - \\frac{1843 x}{7382} + \\frac{55 y}{7382} + \\frac{1295 z}{7382} + 1 = 0$"
          },
          "metadata": {}
        },
        {
          "output_type": "stream",
          "name": "stdout",
          "text": [
            "Equation of plane CDK:\n"
          ]
        },
        {
          "output_type": "display_data",
          "data": {
            "text/plain": [
              "Eq(-63*x/3287 + 80*y/3287 - 130*z/3287 + 1, 0)"
            ],
            "text/latex": "$\\displaystyle - \\frac{63 x}{3287} + \\frac{80 y}{3287} - \\frac{130 z}{3287} + 1 = 0$"
          },
          "metadata": {}
        },
        {
          "output_type": "stream",
          "name": "stdout",
          "text": [
            "Equation of plane CDM:\n"
          ]
        },
        {
          "output_type": "display_data",
          "data": {
            "text/plain": [
              "Eq(113*x/6593 + 178*y/6593 - 484*z/6593 + 1, 0)"
            ],
            "text/latex": "$\\displaystyle \\frac{113 x}{6593} + \\frac{178 y}{6593} - \\frac{484 z}{6593} + 1 = 0$"
          },
          "metadata": {}
        },
        {
          "output_type": "stream",
          "name": "stdout",
          "text": [
            "Equation of plane CEF:\n"
          ]
        },
        {
          "output_type": "display_data",
          "data": {
            "text/plain": [
              "Eq(472*x/5935 - 79*y/5935 - 407*z/5935 + 1, 0)"
            ],
            "text/latex": "$\\displaystyle \\frac{472 x}{5935} - \\frac{79 y}{5935} - \\frac{407 z}{5935} + 1 = 0$"
          },
          "metadata": {}
        },
        {
          "output_type": "stream",
          "name": "stdout",
          "text": [
            "Equation of plane CEG:\n"
          ]
        },
        {
          "output_type": "display_data",
          "data": {
            "text/plain": [
              "Eq(-3292*x/93397 + 1149*y/93397 - 869*z/93397 + 1, 0)"
            ],
            "text/latex": "$\\displaystyle - \\frac{3292 x}{93397} + \\frac{1149 y}{93397} - \\frac{869 z}{93397} + 1 = 0$"
          },
          "metadata": {}
        },
        {
          "output_type": "stream",
          "name": "stdout",
          "text": [
            "Equation of plane CEH:\n"
          ]
        },
        {
          "output_type": "display_data",
          "data": {
            "text/plain": [
              "Eq(1721*x/16805 - 619*y/33610 - 1351*z/16805 + 1, 0)"
            ],
            "text/latex": "$\\displaystyle \\frac{1721 x}{16805} - \\frac{619 y}{33610} - \\frac{1351 z}{16805} + 1 = 0$"
          },
          "metadata": {}
        },
        {
          "output_type": "stream",
          "name": "stdout",
          "text": [
            "Equation of plane CEK:\n"
          ]
        },
        {
          "output_type": "display_data",
          "data": {
            "text/plain": [
              "Eq(-1530*x/96599 + 770*y/96599 - 1867*z/96599 + 1, 0)"
            ],
            "text/latex": "$\\displaystyle - \\frac{1530 x}{96599} + \\frac{770 y}{96599} - \\frac{1867 z}{96599} + 1 = 0$"
          },
          "metadata": {}
        },
        {
          "output_type": "stream",
          "name": "stdout",
          "text": [
            "Equation of plane CEM:\n"
          ]
        },
        {
          "output_type": "display_data",
          "data": {
            "text/plain": [
              "Eq(722*x/26399 - 44*y/26399 - 1099*z/26399 + 1, 0)"
            ],
            "text/latex": "$\\displaystyle \\frac{722 x}{26399} - \\frac{44 y}{26399} - \\frac{1099 z}{26399} + 1 = 0$"
          },
          "metadata": {}
        },
        {
          "output_type": "stream",
          "name": "stdout",
          "text": [
            "Equation of plane CFG:\n"
          ]
        },
        {
          "output_type": "display_data",
          "data": {
            "text/plain": [
              "Eq(-864*x/92711 - 573*y/92711 - 451*z/92711 + 1, 0)"
            ],
            "text/latex": "$\\displaystyle - \\frac{864 x}{92711} - \\frac{573 y}{92711} - \\frac{451 z}{92711} + 1 = 0$"
          },
          "metadata": {}
        },
        {
          "output_type": "stream",
          "name": "stdout",
          "text": [
            "Equation of plane CFH:\n"
          ]
        },
        {
          "output_type": "display_data",
          "data": {
            "text/plain": [
              "Eq(38*x/65 - 7*y/130 - 28*z/65 + 1, 0)"
            ],
            "text/latex": "$\\displaystyle \\frac{38 x}{65} - \\frac{7 y}{130} - \\frac{28 z}{65} + 1 = 0$"
          },
          "metadata": {}
        },
        {
          "output_type": "stream",
          "name": "stdout",
          "text": [
            "Equation of plane CFK:\n"
          ]
        },
        {
          "output_type": "display_data",
          "data": {
            "text/plain": [
              "Eq(-996*x/76487 - 450*y/76487 - 169*z/76487 + 1, 0)"
            ],
            "text/latex": "$\\displaystyle - \\frac{996 x}{76487} - \\frac{450 y}{76487} - \\frac{169 z}{76487} + 1 = 0$"
          },
          "metadata": {}
        },
        {
          "output_type": "stream",
          "name": "stdout",
          "text": [
            "Equation of plane CFM:\n"
          ]
        },
        {
          "output_type": "display_data",
          "data": {
            "text/plain": [
              "Eq(644*x/21407 - 200*y/21407 - 709*z/21407 + 1, 0)"
            ],
            "text/latex": "$\\displaystyle \\frac{644 x}{21407} - \\frac{200 y}{21407} - \\frac{709 z}{21407} + 1 = 0$"
          },
          "metadata": {}
        },
        {
          "output_type": "stream",
          "name": "stdout",
          "text": [
            "Equation of plane CGH:\n"
          ]
        },
        {
          "output_type": "display_data",
          "data": {
            "text/plain": [
              "Eq(-765*x/253306 - 2703*y/253306 - 959*z/253306 + 1, 0)"
            ],
            "text/latex": "$\\displaystyle - \\frac{765 x}{253306} - \\frac{2703 y}{253306} - \\frac{959 z}{253306} + 1 = 0$"
          },
          "metadata": {}
        },
        {
          "output_type": "stream",
          "name": "stdout",
          "text": [
            "Equation of plane CGK:\n"
          ]
        },
        {
          "output_type": "display_data",
          "data": {
            "text/plain": [
              "Eq(-2073*x/152665 - 96*y/30533 - 854*z/152665 + 1, 0)"
            ],
            "text/latex": "$\\displaystyle - \\frac{2073 x}{152665} - \\frac{96 y}{30533} - \\frac{854 z}{152665} + 1 = 0$"
          },
          "metadata": {}
        },
        {
          "output_type": "stream",
          "name": "stdout",
          "text": [
            "Equation of plane CGM:\n"
          ]
        },
        {
          "output_type": "display_data",
          "data": {
            "text/plain": [
              "Eq(1585*x/37753 - 1614*y/37753 + 148*z/37753 + 1, 0)"
            ],
            "text/latex": "$\\displaystyle \\frac{1585 x}{37753} - \\frac{1614 y}{37753} + \\frac{148 z}{37753} + 1 = 0$"
          },
          "metadata": {}
        },
        {
          "output_type": "stream",
          "name": "stdout",
          "text": [
            "Equation of plane CHK:\n"
          ]
        },
        {
          "output_type": "display_data",
          "data": {
            "text/plain": [
              "Eq(-2523*x/207052 - 1035*y/103526 + 595*z/207052 + 1, 0)"
            ],
            "text/latex": "$\\displaystyle - \\frac{2523 x}{207052} - \\frac{1035 y}{103526} + \\frac{595 z}{207052} + 1 = 0$"
          },
          "metadata": {}
        },
        {
          "output_type": "stream",
          "name": "stdout",
          "text": [
            "Equation of plane CHM:\n"
          ]
        },
        {
          "output_type": "display_data",
          "data": {
            "text/plain": [
              "Eq(1825*x/58012 - 383*y/29006 - 1673*z/58012 + 1, 0)"
            ],
            "text/latex": "$\\displaystyle \\frac{1825 x}{58012} - \\frac{383 y}{29006} - \\frac{1673 z}{58012} + 1 = 0$"
          },
          "metadata": {}
        },
        {
          "output_type": "stream",
          "name": "stdout",
          "text": [
            "Equation of plane CKM:\n"
          ]
        },
        {
          "output_type": "display_data",
          "data": {
            "text/plain": [
              "Eq(-47*x/684 + 275*y/1026 - 233*z/684 + 1, 0)"
            ],
            "text/latex": "$\\displaystyle - \\frac{47 x}{684} + \\frac{275 y}{1026} - \\frac{233 z}{684} + 1 = 0$"
          },
          "metadata": {}
        },
        {
          "output_type": "stream",
          "name": "stdout",
          "text": [
            "Equation of plane DEF:\n"
          ]
        },
        {
          "output_type": "display_data",
          "data": {
            "text/plain": [
              "Eq(44*x/401 - 15*y/401 - 33*z/401 + 1, 0)"
            ],
            "text/latex": "$\\displaystyle \\frac{44 x}{401} - \\frac{15 y}{401} - \\frac{33 z}{401} + 1 = 0$"
          },
          "metadata": {}
        },
        {
          "output_type": "stream",
          "name": "stdout",
          "text": [
            "Equation of plane DEG:\n"
          ]
        },
        {
          "output_type": "display_data",
          "data": {
            "text/plain": [
              "Eq(-30*x/779 + 23*y/2337 - 17*z/2337 + 1, 0)"
            ],
            "text/latex": "$\\displaystyle - \\frac{30 x}{779} + \\frac{23 y}{2337} - \\frac{17 z}{2337} + 1 = 0$"
          },
          "metadata": {}
        },
        {
          "output_type": "stream",
          "name": "stdout",
          "text": [
            "Equation of plane DEH:\n"
          ]
        },
        {
          "output_type": "display_data",
          "data": {
            "text/plain": [
              "Eq(235*x/1684 - 79*y/1684 - 41*z/421 + 1, 0)"
            ],
            "text/latex": "$\\displaystyle \\frac{235 x}{1684} - \\frac{79 y}{1684} - \\frac{41 z}{421} + 1 = 0$"
          },
          "metadata": {}
        },
        {
          "output_type": "stream",
          "name": "stdout",
          "text": [
            "Equation of plane DEK:\n"
          ]
        },
        {
          "output_type": "display_data",
          "data": {
            "text/plain": [
              "Eq(-191*x/16390 + 21*y/16390 - 171*z/8195 + 1, 0)"
            ],
            "text/latex": "$\\displaystyle - \\frac{191 x}{16390} + \\frac{21 y}{16390} - \\frac{171 z}{8195} + 1 = 0$"
          },
          "metadata": {}
        },
        {
          "output_type": "stream",
          "name": "stdout",
          "text": [
            "Equation of plane DEM:\n"
          ]
        },
        {
          "output_type": "display_data",
          "data": {
            "text/plain": [
              "Eq(125*x/476 - 41*y/476 - 19*z/119 + 1, 0)"
            ],
            "text/latex": "$\\displaystyle \\frac{125 x}{476} - \\frac{41 y}{476} - \\frac{19 z}{119} + 1 = 0$"
          },
          "metadata": {}
        },
        {
          "output_type": "stream",
          "name": "stdout",
          "text": [
            "Equation of plane DFG:\n"
          ]
        },
        {
          "output_type": "display_data",
          "data": {
            "text/plain": [
              "Eq(-54*x/3971 - 229*y/11913 + 37*z/11913 + 1, 0)"
            ],
            "text/latex": "$\\displaystyle - \\frac{54 x}{3971} - \\frac{229 y}{11913} + \\frac{37 z}{11913} + 1 = 0$"
          },
          "metadata": {}
        },
        {
          "output_type": "stream",
          "name": "stdout",
          "text": [
            "Equation of plane DFH:\n"
          ]
        },
        {
          "output_type": "display_data",
          "data": {
            "text/plain": [
              "Eq(247*x/310 - 43*y/310 - 173*z/310 + 1, 0)"
            ],
            "text/latex": "$\\displaystyle \\frac{247 x}{310} - \\frac{43 y}{310} - \\frac{173 z}{310} + 1 = 0$"
          },
          "metadata": {}
        },
        {
          "output_type": "stream",
          "name": "stdout",
          "text": [
            "Equation of plane DFK:\n"
          ]
        },
        {
          "output_type": "display_data",
          "data": {
            "text/plain": [
              "Eq(-335*x/73837 - 1518*y/73837 - 234*z/73837 + 1, 0)"
            ],
            "text/latex": "$\\displaystyle - \\frac{335 x}{73837} - \\frac{1518 y}{73837} - \\frac{234 z}{73837} + 1 = 0$"
          },
          "metadata": {}
        },
        {
          "output_type": "stream",
          "name": "stdout",
          "text": [
            "Equation of plane DFM:\n"
          ]
        },
        {
          "output_type": "display_data",
          "data": {
            "text/plain": [
              "Eq(797*x/4451 - 212*y/4451 - 580*z/4451 + 1, 0)"
            ],
            "text/latex": "$\\displaystyle \\frac{797 x}{4451} - \\frac{212 y}{4451} - \\frac{580 z}{4451} + 1 = 0$"
          },
          "metadata": {}
        },
        {
          "output_type": "stream",
          "name": "stdout",
          "text": [
            "Equation of plane DGH:\n"
          ]
        },
        {
          "output_type": "display_data",
          "data": {
            "text/plain": [
              "Eq(-20*x/2679 - 212*y/8037 + 91*z/16074 + 1, 0)"
            ],
            "text/latex": "$\\displaystyle - \\frac{20 x}{2679} - \\frac{212 y}{8037} + \\frac{91 z}{16074} + 1 = 0$"
          },
          "metadata": {}
        },
        {
          "output_type": "stream",
          "name": "stdout",
          "text": [
            "Equation of plane DGK:\n"
          ]
        },
        {
          "output_type": "display_data",
          "data": {
            "text/plain": [
              "Eq(2*x/6289 - 223*y/6289 + 56*z/6289 + 1, 0)"
            ],
            "text/latex": "$\\displaystyle \\frac{2 x}{6289} - \\frac{223 y}{6289} + \\frac{56 z}{6289} + 1 = 0$"
          },
          "metadata": {}
        },
        {
          "output_type": "stream",
          "name": "stdout",
          "text": [
            "Equation of plane DGM:\n"
          ]
        },
        {
          "output_type": "display_data",
          "data": {
            "text/plain": [
              "Eq(-130*x/1311 + 317*y/3933 - 128*z/3933 + 1, 0)"
            ],
            "text/latex": "$\\displaystyle - \\frac{130 x}{1311} + \\frac{317 y}{3933} - \\frac{128 z}{3933} + 1 = 0$"
          },
          "metadata": {}
        },
        {
          "output_type": "stream",
          "name": "stdout",
          "text": [
            "Equation of plane DHK:\n"
          ]
        },
        {
          "output_type": "display_data",
          "data": {
            "text/plain": [
              "Eq(-239*x/99136 - 2685*y/99136 + 105*z/49568 + 1, 0)"
            ],
            "text/latex": "$\\displaystyle - \\frac{239 x}{99136} - \\frac{2685 y}{99136} + \\frac{105 z}{49568} + 1 = 0$"
          },
          "metadata": {}
        },
        {
          "output_type": "stream",
          "name": "stdout",
          "text": [
            "Equation of plane DHM:\n"
          ]
        },
        {
          "output_type": "display_data",
          "data": {
            "text/plain": [
              "Eq(395*x/2036 - 111*y/2036 - 69*z/509 + 1, 0)"
            ],
            "text/latex": "$\\displaystyle \\frac{395 x}{2036} - \\frac{111 y}{2036} - \\frac{69 z}{509} + 1 = 0$"
          },
          "metadata": {}
        },
        {
          "output_type": "stream",
          "name": "stdout",
          "text": [
            "Equation of plane DKM:\n"
          ]
        },
        {
          "output_type": "display_data",
          "data": {
            "text/plain": [
              "Eq(-22*x/827 + 39*y/827 - 48*z/827 + 1, 0)"
            ],
            "text/latex": "$\\displaystyle - \\frac{22 x}{827} + \\frac{39 y}{827} - \\frac{48 z}{827} + 1 = 0$"
          },
          "metadata": {}
        },
        {
          "output_type": "stream",
          "name": "stdout",
          "text": [
            "Equation of plane EFG:\n"
          ]
        },
        {
          "output_type": "display_data",
          "data": {
            "text/plain": [
              "Eq(108*x/14873 + 1979*y/44619 - 1595*z/44619 + 1, 0)"
            ],
            "text/latex": "$\\displaystyle \\frac{108 x}{14873} + \\frac{1979 y}{44619} - \\frac{1595 z}{44619} + 1 = 0$"
          },
          "metadata": {}
        },
        {
          "output_type": "stream",
          "name": "stdout",
          "text": [
            "Equation of plane EFH:\n"
          ]
        },
        {
          "output_type": "display_data",
          "data": {
            "text/plain": [
              "Eq(-31*x/95 + 59*y/190 + 11*z/95 + 1, 0)"
            ],
            "text/latex": "$\\displaystyle - \\frac{31 x}{95} + \\frac{59 y}{190} + \\frac{11 z}{95} + 1 = 0$"
          },
          "metadata": {}
        },
        {
          "output_type": "stream",
          "name": "stdout",
          "text": [
            "Equation of plane EFK:\n"
          ]
        },
        {
          "output_type": "display_data",
          "data": {
            "text/plain": [
              "Eq(-1426*x/16913 + 1986*y/16913 + 99*z/16913 + 1, 0)"
            ],
            "text/latex": "$\\displaystyle - \\frac{1426 x}{16913} + \\frac{1986 y}{16913} + \\frac{99 z}{16913} + 1 = 0$"
          },
          "metadata": {}
        },
        {
          "output_type": "stream",
          "name": "stdout",
          "text": [
            "Equation of plane EFM:\n"
          ]
        },
        {
          "output_type": "display_data",
          "data": {
            "text/plain": [
              "Eq(818*x/8549 - 224*y/8549 - 649*z/8549 + 1, 0)"
            ],
            "text/latex": "$\\displaystyle \\frac{818 x}{8549} - \\frac{224 y}{8549} - \\frac{649 z}{8549} + 1 = 0$"
          },
          "metadata": {}
        },
        {
          "output_type": "stream",
          "name": "stdout",
          "text": [
            "Equation of plane EGH:\n"
          ]
        },
        {
          "output_type": "display_data",
          "data": {
            "text/plain": [
              "Eq(305*x/21804 + 3233*y/65412 - 653*z/16353 + 1, 0)"
            ],
            "text/latex": "$\\displaystyle \\frac{305 x}{21804} + \\frac{3233 y}{65412} - \\frac{653 z}{16353} + 1 = 0$"
          },
          "metadata": {}
        },
        {
          "output_type": "stream",
          "name": "stdout",
          "text": [
            "Equation of plane EGK:\n"
          ]
        },
        {
          "output_type": "display_data",
          "data": {
            "text/plain": [
              "Eq(-2749*x/115018 + 2399*y/115018 - 941*z/57509 + 1, 0)"
            ],
            "text/latex": "$\\displaystyle - \\frac{2749 x}{115018} + \\frac{2399 y}{115018} - \\frac{941 z}{57509} + 1 = 0$"
          },
          "metadata": {}
        },
        {
          "output_type": "stream",
          "name": "stdout",
          "text": [
            "Equation of plane EGM:\n"
          ]
        },
        {
          "output_type": "display_data",
          "data": {
            "text/plain": [
              "Eq(-1385*x/50172 + 2719*y/150516 - 529*z/37629 + 1, 0)"
            ],
            "text/latex": "$\\displaystyle - \\frac{1385 x}{50172} + \\frac{2719 y}{150516} - \\frac{529 z}{37629} + 1 = 0$"
          },
          "metadata": {}
        },
        {
          "output_type": "stream",
          "name": "stdout",
          "text": [
            "Equation of plane EHK:\n"
          ]
        },
        {
          "output_type": "display_data",
          "data": {
            "text/plain": [
              "Eq(-2449*x/26264 + 3459*y/26264 + 30*z/3283 + 1, 0)"
            ],
            "text/latex": "$\\displaystyle - \\frac{2449 x}{26264} + \\frac{3459 y}{26264} + \\frac{30 z}{3283} + 1 = 0$"
          },
          "metadata": {}
        },
        {
          "output_type": "stream",
          "name": "stdout",
          "text": [
            "Equation of plane EHM:\n"
          ]
        },
        {
          "output_type": "display_data",
          "data": {
            "text/plain": [
              "Eq(505*x/3964 - 149*y/3964 - 91*z/991 + 1, 0)"
            ],
            "text/latex": "$\\displaystyle \\frac{505 x}{3964} - \\frac{149 y}{3964} - \\frac{91 z}{991} + 1 = 0$"
          },
          "metadata": {}
        },
        {
          "output_type": "stream",
          "name": "stdout",
          "text": [
            "Equation of plane EKM:\n"
          ]
        },
        {
          "output_type": "display_data",
          "data": {
            "text/plain": [
              "Eq(-1267*x/61583 + 957*y/61583 - 1083*z/61583 + 1, 0)"
            ],
            "text/latex": "$\\displaystyle - \\frac{1267 x}{61583} + \\frac{957 y}{61583} - \\frac{1083 z}{61583} + 1 = 0$"
          },
          "metadata": {}
        },
        {
          "output_type": "stream",
          "name": "stdout",
          "text": [
            "Equation of plane FGH:\n"
          ]
        },
        {
          "output_type": "display_data",
          "data": {
            "text/plain": [
              "Eq(27*x/590 + 477*y/2950 - 317*z/2950 + 1, 0)"
            ],
            "text/latex": "$\\displaystyle \\frac{27 x}{590} + \\frac{477 y}{2950} - \\frac{317 z}{2950} + 1 = 0$"
          },
          "metadata": {}
        },
        {
          "output_type": "stream",
          "name": "stdout",
          "text": [
            "Equation of plane FGK:\n"
          ]
        },
        {
          "output_type": "display_data",
          "data": {
            "text/plain": [
              "Eq(-1647*x/155413 - 1566*y/155413 - 386*z/155413 + 1, 0)"
            ],
            "text/latex": "$\\displaystyle - \\frac{1647 x}{155413} - \\frac{1566 y}{155413} - \\frac{386 z}{155413} + 1 = 0$"
          },
          "metadata": {}
        },
        {
          "output_type": "stream",
          "name": "stdout",
          "text": [
            "Equation of plane FGM:\n"
          ]
        },
        {
          "output_type": "display_data",
          "data": {
            "text/plain": [
              "Eq(-135*x/18719 + 68*y/280785 - 2468*z/280785 + 1, 0)"
            ],
            "text/latex": "$\\displaystyle - \\frac{135 x}{18719} + \\frac{68 y}{280785} - \\frac{2468 z}{280785} + 1 = 0$"
          },
          "metadata": {}
        },
        {
          "output_type": "stream",
          "name": "stdout",
          "text": [
            "Equation of plane FHK:\n"
          ]
        },
        {
          "output_type": "display_data",
          "data": {
            "text/plain": [
              "Eq(-279*x/1780 + 108*y/445 + 5*z/356 + 1, 0)"
            ],
            "text/latex": "$\\displaystyle - \\frac{279 x}{1780} + \\frac{108 y}{445} + \\frac{5 z}{356} + 1 = 0$"
          },
          "metadata": {}
        },
        {
          "output_type": "stream",
          "name": "stdout",
          "text": [
            "Equation of plane FHM:\n"
          ]
        },
        {
          "output_type": "display_data",
          "data": {
            "text/plain": [
              "Eq(127*x/100 - 41*y/125 - 421*z/500 + 1, 0)"
            ],
            "text/latex": "$\\displaystyle \\frac{127 x}{100} - \\frac{41 y}{125} - \\frac{421 z}{500} + 1 = 0$"
          },
          "metadata": {}
        },
        {
          "output_type": "stream",
          "name": "stdout",
          "text": [
            "Equation of plane FKM:\n"
          ]
        },
        {
          "output_type": "display_data",
          "data": {
            "text/plain": [
              "Eq(-1781*x/97882 + 150*y/48941 - 159*z/97882 + 1, 0)"
            ],
            "text/latex": "$\\displaystyle - \\frac{1781 x}{97882} + \\frac{150 y}{48941} - \\frac{159 z}{97882} + 1 = 0$"
          },
          "metadata": {}
        },
        {
          "output_type": "stream",
          "name": "stdout",
          "text": [
            "Equation of plane GHK:\n"
          ]
        },
        {
          "output_type": "display_data",
          "data": {
            "text/plain": [
              "Eq(-1215*x/205024 - 4293*y/205024 + 245*z/102512 + 1, 0)"
            ],
            "text/latex": "$\\displaystyle - \\frac{1215 x}{205024} - \\frac{4293 y}{205024} + \\frac{245 z}{102512} + 1 = 0$"
          },
          "metadata": {}
        },
        {
          "output_type": "stream",
          "name": "stdout",
          "text": [
            "Equation of plane GHM:\n"
          ]
        },
        {
          "output_type": "display_data",
          "data": {
            "text/plain": [
              "Eq(-5*x/3636 - 53*y/10908 - 139*z/19089 + 1, 0)"
            ],
            "text/latex": "$\\displaystyle - \\frac{5 x}{3636} - \\frac{53 y}{10908} - \\frac{139 z}{19089} + 1 = 0$"
          },
          "metadata": {}
        },
        {
          "output_type": "stream",
          "name": "stdout",
          "text": [
            "Equation of plane GKM:\n"
          ]
        },
        {
          "output_type": "display_data",
          "data": {
            "text/plain": [
              "Eq(-1970*x/99769 + 1117*y/99769 - 1200*z/99769 + 1, 0)"
            ],
            "text/latex": "$\\displaystyle - \\frac{1970 x}{99769} + \\frac{1117 y}{99769} - \\frac{1200 z}{99769} + 1 = 0$"
          },
          "metadata": {}
        },
        {
          "output_type": "stream",
          "name": "stdout",
          "text": [
            "Equation of plane HKM:\n"
          ]
        },
        {
          "output_type": "display_data",
          "data": {
            "text/plain": [
              "Eq(-2315*x/132556 - 51*y/66278 + 435*z/132556 + 1, 0)"
            ],
            "text/latex": "$\\displaystyle - \\frac{2315 x}{132556} - \\frac{51 y}{66278} + \\frac{435 z}{132556} + 1 = 0$"
          },
          "metadata": {}
        }
      ]
    },
    {
      "cell_type": "markdown",
      "metadata": {
        "id": "-4N5c7jDO3kd"
      },
      "source": [
        "### Индивидуальное задание\n",
        "Даны точки $A$, $B$, $C$, $M$, $K$ и $P$  в пространстве. Составить уравнение плоскостей $ABC$ и $MKP$, найти линию пересечения плоскостей или установить их параллельность.\n",
        "\n",
        "Составить систему параметрических уравнений прямых $MK$ и $CN$, прямая $CN$ перпендикулярна плоскости $ABC$. Найти точку пересечения $MK$ и $CN$.\n",
        "\n",
        "![image.png](data:image/png;base64,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)"
      ]
    },
    {
      "cell_type": "code",
      "source": [
        "x, y, z = symbols(\"x y z\")\n",
        "\n",
        "A = Matrix([3, -3, 2]).transpose()\n",
        "B = Matrix([-4, -1, 1]).transpose()\n",
        "C = Matrix([-3, -2, -2]).transpose()\n",
        "\n",
        "M = Matrix([50, 52, -25]).transpose()\n",
        "K = Matrix([5, -5, -4]).transpose()\n",
        "P = Matrix([-4, 6, -4]).transpose()\n",
        "\n",
        "M1 = Matrix([A, B, C])\n",
        "\n",
        "M1 = M1.row_join(ones(3, 1) * -1)\n",
        "\n",
        "A, B, C, D = symbols(\"A B C D\")\n",
        "A, B, C, D = list(linsolve(M1, (A, B, C, D)).subs(D, 1))[0]\n",
        "\n",
        "eq1 = Eq(A*x + B*y + C*z + D, 0)\n",
        "print(\"Equation of plane ABC:\")\n",
        "display(eq1)\n",
        "\n",
        "M2 = Matrix([M, K, P])\n",
        "\n",
        "M2 = M2.row_join(ones(3, 1) * -1)\n",
        "\n",
        "A, B, C, D = symbols(\"A B C D\")\n",
        "A, B, C, D = list(linsolve(M2, (A, B, C, D)).subs(D, 1))[0]\n",
        "\n",
        "eq2 = Eq(A*x + B*y + C*z + D, 0)\n",
        "print(\"Equation of plane MKP:\")\n",
        "display(eq2)\n",
        "\n",
        "t = symbols(\"t\")\n",
        "\n",
        "A, B, C = symbols(\"A B C\")\n",
        "sys = list(linsolve([eq1, eq2], (x, y, z)).subs(z, t))[0]\n",
        "\n",
        "print(\"Equation of line of intersection:\")\n",
        "display(*[\n",
        "    Eq(x, sys[0]),\n",
        "    Eq(y, sys[1]),\n",
        "    Eq(z, sys[2])\n",
        "])\n",
        "\n",
        "sys = Matrix([\n",
        "    2 + 5*t,\n",
        "    -1 - 2*t,\n",
        "    4 - 3*t,\n",
        "])"
      ],
      "metadata": {
        "id": "HcQqNU_-nH6f",
        "colab": {
          "base_uri": "https://localhost:8080/",
          "height": 225
        },
        "outputId": "9b9763f0-3148-430c-b6fa-662b816e0b71"
      },
      "execution_count": 56,
      "outputs": [
        {
          "output_type": "stream",
          "name": "stdout",
          "text": [
            "Equation of plane ABC:\n"
          ]
        },
        {
          "output_type": "display_data",
          "data": {
            "text/plain": [
              "Eq(7*x/55 + 2*y/5 - z/11 + 1, 0)"
            ],
            "text/latex": "$\\displaystyle \\frac{7 x}{55} + \\frac{2 y}{5} - \\frac{z}{11} + 1 = 0$"
          },
          "metadata": {}
        },
        {
          "output_type": "stream",
          "name": "stdout",
          "text": [
            "Equation of plane MKP:\n"
          ]
        },
        {
          "output_type": "display_data",
          "data": {
            "text/plain": [
              "Eq(11*x/182 + 9*y/182 + 24*z/91 + 1, 0)"
            ],
            "text/latex": "$\\displaystyle \\frac{11 x}{182} + \\frac{9 y}{182} + \\frac{24 z}{91} + 1 = 0$"
          },
          "metadata": {}
        },
        {
          "output_type": "stream",
          "name": "stdout",
          "text": [
            "Equation of line of intersection:\n"
          ]
        },
        {
          "output_type": "display_data",
          "data": {
            "text/plain": [
              "Eq(x, -1101*t/179 - 3509/179)"
            ],
            "text/latex": "$\\displaystyle x = - \\frac{1101 t}{179} - \\frac{3509}{179}$"
          },
          "metadata": {}
        },
        {
          "output_type": "display_data",
          "data": {
            "text/plain": [
              "Eq(y, 391*t/179 + 669/179)"
            ],
            "text/latex": "$\\displaystyle y = \\frac{391 t}{179} + \\frac{669}{179}$"
          },
          "metadata": {}
        },
        {
          "output_type": "display_data",
          "data": {
            "text/plain": [
              "Eq(z, t)"
            ],
            "text/latex": "$\\displaystyle z = t$"
          },
          "metadata": {}
        }
      ]
    },
    {
      "cell_type": "code",
      "source": [
        "A = Matrix([3, -3, 2]).transpose()\n",
        "B = Matrix([-4, -1, 1]).transpose()\n",
        "C = Matrix([-3, -2, -2]).transpose()\n",
        "\n",
        "M = Matrix([50, 52, -25]).transpose()\n",
        "K = Matrix([5, -5, -4]).transpose()\n",
        "P = Matrix([-4, 6, -4]).transpose()\n",
        "\n",
        "t = symbols(\"t\")\n",
        "x, y, z = symbols(\"x y z\")\n",
        "\n",
        "sys1 = [\n",
        "  Eq(x, M[0] + (K[0] - M[0]) * t),\n",
        "  Eq(y, M[1] + (K[1] - M[1]) * t),\n",
        "  Eq(z, M[2] + (K[2] - M[2]) * t),\n",
        "]\n",
        "\n",
        "display(*sys1)\n",
        "\n",
        "V = Matrix([S(7)/55, S(2)/5, -S(1)/11]).transpose()\n",
        "N = V + C\n",
        "\n",
        "sys2 = [\n",
        "  Eq(x, C[0] + (N[0] - C[0]) * t),\n",
        "  Eq(y, C[1] + (N[1] - C[1]) * t),\n",
        "  Eq(z, C[2] + (N[2] - C[2]) * t),\n",
        "]\n",
        "\n",
        "display(*sys2)\n",
        "\n",
        "sys = sys1 + sys2\n",
        "sol = linsolve(sys, t)\n",
        "display(sol)"
      ],
      "metadata": {
        "colab": {
          "base_uri": "https://localhost:8080/",
          "height": 202
        },
        "id": "hg_GRvxqZTHf",
        "outputId": "0f68e881-54e2-44cf-f8dc-75e97ff80db3"
      },
      "execution_count": 64,
      "outputs": [
        {
          "output_type": "display_data",
          "data": {
            "text/plain": [
              "Eq(x, 50 - 45*t)"
            ],
            "text/latex": "$\\displaystyle x = 50 - 45 t$"
          },
          "metadata": {}
        },
        {
          "output_type": "display_data",
          "data": {
            "text/plain": [
              "Eq(y, 52 - 57*t)"
            ],
            "text/latex": "$\\displaystyle y = 52 - 57 t$"
          },
          "metadata": {}
        },
        {
          "output_type": "display_data",
          "data": {
            "text/plain": [
              "Eq(z, 21*t - 25)"
            ],
            "text/latex": "$\\displaystyle z = 21 t - 25$"
          },
          "metadata": {}
        },
        {
          "output_type": "display_data",
          "data": {
            "text/plain": [
              "Eq(x, 7*t/55 - 3)"
            ],
            "text/latex": "$\\displaystyle x = \\frac{7 t}{55} - 3$"
          },
          "metadata": {}
        },
        {
          "output_type": "display_data",
          "data": {
            "text/plain": [
              "Eq(y, 2*t/5 - 2)"
            ],
            "text/latex": "$\\displaystyle y = \\frac{2 t}{5} - 2$"
          },
          "metadata": {}
        },
        {
          "output_type": "display_data",
          "data": {
            "text/plain": [
              "Eq(z, -t/11 - 2)"
            ],
            "text/latex": "$\\displaystyle z = - \\frac{t}{11} - 2$"
          },
          "metadata": {}
        },
        {
          "output_type": "display_data",
          "data": {
            "text/plain": [
              "EmptySet"
            ],
            "text/latex": "$\\displaystyle \\emptyset$"
          },
          "metadata": {}
        }
      ]
    }
  ]
}