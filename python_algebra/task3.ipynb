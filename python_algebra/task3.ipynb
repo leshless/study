{
  "nbformat": 4,
  "nbformat_minor": 0,
  "metadata": {
    "kernelspec": {
      "display_name": "Python 3",
      "language": "python",
      "name": "python3"
    },
    "language_info": {
      "codemirror_mode": {
        "name": "ipython",
        "version": 3
      },
      "file_extension": ".py",
      "mimetype": "text/x-python",
      "name": "python",
      "nbconvert_exporter": "python",
      "pygments_lexer": "ipython3",
      "version": "3.7.3"
    },
    "colab": {
      "provenance": [],
      "include_colab_link": true
    }
  },
  "cells": [
    {
      "cell_type": "markdown",
      "metadata": {
        "id": "view-in-github",
        "colab_type": "text"
      },
      "source": [
        "<a href=\"https://colab.research.google.com/github/leshless/study/blob/main/python_algebra/task3.ipynb\" target=\"_parent\"><img src=\"https://colab.research.google.com/assets/colab-badge.svg\" alt=\"Open In Colab\"/></a>"
      ]
    },
    {
      "cell_type": "markdown",
      "metadata": {
        "id": "Lq_8i_zvJF8o"
      },
      "source": [
        "# Практическое занятие 3\n",
        "# Компьютерный практикум по алгебре на Python\n",
        "## Решение систем линейных алгебраических уравнений (СЛАУ)"
      ]
    },
    {
      "cell_type": "markdown",
      "metadata": {
        "id": "4pcXPsZ5JF8v"
      },
      "source": [
        "https://docs.sympy.org/latest/modules/solvers/solveset.html#sympy.solvers.solveset.linsolve"
      ]
    },
    {
      "cell_type": "code",
      "metadata": {
        "id": "fLJ7y0XDJF8w"
      },
      "source": [
        "import sympy\n",
        "from sympy import solve, linsolve, Matrix, S, Symbol, symbols, Eq,\\\n",
        "linear_eq_to_matrix, simplify, ones\n",
        "from IPython.display import Latex"
      ],
      "execution_count": 15,
      "outputs": []
    },
    {
      "cell_type": "markdown",
      "metadata": {
        "id": "ApqHKVFaJF8x"
      },
      "source": [
        "### Задание 1.\n",
        "Решить СЛАУ, представив их тремя различными способами (расширенная матрица, список уравнений, матричный вид)\n",
        "$$\n",
        "a)\\ \\left\\{\\begin{matrix} - 2 x_{1} + 3 x_{2} - 9 x_{3} = 51 \\\\ 4 x_{1} - 6 x_{2} + x_{3} = 51 \\\\ 5 x_{1} + 6 x_{2} - 8 x_{3} = 93\\end{matrix}\\right.\\qquad\n",
        "b)\\ \\left\\{\\begin{matrix} 2 x_{1} + 6 x_{2} - x_{3} + 2 x_{4} = -9 \\\\ - 5 x_{1} - x_{2} + 5 x_{3} + 2 x_{4} = -98 \\\\ - x_{1} + 2 x_{2} - 2 x_{3} + 7 x_{4} = -41\\end{matrix}\\right.\\qquad\n",
        "c)\\ \\left\\{\\begin{matrix} - 6 x_{1} - x_{2} + x_{3} = -59 \\\\ 8 x_{1} + x_{2} + x_{3} = 59 \\\\ 2 x_{1} - 6 x_{2} + 2 x_{3} = 25 \\\\ 2 x_{1} - 7 x_{2} + 9 x_{3} = -35\\end{matrix}\\right.\\qquad\n",
        "$$"
      ]
    },
    {
      "cell_type": "code",
      "source": [
        "A = Matrix([\n",
        "    [-2, 3, -9],\n",
        "    [4, -6, 1],\n",
        "    [5, 6, -8]\n",
        "])\n",
        "\n",
        "b = Matrix([\n",
        "    51,\n",
        "    51,\n",
        "    93\n",
        "])\n",
        "\n",
        "Ab = A.row_join(b)\n",
        "X = linsolve(Ab)\n",
        "\n",
        "display(A, b, X)\n",
        "\n",
        "# ==================\n",
        "\n",
        "A = Matrix([\n",
        "    [2, 6, -1, 2],\n",
        "    [-5, -1, 5, 2],\n",
        "    [-1, 2, -2, 7]\n",
        "])\n",
        "\n",
        "b = Matrix([\n",
        "    -9,\n",
        "    -98,\n",
        "    -41\n",
        "])\n",
        "\n",
        "x1, x2, x3, x4 = symbols('x1 x2 x3 x4')\n",
        "\n",
        "eq1 = Eq(2*x1 + 6*x2 - x3 + 2*x4, -9)\n",
        "eq2 = Eq(-5*x1 - x2 + 5*x3 + 2*x4, -98)\n",
        "eq3 = Eq(-x1 + 2*x2 - 2*x3 + 7*x4, -41)\n",
        "\n",
        "sys = [eq1, eq2, eq3]\n",
        "\n",
        "X = linsolve(sys, x1, x2, x3, x4)\n",
        "\n",
        "display(A, b, X)\n",
        "\n",
        "# ==================\n",
        "\n",
        "A = Matrix([\n",
        "    [-6, -1, 1],\n",
        "    [8, 1, 1],\n",
        "    [2, -6, 2],\n",
        "    [2, -7, 9]\n",
        "])\n",
        "\n",
        "b = Matrix([\n",
        "    -59,\n",
        "    59,\n",
        "    25,\n",
        "    -35\n",
        "])\n",
        "\n",
        "X = linsolve((A, b))\n",
        "\n",
        "display(A, b, X)\n"
      ],
      "metadata": {
        "id": "vE-5Rjxnb1Jb",
        "colab": {
          "base_uri": "https://localhost:8080/",
          "height": 505
        },
        "outputId": "97186ca3-4a51-4130-f8e4-1a032b729d7d"
      },
      "execution_count": null,
      "outputs": [
        {
          "output_type": "display_data",
          "data": {
            "text/plain": [
              "Matrix([\n",
              "[-2,  3, -9],\n",
              "[ 4, -6,  1],\n",
              "[ 5,  6, -8]])"
            ],
            "text/latex": "$\\displaystyle \\left[\\begin{matrix}-2 & 3 & -9\\\\4 & -6 & 1\\\\5 & 6 & -8\\end{matrix}\\right]$"
          },
          "metadata": {}
        },
        {
          "output_type": "display_data",
          "data": {
            "text/plain": [
              "Matrix([\n",
              "[51],\n",
              "[51],\n",
              "[93]])"
            ],
            "text/latex": "$\\displaystyle \\left[\\begin{matrix}51\\\\51\\\\93\\end{matrix}\\right]$"
          },
          "metadata": {}
        },
        {
          "output_type": "display_data",
          "data": {
            "text/plain": [
              "{(9, -4, -9)}"
            ],
            "text/latex": "$\\displaystyle \\left\\{\\left( 9, \\  -4, \\  -9\\right)\\right\\}$"
          },
          "metadata": {}
        },
        {
          "output_type": "display_data",
          "data": {
            "text/plain": [
              "Matrix([\n",
              "[ 2,  6, -1, 2],\n",
              "[-5, -1,  5, 2],\n",
              "[-1,  2, -2, 7]])"
            ],
            "text/latex": "$\\displaystyle \\left[\\begin{matrix}2 & 6 & -1 & 2\\\\-5 & -1 & 5 & 2\\\\-1 & 2 & -2 & 7\\end{matrix}\\right]$"
          },
          "metadata": {}
        },
        {
          "output_type": "display_data",
          "data": {
            "text/plain": [
              "Matrix([\n",
              "[ -9],\n",
              "[-98],\n",
              "[-41]])"
            ],
            "text/latex": "$\\displaystyle \\left[\\begin{matrix}-9\\\\-98\\\\-41\\end{matrix}\\right]$"
          },
          "metadata": {}
        },
        {
          "output_type": "display_data",
          "data": {
            "text/plain": [
              "{(207*x4/95 + 2097/95, -15*x4/19 - 166/19, 154*x4/95 + 69/95, x4)}"
            ],
            "text/latex": "$\\displaystyle \\left\\{\\left( \\frac{207 x_{4}}{95} + \\frac{2097}{95}, \\  - \\frac{15 x_{4}}{19} - \\frac{166}{19}, \\  \\frac{154 x_{4}}{95} + \\frac{69}{95}, \\  x_{4}\\right)\\right\\}$"
          },
          "metadata": {}
        },
        {
          "output_type": "display_data",
          "data": {
            "text/plain": [
              "Matrix([\n",
              "[-6, -1, 1],\n",
              "[ 8,  1, 1],\n",
              "[ 2, -6, 2],\n",
              "[ 2, -7, 9]])"
            ],
            "text/latex": "$\\displaystyle \\left[\\begin{matrix}-6 & -1 & 1\\\\8 & 1 & 1\\\\2 & -6 & 2\\\\2 & -7 & 9\\end{matrix}\\right]$"
          },
          "metadata": {}
        },
        {
          "output_type": "display_data",
          "data": {
            "text/plain": [
              "Matrix([\n",
              "[-59],\n",
              "[ 59],\n",
              "[ 25],\n",
              "[-35]])"
            ],
            "text/latex": "$\\displaystyle \\left[\\begin{matrix}-59\\\\59\\\\25\\\\-35\\end{matrix}\\right]$"
          },
          "metadata": {}
        },
        {
          "output_type": "display_data",
          "data": {
            "text/plain": [
              "EmptySet"
            ],
            "text/latex": "$\\displaystyle \\emptyset$"
          },
          "metadata": {}
        }
      ]
    },
    {
      "cell_type": "markdown",
      "source": [
        "**Ответ:**\n",
        "$$\n",
        "a)\\ A = \\left[\\begin{matrix}-2 & 3 & -9\\\\4 & -6 & 1\\\\5 & 6 & -8\\end{matrix}\\right],\\ b = \\left[\\begin{matrix}51\\\\51\\\\93\\end{matrix}\\right],\\ X = \\left\\{\\left( 9, \\  -4, \\  -9\\right)\\right\\}\\\\\n",
        "b)\\ A = \\left[\\begin{matrix}2 & 6 & -1 & 2\\\\-5 & -1 & 5 & 2\\\\-1 & 2 & -2 & 7\\end{matrix}\\right],\\ b = \\left[\\begin{matrix}-9\\\\-98\\\\-41\\end{matrix}\\right],\\ X = \\left\\{\\left( \\frac{207 \\tau_{0}}{95} + \\frac{2097}{95}, \\  - \\frac{15 \\tau_{0}}{19} - \\frac{166}{19}, \\  \\frac{154 \\tau_{0}}{95} + \\frac{69}{95}, \\  \\tau_{0}\\right)\\right\\}\\\\\n",
        "c)\\ A = \\left[\\begin{matrix}-6 & -1 & 1\\\\8 & 1 & 1\\\\2 & -6 & 2\\\\2 & -7 & 9\\end{matrix}\\right],\\ b = \\left[\\begin{matrix}-59\\\\59\\\\25\\\\-35\\end{matrix}\\right],\\ X = \\emptyset\\\\\n",
        "$$"
      ],
      "metadata": {
        "id": "-cPy1Wv4oTIg"
      }
    },
    {
      "cell_type": "markdown",
      "metadata": {
        "id": "uC_T9sNpJF9X"
      },
      "source": [
        "### Задание 2.\n",
        "\n",
        "Решить СЛАУ с параметром $a$, представив их списком уравнений, а затем приведя к матричному виду с помощью linear_eq_to_matrix\n",
        "$$\n",
        "a)\\ \\left\\{\n",
        "\\begin{matrix}\n",
        "x+3y-2az=8\\\\\n",
        "2x-4y+5z=-1\\\\\n",
        "3x+4y+5z=10\n",
        "\\end{matrix}\n",
        "\\right., \\quad\n",
        "b)\\ \\left\\{\n",
        "\\begin{matrix}\n",
        "x+5(a-1)y-3z=8\\\\\n",
        "x-(5a + 4)y+4z=-1\\\\\n",
        "3x+99y+5z=6\n",
        "\\end{matrix}\n",
        "\\right., \\quad\n",
        "c) \\left\\{\n",
        "\\begin{matrix}\n",
        "-x+5ay-3z=1\\\\\n",
        "4ax-ay+z= -5\\\\\n",
        "(120a^2 - 6a)x + (20a^2 - a) y+z= - 140 a - 5\n",
        "\\end{matrix}\n",
        "\\right.\n",
        "$$\n",
        "Получить с помощью linsolve решение с произвольным значением параметра (т.е. подставить матрицу как есть, с символами $a$).\n",
        "Решить СЛАУ а) при $a=-\\frac{25}{40}$ и $a=-0.625$, b) при $a$, обращающем в 0 определитель, записанном в символьном и десятичном формате, c) при $a=0,\\ S(1) / 20,\\ 0.05$.\n",
        "\n",
        "Проанализировать результаты. Для каждого случая (кроме случая несовместной СЛАУ) провести проверку подстановкой.\n",
        "\n",
        "При подстановке дробей (символьный формат) пользоваться конструкцией вида $S(num)/den$, например,\n",
        "$S(2)/3$"
      ]
    },
    {
      "cell_type": "code",
      "source": [
        "x, y, z, a = symbols('x y z a')\n",
        "\n",
        "sys = [\n",
        "  Eq(x + 3*y - 2*a*z, 8),\n",
        "  Eq(2*x - 4*y + 5*z, -1),\n",
        "  Eq(3*x + 4*y + 5*z, 10)\n",
        "]\n",
        "\n",
        "A, b = linear_eq_to_matrix(sys, (x, y, z))\n",
        "\n",
        "display(simplify(linsolve((A.subs(a, S(-25)/40), b), x, y, z)))\n",
        "display(simplify(linsolve((A.subs(a, -0.625), b), x, y, z)))\n",
        "\n",
        "# =================\n",
        "\n",
        "sys = [\n",
        "  Eq(x + 5*(a - 1)*y - 3*z, 8),\n",
        "  Eq(x - (5*a + 4)*y + 4*z, -1),\n",
        "  Eq(3*x + 99*y + 5*z, 6)\n",
        "]\n",
        "\n",
        "A, b = linear_eq_to_matrix(sys, (x, y, z))\n",
        "\n",
        "a0 = solve(A.det(), a)[0]\n",
        "display(simplify(linsolve((A.subs(a, a0), b), x, y, z)))\n",
        "\n",
        "# =================\n",
        "\n",
        "sys = [\n",
        "  Eq(-x + 5*a*y - 3*z, 1),\n",
        "  Eq(4*a*x - a*y + z, -5),\n",
        "  Eq((120*a**2 - 6*a)*x + (20*a**2 - a)*y + z, -140*a - 5)\n",
        "]\n",
        "\n",
        "A, b = linear_eq_to_matrix(sys, (x, y, z))\n",
        "\n",
        "display(simplify(linsolve((A.subs(a, 0), b.subs(a, 0)), x, y, z)))\n",
        "display(simplify(linsolve((A.subs(a, S(1)/20), b.subs(a, S(1)/20)), x, y, z)))\n",
        "display(simplify(linsolve((A.subs(a, 0.05), b.subs(a, 0.05)), x, y, z)))"
      ],
      "metadata": {
        "id": "eYhQxNInb32l",
        "colab": {
          "base_uri": "https://localhost:8080/",
          "height": 174
        },
        "outputId": "9483dc5d-5c1e-4065-f8b4-c210d2fd791e"
      },
      "execution_count": null,
      "outputs": [
        {
          "output_type": "display_data",
          "data": {
            "text/plain": [
              "EmptySet"
            ],
            "text/latex": "$\\displaystyle \\emptyset$"
          },
          "metadata": {}
        },
        {
          "output_type": "display_data",
          "data": {
            "text/plain": [
              "{(-1.98158383604302e+16, 2.47697979505377e+15, 9.90791918021509e+15)}"
            ],
            "text/latex": "$\\displaystyle \\left\\{\\left( -1.98158383604302 \\cdot 10^{16}, \\  2.47697979505377 \\cdot 10^{15}, \\  9.90791918021509 \\cdot 10^{15}\\right)\\right\\}$"
          },
          "metadata": {}
        },
        {
          "output_type": "display_data",
          "data": {
            "text/plain": [
              "{(83/25 - 16*z/25, -7*z/225 - 1/25, z)}"
            ],
            "text/latex": "$\\displaystyle \\left\\{\\left( \\frac{83}{25} - \\frac{16 z}{25}, \\  - \\frac{7 z}{225} - \\frac{1}{25}, \\  z\\right)\\right\\}$"
          },
          "metadata": {}
        },
        {
          "output_type": "display_data",
          "data": {
            "text/plain": [
              "{(14, y, -5)}"
            ],
            "text/latex": "$\\displaystyle \\left\\{\\left( 14, \\  y, \\  -5\\right)\\right\\}$"
          },
          "metadata": {}
        },
        {
          "output_type": "display_data",
          "data": {
            "text/plain": [
              "{(y/4 + 35, y, -12)}"
            ],
            "text/latex": "$\\displaystyle \\left\\{\\left( \\frac{y}{4} + 35, \\  y, \\  -12\\right)\\right\\}$"
          },
          "metadata": {}
        },
        {
          "output_type": "display_data",
          "data": {
            "text/plain": [
              "{(64.0, 256.0, -12.0)}"
            ],
            "text/latex": "$\\displaystyle \\left\\{\\left( 64.0, \\  256.0, \\  -12.0\\right)\\right\\}$"
          },
          "metadata": {}
        }
      ]
    },
    {
      "cell_type": "markdown",
      "metadata": {
        "id": "Zm2BtqFeJF90"
      },
      "source": [
        "### Задание 3\n",
        "В  матрице\n",
        "$$\n",
        " \\left[\\begin{matrix}-2 & 3 & -9 & 5\\\\\n",
        " 4 & -6 & 1 & -2\\\\\n",
        " 5 & 6 & -3 & 0\n",
        " \\end{matrix}\\right]\n",
        "$$\n",
        "\n",
        "1) выделить матрицу из правых двух столбцов\n",
        "\n",
        "2) выделить нижнюю строку\n",
        "\n",
        "3) транспонировать матрицу, полученную в 1)\n",
        "\n",
        "4) получить расширенную матрицу некоторой СЛАУ из матрицы 3) (как матрицы левой части) и столбца из единиц\n",
        "\n",
        "5) создать на основе лямбда-функции матрицу $3\\times 4$ из расположенных в шахматном порядке чисел 2 и 3, в левом верхнем углу 2."
      ]
    },
    {
      "cell_type": "code",
      "source": [
        " A = Matrix([\n",
        "    [-2, 3, -9, 5],\n",
        "    [4, -6, 1, -2],\n",
        "    [5, 6, -3, 0]\n",
        "])\n",
        "\n",
        " A1 = A[ : , 0 : 2]\n",
        " display(A1)\n",
        "\n",
        " A2 = A[2, : ]\n",
        " display(A2)\n",
        "\n",
        " A3 = A2.transpose()\n",
        " display(A3)\n",
        "\n",
        " A4 = A3.row_join(ones(4, 1))\n",
        " display(A4)\n",
        "\n",
        " A5 = Matrix(3, 4, lambda i, j: (2 if (i + j) % 2 == 0 else 3))\n",
        " display(A5)"
      ],
      "metadata": {
        "id": "Htq9ceJVb6mr",
        "colab": {
          "base_uri": "https://localhost:8080/",
          "height": 324
        },
        "outputId": "22870be8-13b7-4e2e-a4ca-0fd56d257720"
      },
      "execution_count": null,
      "outputs": [
        {
          "output_type": "display_data",
          "data": {
            "text/plain": [
              "Matrix([\n",
              "[-2,  3],\n",
              "[ 4, -6],\n",
              "[ 5,  6]])"
            ],
            "text/latex": "$\\displaystyle \\left[\\begin{matrix}-2 & 3\\\\4 & -6\\\\5 & 6\\end{matrix}\\right]$"
          },
          "metadata": {}
        },
        {
          "output_type": "display_data",
          "data": {
            "text/plain": [
              "Matrix([[5, 6, -3, 0]])"
            ],
            "text/latex": "$\\displaystyle \\left[\\begin{matrix}5 & 6 & -3 & 0\\end{matrix}\\right]$"
          },
          "metadata": {}
        },
        {
          "output_type": "display_data",
          "data": {
            "text/plain": [
              "Matrix([\n",
              "[ 5],\n",
              "[ 6],\n",
              "[-3],\n",
              "[ 0]])"
            ],
            "text/latex": "$\\displaystyle \\left[\\begin{matrix}5\\\\6\\\\-3\\\\0\\end{matrix}\\right]$"
          },
          "metadata": {}
        },
        {
          "output_type": "display_data",
          "data": {
            "text/plain": [
              "Matrix([\n",
              "[ 5, 1],\n",
              "[ 6, 1],\n",
              "[-3, 1],\n",
              "[ 0, 1]])"
            ],
            "text/latex": "$\\displaystyle \\left[\\begin{matrix}5 & 1\\\\6 & 1\\\\-3 & 1\\\\0 & 1\\end{matrix}\\right]$"
          },
          "metadata": {}
        },
        {
          "output_type": "display_data",
          "data": {
            "text/plain": [
              "Matrix([\n",
              "[2, 3, 2, 3],\n",
              "[3, 2, 3, 2],\n",
              "[2, 3, 2, 3]])"
            ],
            "text/latex": "$\\displaystyle \\left[\\begin{matrix}2 & 3 & 2 & 3\\\\3 & 2 & 3 & 2\\\\2 & 3 & 2 & 3\\end{matrix}\\right]$"
          },
          "metadata": {}
        }
      ]
    },
    {
      "cell_type": "markdown",
      "source": [
        "### Задание 4* четверг\n",
        "В расширенной матрице СЛАУ найти значения параметра $b$, при котором она имеет единственное решение, не имеет решений,  бесконечное число решений.\n",
        "\n",
        "Для каждого случая составить СЛАУ, найти решение с помощью linsolve и вывести на экран значение параметра и найденное решение СЛАУ.\n",
        "$$\n",
        "\\left\\{\n",
        "\\begin{matrix}\n",
        "x+2y+bz=3\\\\\n",
        "-x-4y+5z=-1\\\\\n",
        "bx+2y+z=3\n",
        "\\end{matrix}\n",
        "\\right.\n",
        "$$"
      ],
      "metadata": {
        "id": "2vZqLUpXZrHT"
      }
    },
    {
      "cell_type": "code",
      "source": [
        "b = symbols('b')\n",
        "\n",
        "Ab = Matrix([\n",
        "    [1, 2, b, 3],\n",
        "    [-1, -4, 5, -1],\n",
        "    [b, 2, 1, 3]\n",
        "])\n",
        "\n",
        "display(linsolve(Ab))\n",
        "\n",
        "print(\"b = -3 - нет решений:\")\n",
        "display(Ab.subs(b, -3))\n",
        "display(linsolve(Ab.subs(b, -3)))\n",
        "\n",
        "print(\"b = 1 - беск. решений:\")\n",
        "display(Ab.subs(b, 1))\n",
        "display(linsolve(Ab.subs(b, 1)))\n",
        "\n",
        "print(\"b != -3, 1 - единственное решение:\")\n",
        "print(\"b = 0:\")\n",
        "display(Ab.subs(b, 0))\n",
        "display(linsolve(Ab.subs(b, 0)))\n",
        "\n"
      ],
      "metadata": {
        "id": "KWCoF9l_cFTN",
        "colab": {
          "base_uri": "https://localhost:8080/",
          "height": 397
        },
        "outputId": "f2bd4f6d-c50b-4c69-ce1a-e9013ff1561f"
      },
      "execution_count": 75,
      "outputs": [
        {
          "output_type": "display_data",
          "data": {
            "text/plain": [
              "{(5/(2*b + 6), (b + 13)/(4*b + 12), 5/(2*b + 6))}"
            ],
            "text/latex": "$\\displaystyle \\left\\{\\left( \\frac{5}{2 b + 6}, \\  \\frac{b + 13}{4 b + 12}, \\  \\frac{5}{2 b + 6}\\right)\\right\\}$"
          },
          "metadata": {}
        },
        {
          "output_type": "stream",
          "name": "stdout",
          "text": [
            "b = -3 - нет решений:\n"
          ]
        },
        {
          "output_type": "display_data",
          "data": {
            "text/plain": [
              "Matrix([\n",
              "[ 1,  2, -3,  3],\n",
              "[-1, -4,  5, -1],\n",
              "[-3,  2,  1,  3]])"
            ],
            "text/latex": "$\\displaystyle \\left[\\begin{matrix}1 & 2 & -3 & 3\\\\-1 & -4 & 5 & -1\\\\-3 & 2 & 1 & 3\\end{matrix}\\right]$"
          },
          "metadata": {}
        },
        {
          "output_type": "display_data",
          "data": {
            "text/plain": [
              "EmptySet"
            ],
            "text/latex": "$\\displaystyle \\emptyset$"
          },
          "metadata": {}
        },
        {
          "output_type": "stream",
          "name": "stdout",
          "text": [
            "b = 1 - беск. решений:\n"
          ]
        },
        {
          "output_type": "display_data",
          "data": {
            "text/plain": [
              "Matrix([\n",
              "[ 1,  2, 1,  3],\n",
              "[-1, -4, 5, -1],\n",
              "[ 1,  2, 1,  3]])"
            ],
            "text/latex": "$\\displaystyle \\left[\\begin{matrix}1 & 2 & 1 & 3\\\\-1 & -4 & 5 & -1\\\\1 & 2 & 1 & 3\\end{matrix}\\right]$"
          },
          "metadata": {}
        },
        {
          "output_type": "display_data",
          "data": {
            "text/plain": [
              "{(5 - 7*tau0, 3*tau0 - 1, tau0)}"
            ],
            "text/latex": "$\\displaystyle \\left\\{\\left( 5 - 7 \\tau_{0}, \\  3 \\tau_{0} - 1, \\  \\tau_{0}\\right)\\right\\}$"
          },
          "metadata": {}
        },
        {
          "output_type": "stream",
          "name": "stdout",
          "text": [
            "b != -3, 1 - единственное решение:\n",
            "b = 0:\n"
          ]
        },
        {
          "output_type": "display_data",
          "data": {
            "text/plain": [
              "Matrix([\n",
              "[ 1,  2, 0,  3],\n",
              "[-1, -4, 5, -1],\n",
              "[ 0,  2, 1,  3]])"
            ],
            "text/latex": "$\\displaystyle \\left[\\begin{matrix}1 & 2 & 0 & 3\\\\-1 & -4 & 5 & -1\\\\0 & 2 & 1 & 3\\end{matrix}\\right]$"
          },
          "metadata": {}
        },
        {
          "output_type": "display_data",
          "data": {
            "text/plain": [
              "{(5/6, 13/12, 5/6)}"
            ],
            "text/latex": "$\\displaystyle \\left\\{\\left( \\frac{5}{6}, \\  \\frac{13}{12}, \\  \\frac{5}{6}\\right)\\right\\}$"
          },
          "metadata": {}
        }
      ]
    },
    {
      "cell_type": "markdown",
      "source": [
        "### Задание 5*\n",
        "Описать функцию с обязательными аргументами матрицей левой части СЛАУ и матрицей столбцом правой части, возвращающую список, первый элемент которого - решение СЛАУ (может быть пустым множеством!), второй - текст о том, сколько решений у СЛАУ (\"единственное решение\", \"бесконечное число решений\", \"нет решений\").  "
      ],
      "metadata": {
        "id": "iOgRfUvOlxEn"
      }
    },
    {
      "cell_type": "markdown",
      "source": [
        "**Сложность задачи состоит в определении ситуации бесконечного числа решений.**"
      ],
      "metadata": {
        "id": "TtJyZrPrakO7"
      }
    },
    {
      "cell_type": "code",
      "source": [
        "NO_SOLUTIONS = \"Нет решений\"\n",
        "ONE_SOLUTION = \"Единственное решение\"\n",
        "INF_SOLUTIONS = \"Бесконечное число решений\"\n",
        "\n",
        "def solutions(A, b):\n",
        "  Ab = A.row_join(b)\n",
        "\n",
        "  sol = linsolve(Ab)\n",
        "\n",
        "  # По критерию Кронекера-Каппели:\n",
        "  if A.rank() != Ab.rank():\n",
        "    return [sol, NO_SOLUTIONS]\n",
        "\n",
        "  if Ab.rank() == A.shape[1]:\n",
        "    return [sol, ONE_SOLUTION]\n",
        "\n",
        "  return [sol, INF_SOLUTIONS]\n",
        "\n",
        "# Проверка с помощью матрицы из предыдущего номера\n",
        "\n",
        "b = symbols('b')\n",
        "\n",
        "A = Matrix([\n",
        "    [1, 2, b],\n",
        "    [-1, -4, 5],\n",
        "    [b, 2, 1]\n",
        "])\n",
        "\n",
        "B = Matrix([\n",
        "    3,\n",
        "    -1,\n",
        "    3\n",
        "])\n",
        "\n",
        "# нет решений\n",
        "A1 = A.subs(b, -3)\n",
        "Ab1 = A1.row_join(B)\n",
        "\n",
        "assert solutions(A1, B) == [linsolve(Ab1), NO_SOLUTIONS]\n",
        "\n",
        "# беск. число решений\n",
        "A2 = A.subs(b, 1)\n",
        "Ab2 = A2.row_join(B)\n",
        "\n",
        "assert solutions(A2, B) == [linsolve(Ab2), INF_SOLUTIONS]\n",
        "\n",
        "# единственное решение\n",
        "A3 = A.subs(b, 0)\n",
        "Ab3 = A3.row_join(B)\n",
        "\n",
        "assert solutions(A3, B) == [linsolve(Ab3), ONE_SOLUTION]\n",
        "\n",
        "\n"
      ],
      "metadata": {
        "id": "xjXDmoS44gtL"
      },
      "execution_count": 49,
      "outputs": []
    },
    {
      "cell_type": "markdown",
      "metadata": {
        "id": "M_AOl3WSJF91"
      },
      "source": [
        "### Индивидуальное задание.\n",
        "СЛАУ с параметром задана матрицей левой части и столбцом правой части. Представить СЛАУ расширенной матрицей и списком уравнений (автоматически, изученными средствами sympy), вывести на экран.\n",
        "\n",
        "Решить СЛАУ c параметром тремя способами, провести проверку подстановкой (один раз).\n",
        "\n",
        "Затем отдельно рассмотреть значение параметра, при котором решение СЛАУ нельзя получить по общей формуле, полученной ранее.\n",
        "Найти решение СЛАУ при этом значении параметра первым или третьим способом, используя подстановку subs.\n",
        "\n",
        "![image.png](data:image/png;base64,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)"
      ]
    },
    {
      "cell_type": "code",
      "source": [
        "x1, x2, x3, x4 = symbols('x1 x2 x3 x4')\n",
        "b = symbols('b')\n",
        "\n",
        "sys = [\n",
        "  Eq(1*x1 + 3*x2 - 8*x3 - 4*x4, 48),\n",
        "  Eq(8*x1 + 1*x2 + 3*x3 + 3*x4, -76),\n",
        "  Eq(b*x1 - 4*x2 - 2*x3 + 4*x4, 10),\n",
        "  Eq(-7*x1 + 2*x2 - 11*x3 - 7*x4, 124)\n",
        "]\n",
        "\n",
        "M = linear_eq_to_matrix(sys, x1, x2, x3, x4)\n",
        "A = M[0]\n",
        "B = M[1]\n",
        "Ab = A.row_join(B)\n",
        "\n",
        "display(sys, Ab)\n",
        "\n",
        "X1 = linsolve(Ab, x1, x2, x3, x4)\n",
        "\n",
        "X2 = linsolve(sys, x1, x2, x3, x4)\n",
        "\n",
        "X3 = linsolve((A, B), x1, x2, x3, x4)\n",
        "\n",
        "assert X1 == X2 == X3\n",
        "\n",
        "X = Matrix(list(X1)).transpose()\n",
        "display(X)\n",
        "\n",
        "assert simplify(A * X) == B\n",
        "\n",
        "print(\"b = -314/17:\")\n",
        "\n",
        "display(Ab.subs(b, S(-314)/17))\n",
        "display(linsolve(Ab.subs(b, S(-314)/17)))\n"
      ],
      "metadata": {
        "id": "RXer7DDz4h-h",
        "colab": {
          "base_uri": "https://localhost:8080/",
          "height": 401
        },
        "outputId": "06d79aff-8294-4cfe-9752-34b20a3bc34c"
      },
      "execution_count": 79,
      "outputs": [
        {
          "output_type": "display_data",
          "data": {
            "text/plain": [
              "[Eq(x1 + 3*x2 - 8*x3 - 4*x4, 48),\n",
              " Eq(8*x1 + x2 + 3*x3 + 3*x4, -76),\n",
              " Eq(b*x1 - 4*x2 - 2*x3 + 4*x4, 10),\n",
              " Eq(-7*x1 + 2*x2 - 11*x3 - 7*x4, 124)]"
            ]
          },
          "metadata": {}
        },
        {
          "output_type": "display_data",
          "data": {
            "text/plain": [
              "Matrix([\n",
              "[ 1,  3,  -8, -4,  48],\n",
              "[ 8,  1,   3,  3, -76],\n",
              "[ b, -4,  -2,  4,  10],\n",
              "[-7,  2, -11, -7, 124]])"
            ],
            "text/latex": "$\\displaystyle \\left[\\begin{matrix}1 & 3 & -8 & -4 & 48\\\\8 & 1 & 3 & 3 & -76\\\\b & -4 & -2 & 4 & 10\\\\-7 & 2 & -11 & -7 & 124\\end{matrix}\\right]$"
          },
          "metadata": {}
        },
        {
          "output_type": "display_data",
          "data": {
            "text/plain": [
              "Matrix([\n",
              "[                   -142*x4/(17*b + 314) - 2238/(17*b + 314)],\n",
              "[  x4*(338 - 12*b)/(17*b + 314) + (250 - 464*b)/(17*b + 314)],\n",
              "[x4*(-13*b - 48)/(17*b + 314) + (-276*b - 2070)/(17*b + 314)],\n",
              "[                                                         x4]])"
            ],
            "text/latex": "$\\displaystyle \\left[\\begin{matrix}- \\frac{142 x_{4}}{17 b + 314} - \\frac{2238}{17 b + 314}\\\\\\frac{x_{4} \\left(338 - 12 b\\right)}{17 b + 314} + \\frac{250 - 464 b}{17 b + 314}\\\\\\frac{x_{4} \\left(- 13 b - 48\\right)}{17 b + 314} + \\frac{- 276 b - 2070}{17 b + 314}\\\\x_{4}\\end{matrix}\\right]$"
          },
          "metadata": {}
        },
        {
          "output_type": "stream",
          "name": "stdout",
          "text": [
            "b = -314/17:\n"
          ]
        },
        {
          "output_type": "display_data",
          "data": {
            "text/plain": [
              "Matrix([\n",
              "[      1,  3,  -8, -4,  48],\n",
              "[      8,  1,   3,  3, -76],\n",
              "[-314/17, -4,  -2,  4,  10],\n",
              "[     -7,  2, -11, -7, 124]])"
            ],
            "text/latex": "$\\displaystyle \\left[\\begin{matrix}1 & 3 & -8 & -4 & 48\\\\8 & 1 & 3 & 3 & -76\\\\- \\frac{314}{17} & -4 & -2 & 4 & 10\\\\-7 & 2 & -11 & -7 & 124\\end{matrix}\\right]$"
          },
          "metadata": {}
        },
        {
          "output_type": "display_data",
          "data": {
            "text/plain": [
              "{(-17*tau0/23 - 5049/1633, 67*tau0/23 - 6505/1633, tau0, -1119/71)}"
            ],
            "text/latex": "$\\displaystyle \\left\\{\\left( - \\frac{17 \\tau_{0}}{23} - \\frac{5049}{1633}, \\  \\frac{67 \\tau_{0}}{23} - \\frac{6505}{1633}, \\  \\tau_{0}, \\  - \\frac{1119}{71}\\right)\\right\\}$"
          },
          "metadata": {}
        }
      ]
    }
  ]
}