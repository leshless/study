{
  "nbformat": 4,
  "nbformat_minor": 0,
  "metadata": {
    "kernelspec": {
      "display_name": "Python 3",
      "language": "python",
      "name": "python3"
    },
    "language_info": {
      "codemirror_mode": {
        "name": "ipython",
        "version": 3
      },
      "file_extension": ".py",
      "mimetype": "text/x-python",
      "name": "python",
      "nbconvert_exporter": "python",
      "pygments_lexer": "ipython3",
      "version": "3.7.3"
    },
    "colab": {
      "provenance": [],
      "include_colab_link": true
    }
  },
  "cells": [
    {
      "cell_type": "markdown",
      "metadata": {
        "id": "view-in-github",
        "colab_type": "text"
      },
      "source": [
        "<a href=\"https://colab.research.google.com/github/leshless/study/blob/main/python_algebra/task16.ipynb\" target=\"_parent\"><img src=\"https://colab.research.google.com/assets/colab-badge.svg\" alt=\"Open In Colab\"/></a>"
      ]
    },
    {
      "cell_type": "code",
      "metadata": {
        "id": "OkMZJCv7HRj8"
      },
      "source": [
        "import sympy\n",
        "import numpy as np\n",
        "from sympy import Eq, plot_implicit, Matrix, plot, symbols, latex, S, nonlinsolve\n",
        "from sympy.core import sympify\n",
        "from sympy.geometry.point import Point, Point2D, Point3D\n",
        "from sympy.geometry.line import Line\n",
        "from sympy.core.symbol import _symbol\n",
        "from sympy import pi as Pi\n",
        "from sympy import cos as Cos\n",
        "from sympy import sin as Sin\n",
        "from sympy.geometry.entity import GeometryEntity, GeometrySet\n",
        "from IPython.display import Latex"
      ],
      "execution_count": 74,
      "outputs": []
    },
    {
      "cell_type": "markdown",
      "metadata": {
        "id": "JBcJB2fWHRj_"
      },
      "source": [
        "# Практическое занятие 16\n",
        "# Компьютерный практикум по алгебре на Python\n",
        "## Кривые второго порядка на плоскости: парабола"
      ]
    },
    {
      "cell_type": "markdown",
      "metadata": {
        "id": "mmi1O2YqHRkC"
      },
      "source": [
        "### Задание 1\n",
        "Определить класс Parabola.\n",
        "\n",
        "Внутренние переменные $\\_p$, $\\_vertex$, $\\_angle$.\n",
        "\n",
        "Реализовать **атрибуты**:\n",
        "\n",
        "**параметр** $p$\n",
        "\n",
        "**вершина** (vertex) в виде точки Point\n",
        "\n",
        "**фокус** (focus) в виде точки Point\n",
        "\n",
        "**угол angle** по умолчанию 0 для параболы с осью, параллельной OX, и ветвями, направленными вправо\n",
        "\n",
        "**ось симметрии** (axis_symmetry) в виде прямой Line\n",
        "\n",
        "**директриса** (directrix) в виде прямой Line\n",
        "\n",
        "Реализовать **методы**\n",
        "\n",
        "**equation(self)** - уравнение параболы,\n",
        "\n",
        "**dir_equation(self)** - уравнение директрисы,\n",
        "\n",
        "**ax_sym_equation(self**) - уравнение оси симметрии,\n",
        "\n",
        "**rotate(self, angle)** - поворот на угол angle против часовой стрелки, метод не изменяет параболу, а возвращает параболу с теми же p и вершиной, но угол увеличен на angle по сравнению с исходной параболой.\n",
        "\n",
        "В конструкторе экземпляра класса  \n",
        "\n",
        "\\_\\_new\\_\\_(cls, p, vertex=None, angle=None)\n",
        "\n",
        "p - обязательный параметр, а вид параболы по умолчанию  - парабола с осью, параллельной оси OX,\n",
        "вершина по умолчанию в начале координат."
      ]
    },
    {
      "cell_type": "code",
      "source": [
        "from sympy.abc import x, y\n",
        "\n",
        "class Parabola:\n",
        "  def __init__(self, p, vertex=None, angle=None):\n",
        "      self._p = p\n",
        "      self._vertex = vertex if vertex else Point(0, 0)\n",
        "      self._angle = angle if angle else 0\n",
        "\n",
        "  @property\n",
        "  def p(self):\n",
        "    return self._p\n",
        "\n",
        "  @p.setter\n",
        "  def p(self, p):\n",
        "    self._p = p\n",
        "\n",
        "  @property\n",
        "  def vertex(self):\n",
        "    return self._vertex\n",
        "\n",
        "  @vertex.setter\n",
        "  def vertex(self, vertex):\n",
        "    self._vertex = vertex\n",
        "\n",
        "  @property\n",
        "  def angle(self):\n",
        "    return self._angle\n",
        "\n",
        "  @angle.setter\n",
        "  def angle(self, angle):\n",
        "    self._angle = angle\n",
        "\n",
        "  @property\n",
        "  def focus(self):\n",
        "    v = Point2D(Cos(self._angle), Sin(self._angle))\n",
        "    return self._vertex + v * self._p\n",
        "\n",
        "  @property\n",
        "  def axis_symmetry(self):\n",
        "    focus = self.focus\n",
        "    return Line(self._vertex, focus)\n",
        "\n",
        "  @property\n",
        "  def directrix(self):\n",
        "    A = Matrix([[Cos(self._angle), - Sin(self._angle)],\n",
        "            [Sin(self._angle), Cos(self._angle)]])\n",
        "    v = Point2D(A * sympy.Matrix([0, 1]))\n",
        "\n",
        "    p1 = Point2D(self._vertex.x - self._p, self._vertex.y)\n",
        "\n",
        "    return Line(p1, p1 + v)\n",
        "\n",
        "  def equation(self):\n",
        "    A = Matrix([[Cos(self._angle), - Sin(self._angle)],\n",
        "            [Sin(self._angle), Cos(self._angle)]])\n",
        "    X = A * Matrix([y**2 / (2 * self._p), y])\n",
        "\n",
        "    sols = sympy.solve(sympy.Eq(x, X[0]), y)\n",
        "    return [sympy.Eq(y, X[1].subs(y, sol)).subs(x, x - self._vertex.x).subs(y, y - self._vertex.y) for sol in sols]\n",
        "\n",
        "  def dir_equation(self):\n",
        "    return sympy.Eq(self.directrix.equation(x=x, y=y), 0).simplify()\n",
        "\n",
        "  def ax_sym_equation(self):\n",
        "    return sympy.Eq(self.axis_symmetry.equation(x=x, y=y), 0).simplify()\n",
        "\n",
        "  def rotate(self, angle):\n",
        "    return Parabola(self._p, vertex=self._vertex, angle=self._angle + angle)\n"
      ],
      "metadata": {
        "id": "MvRLSYSabDXz"
      },
      "execution_count": 107,
      "outputs": []
    },
    {
      "cell_type": "markdown",
      "metadata": {
        "id": "dojqIsnSHRkG"
      },
      "source": [
        "### Задание 2\n",
        "Построить параболу с $p = 3$, вершиной в (-5, 2), осью симметрии, образующей угол $\\pi/4$ с положительным направлением оси ОХ. Вывести на экран ее параметр p, вершину, угол, фокус, ось симметрии и директрису, а также уравнение параболы, оси симметрии и директрисы.\n",
        "\n",
        "Изобразить на общем графике параболу, ее ось симметрии и директрису, парабола зеленая, ось симметрии красная, директриса черная."
      ]
    },
    {
      "cell_type": "code",
      "source": [
        "parabola = Parabola(3, vertex=Point2D(-5, 2), angle=Pi/4)\n",
        "\n",
        "display(parabola.p)\n",
        "display(parabola.focus)\n",
        "display(parabola.axis_symmetry)\n",
        "display(parabola.directrix)\n",
        "\n",
        "display(*parabola.equation())\n",
        "display(parabola.ax_sym_equation())\n",
        "display(parabola.dir_equation())\n",
        "\n",
        "\n",
        "plt = plot(show=False, xlim=[-10, 10], ylim=[-10,10])\n",
        "for eq in parabola.equation():\n",
        "  plt.extend(plot_implicit(eq, (x, -10, 10), (y, -10, 10), line_color='g', show=False))\n",
        "\n",
        "plt.extend(plot_implicit(parabola.ax_sym_equation(), (x, -10, 10), (y, -10, 10), line_color='r', show=False))\n",
        "plt.extend(plot_implicit(parabola.dir_equation(), (x, -10, 10), (y, -10, 10), line_color='k', show=False))\n",
        "\n",
        "plt.show()"
      ],
      "metadata": {
        "id": "FxswD5eibDrD",
        "colab": {
          "base_uri": "https://localhost:8080/",
          "height": 823
        },
        "outputId": "63f10e39-3453-408d-a3c9-5324974b2f43"
      },
      "execution_count": 108,
      "outputs": [
        {
          "output_type": "display_data",
          "data": {
            "text/plain": [
              "3"
            ]
          },
          "metadata": {}
        },
        {
          "output_type": "display_data",
          "data": {
            "text/plain": [
              "Point2D(-5 + 3*sqrt(2)/2, 2 + 3*sqrt(2)/2)"
            ],
            "text/latex": "$\\displaystyle \\operatorname{Point2D}\\left(-5 + \\frac{3 \\sqrt{2}}{2}, 2 + \\frac{3 \\sqrt{2}}{2}\\right)$"
          },
          "metadata": {}
        },
        {
          "output_type": "display_data",
          "data": {
            "text/plain": [
              "Line2D(Point2D(-5, 2), Point2D(-5 + 3*sqrt(2)/2, 2 + 3*sqrt(2)/2))"
            ],
            "image/svg+xml": "<svg xmlns=\"http://www.w3.org/2000/svg\"\n            xmlns:xlink=\"http://www.w3.org/1999/xlink\"\n            width=\"100.0\" height=\"100.0\" viewBox=\"-5.21213203435596 1.78786796564404 2.54558441227157 2.54558441227157\"\n            preserveAspectRatio=\"xMinYMin meet\">\n            <defs>\n                <marker id=\"markerCircle\" markerWidth=\"8\" markerHeight=\"8\"\n                    refx=\"5\" refy=\"5\" markerUnits=\"strokeWidth\">\n                    <circle cx=\"5\" cy=\"5\" r=\"1.5\" style=\"stroke: none; fill:#000000;\"/>\n                </marker>\n                <marker id=\"markerArrow\" markerWidth=\"13\" markerHeight=\"13\" refx=\"2\" refy=\"4\"\n                       orient=\"auto\" markerUnits=\"strokeWidth\">\n                    <path d=\"M2,2 L2,6 L6,4\" style=\"fill: #000000;\" />\n                </marker>\n                <marker id=\"markerReverseArrow\" markerWidth=\"13\" markerHeight=\"13\" refx=\"6\" refy=\"4\"\n                       orient=\"auto\" markerUnits=\"strokeWidth\">\n                    <path d=\"M6,2 L6,6 L2,4\" style=\"fill: #000000;\" />\n                </marker>\n            </defs><g transform=\"matrix(1,0,0,-1,0,6.12132034355964)\"><path fill-rule=\"evenodd\" fill=\"#66cc99\" stroke=\"#555555\" stroke-width=\"0.0509116882454314\" opacity=\"0.6\" d=\"M -5.00000000000000,2.00000000000000 L -2.87867965644036,4.12132034355964\" marker-start=\"url(#markerReverseArrow)\" marker-end=\"url(#markerArrow)\"/></g></svg>",
            "text/latex": "$\\displaystyle \\operatorname{Line2D}\\left(\\operatorname{Point2D}\\left(-5, 2\\right), \\operatorname{Point2D}\\left(-5 + \\frac{3 \\sqrt{2}}{2}, 2 + \\frac{3 \\sqrt{2}}{2}\\right)\\right)$"
          },
          "metadata": {}
        },
        {
          "output_type": "display_data",
          "data": {
            "text/plain": [
              "Line2D(Point2D(-8, 2), Point2D(-8 - sqrt(2)/2, sqrt(2)/2 + 2))"
            ],
            "image/svg+xml": "<svg xmlns=\"http://www.w3.org/2000/svg\"\n            xmlns:xlink=\"http://www.w3.org/1999/xlink\"\n            width=\"100.0\" height=\"100.0\" viewBox=\"-8.77781745930520 1.92928932188135 0.848528137423857 0.848528137423857\"\n            preserveAspectRatio=\"xMinYMin meet\">\n            <defs>\n                <marker id=\"markerCircle\" markerWidth=\"8\" markerHeight=\"8\"\n                    refx=\"5\" refy=\"5\" markerUnits=\"strokeWidth\">\n                    <circle cx=\"5\" cy=\"5\" r=\"1.5\" style=\"stroke: none; fill:#000000;\"/>\n                </marker>\n                <marker id=\"markerArrow\" markerWidth=\"13\" markerHeight=\"13\" refx=\"2\" refy=\"4\"\n                       orient=\"auto\" markerUnits=\"strokeWidth\">\n                    <path d=\"M2,2 L2,6 L6,4\" style=\"fill: #000000;\" />\n                </marker>\n                <marker id=\"markerReverseArrow\" markerWidth=\"13\" markerHeight=\"13\" refx=\"6\" refy=\"4\"\n                       orient=\"auto\" markerUnits=\"strokeWidth\">\n                    <path d=\"M6,2 L6,6 L2,4\" style=\"fill: #000000;\" />\n                </marker>\n            </defs><g transform=\"matrix(1,0,0,-1,0,4.70710678118655)\"><path fill-rule=\"evenodd\" fill=\"#66cc99\" stroke=\"#555555\" stroke-width=\"0.0169705627484771\" opacity=\"0.6\" d=\"M -8.00000000000000,2.00000000000000 L -8.70710678118655,2.70710678118655\" marker-start=\"url(#markerReverseArrow)\" marker-end=\"url(#markerArrow)\"/></g></svg>",
            "text/latex": "$\\displaystyle \\operatorname{Line2D}\\left(\\operatorname{Point2D}\\left(-8, 2\\right), \\operatorname{Point2D}\\left(-8 - \\frac{\\sqrt{2}}{2}, \\frac{\\sqrt{2}}{2} + 2\\right)\\right)$"
          },
          "metadata": {}
        },
        {
          "output_type": "display_data",
          "data": {
            "text/plain": [
              "Eq(y - 2, sqrt(2)*(3 - sqrt(6*sqrt(2)*(x + 5) + 9))**2/12 + sqrt(2)*(3 - sqrt(6*sqrt(2)*(x + 5) + 9))/2)"
            ],
            "text/latex": "$\\displaystyle y - 2 = \\frac{\\sqrt{2} \\left(3 - \\sqrt{6 \\sqrt{2} \\left(x + 5\\right) + 9}\\right)^{2}}{12} + \\frac{\\sqrt{2} \\left(3 - \\sqrt{6 \\sqrt{2} \\left(x + 5\\right) + 9}\\right)}{2}$"
          },
          "metadata": {}
        },
        {
          "output_type": "display_data",
          "data": {
            "text/plain": [
              "Eq(y - 2, sqrt(2)*(sqrt(6*sqrt(2)*(x + 5) + 9) + 3)**2/12 + sqrt(2)*(sqrt(6*sqrt(2)*(x + 5) + 9) + 3)/2)"
            ],
            "text/latex": "$\\displaystyle y - 2 = \\frac{\\sqrt{2} \\left(\\sqrt{6 \\sqrt{2} \\left(x + 5\\right) + 9} + 3\\right)^{2}}{12} + \\frac{\\sqrt{2} \\left(\\sqrt{6 \\sqrt{2} \\left(x + 5\\right) + 9} + 3\\right)}{2}$"
          },
          "metadata": {}
        },
        {
          "output_type": "display_data",
          "data": {
            "text/plain": [
              "Eq(x - y, -7)"
            ],
            "text/latex": "$\\displaystyle x - y = -7$"
          },
          "metadata": {}
        },
        {
          "output_type": "display_data",
          "data": {
            "text/plain": [
              "Eq(x + y, -6)"
            ],
            "text/latex": "$\\displaystyle x + y = -6$"
          },
          "metadata": {}
        },
        {
          "output_type": "display_data",
          "data": {
            "text/plain": [
              "<Figure size 640x480 with 1 Axes>"
            ],
            "image/png": "[encoded data removed]"
          },
          "metadata": {}
        }
      ]
    }
  ]
}