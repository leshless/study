{
  "nbformat": 4,
  "nbformat_minor": 0,
  "metadata": {
    "kernelspec": {
      "display_name": "Python 3",
      "language": "python",
      "name": "python3"
    },
    "language_info": {
      "codemirror_mode": {
        "name": "ipython",
        "version": 3
      },
      "file_extension": ".py",
      "mimetype": "text/x-python",
      "name": "python",
      "nbconvert_exporter": "python",
      "pygments_lexer": "ipython3",
      "version": "3.7.3"
    },
    "colab": {
      "provenance": [],
      "include_colab_link": true
    }
  },
  "cells": [
    {
      "cell_type": "markdown",
      "metadata": {
        "id": "view-in-github",
        "colab_type": "text"
      },
      "source": [
        "<a href=\"https://colab.research.google.com/github/leshless/study/blob/main/python_algebra/task6.ipynb\" target=\"_parent\"><img src=\"https://colab.research.google.com/assets/colab-badge.svg\" alt=\"Open In Colab\"/></a>"
      ]
    },
    {
      "cell_type": "code",
      "metadata": {
        "id": "7VmodJtRlts5"
      },
      "source": [
        "import sympy\n",
        "from sympy import  Symbol, symbols, S, Point, Line, Plane, Point3D,\\\n",
        "Matrix, Eq, latex\n",
        "from IPython.display import display, Latex\n",
        "from google.colab import files\n",
        "import pandas as pd"
      ],
      "execution_count": 1,
      "outputs": []
    },
    {
      "cell_type": "markdown",
      "metadata": {
        "id": "AUjRxXCzlts-"
      },
      "source": [
        "# Практическое занятие 6\n",
        "# Компьютерный практикум по алгебре на Python\n",
        "##  Прямые и плоскости в пространстве. Geometry.\n",
        "### Задание 1.\n",
        "Задать точки $A(1, 2, 3)$,\n",
        "$B(1, 10, 3)$,\n",
        "$C(-3, 2, 1)$,\n",
        "$D(7, 2, 1)$ как матрицы-столбцы, вычислить и вывести на экран скалярное произведение векторов $AB$ и $CD$, их длины, косинус угла между векторами и угол в радианах и градусах."
      ]
    },
    {
      "cell_type": "code",
      "source": [
        "A = Matrix([1, 2, 3]).T\n",
        "B = Matrix([1, 10, 3]).T\n",
        "C = Matrix([-3, 2, 1]).T\n",
        "D = Matrix([7, 2, 1]).T\n",
        "\n",
        "AB = B - A\n",
        "CD = D - C\n",
        "\n",
        "AB_len = sympy.sqrt(AB.dot(AB))\n",
        "CD_len = sympy.sqrt(CD.dot(CD))\n",
        "display(Latex(f\"|AB| = {latex(AB_len)}\"))\n",
        "display(Latex(f\"|CD| = {latex(CD_len)}\"))\n",
        "\n",
        "cos_phi = AB.dot(CD) / AB_len / CD_len\n",
        "display(Latex(f\"\\\\cos\\\\varphi = {latex(cos_phi)}\"))\n",
        "\n",
        "phi = sympy.acos(cos_phi)\n",
        "display(Latex(f\"\\\\varphi = {latex(phi)} \\\\approx {round(phi, 4)}\"))"
      ],
      "metadata": {
        "id": "BukRCSC3mEbL",
        "colab": {
          "base_uri": "https://localhost:8080/",
          "height": 101
        },
        "outputId": "5ffe5577-7e92-4a28-f3f4-070468b583d3"
      },
      "execution_count": null,
      "outputs": [
        {
          "output_type": "display_data",
          "data": {
            "text/plain": [
              "<IPython.core.display.Latex object>"
            ],
            "text/latex": "|AB| = 8"
          },
          "metadata": {}
        },
        {
          "output_type": "display_data",
          "data": {
            "text/plain": [
              "<IPython.core.display.Latex object>"
            ],
            "text/latex": "|CD| = 10"
          },
          "metadata": {}
        },
        {
          "output_type": "display_data",
          "data": {
            "text/plain": [
              "<IPython.core.display.Latex object>"
            ],
            "text/latex": "\\cos\\varphi = 0"
          },
          "metadata": {}
        },
        {
          "output_type": "display_data",
          "data": {
            "text/plain": [
              "<IPython.core.display.Latex object>"
            ],
            "text/latex": "\\varphi = \\frac{\\pi}{2} \\approx 1.5708"
          },
          "metadata": {}
        }
      ]
    },
    {
      "cell_type": "markdown",
      "metadata": {
        "id": "wg9WwHnwlttE"
      },
      "source": [
        "### Задание 2.\n",
        "Точки из Задания 1 представить в виде Point из Geometry, составить прямые $AB$,  $BC$, $CD$ и  $AD$,\n",
        "найти с помощью  **angle_between** и  **smallest_angle_between** угол между прямыми $AB$ и  $CD$, а также между $BC$ и  $AD$ (в радианах)."
      ]
    },
    {
      "cell_type": "code",
      "source": [
        "A = Point3D(1, 2, 3)\n",
        "B = Point3D(1, 10, 3)\n",
        "C = Point3D(-3, 2, 1)\n",
        "D = Point3D(7, 2, 1)\n",
        "\n",
        "AB = Line(A, B)\n",
        "CD = Line(C, D)\n",
        "BC = Line(B, C)\n",
        "AD = Line(A, D)\n",
        "\n",
        "display(Latex(f\"\\\\varphi_1 = {latex(AB.angle_between(CD))}\"))\n",
        "display(Latex(f\"\\\\varphi_2 = {latex(AB.smallest_angle_between(CD))}\"))\n",
        "display(Latex(f\"\\\\theta_1 = {latex(BC.angle_between(AD))}\"))\n",
        "display(Latex(f\"\\\\theta_2 = {latex(BC.smallest_angle_between(AD))}\"))"
      ],
      "metadata": {
        "id": "nga_JUdjmGEz",
        "colab": {
          "base_uri": "https://localhost:8080/",
          "height": 119
        },
        "outputId": "47ec3863-a248-429d-e11b-2a1cf0648ab4"
      },
      "execution_count": null,
      "outputs": [
        {
          "output_type": "display_data",
          "data": {
            "text/plain": [
              "<IPython.core.display.Latex object>"
            ],
            "text/latex": "\\varphi_1 = \\frac{\\pi}{2}"
          },
          "metadata": {}
        },
        {
          "output_type": "display_data",
          "data": {
            "text/plain": [
              "<IPython.core.display.Latex object>"
            ],
            "text/latex": "\\varphi_2 = \\frac{\\pi}{2}"
          },
          "metadata": {}
        },
        {
          "output_type": "display_data",
          "data": {
            "text/plain": [
              "<IPython.core.display.Latex object>"
            ],
            "text/latex": "\\theta_1 = \\operatorname{acos}{\\left(- \\frac{\\sqrt{210}}{42} \\right)}"
          },
          "metadata": {}
        },
        {
          "output_type": "display_data",
          "data": {
            "text/plain": [
              "<IPython.core.display.Latex object>"
            ],
            "text/latex": "\\theta_2 = \\operatorname{acos}{\\left(\\frac{\\sqrt{210}}{42} \\right)}"
          },
          "metadata": {}
        }
      ]
    },
    {
      "cell_type": "markdown",
      "metadata": {
        "id": "1D0Y4l43lttF"
      },
      "source": [
        "### Задание 3.\n",
        "Найти и вывести на экран угол между прямой, проходящей через точки $A(-1, 3, 1)$ и $B(3, 7, 1)$ и плоскостью, в которой лежат точки\n",
        "$K(4, 3, 0)$, $M(2, 4, -2)$ и $N(6, 8, -2)$.\n",
        "Проверить, лежат ли точки  $A$ и $B$ в одной плоскости с какими-то двумя точками из $K$, $M$ и $N$.\n",
        "\n",
        "Вывести на экран сообщение \"В одной плоскости лежат точки (имена точек)\" или \"Никакие точки не лежат в одной плоскости\"."
      ]
    },
    {
      "cell_type": "code",
      "source": [
        "A = Point3D(-1, 3, 1)\n",
        "B = Point3D(3, 7, 1)\n",
        "K = Point3D(4, 3, 0)\n",
        "M = Point3D(2, 4, -2)\n",
        "N = Point3D(6, 8, -2)\n",
        "\n",
        "AB = Line(A, B)\n",
        "KMN = Plane(K, M, N)\n",
        "\n",
        "display(Latex(f\"\\\\varphi = {latex(KMN.angle_between(AB))}\"))\n",
        "\n",
        "points1 = [A, B]\n",
        "names1 = [\"A\", \"B\"]\n",
        "\n",
        "points2 = [K, M, N]\n",
        "names2 = [\"K\", \"M\", \"N\"]\n",
        "\n",
        "f = False\n",
        "\n",
        "for p1, n1 in zip(points1, names1):\n",
        "  for p2, n2 in zip(points2, names2):\n",
        "    for p3, n3 in zip(points2, names2):\n",
        "      if n2 == n3:\n",
        "        continue\n",
        "\n",
        "      if Point3D.are_coplanar(p1, p2, p3):\n",
        "        display(f\"В одной плоскости лежат точки {n1}, {n2}, {n3}\")\n",
        "        f = True\n",
        "\n",
        "if not f:\n",
        "  display(\"Никакие точки не лежат в одной плоскости\")"
      ],
      "metadata": {
        "id": "LpVXG0YYmHCV",
        "colab": {
          "base_uri": "https://localhost:8080/",
          "height": 254
        },
        "outputId": "111a6983-4149-4d7e-9c7e-2c3f0d6d52b8"
      },
      "execution_count": null,
      "outputs": [
        {
          "output_type": "display_data",
          "data": {
            "text/plain": [
              "<IPython.core.display.Latex object>"
            ],
            "text/latex": "\\varphi = 0"
          },
          "metadata": {}
        },
        {
          "output_type": "display_data",
          "data": {
            "text/plain": [
              "'В одной плоскости лежат точки A, K, M'"
            ],
            "application/vnd.google.colaboratory.intrinsic+json": {
              "type": "string"
            }
          },
          "metadata": {}
        },
        {
          "output_type": "display_data",
          "data": {
            "text/plain": [
              "'В одной плоскости лежат точки A, K, N'"
            ],
            "application/vnd.google.colaboratory.intrinsic+json": {
              "type": "string"
            }
          },
          "metadata": {}
        },
        {
          "output_type": "display_data",
          "data": {
            "text/plain": [
              "'В одной плоскости лежат точки A, M, K'"
            ],
            "application/vnd.google.colaboratory.intrinsic+json": {
              "type": "string"
            }
          },
          "metadata": {}
        },
        {
          "output_type": "display_data",
          "data": {
            "text/plain": [
              "'В одной плоскости лежат точки A, M, N'"
            ],
            "application/vnd.google.colaboratory.intrinsic+json": {
              "type": "string"
            }
          },
          "metadata": {}
        },
        {
          "output_type": "display_data",
          "data": {
            "text/plain": [
              "'В одной плоскости лежат точки A, N, K'"
            ],
            "application/vnd.google.colaboratory.intrinsic+json": {
              "type": "string"
            }
          },
          "metadata": {}
        },
        {
          "output_type": "display_data",
          "data": {
            "text/plain": [
              "'В одной плоскости лежат точки A, N, M'"
            ],
            "application/vnd.google.colaboratory.intrinsic+json": {
              "type": "string"
            }
          },
          "metadata": {}
        },
        {
          "output_type": "display_data",
          "data": {
            "text/plain": [
              "'В одной плоскости лежат точки B, K, M'"
            ],
            "application/vnd.google.colaboratory.intrinsic+json": {
              "type": "string"
            }
          },
          "metadata": {}
        },
        {
          "output_type": "display_data",
          "data": {
            "text/plain": [
              "'В одной плоскости лежат точки B, K, N'"
            ],
            "application/vnd.google.colaboratory.intrinsic+json": {
              "type": "string"
            }
          },
          "metadata": {}
        },
        {
          "output_type": "display_data",
          "data": {
            "text/plain": [
              "'В одной плоскости лежат точки B, M, K'"
            ],
            "application/vnd.google.colaboratory.intrinsic+json": {
              "type": "string"
            }
          },
          "metadata": {}
        },
        {
          "output_type": "display_data",
          "data": {
            "text/plain": [
              "'В одной плоскости лежат точки B, M, N'"
            ],
            "application/vnd.google.colaboratory.intrinsic+json": {
              "type": "string"
            }
          },
          "metadata": {}
        },
        {
          "output_type": "display_data",
          "data": {
            "text/plain": [
              "'В одной плоскости лежат точки B, N, K'"
            ],
            "application/vnd.google.colaboratory.intrinsic+json": {
              "type": "string"
            }
          },
          "metadata": {}
        },
        {
          "output_type": "display_data",
          "data": {
            "text/plain": [
              "'В одной плоскости лежат точки B, N, M'"
            ],
            "application/vnd.google.colaboratory.intrinsic+json": {
              "type": "string"
            }
          },
          "metadata": {}
        }
      ]
    },
    {
      "cell_type": "markdown",
      "source": [
        "###  Задание 4.\n",
        "Даны точки $P(-1, 2, -4)$ $Q(12, -2, 20)$ $R(0, 3, -6)$, $D(-16, 53, 11)$.\n",
        "\n",
        "Определить, перпендикулярна ли плоскость $PQR$ прямой $DP$, $DQ$ или $DR$. Вывести на экран уравнения плоскости  $PQR$ и перпендикулярной ей прямой."
      ],
      "metadata": {
        "id": "e3a-OT4B8RUG"
      }
    },
    {
      "cell_type": "code",
      "source": [
        "P = Point3D(-1, 2, -4)\n",
        "Q = Point3D(12, -2, 20)\n",
        "R = Point3D(0, 3, -6)\n",
        "D = Point3D(-16, 53, 11)\n",
        "\n",
        "PQR = Plane(P, Q, R)\n",
        "DP = Line(D, P)\n",
        "DQ = Line(D, Q)\n",
        "DR = Line(D, R)\n",
        "\n",
        "perp_line = None\n",
        "\n",
        "if PQR.is_perpendicular(DP):\n",
        "  display(f\"PQR перпендикулярна DP\")\n",
        "  perp_line = DP\n",
        "if PQR.is_perpendicular(DQ):\n",
        "  display(f\"PQR перпендикулярна DQ\")\n",
        "  perp_line = DQ\n",
        "if PQR.is_perpendicular(DR):\n",
        "  display(f\"PQR перпендикулярна DR\")\n",
        "  perp_line = DR\n",
        "\n",
        "display(Eq(PQR.equation(), 0))\n",
        "display(perp_line.equation())"
      ],
      "metadata": {
        "id": "o9C2xHfumIvD",
        "colab": {
          "base_uri": "https://localhost:8080/",
          "height": 77
        },
        "outputId": "636e3cca-df87-4a5a-ba31-70795a19d0c3"
      },
      "execution_count": null,
      "outputs": [
        {
          "output_type": "display_data",
          "data": {
            "text/plain": [
              "'PQR перпендикулярна DR'"
            ],
            "application/vnd.google.colaboratory.intrinsic+json": {
              "type": "string"
            }
          },
          "metadata": {}
        },
        {
          "output_type": "display_data",
          "data": {
            "text/plain": [
              "Eq(-16*x + 50*y + 17*z - 48, 0)"
            ],
            "text/latex": "$\\displaystyle - 16 x + 50 y + 17 z - 48 = 0$"
          },
          "metadata": {}
        },
        {
          "output_type": "display_data",
          "data": {
            "text/plain": [
              "(25*x + 8*y - 24, 17*x + 16*z + 96)"
            ],
            "text/latex": "$\\displaystyle \\left( 25 x + 8 y - 24, \\  17 x + 16 z + 96\\right)$"
          },
          "metadata": {}
        }
      ]
    },
    {
      "cell_type": "markdown",
      "metadata": {
        "id": "giXGCDt2lttH"
      },
      "source": [
        "###  Задание 5.\n",
        "Прочитать из файла 'sem_6_task_5.xlsx' координаты точек $P_1$, $P_2$, ..., $P_9$. Вывести уравнения плоскостей $P_1 P_2 P_3$, $P_4 P_5 P_6$ и $P_7 P_8 P_9$ в цикле."
      ]
    },
    {
      "cell_type": "code",
      "source": [
        "uploaded = files.upload()"
      ],
      "metadata": {
        "colab": {
          "base_uri": "https://localhost:8080/",
          "height": 73
        },
        "id": "wH6TEsGuUUF-",
        "outputId": "465cbd38-49a9-433e-ad63-f876d727ee28"
      },
      "execution_count": 4,
      "outputs": [
        {
          "output_type": "display_data",
          "data": {
            "text/plain": [
              "<IPython.core.display.HTML object>"
            ],
            "text/html": [
              "\n",
              "     <input type=\"file\" id=\"files-0566347d-87b8-4639-99a1-8c97c2b119f7\" name=\"files[]\" multiple disabled\n",
              "        style=\"border:none\" />\n",
              "     <output id=\"result-0566347d-87b8-4639-99a1-8c97c2b119f7\">\n",
              "      Upload widget is only available when the cell has been executed in the\n",
              "      current browser session. Please rerun this cell to enable.\n",
              "      </output>\n",
              "      <script>// Copyright 2017 Google LLC\n",
              "//\n",
              "// Licensed under the Apache License, Version 2.0 (the \"License\");\n",
              "// you may not use this file except in compliance with the License.\n",
              "// You may obtain a copy of the License at\n",
              "//\n",
              "//      http://www.apache.org/licenses/LICENSE-2.0\n",
              "//\n",
              "// Unless required by applicable law or agreed to in writing, software\n",
              "// distributed under the License is distributed on an \"AS IS\" BASIS,\n",
              "// WITHOUT WARRANTIES OR CONDITIONS OF ANY KIND, either express or implied.\n",
              "// See the License for the specific language governing permissions and\n",
              "// limitations under the License.\n",
              "\n",
              "/**\n",
              " * @fileoverview Helpers for google.colab Python module.\n",
              " */\n",
              "(function(scope) {\n",
              "function span(text, styleAttributes = {}) {\n",
              "  const element = document.createElement('span');\n",
              "  element.textContent = text;\n",
              "  for (const key of Object.keys(styleAttributes)) {\n",
              "    element.style[key] = styleAttributes[key];\n",
              "  }\n",
              "  return element;\n",
              "}\n",
              "\n",
              "// Max number of bytes which will be uploaded at a time.\n",
              "const MAX_PAYLOAD_SIZE = 100 * 1024;\n",
              "\n",
              "function _uploadFiles(inputId, outputId) {\n",
              "  const steps = uploadFilesStep(inputId, outputId);\n",
              "  const outputElement = document.getElementById(outputId);\n",
              "  // Cache steps on the outputElement to make it available for the next call\n",
              "  // to uploadFilesContinue from Python.\n",
              "  outputElement.steps = steps;\n",
              "\n",
              "  return _uploadFilesContinue(outputId);\n",
              "}\n",
              "\n",
              "// This is roughly an async generator (not supported in the browser yet),\n",
              "// where there are multiple asynchronous steps and the Python side is going\n",
              "// to poll for completion of each step.\n",
              "// This uses a Promise to block the python side on completion of each step,\n",
              "// then passes the result of the previous step as the input to the next step.\n",
              "function _uploadFilesContinue(outputId) {\n",
              "  const outputElement = document.getElementById(outputId);\n",
              "  const steps = outputElement.steps;\n",
              "\n",
              "  const next = steps.next(outputElement.lastPromiseValue);\n",
              "  return Promise.resolve(next.value.promise).then((value) => {\n",
              "    // Cache the last promise value to make it available to the next\n",
              "    // step of the generator.\n",
              "    outputElement.lastPromiseValue = value;\n",
              "    return next.value.response;\n",
              "  });\n",
              "}\n",
              "\n",
              "/**\n",
              " * Generator function which is called between each async step of the upload\n",
              " * process.\n",
              " * @param {string} inputId Element ID of the input file picker element.\n",
              " * @param {string} outputId Element ID of the output display.\n",
              " * @return {!Iterable<!Object>} Iterable of next steps.\n",
              " */\n",
              "function* uploadFilesStep(inputId, outputId) {\n",
              "  const inputElement = document.getElementById(inputId);\n",
              "  inputElement.disabled = false;\n",
              "\n",
              "  const outputElement = document.getElementById(outputId);\n",
              "  outputElement.innerHTML = '';\n",
              "\n",
              "  const pickedPromise = new Promise((resolve) => {\n",
              "    inputElement.addEventListener('change', (e) => {\n",
              "      resolve(e.target.files);\n",
              "    });\n",
              "  });\n",
              "\n",
              "  const cancel = document.createElement('button');\n",
              "  inputElement.parentElement.appendChild(cancel);\n",
              "  cancel.textContent = 'Cancel upload';\n",
              "  const cancelPromise = new Promise((resolve) => {\n",
              "    cancel.onclick = () => {\n",
              "      resolve(null);\n",
              "    };\n",
              "  });\n",
              "\n",
              "  // Wait for the user to pick the files.\n",
              "  const files = yield {\n",
              "    promise: Promise.race([pickedPromise, cancelPromise]),\n",
              "    response: {\n",
              "      action: 'starting',\n",
              "    }\n",
              "  };\n",
              "\n",
              "  cancel.remove();\n",
              "\n",
              "  // Disable the input element since further picks are not allowed.\n",
              "  inputElement.disabled = true;\n",
              "\n",
              "  if (!files) {\n",
              "    return {\n",
              "      response: {\n",
              "        action: 'complete',\n",
              "      }\n",
              "    };\n",
              "  }\n",
              "\n",
              "  for (const file of files) {\n",
              "    const li = document.createElement('li');\n",
              "    li.append(span(file.name, {fontWeight: 'bold'}));\n",
              "    li.append(span(\n",
              "        `(${file.type || 'n/a'}) - ${file.size} bytes, ` +\n",
              "        `last modified: ${\n",
              "            file.lastModifiedDate ? file.lastModifiedDate.toLocaleDateString() :\n",
              "                                    'n/a'} - `));\n",
              "    const percent = span('0% done');\n",
              "    li.appendChild(percent);\n",
              "\n",
              "    outputElement.appendChild(li);\n",
              "\n",
              "    const fileDataPromise = new Promise((resolve) => {\n",
              "      const reader = new FileReader();\n",
              "      reader.onload = (e) => {\n",
              "        resolve(e.target.result);\n",
              "      };\n",
              "      reader.readAsArrayBuffer(file);\n",
              "    });\n",
              "    // Wait for the data to be ready.\n",
              "    let fileData = yield {\n",
              "      promise: fileDataPromise,\n",
              "      response: {\n",
              "        action: 'continue',\n",
              "      }\n",
              "    };\n",
              "\n",
              "    // Use a chunked sending to avoid message size limits. See b/62115660.\n",
              "    let position = 0;\n",
              "    do {\n",
              "      const length = Math.min(fileData.byteLength - position, MAX_PAYLOAD_SIZE);\n",
              "      const chunk = new Uint8Array(fileData, position, length);\n",
              "      position += length;\n",
              "\n",
              "      const base64 = btoa(String.fromCharCode.apply(null, chunk));\n",
              "      yield {\n",
              "        response: {\n",
              "          action: 'append',\n",
              "          file: file.name,\n",
              "          data: base64,\n",
              "        },\n",
              "      };\n",
              "\n",
              "      let percentDone = fileData.byteLength === 0 ?\n",
              "          100 :\n",
              "          Math.round((position / fileData.byteLength) * 100);\n",
              "      percent.textContent = `${percentDone}% done`;\n",
              "\n",
              "    } while (position < fileData.byteLength);\n",
              "  }\n",
              "\n",
              "  // All done.\n",
              "  yield {\n",
              "    response: {\n",
              "      action: 'complete',\n",
              "    }\n",
              "  };\n",
              "}\n",
              "\n",
              "scope.google = scope.google || {};\n",
              "scope.google.colab = scope.google.colab || {};\n",
              "scope.google.colab._files = {\n",
              "  _uploadFiles,\n",
              "  _uploadFilesContinue,\n",
              "};\n",
              "})(self);\n",
              "</script> "
            ]
          },
          "metadata": {}
        },
        {
          "output_type": "stream",
          "name": "stdout",
          "text": [
            "Saving sem_6_task_5.xlsx to sem_6_task_5.xlsx\n"
          ]
        }
      ]
    },
    {
      "cell_type": "code",
      "source": [
        "points_table = pd.read_excel('sem_6_task_5.xlsx', index_col=0)\n",
        "coords = points_table.to_numpy()\n",
        "\n",
        "points = [Point3D(p) for p in coords]\n",
        "\n",
        "for i in range(0, 9, 3):\n",
        "  P1, P2, P3 = points[i:i+3]\n",
        "  plane = Plane(P1, P2, P3)\n",
        "\n",
        "  display(Eq(plane.equation(), 0))"
      ],
      "metadata": {
        "id": "6Liw7GbdmMEj",
        "colab": {
          "base_uri": "https://localhost:8080/",
          "height": 80
        },
        "outputId": "b0a3b009-fb24-4d8c-d60b-5d1803f1c35d"
      },
      "execution_count": null,
      "outputs": [
        {
          "output_type": "display_data",
          "data": {
            "text/plain": [
              "Eq(49*x + 74*y - 32*z - 377, 0)"
            ],
            "text/latex": "$\\displaystyle 49 x + 74 y - 32 z - 377 = 0$"
          },
          "metadata": {}
        },
        {
          "output_type": "display_data",
          "data": {
            "text/plain": [
              "Eq(27*x + 58*y - 24*z, 0)"
            ],
            "text/latex": "$\\displaystyle 27 x + 58 y - 24 z = 0$"
          },
          "metadata": {}
        },
        {
          "output_type": "display_data",
          "data": {
            "text/plain": [
              "Eq(-28*x + 26*y + 4*z + 190, 0)"
            ],
            "text/latex": "$\\displaystyle - 28 x + 26 y + 4 z + 190 = 0$"
          },
          "metadata": {}
        }
      ]
    },
    {
      "cell_type": "markdown",
      "metadata": {
        "id": "vrK0LeOdlttJ"
      },
      "source": [
        "###  Задание 6*.\n",
        "Для каждой из плоскостей $P_1 P_2 P_3$, $P_4 P_5 P_6$ и $P_7 P_8 P_9$ построить параллельную плоскость, проходящую через начало координат (в цикле), вывести на экран уравнение этой плоскости.\n",
        "\n",
        "Вывести на экран векторы нормали плоскостей, перпендикулярных плоскости $P_1 P_2 P_3$ и проходящих через точки $P_kP_{k+1}$, $k=4,...8$ (в цикле)"
      ]
    },
    {
      "cell_type": "code",
      "source": [
        "points_table = pd.read_excel('sem_6_task_5.xlsx', index_col=0)\n",
        "coords = points_table.to_numpy()\n",
        "\n",
        "points = [Point3D(p) for p in coords]\n",
        "\n",
        "P0 = Point3D(0, 0, 0)\n",
        "\n",
        "for i in range(0, 9, 3):\n",
        "  P1, P2, P3 = points[i:i+3]\n",
        "  par_plane = Plane(P1, P2, P3).parallel_plane(P0)\n",
        "\n",
        "  display(Eq(par_plane.equation(), 0))\n",
        "\n",
        "for i in range(0, 9, 3):\n",
        "  P1, P2, P3 = points[i:i+3]\n",
        "\n",
        "  for k in range(4, 8):\n",
        "    P4, P5 = points[k:k+2]\n",
        "    perp_plane = Plane(P1, P2, P3).perpendicular_plane(P4, P5)\n",
        "    norm = perp_plane.normal_vector\n",
        "\n",
        "    display(norm)\n"
      ],
      "metadata": {
        "id": "pqpkF-QHmOLP",
        "colab": {
          "base_uri": "https://localhost:8080/",
          "height": 320
        },
        "outputId": "49cbd854-8fee-49ab-f916-2599a82a92ec"
      },
      "execution_count": null,
      "outputs": [
        {
          "output_type": "display_data",
          "data": {
            "text/plain": [
              "Eq(49*x + 74*y - 32*z, 0)"
            ],
            "text/latex": "$\\displaystyle 49 x + 74 y - 32 z = 0$"
          },
          "metadata": {}
        },
        {
          "output_type": "display_data",
          "data": {
            "text/plain": [
              "Eq(27*x + 58*y - 24*z, 0)"
            ],
            "text/latex": "$\\displaystyle 27 x + 58 y - 24 z = 0$"
          },
          "metadata": {}
        },
        {
          "output_type": "display_data",
          "data": {
            "text/plain": [
              "Eq(-28*x + 26*y + 4*z, 0)"
            ],
            "text/latex": "$\\displaystyle - 28 x + 26 y + 4 z = 0$"
          },
          "metadata": {}
        },
        {
          "output_type": "display_data",
          "data": {
            "text/plain": [
              "(-666, 697, 592)"
            ],
            "text/latex": "$\\displaystyle \\left( -666, \\  697, \\  592\\right)$"
          },
          "metadata": {}
        },
        {
          "output_type": "display_data",
          "data": {
            "text/plain": [
              "(1090, -637, 196)"
            ],
            "text/latex": "$\\displaystyle \\left( 1090, \\  -637, \\  196\\right)$"
          },
          "metadata": {}
        },
        {
          "output_type": "display_data",
          "data": {
            "text/plain": [
              "(-518, 375, 74)"
            ],
            "text/latex": "$\\displaystyle \\left( -518, \\  375, \\  74\\right)$"
          },
          "metadata": {}
        },
        {
          "output_type": "display_data",
          "data": {
            "text/plain": [
              "(242, -149, 26)"
            ],
            "text/latex": "$\\displaystyle \\left( 242, \\  -149, \\  26\\right)$"
          },
          "metadata": {}
        },
        {
          "output_type": "display_data",
          "data": {
            "text/plain": [
              "(-522, 435, 464)"
            ],
            "text/latex": "$\\displaystyle \\left( -522, \\  435, \\  464\\right)$"
          },
          "metadata": {}
        },
        {
          "output_type": "display_data",
          "data": {
            "text/plain": [
              "(850, -351, 108)"
            ],
            "text/latex": "$\\displaystyle \\left( 850, \\  -351, \\  108\\right)$"
          },
          "metadata": {}
        },
        {
          "output_type": "display_data",
          "data": {
            "text/plain": [
              "(-406, 213, 58)"
            ],
            "text/latex": "$\\displaystyle \\left( -406, \\  213, \\  58\\right)$"
          },
          "metadata": {}
        },
        {
          "output_type": "display_data",
          "data": {
            "text/plain": [
              "(194, -63, 66)"
            ],
            "text/latex": "$\\displaystyle \\left( 194, \\  -63, \\  66\\right)$"
          },
          "metadata": {}
        },
        {
          "output_type": "display_data",
          "data": {
            "text/plain": [
              "(-234, -284, 208)"
            ],
            "text/latex": "$\\displaystyle \\left( -234, \\  -284, \\  208\\right)$"
          },
          "metadata": {}
        },
        {
          "output_type": "display_data",
          "data": {
            "text/plain": [
              "(322, 364, -112)"
            ],
            "text/latex": "$\\displaystyle \\left( 322, \\  364, \\  -112\\right)$"
          },
          "metadata": {}
        },
        {
          "output_type": "display_data",
          "data": {
            "text/plain": [
              "(-182, -200, 26)"
            ],
            "text/latex": "$\\displaystyle \\left( -182, \\  -200, \\  26\\right)$"
          },
          "metadata": {}
        },
        {
          "output_type": "display_data",
          "data": {
            "text/plain": [
              "(146, 128, 190)"
            ],
            "text/latex": "$\\displaystyle \\left( 146, \\  128, \\  190\\right)$"
          },
          "metadata": {}
        }
      ]
    },
    {
      "cell_type": "markdown",
      "source": [
        "###  Задание 7*.\n",
        "Построить прямую $l_1$, перпендикулярную плоскости $P_1 P_2 P_3$, проходящую через $P_9$, и прямую $l_2$, параллельную $P_8P_9$, проходящую через $P_1$. Вывести на экран для каждой прямой $l_1$ и $l_2$ точку на прямой, направляющий вектор прямой и параметрические уравнения прямой."
      ],
      "metadata": {
        "id": "kzYbI89WjHSx"
      }
    },
    {
      "cell_type": "code",
      "source": [
        "points_table = pd.read_excel('sem_6_task_5.xlsx', index_col=0)\n",
        "coords = points_table.to_numpy()\n",
        "\n",
        "points = [Point3D(p) for p in coords]\n",
        "x, y, z = symbols(\"x y z\")\n",
        "t = symbols(\"t\")\n",
        "\n",
        "plane = Plane(points[0], points[1], points[2])\n",
        "line = plane.perpendicular_line(points[8])\n",
        "\n",
        "point = line.p1\n",
        "dir = line.direction_ratio\n",
        "eq = [\n",
        "    Eq(x, point[0] + t * dir[0]),\n",
        "    Eq(y, point[1] + t * dir[1]),\n",
        "    Eq(z, point[2] + t * dir[2]),\n",
        "]\n",
        "\n",
        "display(point, tuple(dir), *eq)\n",
        "\n",
        "\n",
        "line = Line(points[7], points[8])\n",
        "line = line.parallel_line(points[0])\n",
        "\n",
        "point = line.p1\n",
        "dir = line.direction_ratio\n",
        "eq = [\n",
        "    Eq(x, point[0] + t * dir[0]),\n",
        "    Eq(y, point[1] + t * dir[1]),\n",
        "    Eq(z, point[2] + t * dir[2]),\n",
        "]\n",
        "\n",
        "display(point, tuple(dir), *eq)\n"
      ],
      "metadata": {
        "id": "896oKTFRmPdi",
        "colab": {
          "base_uri": "https://localhost:8080/",
          "height": 227
        },
        "outputId": "50481a6a-2be5-4907-b98e-ad1bd0f2469d"
      },
      "execution_count": 15,
      "outputs": [
        {
          "output_type": "display_data",
          "data": {
            "text/plain": [
              "Point3D(10, 3, 3)"
            ],
            "text/latex": "$\\displaystyle \\operatorname{Point3D}\\left(10, 3, 3\\right)$"
          },
          "metadata": {}
        },
        {
          "output_type": "display_data",
          "data": {
            "text/plain": [
              "(49, 74, -32)"
            ]
          },
          "metadata": {}
        },
        {
          "output_type": "display_data",
          "data": {
            "text/plain": [
              "Eq(x, 49*t + 10)"
            ],
            "text/latex": "$\\displaystyle x = 49 t + 10$"
          },
          "metadata": {}
        },
        {
          "output_type": "display_data",
          "data": {
            "text/plain": [
              "Eq(y, 74*t + 3)"
            ],
            "text/latex": "$\\displaystyle y = 74 t + 3$"
          },
          "metadata": {}
        },
        {
          "output_type": "display_data",
          "data": {
            "text/plain": [
              "Eq(z, 3 - 32*t)"
            ],
            "text/latex": "$\\displaystyle z = 3 - 32 t$"
          },
          "metadata": {}
        },
        {
          "output_type": "display_data",
          "data": {
            "text/plain": [
              "Point3D(11, 3, 12)"
            ],
            "text/latex": "$\\displaystyle \\operatorname{Point3D}\\left(11, 3, 12\\right)$"
          },
          "metadata": {}
        },
        {
          "output_type": "display_data",
          "data": {
            "text/plain": [
              "(3, 4, -5)"
            ]
          },
          "metadata": {}
        },
        {
          "output_type": "display_data",
          "data": {
            "text/plain": [
              "Eq(x, 3*t + 11)"
            ],
            "text/latex": "$\\displaystyle x = 3 t + 11$"
          },
          "metadata": {}
        },
        {
          "output_type": "display_data",
          "data": {
            "text/plain": [
              "Eq(y, 4*t + 3)"
            ],
            "text/latex": "$\\displaystyle y = 4 t + 3$"
          },
          "metadata": {}
        },
        {
          "output_type": "display_data",
          "data": {
            "text/plain": [
              "Eq(z, 12 - 5*t)"
            ],
            "text/latex": "$\\displaystyle z = 12 - 5 t$"
          },
          "metadata": {}
        }
      ]
    },
    {
      "cell_type": "markdown",
      "metadata": {
        "id": "ZWS39VoElttM"
      },
      "source": [
        "### Индивидуальное задание\n",
        "Даны точки в пространстве\n",
        "$A$, $B$, $C$ и\n",
        "$M$.\n",
        "\n",
        "Найти угол между прямой $AB$ и плоскостью $CDM$, угол между $AC$ и $CM$, угол между плоскостями $ABC$ и $CDM$.\n",
        "\n",
        "Составить уравнение:\n",
        "\n",
        "a) плоскости, параллельной $ABC$ и проходящей через $M$,\n",
        "\n",
        "b) плоскости, перпендикулярной $ABC$ и проходящей через $A$ и $M$,\n",
        "\n",
        "c) прямой (параметрическое!), перпендикулярной $ABC$ и проходящей через $C$.\n",
        "![image.png](data:image/png;base64,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)"
      ]
    },
    {
      "cell_type": "code",
      "source": [
        "A = Point3D(2, 2, 0)\n",
        "B = Point3D(3, 2, 5)\n",
        "C = Point3D(-4, 2, 5)\n",
        "D = Point3D(3, 3, -2)\n",
        "M = Point3D(-4, -4, 1)\n",
        "\n",
        "AB = Line(A, B)\n",
        "AC = Line(A, C)\n",
        "CM = Line(C, M)\n",
        "\n",
        "ABC = Plane(A, B, C)\n",
        "CDM = Plane(C, D, M)\n",
        "\n",
        "display(Latex(f\"\\\\varphi_1 = {latex(CDM.angle_between(AB))}\"))\n",
        "display(Latex(f\"\\\\varphi_2 = {latex(AC.angle_between(CM))}\"))\n",
        "display(Latex(f\"\\\\varphi_3 = {latex(ABC.angle_between(CDM))}\"))\n",
        "\n",
        "# a\n",
        "plane = ABC.parallel_plane(M)\n",
        "display(plane.equation())\n",
        "\n",
        "# b\n",
        "plane = ABC.perpendicular_plane(A, M)\n",
        "display(plane.equation())\n",
        "\n",
        "# c\n",
        "line = ABC.perpendicular_line(C)\n",
        "point = line.p1\n",
        "dir = line.direction_ratio\n",
        "\n",
        "x, y, z, t = symbols(\"x y z t\")\n",
        "eq = [\n",
        "    Eq(x, point[0] + t * dir[0]),\n",
        "    Eq(y, point[1] + t * dir[1]),\n",
        "    Eq(z, point[2] + t * dir[2]),\n",
        "]\n",
        "display(*eq)"
      ],
      "metadata": {
        "id": "MxKnodpxmRdC",
        "colab": {
          "base_uri": "https://localhost:8080/",
          "height": 219
        },
        "outputId": "1e6b23ad-a026-428c-e9c4-39d6b93a61ea"
      },
      "execution_count": 24,
      "outputs": [
        {
          "output_type": "display_data",
          "data": {
            "text/plain": [
              "<IPython.core.display.Latex object>"
            ],
            "text/latex": "\\varphi_1 = - \\operatorname{asin}{\\left(\\frac{64 \\sqrt{7579}}{7579} \\right)}"
          },
          "metadata": {}
        },
        {
          "output_type": "display_data",
          "data": {
            "text/plain": [
              "<IPython.core.display.Latex object>"
            ],
            "text/latex": "\\varphi_2 = \\operatorname{acos}{\\left(- \\frac{10 \\sqrt{793}}{793} \\right)}"
          },
          "metadata": {}
        },
        {
          "output_type": "display_data",
          "data": {
            "text/plain": [
              "<IPython.core.display.Latex object>"
            ],
            "text/latex": "\\varphi_3 = \\operatorname{acos}{\\left(- \\frac{7 \\sqrt{1166}}{583} \\right)}"
          },
          "metadata": {}
        },
        {
          "output_type": "display_data",
          "data": {
            "text/plain": [
              "-35*y - 140"
            ],
            "text/latex": "$\\displaystyle - 35 y - 140$"
          },
          "metadata": {}
        },
        {
          "output_type": "display_data",
          "data": {
            "text/plain": [
              "35*x + 210*z - 70"
            ],
            "text/latex": "$\\displaystyle 35 x + 210 z - 70$"
          },
          "metadata": {}
        },
        {
          "output_type": "display_data",
          "data": {
            "text/plain": [
              "Eq(x, -4)"
            ],
            "text/latex": "$\\displaystyle x = -4$"
          },
          "metadata": {}
        },
        {
          "output_type": "display_data",
          "data": {
            "text/plain": [
              "Eq(y, 2 - 35*t)"
            ],
            "text/latex": "$\\displaystyle y = 2 - 35 t$"
          },
          "metadata": {}
        },
        {
          "output_type": "display_data",
          "data": {
            "text/plain": [
              "Eq(z, 5)"
            ],
            "text/latex": "$\\displaystyle z = 5$"
          },
          "metadata": {}
        }
      ]
    }
  ]
}