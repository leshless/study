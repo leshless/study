{
  "nbformat": 4,
  "nbformat_minor": 0,
  "metadata": {
    "kernelspec": {
      "display_name": "Python 3",
      "language": "python",
      "name": "python3"
    },
    "language_info": {
      "codemirror_mode": {
        "name": "ipython",
        "version": 3
      },
      "file_extension": ".py",
      "mimetype": "text/x-python",
      "name": "python",
      "nbconvert_exporter": "python",
      "pygments_lexer": "ipython3",
      "version": "3.7.3"
    },
    "colab": {
      "provenance": []
    }
  },
  "cells": [
    {
      "cell_type": "markdown",
      "metadata": {
        "id": "NWxN--Ciycml"
      },
      "source": [
        "# Практическое занятие 1\n",
        "# Компьютерный практикум по алгебре на Python"
      ]
    },
    {
      "cell_type": "markdown",
      "metadata": {
        "id": "JITt7G7iycmp"
      },
      "source": [
        "https://docs.sympy.org/latest/tutorial/intro.html"
      ]
    },
    {
      "cell_type": "code",
      "metadata": {
        "id": "VKvRy_UGycmq"
      },
      "source": [
        "from sympy import sqrt, sin, cos, pi, Symbol, symbols, Matrix\n",
        "from sympy import expand, simplify, factor, collect, zeros, ones, eye"
      ],
      "execution_count": 1,
      "outputs": []
    },
    {
      "cell_type": "markdown",
      "metadata": {
        "id": "x3mNO8qJycmr"
      },
      "source": [
        "**Действия с числами, числовые выражения**\n",
        "\n",
        "Об основных типах данных Python 3.10 читайте здесь:\n",
        "https://docs.python.org/3/reference/datamodel.html#index-19\n",
        "\n",
        "**Символы, символьные выражения**\n",
        "\n",
        "Для аналитических преобразований в sympy используется класс Symbol\n",
        "\n",
        "https://docs.sympy.org/latest/modules/core.html?highlight=symbol#module-sympy.core.symbol\n",
        "\n",
        "В этом классе есть метод Symbol для создания одного символа.\n",
        "\n",
        "**Операции с символьными выражениями: simplify, expand,factor,collect**\n",
        "\n",
        "**simplify**\n",
        "используется для упрощения выражения\n",
        "\n",
        "**expand**\n",
        "используется для раскрытия скобок\n",
        "\n",
        "**factor**\n",
        "для разложения на множители\n",
        "\n",
        "**collect**\n",
        "для группировки по степеням переменной\n",
        "### Задание 1.\n",
        "Вычислите значение выражения\n",
        "$$\n",
        "6\\cos\\left(\\frac{\\pi}{3}\\right)\\frac{3^{\\sin\\left(\\frac{\\pi}{6}\\right)} + 1}{\\sqrt{3} + 1}\n",
        "$$"
      ]
    },
    {
      "cell_type": "code",
      "source": [
        "expr1 = 6 * cos(pi / 3)\n",
        "expr2 = 3 ** sin(pi / 6) + 1\n",
        "expr3 = sqrt(3) + 1\n",
        "\n",
        "expr = expr1 * expr2 / expr3\n",
        "\n",
        "\n",
        "display(simplify(expr))"
      ],
      "metadata": {
        "id": "GLFKZMewC4A5",
        "colab": {
          "base_uri": "https://localhost:8080/",
          "height": 37
        },
        "outputId": "fddb6247-fec2-44cb-bb6e-83318b41009a"
      },
      "execution_count": null,
      "outputs": [
        {
          "output_type": "display_data",
          "data": {
            "text/plain": [
              "3"
            ],
            "text/latex": "$\\displaystyle 3$"
          },
          "metadata": {}
        }
      ]
    },
    {
      "cell_type": "markdown",
      "metadata": {
        "id": "G3b9I6dNycmr"
      },
      "source": [
        "###  Задание 2.\n",
        "Создайте символ $t$ и выведите на экран автоматически разложенное на множители выражение $t^{11} + 3 t^{10} + 2 t^{9} - 6 t^{8} - 15 t^{7} - 9 t^{6} + 12 t^{5} + 24 t^{4} + 12 t^{3} - 8 t^{2} - 12 t - 4$."
      ]
    },
    {
      "cell_type": "code",
      "source": [
        "t = Symbol('t')\n",
        "a = (1, 3, 2, -6, -15, -9, 12, 24, 12, -8, -12, -4)\n",
        "\n",
        "expr = 0\n",
        "for i in range(12):\n",
        "  expr += a[i] * t ** (11 - i)\n",
        "\n",
        "display(factor(expr))"
      ],
      "metadata": {
        "id": "FxIwv4mCC6Fy",
        "colab": {
          "base_uri": "https://localhost:8080/",
          "height": 41
        },
        "outputId": "2d67ef35-e16d-49b2-fd1d-03abf0e710d5"
      },
      "execution_count": null,
      "outputs": [
        {
          "output_type": "display_data",
          "data": {
            "text/plain": [
              "(t - 1)*(t + 1)**4*(t**3 - 2)**2"
            ],
            "text/latex": "$\\displaystyle \\left(t - 1\\right) \\left(t + 1\\right)^{4} \\left(t^{3} - 2\\right)^{2}$"
          },
          "metadata": {}
        }
      ]
    },
    {
      "cell_type": "markdown",
      "metadata": {
        "id": "qMlP2YM5ycms"
      },
      "source": [
        "###  Задание 3.\n",
        "Упростите выражение\n",
        "$$\n",
        "\\left(\\left(3 - \\sin{\\left(\\pi k \\right)}\\right)^{2} + \\cos^{2}{\\left(\\pi k \\right)} - 10\\right)^{2} + 36 \\cos^{2}{\\left(\\pi k \\right)}\n",
        "$$"
      ]
    },
    {
      "cell_type": "markdown",
      "source": [],
      "metadata": {
        "id": "CmjPIlqQfVKV"
      }
    },
    {
      "cell_type": "code",
      "source": [
        "k = Symbol('k')\n",
        "pk = pi * k\n",
        "\n",
        "expr = ((3 - sin(pk)) ** 2 + cos(pk) ** 2 - 10) ** 2 + 36 * cos(pk) ** 2\n",
        "\n",
        "display(simplify(expr))"
      ],
      "metadata": {
        "id": "Z83F9UXKC8DJ",
        "colab": {
          "base_uri": "https://localhost:8080/",
          "height": 37
        },
        "outputId": "2781d554-5f49-4479-d9a4-b03647f573e2"
      },
      "execution_count": null,
      "outputs": [
        {
          "output_type": "display_data",
          "data": {
            "text/plain": [
              "36"
            ],
            "text/latex": "$\\displaystyle 36$"
          },
          "metadata": {}
        }
      ]
    },
    {
      "cell_type": "markdown",
      "metadata": {
        "id": "gasezWy-ycmt"
      },
      "source": [
        "###  Задание 4.\n",
        "Упростите выражение\n",
        "$$\n",
        "\\frac{\\left(a + b + c + d\\right)^{2}- \\left(a + c\\right)^{2} - \\left(b + d\\right)^{2}}{a + c}\n",
        "$$\n",
        "Если в выражении есть общий множитель, его необходимо вынести за скобки!"
      ]
    },
    {
      "cell_type": "code",
      "source": [
        "a, b, c, d = symbols(\"a b c d\")\n",
        "\n",
        "expr1 = (a + b + c + d) ** 2 - (a + c) ** 2 - (b + d) ** 2\n",
        "expr2 = a + c\n",
        "\n",
        "expr = expr1 / expr2\n",
        "\n",
        "display(factor(simplify(expr)))"
      ],
      "metadata": {
        "id": "RE_Psb_mC9q3",
        "colab": {
          "base_uri": "https://localhost:8080/",
          "height": 38
        },
        "outputId": "45aa68e3-7e6c-4b59-d198-e2944b1c9a36"
      },
      "execution_count": null,
      "outputs": [
        {
          "output_type": "display_data",
          "data": {
            "text/plain": [
              "2*(b + d)"
            ],
            "text/latex": "$\\displaystyle 2 \\left(b + d\\right)$"
          },
          "metadata": {}
        }
      ]
    },
    {
      "cell_type": "markdown",
      "metadata": {
        "id": "d9_rZkk7ycmt"
      },
      "source": [
        "###  Задание 5.\n",
        "Разложите на множители\n",
        "$2u^4+3u^3v-2u^2v^2-2u^2v-3uv^2+2v^3$"
      ]
    },
    {
      "cell_type": "code",
      "source": [
        "u, v = symbols(\"u v\")\n",
        "\n",
        "expr = 2*u**4 + 3*u**3*v - 2*u**2*v**2 - 2*u**2*v - 3*u*v**2 + 2*v**3\n",
        "\n",
        "display(factor(expr))"
      ],
      "metadata": {
        "id": "CSfOa1XeC-7F",
        "colab": {
          "base_uri": "https://localhost:8080/",
          "height": 38
        },
        "outputId": "fa051fd3-767f-4e4c-9ca6-25d7b1ec8ba0"
      },
      "execution_count": null,
      "outputs": [
        {
          "output_type": "display_data",
          "data": {
            "text/plain": [
              "(u + 2*v)*(2*u - v)*(u**2 - v)"
            ],
            "text/latex": "$\\displaystyle \\left(u + 2 v\\right) \\left(2 u - v\\right) \\left(u^{2} - v\\right)$"
          },
          "metadata": {}
        }
      ]
    },
    {
      "cell_type": "markdown",
      "metadata": {
        "id": "Cnm5vka3ycmu"
      },
      "source": [
        "###  Задание 6.\n",
        "Создайте символы $x$ и $y$ и сгруппируйте по степеням $y$ выражение\n",
        "$$\n",
        "(x + y)^{3}(2x^{2} - 3y^{2}) + x y^5 - 2x^2 y^2\n",
        "$$"
      ]
    },
    {
      "cell_type": "code",
      "source": [
        "x, y = symbols(\"x y\")\n",
        "\n",
        "expr = (x + y)**3 * (2*x**2 - 3*y**2) + x*y**5 - 2*x**2*y**2\n",
        "\n",
        "display(collect(expand(expr), y))"
      ],
      "metadata": {
        "id": "8k1LvuyQDAD3",
        "colab": {
          "base_uri": "https://localhost:8080/",
          "height": 38
        },
        "outputId": "604a7b63-5bd4-4fe1-f999-038345c380bd"
      },
      "execution_count": null,
      "outputs": [
        {
          "output_type": "display_data",
          "data": {
            "text/plain": [
              "2*x**5 + 6*x**4*y - 7*x**2*y**3 - 9*x*y**4 + y**5*(x - 3) + y**2*(3*x**3 - 2*x**2)"
            ],
            "text/latex": "$\\displaystyle 2 x^{5} + 6 x^{4} y - 7 x^{2} y^{3} - 9 x y^{4} + y^{5} \\left(x - 3\\right) + y^{2} \\left(3 x^{3} - 2 x^{2}\\right)$"
          },
          "metadata": {}
        }
      ]
    },
    {
      "cell_type": "markdown",
      "metadata": {
        "id": "nvztFMwyycmv"
      },
      "source": [
        "## Списки и кортежи\n",
        "Нам понадобятся два итерируемых типа\n",
        "\n",
        "#### списки list\n",
        "изменяемый тип\n",
        "#### кортежи tuple\n",
        "неизменяемый тип\n",
        "\n",
        "### Задание 7*\n",
        "Создайте кортеж $powers$, состоящий из символов $x_1$, ..., $x_{12}$ в степени,  равной удвоенному индексу, т.е $x_1^2$, ..., $x_{12}^{24}$.\n",
        "\n",
        "Использовать цикл!"
      ]
    },
    {
      "cell_type": "code",
      "source": [
        "x = symbols(\"x1:13\")\n",
        "\n",
        "powers = [x[i]**((i+1)*2) for i in range(12)]\n",
        "powers = tuple(powers)\n",
        "\n",
        "display(*powers)"
      ],
      "metadata": {
        "id": "GDRwlT7NDBQP",
        "colab": {
          "base_uri": "https://localhost:8080/",
          "height": 273
        },
        "outputId": "b89ceeaf-3281-4172-fdce-f92cedd0810b"
      },
      "execution_count": 7,
      "outputs": [
        {
          "output_type": "display_data",
          "data": {
            "text/plain": [
              "x1**2"
            ],
            "text/latex": "$\\displaystyle x_{1}^{2}$"
          },
          "metadata": {}
        },
        {
          "output_type": "display_data",
          "data": {
            "text/plain": [
              "x2**4"
            ],
            "text/latex": "$\\displaystyle x_{2}^{4}$"
          },
          "metadata": {}
        },
        {
          "output_type": "display_data",
          "data": {
            "text/plain": [
              "x3**6"
            ],
            "text/latex": "$\\displaystyle x_{3}^{6}$"
          },
          "metadata": {}
        },
        {
          "output_type": "display_data",
          "data": {
            "text/plain": [
              "x4**8"
            ],
            "text/latex": "$\\displaystyle x_{4}^{8}$"
          },
          "metadata": {}
        },
        {
          "output_type": "display_data",
          "data": {
            "text/plain": [
              "x5**10"
            ],
            "text/latex": "$\\displaystyle x_{5}^{10}$"
          },
          "metadata": {}
        },
        {
          "output_type": "display_data",
          "data": {
            "text/plain": [
              "x6**12"
            ],
            "text/latex": "$\\displaystyle x_{6}^{12}$"
          },
          "metadata": {}
        },
        {
          "output_type": "display_data",
          "data": {
            "text/plain": [
              "x7**14"
            ],
            "text/latex": "$\\displaystyle x_{7}^{14}$"
          },
          "metadata": {}
        },
        {
          "output_type": "display_data",
          "data": {
            "text/plain": [
              "x8**16"
            ],
            "text/latex": "$\\displaystyle x_{8}^{16}$"
          },
          "metadata": {}
        },
        {
          "output_type": "display_data",
          "data": {
            "text/plain": [
              "x9**18"
            ],
            "text/latex": "$\\displaystyle x_{9}^{18}$"
          },
          "metadata": {}
        },
        {
          "output_type": "display_data",
          "data": {
            "text/plain": [
              "x10**20"
            ],
            "text/latex": "$\\displaystyle x_{10}^{20}$"
          },
          "metadata": {}
        },
        {
          "output_type": "display_data",
          "data": {
            "text/plain": [
              "x11**22"
            ],
            "text/latex": "$\\displaystyle x_{11}^{22}$"
          },
          "metadata": {}
        },
        {
          "output_type": "display_data",
          "data": {
            "text/plain": [
              "x12**24"
            ],
            "text/latex": "$\\displaystyle x_{12}^{24}$"
          },
          "metadata": {}
        }
      ]
    },
    {
      "cell_type": "markdown",
      "metadata": {
        "id": "sE10eEvqycmv"
      },
      "source": [
        "## Матрицы\n",
        "### Задание 8\n",
        "Вывести на экран значение выражения $2A + 3 B + C\\cdot D$, где $A$ единичная матрица четвертого порядка, $B$ - матрица  четвертого порядка из единиц, $C = \\left[\\begin{matrix}1 & 5\\\\2 & 6\\\\3 & 0\\\\4 & 1\\end{matrix}\\right]$, $D = \\left[\\begin{matrix}7 & 8 & 9 & 0\\\\4 & 3 & 2 & 1\\end{matrix}\\right]$."
      ]
    },
    {
      "cell_type": "code",
      "source": [
        "A = eye(4)\n",
        "B = ones(4)\n",
        "C = Matrix([[1, 5], [2, 6], [3, 0], [4, 1]])\n",
        "D = Matrix([[7, 8, 9, 0], [4, 3, 2, 1]])\n",
        "\n",
        "expr = 2*A + 3*B + C*D\n",
        "\n",
        "display(expr)"
      ],
      "metadata": {
        "id": "5ep8PMzVDCzm",
        "colab": {
          "base_uri": "https://localhost:8080/",
          "height": 383
        },
        "outputId": "ff75d164-f0cb-45e8-dbe5-d9e46e1b6e86"
      },
      "execution_count": 14,
      "outputs": [
        {
          "output_type": "display_data",
          "data": {
            "text/plain": [
              "Matrix([\n",
              "[1, 0, 0, 0],\n",
              "[0, 1, 0, 0],\n",
              "[0, 0, 1, 0],\n",
              "[0, 0, 0, 1]])"
            ],
            "text/latex": "$\\displaystyle \\left[\\begin{matrix}1 & 0 & 0 & 0\\\\0 & 1 & 0 & 0\\\\0 & 0 & 1 & 0\\\\0 & 0 & 0 & 1\\end{matrix}\\right]$"
          },
          "metadata": {}
        },
        {
          "output_type": "display_data",
          "data": {
            "text/plain": [
              "Matrix([\n",
              "[1, 1, 1, 1],\n",
              "[1, 1, 1, 1],\n",
              "[1, 1, 1, 1],\n",
              "[1, 1, 1, 1]])"
            ],
            "text/latex": "$\\displaystyle \\left[\\begin{matrix}1 & 1 & 1 & 1\\\\1 & 1 & 1 & 1\\\\1 & 1 & 1 & 1\\\\1 & 1 & 1 & 1\\end{matrix}\\right]$"
          },
          "metadata": {}
        },
        {
          "output_type": "display_data",
          "data": {
            "text/plain": [
              "Matrix([\n",
              "[1, 5],\n",
              "[2, 6],\n",
              "[3, 0],\n",
              "[4, 1]])"
            ],
            "text/latex": "$\\displaystyle \\left[\\begin{matrix}1 & 5\\\\2 & 6\\\\3 & 0\\\\4 & 1\\end{matrix}\\right]$"
          },
          "metadata": {}
        },
        {
          "output_type": "display_data",
          "data": {
            "text/plain": [
              "Matrix([\n",
              "[7, 8, 9, 0],\n",
              "[4, 3, 2, 1]])"
            ],
            "text/latex": "$\\displaystyle \\left[\\begin{matrix}7 & 8 & 9 & 0\\\\4 & 3 & 2 & 1\\end{matrix}\\right]$"
          },
          "metadata": {}
        },
        {
          "output_type": "display_data",
          "data": {
            "text/plain": [
              "Matrix([\n",
              "[32, 26, 22, 8],\n",
              "[41, 39, 33, 9],\n",
              "[24, 27, 32, 3],\n",
              "[35, 38, 41, 6]])"
            ],
            "text/latex": "$\\displaystyle \\left[\\begin{matrix}32 & 26 & 22 & 8\\\\41 & 39 & 33 & 9\\\\24 & 27 & 32 & 3\\\\35 & 38 & 41 & 6\\end{matrix}\\right]$"
          },
          "metadata": {}
        }
      ]
    },
    {
      "cell_type": "markdown",
      "metadata": {
        "id": "PmrUn7iVycmw"
      },
      "source": [
        "### Задание 9*\n",
        "Составить матрицу  $A_{3\\times 4}$ из чисел вида $3k+1$, $k=1,2,...$, должно получиться\n",
        "$$\n",
        "A=\n",
        "\\left(\n",
        "\\begin{matrix}\n",
        "4& 7& 10& 13\\\\\n",
        "16& 19& 22& 25\\\\\n",
        "28& 31& 34& 37\n",
        "\\end{matrix}\n",
        "\\right)\n",
        "$$\n",
        "**Указание:** создать матрицу из нулей нужной размерности, использовать цикл для заполнения элементов матрицы числами вида $3k+1$, $k=1,2,...$"
      ]
    },
    {
      "cell_type": "code",
      "source": [
        "A = zeros(3, 4)\n",
        "\n",
        "for i in range(A.shape[0]):\n",
        "  for j in range(A.shape[1]):\n",
        "    k = i * A.shape[1] + j + 1\n",
        "\n",
        "    A[i,j] = 3*k + 1\n",
        "\n",
        "display(A)"
      ],
      "metadata": {
        "id": "ki2iFf6DDEh0",
        "colab": {
          "base_uri": "https://localhost:8080/",
          "height": 78
        },
        "outputId": "6632c2ff-d206-44b3-e5e6-60a0d76da186"
      },
      "execution_count": 17,
      "outputs": [
        {
          "output_type": "display_data",
          "data": {
            "text/plain": [
              "Matrix([\n",
              "[ 4,  7, 10, 13],\n",
              "[16, 19, 22, 25],\n",
              "[28, 31, 34, 37]])"
            ],
            "text/latex": "$\\displaystyle \\left[\\begin{matrix}4 & 7 & 10 & 13\\\\16 & 19 & 22 & 25\\\\28 & 31 & 34 & 37\\end{matrix}\\right]$"
          },
          "metadata": {}
        }
      ]
    },
    {
      "cell_type": "markdown",
      "metadata": {
        "id": "lU6I_nCJycmw"
      },
      "source": [
        "### Задание 10\n",
        "В матрице А удалить вторую строку и вставить столбец из нулей между первым и вторым\n",
        "$$\n",
        "A=\n",
        "\\left[\\begin{matrix}27 & 23 & 19 & 5\\\\38 & 34 & 30 & 6\\\\21 & 24 & 27 & 0\\\\32 & 35 & 38 & 1\\end{matrix}\\right],\n",
        "$$\n",
        "должно получиться\n",
        "$$\n",
        "\\left[\\begin{matrix}27 & 0 & 23 & 19 & 5\\\\21 & 0 & 24 & 27 & 0\\\\32 & 0 & 35 & 38 & 1\\end{matrix}\\right]\n",
        "$$"
      ]
    },
    {
      "cell_type": "code",
      "source": [
        "A = Matrix([\n",
        "    [27, 23, 19, 5],\n",
        "    [38, 34, 30, 6],\n",
        "    [21, 24, 27, 0],\n",
        "    [32, 35, 38, 1],\n",
        "])\n",
        "\n",
        "A.row_del(1)\n",
        "A = A.col_insert(1, zeros(3, 1))\n",
        "\n",
        "display(A)"
      ],
      "metadata": {
        "id": "gPAU7FNPDHqs",
        "colab": {
          "base_uri": "https://localhost:8080/",
          "height": 78
        },
        "outputId": "ce397e17-beaf-427c-c072-7f333f51e2ee"
      },
      "execution_count": 32,
      "outputs": [
        {
          "output_type": "display_data",
          "data": {
            "text/plain": [
              "Matrix([\n",
              "[27, 0, 23, 19, 5],\n",
              "[21, 0, 24, 27, 0],\n",
              "[32, 0, 35, 38, 1]])"
            ],
            "text/latex": "$\\displaystyle \\left[\\begin{matrix}27 & 0 & 23 & 19 & 5\\\\21 & 0 & 24 & 27 & 0\\\\32 & 0 & 35 & 38 & 1\\end{matrix}\\right]$"
          },
          "metadata": {}
        }
      ]
    },
    {
      "cell_type": "markdown",
      "metadata": {
        "id": "bSKQcn87ycmx"
      },
      "source": [
        "### Индивидуальное задание\n",
        "Дана матрица $A$ левой части СЛАУ и вектор-столбец $X$ - решение СЛАУ $AX = b$, а также имена переменных. Вычислить вектор-столбец правой части. Представить СЛАУ в виде списка левых частей уравнений.\n",
        "\n",
        "У каждого свой вариант с $A$, $X$ и именами переменных.\n",
        "\n",
        "Например,\n",
        "$$\n",
        "A = \\left[\\begin{matrix}2 & 3 & 1\\\\8 & -4 & 6\\\\-1 & 2 & 7\\end{matrix}\\right],\n",
        "\\qquad\n",
        "X = \\left[\\begin{matrix}-2\\\\5\\\\3\\end{matrix}\\right], \\quad\n",
        "\\mbox{ переменные }\\ x,\\ y,\\ z,\n",
        "$$\n",
        "тогда\n",
        "$$\n",
        "b = \\left[\\begin{matrix}14\\\\-18\\\\33\\end{matrix}\\right],\n",
        "\\quad\n",
        "\\left[\\begin{matrix}2 x + 3 y + z\\\\8 x - 4 y + 6 z\\\\- x + 2 y + 7 z\\end{matrix}\\right]\n",
        "$$\n",
        "\n",
        "![image.png](data:image/png;base64,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)"
      ]
    },
    {
      "cell_type": "code",
      "source": [
        "A = Matrix([\n",
        "    [3, 2, -5, -8],\n",
        "    [-7, -3, 7, -8],\n",
        "    [3, -6, 2, -1]\n",
        "])\n",
        "\n",
        "x = Matrix([\n",
        "    Symbol(\"c\"),\n",
        "    Symbol(\"d\"),\n",
        "    Symbol('h'),\n",
        "    Symbol(\"q\")\n",
        "])\n",
        "\n",
        "X = Matrix([\n",
        "    1,\n",
        "    -5,\n",
        "    -9,\n",
        "    -2\n",
        "])\n",
        "\n",
        "\n",
        "b = A*x\n",
        "B = A*X\n",
        "\n",
        "display(b, B)"
      ],
      "metadata": {
        "id": "o1hMigXODI8Y",
        "colab": {
          "base_uri": "https://localhost:8080/",
          "height": 139
        },
        "outputId": "8522feca-2ca9-4d1f-c315-a3796217ad31"
      },
      "execution_count": 40,
      "outputs": [
        {
          "output_type": "display_data",
          "data": {
            "text/plain": [
              "Matrix([\n",
              "[ 3*c + 2*d - 5*h - 8*q],\n",
              "[-7*c - 3*d + 7*h - 8*q],\n",
              "[   3*c - 6*d + 2*h - q]])"
            ],
            "text/latex": "$\\displaystyle \\left[\\begin{matrix}3 c + 2 d - 5 h - 8 q\\\\- 7 c - 3 d + 7 h - 8 q\\\\3 c - 6 d + 2 h - q\\end{matrix}\\right]$"
          },
          "metadata": {}
        },
        {
          "output_type": "display_data",
          "data": {
            "text/plain": [
              "Matrix([\n",
              "[ 54],\n",
              "[-39],\n",
              "[ 17]])"
            ],
            "text/latex": "$\\displaystyle \\left[\\begin{matrix}54\\\\-39\\\\17\\end{matrix}\\right]$"
          },
          "metadata": {}
        }
      ]
    }
  ]
}