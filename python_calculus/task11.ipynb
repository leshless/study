{
  "cells": [
    {
      "cell_type": "markdown",
      "metadata": {
        "id": "view-in-github",
        "colab_type": "text"
      },
      "source": [
        "<a href=\"https://colab.research.google.com/github/leshless/study/blob/main/python_calculus/task11.ipynb\" target=\"_parent\"><img src=\"https://colab.research.google.com/assets/colab-badge.svg\" alt=\"Open In Colab\"/></a>"
      ]
    },
    {
      "cell_type": "code",
      "execution_count": 1,
      "metadata": {
        "id": "1fiTHB-TwWrb"
      },
      "outputs": [],
      "source": [
        "import sympy\n",
        "from sympy import S, Symbol, symbols, Function, integrate, diff, Curve, plot, plot_parametric, latex, solveset, Interval\n",
        "from sympy import sin as Sin\n",
        "from sympy import cos as Cos\n",
        "from sympy import pi as Pi\n",
        "%matplotlib inline"
      ]
    },
    {
      "cell_type": "markdown",
      "metadata": {
        "id": "_UsMaBOFwWrd"
      },
      "source": [
        "## Занятие 11\n",
        "## Математический анализ\n",
        "## Применение интегралов для вычисления площади фигуры и длины дуги\n",
        "\n",
        "### Задание 1\n",
        "Вычислить площадь фигуры, ограниченной графиками функций $f = 2 + x^2$ и  $g = 2 - x^3$. Построить графики, найти точки пересечения, затем вычислить соответствующие интегралы."
      ]
    },
    {
      "cell_type": "code",
      "execution_count": null,
      "metadata": {
        "id": "NofBkqWuwWre",
        "colab": {
          "base_uri": "https://localhost:8080/",
          "height": 616
        },
        "outputId": "a7ea47f1-7046-4583-baec-722e26b6b5b7"
      },
      "outputs": [
        {
          "output_type": "display_data",
          "data": {
            "text/plain": [
              "<Figure size 640x480 with 1 Axes>"
            ],
            "image/png": "[encoded data removed]"
          },
          "metadata": {}
        },
        {
          "output_type": "display_data",
          "data": {
            "text/plain": [
              "'(-oo, -1):'"
            ],
            "application/vnd.google.colaboratory.intrinsic+json": {
              "type": "string"
            }
          },
          "metadata": {}
        },
        {
          "output_type": "display_data",
          "data": {
            "text/plain": [
              "nan"
            ],
            "text/latex": "$\\displaystyle \\text{NaN}$"
          },
          "metadata": {}
        },
        {
          "output_type": "display_data",
          "data": {
            "text/plain": [
              "'(-1, 0):'"
            ],
            "application/vnd.google.colaboratory.intrinsic+json": {
              "type": "string"
            }
          },
          "metadata": {}
        },
        {
          "output_type": "display_data",
          "data": {
            "text/plain": [
              "1/12"
            ],
            "text/latex": "$\\displaystyle \\frac{1}{12}$"
          },
          "metadata": {}
        },
        {
          "output_type": "display_data",
          "data": {
            "text/plain": [
              "'(0, oo):'"
            ],
            "application/vnd.google.colaboratory.intrinsic+json": {
              "type": "string"
            }
          },
          "metadata": {}
        },
        {
          "output_type": "display_data",
          "data": {
            "text/plain": [
              "oo"
            ],
            "text/latex": "$\\displaystyle \\infty$"
          },
          "metadata": {}
        }
      ],
      "source": [
        "f = lambda x : 2 + x ** 2\n",
        "g = lambda x : 2 - x ** 3\n",
        "\n",
        "x = Symbol(\"x\")\n",
        "\n",
        "p = plot(xlim=[-3, 3], ylim=[-5, 5], legend=True, show=False)\n",
        "p.extend(plot(f(x), line_color=\"red\", label=f\"$f(x) = {sympy.latex(f(x))}$\", show=False))\n",
        "p.extend(plot(g(x), line_color=\"green\", label=f\"$g(x) = {sympy.latex(g(x))}$\", show=False))\n",
        "p.show()\n",
        "\n",
        "roots = sympy.solve(sympy.Eq(f(x), g(x)), x, domain=S.Reals)\n",
        "roots = [-sympy.oo] + roots + [sympy.oo]\n",
        "\n",
        "for i in range(len(roots) - 1):\n",
        "  a, b = roots[i], roots[i+1]\n",
        "\n",
        "  area = abs(integrate(f(x), (x, a, b)) - integrate(g(x), (x, a, b)))\n",
        "  display(f\"({a}, {b}):\")\n",
        "  display(area)"
      ]
    },
    {
      "cell_type": "markdown",
      "metadata": {
        "id": "VtHnzfGrwWre"
      },
      "source": [
        "### Задача 2.\n",
        "Вычислить площадь фигуры, ограниченной графиком функции $x = \\cos^3(t)$, $y = \\sin^3(t)$, $0 \\le t \\le 2\\pi$."
      ]
    },
    {
      "cell_type": "code",
      "execution_count": null,
      "metadata": {
        "id": "tR_o3a-XwWre",
        "colab": {
          "base_uri": "https://localhost:8080/",
          "height": 37
        },
        "outputId": "4fbafab5-0e69-4267-a257-4293cd4a7184"
      },
      "outputs": [
        {
          "output_type": "display_data",
          "data": {
            "text/plain": [
              "0"
            ],
            "text/latex": "$\\displaystyle 0$"
          },
          "metadata": {}
        }
      ],
      "source": [
        "t = Symbol(\"t\")\n",
        "display(Sin(t) ** 3 * (Cos(t) ** 3).diff(t).integrate((t, 0, Pi*2)))"
      ]
    },
    {
      "cell_type": "markdown",
      "metadata": {
        "id": "y99_yyl1wWrf"
      },
      "source": [
        "### Задача 3.\n",
        "Вычислить площадь фигуры, ограниченной графиком функции $r = \\cos(2\\phi)$, $-\\frac{\\pi}{4} \\le \\phi \\le \\frac{\\pi}{4}$."
      ]
    },
    {
      "cell_type": "code",
      "execution_count": null,
      "metadata": {
        "id": "2kQDiw6OwWrf",
        "colab": {
          "base_uri": "https://localhost:8080/",
          "height": 53
        },
        "outputId": "9ccb1ec7-87cd-48fe-d159-f26e212710d0"
      },
      "outputs": [
        {
          "output_type": "display_data",
          "data": {
            "text/plain": [
              "pi*cos(2*phi)/2"
            ],
            "text/latex": "$\\displaystyle \\frac{\\pi \\cos{\\left(2 \\phi \\right)}}{2}$"
          },
          "metadata": {}
        }
      ],
      "source": [
        "phi = S('phi')\n",
        "display(Cos(2*phi)*integrate(1, (phi, -Pi/4, Pi/4)))"
      ]
    },
    {
      "cell_type": "markdown",
      "metadata": {
        "id": "UPwFBV4hwWrf"
      },
      "source": [
        "### Задача 4.\n",
        "Вычислить длину кривой, заданной уравнением $y^2 = x^3$ при $x$ от 1 до 3."
      ]
    },
    {
      "cell_type": "code",
      "execution_count": null,
      "metadata": {
        "id": "MoA7AZEvwWrg",
        "colab": {
          "base_uri": "https://localhost:8080/",
          "height": 55
        },
        "outputId": "06cd0268-9a89-4f0c-df78-e35f713df209"
      },
      "outputs": [
        {
          "output_type": "display_data",
          "data": {
            "text/plain": [
              "-26*sqrt(13)/27 + 62*sqrt(31)/27"
            ],
            "text/latex": "$\\displaystyle - \\frac{26 \\sqrt{13}}{27} + \\frac{62 \\sqrt{31}}{27}$"
          },
          "metadata": {}
        }
      ],
      "source": [
        "x = Symbol(\"x\")\n",
        "display(sympy.sqrt(1 + (sympy.sqrt(x ** 3).diff(x) ** 2)).integrate((x, 1, 3)) * 2)"
      ]
    },
    {
      "cell_type": "markdown",
      "metadata": {
        "id": "Lq1TKF2fwWrg"
      },
      "source": [
        "### Задача 5.\n",
        "Вычислить длину кривой, заданной параметрически $x = \\frac{3}{2}\\cos^3 t $, $y = 3\\sin^3 t$."
      ]
    },
    {
      "cell_type": "code",
      "execution_count": null,
      "metadata": {
        "id": "jridBHkhwWrg"
      },
      "outputs": [],
      "source": [
        "t = Symbol(\"t\")\n",
        "\n",
        "x = 3 * S.Half * Cos(t) ** 3\n",
        "y = 3 * Sin(t) ** 3\n",
        "\n",
        "\n",
        "display(sympy.sqrt(x.diff(t)**2 + y.diff(t)**2).integrate((t, 0, 1)))"
      ]
    },
    {
      "cell_type": "markdown",
      "metadata": {
        "id": "Ss_x-jGhwWrg"
      },
      "source": [
        "### Задача 6.\n",
        "Вычислить длину кривой, заданной в полярных координатах\n",
        "$r = \\phi$, $\\phi$ от 0 до $2\\pi$. Результат вычислить приближенно до 3 знаков после запятой."
      ]
    },
    {
      "cell_type": "code",
      "execution_count": null,
      "metadata": {
        "id": "wPGiGgtgwWrg"
      },
      "outputs": [],
      "source": [
        "# Индивидуальное задание приложено не было"
      ]
    }
  ],
  "metadata": {
    "kernelspec": {
      "display_name": "Python 3",
      "language": "python",
      "name": "python3"
    },
    "language_info": {
      "codemirror_mode": {
        "name": "ipython",
        "version": 3
      },
      "file_extension": ".py",
      "mimetype": "text/x-python",
      "name": "python",
      "nbconvert_exporter": "python",
      "pygments_lexer": "ipython3",
      "version": "3.7.3"
    },
    "colab": {
      "provenance": [],
      "include_colab_link": true
    }
  },
  "nbformat": 4,
  "nbformat_minor": 0
}