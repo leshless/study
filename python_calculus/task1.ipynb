{
  "cells": [
    {
      "cell_type": "markdown",
      "metadata": {
        "id": "HJ23ptBRlCSA"
      },
      "source": [
        "## Задание по 1 занятию\n",
        "## Математический анализ\n",
        "\n",
        "https://docs.sympy.org/latest/tutorial/intro.html"
      ]
    },
    {
      "cell_type": "code",
      "execution_count": 2,
      "metadata": {
        "id": "kWOTd7AQlCSC"
      },
      "outputs": [],
      "source": [
        "#Вначале для простоты будем подключать модуль sympy целиком\n",
        "from sympy import *"
      ]
    },
    {
      "cell_type": "markdown",
      "metadata": {
        "id": "A6YyxlQPlCSC"
      },
      "source": [
        "### Функции пользователя\n",
        "#### Задание 1\n",
        "Описать функцию $f(x,n)=x(x+1)...(x+n-1)(x+n)$, $n>0$, вычислить  $f(6,7)$, $f(x,4)$, $f(y + z,x)$.      "
      ]
    },
    {
      "cell_type": "code",
      "execution_count": null,
      "metadata": {
        "colab": {
          "base_uri": "https://localhost:8080/",
          "height": 99
        },
        "id": "F_slC7ExlCSD",
        "outputId": "c5637a04-4b1e-4142-ba2b-e60ba8f5da65"
      },
      "outputs": [
        {
          "output_type": "display_data",
          "data": {
            "text/plain": [
              "51891840"
            ],
            "text/latex": "$\\displaystyle 51891840$"
          },
          "metadata": {}
        },
        {
          "output_type": "display_data",
          "data": {
            "text/plain": [
              "x*(x + 1)*(x + 2)*(x + 3)*(x + 4)"
            ],
            "text/latex": "$\\displaystyle x \\left(x + 1\\right) \\left(x + 2\\right) \\left(x + 3\\right) \\left(x + 4\\right)$"
          },
          "metadata": {}
        },
        {
          "output_type": "display_data",
          "data": {
            "text/plain": [
              "gamma(x + y + z + 1)/gamma(y + z)"
            ],
            "text/latex": "$\\displaystyle \\frac{\\Gamma\\left(x + y + z + 1\\right)}{\\Gamma\\left(y + z\\right)}$"
          },
          "metadata": {}
        }
      ],
      "source": [
        "def f(x, n):\n",
        "  return factorial(x+n) / factorial(x-1)\n",
        "\n",
        "x, y, z = symbols(\"x y z\")\n",
        "\n",
        "display(f(6, 7))\n",
        "display(simplify(f(x, 4)))\n",
        "display(simplify(f(y + z, x)))"
      ]
    },
    {
      "cell_type": "markdown",
      "metadata": {
        "id": "UOvmNUfqlCSD"
      },
      "source": [
        "#### Задание 2\n",
        "Описать функцию $right\\_ratio(f, x, delta\\_x)$, вычисляющую правое разностное отношение функции $f$ в точке $x$ при $\\Delta x$, т.е. $\\frac{f(x+\\Delta x)-f(x)}{\\Delta x}$.\n",
        "\n",
        "Аргумент $ delta\\_x$ по умолчанию равен 1.\n",
        "\n",
        "Вычислить правое разностное отношение $\\sin$ в точке $\\frac{\\pi}{4}$ со значением $\\Delta x$ равным  $\\frac{\\pi}{6}$\n",
        "\n",
        "и правое разностное отношение $e^x$ при $x=3$ со значением $\\Delta x$  по умолчанию. Для вычисления $e^x$ воспользоваться функцией Sympy $\\exp(x)$."
      ]
    },
    {
      "cell_type": "code",
      "execution_count": null,
      "metadata": {
        "colab": {
          "base_uri": "https://localhost:8080/",
          "height": 78
        },
        "id": "Og45lzb1lCSD",
        "outputId": "a5d81f80-2a92-405a-8803-fb418c3a88fa"
      },
      "outputs": [
        {
          "output_type": "display_data",
          "data": {
            "text/plain": [
              "3*(-sqrt(2) + sqrt(6))/(2*pi)"
            ],
            "text/latex": "$\\displaystyle \\frac{3 \\left(- \\sqrt{2} + \\sqrt{6}\\right)}{2 \\pi}$"
          },
          "metadata": {}
        },
        {
          "output_type": "display_data",
          "data": {
            "text/plain": [
              "-exp(3) + exp(4)"
            ],
            "text/latex": "$\\displaystyle - e^{3} + e^{4}$"
          },
          "metadata": {}
        }
      ],
      "source": [
        "def right_ratio(f, x, delta_x=1):\n",
        "  return (f(x + delta_x) - f(x)) / delta_x\n",
        "\n",
        "display(simplify(right_ratio(sin, pi/4, delta_x=pi/6)))\n",
        "display(simplify(right_ratio(exp, 3)))"
      ]
    },
    {
      "cell_type": "markdown",
      "metadata": {
        "id": "_9uHWXsYlCSD"
      },
      "source": [
        " #### Задание 3\n",
        "Опиcать функцию $square\\_roots$, возвращающую корни квадратного уравнения $a x^2 + bx + c = 0$  с вещественными аргументами $a\\neq 0$, b, c и  необязательным параметром $is\\_real$, по умолчанию равным $True$. Функция возвращает список корней уравнения. Если корни комплексные, а $is\\_real=True$, то функция возвращает пустой список. Если корень один, то в списке корней он тоже должен быть один.\n",
        "\n",
        "Решить уравнения в вещественных числах:\n",
        "\n",
        "а) $3x^2+8x+4=0$,\n",
        "\n",
        "б) $x^2-4x+4=0$\n",
        "\n",
        "в) $2x^2+x+1=0$\n",
        "\n",
        "Уравнение в) решить отдельно в комплексных числах.\n",
        "\n",
        "Для красивого представления комплексных чисел можно воспользоваться функцией display.\n",
        "\n",
        "Если элементы списка нужно выводить в столбик, можно воспользоваться display(\\*имя_списка) (\\* в данном случае служебный символ)"
      ]
    },
    {
      "cell_type": "code",
      "execution_count": 3,
      "metadata": {
        "colab": {
          "base_uri": "https://localhost:8080/",
          "height": 163
        },
        "id": "FSg3bBuXlCSE",
        "outputId": "59525ed5-06a7-4429-e240-60137ad7750e"
      },
      "outputs": [
        {
          "output_type": "display_data",
          "data": {
            "text/plain": [
              "[-2, -2/3]"
            ]
          },
          "metadata": {}
        },
        {
          "output_type": "display_data",
          "data": {
            "text/plain": [
              "[2]"
            ]
          },
          "metadata": {}
        },
        {
          "output_type": "display_data",
          "data": {
            "text/plain": [
              "[]"
            ]
          },
          "metadata": {}
        },
        {
          "output_type": "display_data",
          "data": {
            "text/plain": [
              "[-1/4 - sqrt(7)*I/4, -1/4 + sqrt(7)*I/4]"
            ]
          },
          "metadata": {}
        },
        {
          "output_type": "display_data",
          "data": {
            "text/plain": [
              "-1/4 - sqrt(7)*I/4"
            ],
            "text/latex": "$\\displaystyle - \\frac{1}{4} - \\frac{\\sqrt{7} i}{4}$"
          },
          "metadata": {}
        },
        {
          "output_type": "display_data",
          "data": {
            "text/plain": [
              "-1/4 + sqrt(7)*I/4"
            ],
            "text/latex": "$\\displaystyle - \\frac{1}{4} + \\frac{\\sqrt{7} i}{4}$"
          },
          "metadata": {}
        }
      ],
      "source": [
        "def square_roots(a, b, c, is_real=True):\n",
        "  x = Symbol(\"x\", real=is_real)\n",
        "  return solve(a*x**2 + b*x + c)\n",
        "\n",
        "display(square_roots(3, 8, 4))\n",
        "display(square_roots(1, -4, 4))\n",
        "display(square_roots(2, 1, 1))\n",
        "\n",
        "display(square_roots(2, 1, 1, is_real=False))\n",
        "display(*square_roots(2, 1, 1, is_real=False))"
      ]
    },
    {
      "cell_type": "markdown",
      "metadata": {
        "id": "f7wiXZ-tlCSE"
      },
      "source": [
        "#### Задание 4\n",
        "Описать функцию $less\\_c(my\\_list,c)$, возвращающую первый попавшийся элемент списка $my\\_list$, меньший $c$, и его номер в списке. Если таких элементов нет, возвращается ($None, None$).\n",
        "\n",
        "Вызвать функцию $less\\_c(my\\_list,c)$ со списком $my\\_list = [3, -2, 8]$ и $c = - 4$, затем с тем же списком, но $c = 1$.\n",
        "\n",
        "С помощью этой функции найти четное натуральное число $n$ до 100 (включительно), такое что $\\sin n <\\frac12$, построив предварительно список $list\\_sin$ синусов четных натуральных чисел (строить список с помощью for и range)."
      ]
    },
    {
      "cell_type": "code",
      "source": [
        "def less_c(my_list, c):\n",
        "  for i in range(len(my_list)):\n",
        "    if my_list[i] < c:\n",
        "      return my_list[i], i\n",
        "  return None, None\n",
        "\n",
        "display(less_c([3, -2, 8], -4))\n",
        "display(less_c([3, -2, 8], 1))\n",
        "\n",
        "list_sin = [sin(n) for n in range(2, 101, 2)]\n",
        "display(less_c(list_sin, 1/2))"
      ],
      "metadata": {
        "colab": {
          "base_uri": "https://localhost:8080/",
          "height": 69
        },
        "id": "Rc_6tUKorL3a",
        "outputId": "71d566ce-3d0f-4f18-d9f8-207d9ed08224"
      },
      "execution_count": null,
      "outputs": [
        {
          "output_type": "display_data",
          "data": {
            "text/plain": [
              "(None, None)"
            ]
          },
          "metadata": {}
        },
        {
          "output_type": "display_data",
          "data": {
            "text/plain": [
              "(-2, 1)"
            ]
          },
          "metadata": {}
        },
        {
          "output_type": "display_data",
          "data": {
            "text/plain": [
              "(sin(4), 1)"
            ]
          },
          "metadata": {}
        }
      ]
    },
    {
      "cell_type": "markdown",
      "source": [
        "\n",
        "\n",
        "```\n",
        "# This is formatted as code\n",
        "```\n",
        "\n",
        "#### Индивидуальное задание\n",
        "![image.png](data:image/png;base64,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)\n",
        "![image.png](data:image/png;base64,iVBORw0KGgoAAAANSUhEUgAABToAAACUCAIAAAA8mAGjAAAgAElEQVR4Ae3dd1ATaR8H8N0UQEGNvYDtVKzYOL2zi70rKFZQNPbe9Sycnu3Vw957PbvY9UZQsYs6Yi9jZ2w4tgEykEl29p1NSLKbbCCVZHPf/MNm2X32eT7P82z2t+VZgsYHAhCAAAQgAAEIQAACEIAABCAAATcTINwsP8gOBCAAAQhAAAIQgAAEIAABCEAAAjTCdTQCCEAAAhCAAAQgAAEIQAACEICA2wkgXHe7KkGGIAABCEAAAhCAAAQgAAEIQAACCNfRBiAAAQhAAAIQgAAEIAABCEAAAm4ngHDd7aoEGYIABCAAAQhAAAIQgAAEIAABCCBcRxuAAAQgAAEIQAACEIAABCAAAQi4nQDCdberEmQIAhCAAAQgAAEIQAACEIAABCCAcB1tAAIQgAAEIAABCEAAAhCAAAQg4HYCCNfdrkqQIQhAAAIQgAAEIAABCEAAAhCAAMJ1tAEIQAACEIAABCAAAQhAAAIQgIDbCSBcd7sqQYYgAAEIQAACEIAABCAAAQhAAAII19EGIAABCEAAAhCAAAQgAAEIQAACbieAcN3tqgQZggAEIAABCEAAAhCAAAQgAAEIIFxHG4AABCAAAQhAAAIQgAAEIAABCLidgE3hOvXzZeKlBJ7PxfPxcfEJVxMfvvupdruienCGKIry4NKhaBCAAAQgAAEIQAACEIAABP6DAjaF6+oXB6NHDZd3r1dSShIEKSlRr/vAwbpPVJ+uLev455eVbxQx/9iz9P+gqe1FVryK3zx/8pB+PcJ6Ro2euSL2wTcLwvAf58bUqDHhitL2zWJNCEAAAhCAAAQgAAEIQAACEHA3AZvCdV0hfuwKzUcSkurTE1W6WVl/M5PPL2jnLxEVrD/x5HsLQk6j1f+LXzOf7hzSofu07Vde/1DS6vSPSbHzutcMbPnnhS/Z+v08P7aKVFx2RHzmfxENZYYABCAAAQhAAAIQgAAEIOCpAnaF6xnHo4qJCGnt6CTjcJ2maSplf+8SIkJUqMPG17gzPqf2o7g+s1nnVc+5jtSnw5HlAvrs/2w2YE9NmFTDhyQQrufki/9DAAIQgAAEIAABCEAAAhAQmIDzwnWaTjvQU0YSpFejJS8Rr2ffLlIP9/NvvfaTSViuTJxevUCnbV/51067/EfoUHmIF8J1fh/MhQAEIAABCEAAAhCAAAQgIFwBZ4brmWeH+IsJQlrjj1vcq8bC5XJSzlUP5wb7BI5LUBinr34d08S3cQzv7Qnp12aFjjmVvLOrN8J1Yzd8hwAEIAABCEAAAhCAAAQgIHQBJ4br6icLfvMiCbH/oJNpQmdycv6p5JUhXmTe6oP2POWMzUe939K5SJXJ13iGkVPciA4bdeILpdiFcN3JtYPkIQABCEAAAhCAAAQgAAEIuEDAaeG6+s3O7v5iUlqmx45XxrfCK17FrZ0yKFI+YtTwQX16yWfvvMUZTk39+tTf08aNkEeEd+s4YM19lSr54vrp8j7hoZ279BwaveXSO/aoaurnRxfPnsX6zF546IlK/Sz2f0ZzDz/VX+LPafuWJ0nTdOqNrX+yNm86OXsRa9Nmqlj9amULP5IgRPmqhi++8EGbU/XbfX0DA6MOfzS5R57OSJwTNuJoCkXTCNfNkGI2BCAAAQhAAAIQgAAEIAABQQs4I1ynUp+dmNetQt58FdtNP/ra+Mpwxu3FXdtNOPw868bvtAfruwX4lO6y9kGGDpL6dOPA5mUTW/qLSckvEQvmjxgx/8iDr0qaVqXc3NC/ml/BOsMPvNbH3uqMn19enh5XS0qS0mrDDt5P/pquommV4kfKizMT6niRpLTGiMMPtHOZLeS8fZqdZM0xxx9/+KZN8mfKyzPja3OTVD+ZX9+vQujCI1cfvnr/8e2VWfW9SFHhzmvuv//4/tW9+E0j6xfMF/YP55q5rpycvxlJMS2LikmCeTFekXpDN8adWda7Ucjofc/0LIbFM+/M6z7siHYAOoTrBhdMQQACEIAABCAAAQhAAAIQ8BwBB4TroqL1ew0bznxGjBw1emi/jg2rBxQqWbfP/GPPUk2h0o/0K5qnaN1Rx/TDnVPvN7YvIPJtvOQJ5yp8ZtzwMmJCVKzr1jfs+apnK1vJRD41JyewE9c8Ji8qFnWCHdxm3p/3Wx5SXEp+hnU53vLtM0/eGydJZ54Z7C9mJ6m8NqVxxIHvuoIqDvaSkZLKhvvXVY/mNe6whucCuW4Nw9+MZwfGNyouYUJ2Jmgv03P7c3ZxdAtmJi3sMfSQblg6hOs6F/yFAAQgAAEIQAACEIAABCDgSQIOCNf5XuSW+eHSil5VZMXq9l129SvnXu7UA70KiUjOOuqXSxpJCa/mK5LZSyovjasoIWW9DxqPv6aIH1FeTPrUm/dAf4Wdzjw3LEAsKj7wpCG+/XFxVq+Q4EIisf+Qs6xw3eLt8yRJ07TmvAA7yYxTw8KXGYaCUxzsrQnXr+tvKlBemtR7wSP2GQdz7Sfj5Yk5vVp2DO9YJZ9IE7GLZEH9N9z5yVleeX9x+OD9hvAf4TqHB18gAAEIQAACEIAABCAAAQh4iICTwnVGR/ViY6diItIvaMxp5iFr3Uf95e6JQxdesG8P/765vTchDZ770BB/07QmXBcV6X/MEIFnJZFxSl5KTEiqTbupj4mNY2v1u30jB664fWKIv5gdWzMJWLp94yS1GzcJ1zPPzp5x0lAY03Bd/Xp79Or77JLpJNh/qc/x0SFVm806z9x0oHgeO6NtWR/NZXZRkbarn+jLqXwY00v+z3sWJ8J1NiOmIQABCEAAAhCAAAQgAAEIeIqAE8N1mlZen1xFQpCSwPGXjGLuzE+3D6/4Y3D3jp3CevYdENWivISQ1pv3mH0NOitcjzxqtCpNU2+WNpEShFfrdfob6rmxdUbS0gGjDiRTJrG1vtYs2L4mSdI3KHTseNZnbI9a+Ywv2OtTpWnaNFxn/9fctPrpqlZFf4k6qi8PTVM/7m4dXFcmIgiRrMOmZM2aqsfLe8t3c+5BwFBz5kwxHwIQgAAEIAABCEAAAhCAgKAFnBqu0xlH+hUSEYSk6lTDhXB18unoDhX8ClTvvejEkx+aAF17dd3icJ1OWd/GiyC8mi59o7vMzArXqa/npvWbdfEH353rTFVZun1WkqwaNn8GQLuQTeF6+im5v2+zZSYj6NOpSau7+IvJPG3WMxl/saZri/H7LiRwPueim3oR4hJhK+MTEhIu3XzxQ0fCyjQmIQABCEAAAhCAAAQgAAEIQEBoAk4O148PKCYiCHHpYeeyHh9PvTCxRh6RT80J578Z4korw3VV0uxaUkJUJCJW/1i7PrZOf71zcP+VD7Vb44mtLd++PknO1X2eJDlVbku4rrozM8in+h+3+G6Yp95vaJdfWms283DB/S1jBkQafSI61ZSJCNKvStt+kZGRAybuesKXCieL+AIBCEAAAhCAAAQgAAEIQAAC7i/g1HBdeWNqNQlBiAqF7tI+vU59WN/WlxTJwvZ8Y9FQn9a29CKk9eY/VtOZF2aM3q4Z9dzszfDUu9Ut85CiYr0PGBLJiq37LJjTZ8QB/aPdJrG1hdvX5C0Xw/Wk2bV8qkw2jE7HsqGV1yZV9tNcXWfP1U8rb06rJiHEZUfEs4bT0/8XExCAAAQgAAEIQAACEIAABCAgUAH7wvUTA4uLCM4o7yyGzEcrWhcSEaTvr9GJWVeoVbf+qCFlBolL1A+eRtN02km5v5iUNvjfczWdcWp43zWaeFs7MnzeDpvZ49TRNK1MmhPsLcrXcOE91nVkTWxNSgs1mHWZNZC6Sbhu4fY1hdCG6yUGneJeXf93aIDJ6HWsQttydZ1WxI8s71Mn+i4bJStNKnldW/9269+yNsGZVN6cWlVCiMsgXOew4AsEIAABCEAAAhCAAAQgAAGhC9gTrqvfrG7lRxKSiuMucS/tUhkfE/dMaeEvJUUFag878MoQhqbFjaooJb3rzrypu4+d+nZlTr+hA0N8xf4Dj/9Uv17Rc+hxzUDr2nBdWvS3cUfe6gNz6vuV2b8XyFMpYvdL/TymClIP9CooIn277mQeWdd/0g72LigiZT3361/Rbtn2NQlokhQVjTyqy6lmruJY/6LcJPVbYyaozxva+pCiIn0Osc4acJbg/UIl/9O7TOHfZ1zkvvSOVjzaEFqzZcw9Li87iR+x/UuKCVFB3f0L7P9hGgIQgAAEIAABCEAAAhCAAAQEK2BTuK5KWhr6W3BQ+cK+Pt7e3t4+voXLVqtVu3btOnXqBgfXCvQvLCviX+nXDoPnbL30zjjSVDzeO7lTUMmA36PmrNm8dt5E+aDp+55lpN/8Xyv/vIUCf283YtdzbSCuDdcLhK89tVAeOWLW3xu3bfzf2C51qzeVr7ry2TCEvOrRnmny7g3K5vPx9vYpULFpT/nknQ9Uqke7pw3u1aR8fmZu/goh/YZP26V9TbsF28/gJFkpJEKzsurRnulDejX5hZOkrt7Vb47OHS4f0Lt97RJ+BYqULBUQ1GbQpJnRf+1MTNMtksPfjKf7xjQpH9hy+IJNB89dvRofuz1mYmiDRhGrE78bHvI3pEG9396/bq2gymWKFdR+igYEBtWs02PtMwONYWlMQQACEIAABCAAAQhAAAIQgIDABGwK1+0vo/L720e3rlxKfP7VcOVdnfb9Byu414brst6HNFe3M1OeJl6//eRjGl/san1+LNi+9Ynav4bi7fXYbSvmTRs/cfbfmw6ef/wVsbf9qEgBAhCAAAQgAAEIQAACEICAEAVcFK5bQKUJ10UF+x7mPDtuwYpYBAIQgAAEIAABCEAAAhCAAAQgIHQBdw/XC0XEIlwXeiND/iEAAQhAAAIQgAAEIAABCEDAWgH3DdfTYiOLiUi/rju/W1smLA8BCEAAAhCAAAQgAAEIQAACEBC4gDuG66oHGwd3al61sJQkCFJSpHqLLn3+vmp4xl3g4sg+BCAAAQhAAAIQgAAEIAABCEAgRwF3DNfp9E8vnjxmfZ48ff/TMUPM5eiBBSAAAQhAAAIQgAAEIAABCEAAAm4g4Jbhuhu4IAsQgAAEIAABCEAAAhCAAAQgAAEXCiBcdyE+Ng0BCEAAAhCAAAQgAAEIQAACEOAXQLjO74K5EIAABCAAAQhAAAIQgAAEIAABFwogXHchPjYNAQhAAAIQgAAEIAABCEAAAhDgF0C4zu+CuRCAAAQgAAEIQAACEIAABCAAARcKIFx3IT42DQEIQAACEIAABCAAAQhAAAIQ4BdAuM7vgrkQgAAEIAABCEAAAhCAAAQgAAEXCiBcdyE+Ng0BCEAAAhCAAAQgAAEIQAACEOAXQLjO74K5EIAABCAAAQhAAAIQgAAEIAABFwogXHchPjYNAQhAAAIQgAAEIAABCEAAAhDgF0C4zu+CuRCAAAQgAAEIQAACEIAABCAAARcKIFx3IT42DQEIQAACEIAABCAAAQhAAAIQ4BdAuM7vgrkQgAAEIAABCEAAAhCAAAQgAAEXCiBcdyE+Ng0BCEAAAhCAAAQgAAEIQAACEOAXQLjO74K5EIAABCAAAQhAAAIQgAAEIAABFwogXHchPjYNAQhAAAIQgAAEIAABCEAAAhDgF0C4zu+CuRCAAAQgAAEIQAACEIAABCAAARcKIFx3IT42DQEIQAACEIAABCAAAQhAAAIQ4BdAuM7vgrkQgAAEIAABCEAAAhCAAAQgAAEXCiBcdyE+Ng0BCEAAAhCAAAQgAAEIQAACEOAXQLjO74K5EIAABCAAAQhAAAIQgAAEIAABFwogXHchPjYNAQhAAAIQgAAEIAABCEAAAhDgF0C4zu+CuRCAAAQgAAEIQAACEIAABCAAARcKIFx3IT42DQEIQAACEIAABCAAAQhAAAIQ4BdAuM7vgrkQgAAEIAABCEAAAhCAAAQgAAEXCiBcdyE+Ng0BCEAAAhCAAAQgAAEIQAACEOAXQLjO74K5EIAABCAAAQhAAAIQgAAEIAABFwogXHchPjYNAQhAAAIQgAAEIAABCEAAAhDgF0C4zu+CuRCAAAQgAAEIQAACEIAABCAAARcKIFx3IT427YECarXaqaWiUq5vnDF20szo2TMmDg7rNmj+kcepTt1griVOfU3cNL5Hu/adO7cNadYydOSyuLfKXNv4f2JDzm6buYPo7FJ4bg+j0cWc3ESd3TadnH0kDwEIQAAC7imAcN096wW5EqAA9e3KgrDuMfecmPWM67ND2iy4rdBugvqwv7e/RNbs7/sqJ24zd5L+kTAzNGJ14ldNSaivV/5sWlBaquO6x4jYHeVPpRwd1V6+54WARXU9zInN3XN7GI0u5qiuZCYdD+hhZkqG2RCAAAQg4FIBhOsu5cfGPUcgLXFRyzq9d79x5sV15bVJgRIyf9cdX7Pc0nZ1y0NKa/xxy4kBTG5UkfpFTMtfhx55laHfmPL2jCCpqGDori+Ufh4m7BRIu/Fns7pRB946s43amcVsVkcPywYnx3+hi+VI5IAFhN3DHACAJCAAAQhAwAkCCNedgIok/3MC1Kej8sBA+fGvTo4tf15bNaTv2N1Ps6Jz6sPqFl6kV+O/XwozANO3k4zjUcVEZN7O278bZp2IKiYS+w85m6mfhQm7BZQP/24e0GjBXcGhoofZWffoYnYCWri6YHuYheXDYhCAAAQgkPsCCNdz39yttkh9/Hd234mxn20IM6mvx6dGzP73ow2ruhWB/ZmhPu7t5e/f54AtivZsXf1qdasCEv+IQylCrwPq2+XlI4bNO/XOcNoh/UAvGSn+ZcxFwUWW9lSp89dV3p9Xv1C96FuGGxmcv027t4AeZj8hupjdhpYlIMgeZlnRsJQbCCivTqriLdF8fOr99VDgN9a5ASiy4CEC6tdLm+XR9gyvciM8pFCsYiBcZ2F41qTi+bH5g3v1GThw8LSdSfyjkVHf4iY3bjb94ndbo73Ua3NaNZ8c983W9T1D/PupweX8fpufi7+bqtTPbx6e3zDs9wq1I9cnpeU+I+X0Gk89LS8tlgaOS8h6Tj/3y+ixW/x6qF+p/M2WPjOcGnH3oprvYc5qiC7vYblQJehidiNT/O1PeD3MbgmBJ6D8/CQx8XbSwyfPX756+fzp4wf37txKTHpjOG7K+PAw8dadew8fP3vx8sXTR/fv3Lrz6ofTfwV5VZVXJlSpMDj2dXJy8vvPqYjWeZEw878ooE5LeZ+cnPzmzNhq5YZ5HgDCdc+rU6ZEqmebu5UJCNvx5uf9bQNrFSw3Is70GqXqxZbQqq2WP7Frf69+ubFzULfNz+1KxPl1kHZrVUTzhh0mHXH8Y7vqJ4sb+RYM3cV/hTv9Vfym6BH9eoSGhvYcOHrmisP3vtgdJVEf41bNnD5pRN9WDUMiZu++Y/PZFhvdqc/r25VrPWP78fPXbt1Nunff+PPgcbLhMMe2bWTcmfubX55qo07zq9qWqCVrKa8vlQ+fu+Xsw88ZWcdimV+eXtofM2HqDmGEt5kfbu5bNG5Ar+5hYT0HTl17MZlnZDnVnVk1vfz7x36zRMT1y5jtYU5riK7uYTRNO70huqyL6RuUJU1Vv7AbTvw4N6ZGjQlXeDoYLbAe5oa4uZsl9Yu9k/v26NIsUCYmCYIgSFHegF87Dt+mPwWvurc+8jd/b+0/pbLywS26ydfd5qt652ecCdcDx10yu3H1pwuLBo3f+841JxNyKr/iVfzm+ZOH9OsR1jNq9MwVsQ8EdbHH3fdZilfxWxZNHx7Ro3u/4X/E7E1MsftoM6f6zP7/ObdFxdtLW6NHygcPkQ8YNHbB7usfHBBKqG7PqIVwPfuawX/dRuB7bGQpaclBpxRft3X2IwlRsQHHjC9Sql9v6BDQeNEjuzuH+sWKFmU7bnTqEGv2wmbERhQSEQQh/W2ho4OujAujf5EWjzjy0zSPGY+3ytuGTduW8PKHmqZVKTfX967kJS3aYOKJZAftRL8nTKzp7Vt9xIlPufnTrLw0toKEOajh/5DewXPu2dOsqC//jg0qVCVq70uzRySm2A6ao9jXwy/rgE3qW7BoEVleKUmK8tcec0IAD32k3tnQv3a5YPma+FepFE1nfLi6NrLVoH3vTRqH6l50HalfqzVvTf7jIEZHJmO+h1nSEO3MiWt6GE3Tzm2IruximhqxuKnaWX/OW/3n+bFVpOKyI+JNT4Qz58uF1MOchyS0lL8e6ltCRBBkvs5bTU8Up+4Jy+8bGLbwzCvjg6ncLSZvuK5Wpn9Lfnz9xMZZkQ38vUhpjRm37fkNdk6JMp/uHNKh+7TtV17/UNLq9I9JsfO61wxs+ecFQYwn6+77rPQHm/tWlv0Suvj0o5RMSvHq9OyQUqVaLrz+wzmVaT5Vi9ui6u3RsfX8aw/d85C5UUX95famyBplm884a++xFsJ185WD/7iZAPVxY3s/Mk+7jSmU+uWR6JGTVpw3jg+pr7EDypaTn+IJMq0vTHr8qEpl3PoBaurDkWE1C+Uv3WbJbQc/spt2YqC/pFCvA6aXk1X35zes2HF+/FvW4dyP41EBYkJUsN36V44J2KkPa1v5kJKKYxNYW7G0Bn/e2L45wYYfyi8b2/mIpHnyywoXKVqM+ymS3ytPramXTTUszRNNpyX+r3VQ67kX7BoIwNaiGaIk7akIUpy/UtsJO+85pJ9YbmDLkum3lrQo7ld32iXdr7P65ZYeZfOIvBrxDESoSoquLfX6bcFjxzRDW/Jr6Trmexjt3IaozaBdPYy2uR06tSE6oovZXjKatqqpWtpOcne51IRJNXxIwmy4Tguoh+WunHtvLfPKxEAJQYgKdtvBPQVOfT0/pVmzKedMo/hcLxBfuJ55fmbLxi069x3916Z1g6tKCHcM1xXXZzbrvMroRkzq0+HIcgF99tv1c58LVeDu+ywqeX+/slJp0JSrhmcjqc97exaXlu5/xKZGa/Me3tK2qHq6LEQma7nyBeu8kvLhokb5SoZut+8uWITrudAjsAnHCCiORhYRSatn83YvVdKfdfMGOez8q+pedF3fOtFJrG7nmJK4fSqK03J/sW/7TaY/Nupni36XEgTpXW+e/o46mv66sa03M7PF6g82XNjMvL9laJduU48mG9bNPC0vJSakvy+y/q4B1a0/alYcdcHqOF95ZVLjiAO6V8mxq0iROCckZE6iHdceFPdWhTUfsPNpVqYy7hw9+cKGiNLWojEXNXsFjz354EbciUMHDp+8eO+DHYVh0zh7mgkfvKWVJ1wx5Fd5bVJlCUH6NP6bh1B5fXIViVfDxc9t0HV2WTjpm+9htBMaomN7GG17O3ReQ3RMF7OjZNY2VU5zcI8vaZf/CB0qD/HKJlynBdPD3IPUXXKhfrKogQ9JkD6NlrB+UlNvLurQbORxe6/6OaaQfOG6IWXNfR3uGK6nHu7n33ot9yQIk21l4vTqBTpt4zugMJTKxVNuv8/6fmxgaTHp1STmNecHXREbUUQkDZphw4t+7djD6ysru7ZIfd7dvYhY1n2P7vKCdi3qy7bO+cSlBhyz5woJwnV9FWDCzQVUd2fVkpIFeuwze40zM2FMBe+6f953WHitejg32PuX0daHfm5OmVP2lJfHV5JIa/OdqKBS/gkvKiJEsvYbWLccp6xv40UQpFfIKtM7lHPaGK1+/r8GUkJUPOqE4RaBtH09CpBkgdBd1j+HrLw5rUYFM/dyZpeXr1vCe+3g2dzPhCmN2yx5YPsN7BmPNkaFTT31Xv+Do7w6LWKhLReAbS2aNlyfct32MmQH57z/qZ8taZyHlP6+8KnejtlY6ov4/QcuvzW0FlYO0g70konytF5ry2kjVjLOnsymh9GOb4gO7mG07e1QE647viE6rIvZXDIbmqqz25i16adfmxU65lTyzq7e2YXrtEB6mLWl9/TlqY9bO8tEBCGpMuW69qxxxqN1YY0idr9y2OGSnYTCDNeZY0QfvqFj1a9jmvg2Nooz7SRy7Oruv8/6sS+8oIgQlZSf5v7Yq18uaSQlJBXHXbL+qoyNh4ds+mzCderDhnZ+pLTePOPjO2XitGoSUaEe//AcYrLTzm4a4Xp2OvifOwl829bZl5T++tcjzqE7K4fMI59egfxj5LAWs2ZSeX1KFa8KYxOEFudYU0bTZak3S5tISVmvA+mm/2MeP313+9LN14Z7k2hamTDmFzFBSm28E0F5c2b9OsOOf9BXLPVxT4/iYq8qY+JsOBdp4xE39enCvrMm9ypR386MbNBpzTObD2mUz7b3rFj69x5RA7M+UZG9O9au1PcQvy0vuH6mjUXTPDLcK9jxUZI+Y86ZUF6bFCghJJUnX7O8/6kfz/tVyj3145zM2ZVqdj3MGQ3RsT3MzcJ1R3YxW3uYLU3Vrhbk8JUVN6LDRp34Qil25RCuC6OHOdxH+AmmnhzkLyYIsX/UsZ+06tWeyIbd1jzghkEuLaQww3UqeWWIF5m3+qA9Tzk/6dT7LZ2LVLHmpyu38d1/n6VKml1LShA8r71N29HFhyR4ouIcEW3dw7MTziZcTz/ct5CI8G670fiuCurtsqZehDhg6L9Wn2HQbxrhup4CE+4pQH29umXu7FmzZg5pVlxMelXrPn3WrNmz56y7YHwHl/rx/Hpesl4HOTtNTpkyXp6OmThEHtmju/yvo8+ZHyrFsyMLxg0fJh84ZMauu3yhIXMpwcv0VBknWed9ob7f2TVr+OCR4ydNnjBuzLhJ0au3/a9P66naV3Zn3tk2dfTQqL49urRrO1E3Gjb1KW75pJGD+/cO7dS22/zLSlr1+ea22SOGDJH3CQ0b+MfGy5YMUJlxrH9RkTRopqWDuigujqkoISVlIg+Z3BJmIXnGkz3je/QcMWf17hMXLp5YN7qhf8nfR+59ZtOOzRH746wqpT7HDvyt+zbe4QYtKpny+vQa2mF3OcPXSYPnPLDlBIDtRWNuhs8K1zO/vX786FWKwvDkgVEDtqhkRus446vqfnQdKUH6hg13ty0AACAASURBVO5OpenMj/fiDu09fP7++3SzGddkIm1v9/yktP78JxZkKfXRofnyjo0bNG/XrUd4aA/53L13v3JTp74n7f1zYMeQ1t169uzSqkVn+bxDj4zu7sm2k5rJhLU9zO6GSDuyhzkoXHdMQ3RsF7Oxh1nbVN2li+mbZ0binLARR5lnQXMM12l9D9OfXtUngwl3FlDenFZdShKkrP3CzSOatpt/g++Ix3UFEGa4TqtfrWzBDOMqylc1fPGFrOMr9dt9fQMDow4bH6SmPvt3y5I50bNn8X9mR/+14uTz3KkCa/dZuZMrzlaU1ydXlhCExPQanOJgbxlJkAXC97EvG3FWNvPFxj08JzXz4Tpzr4WUIGV9DpmcB0vf1S0PSUibLH3DSsu69oBwnUWHSbcU+Pnw9K4d27etHFBdSkhrDFy1ffv27Tv2nH1sdNRMM1ffpcFzWU9Uc4rz/fJf3XtGn3qpoOnMl+s7FvPvtSth3YB+i298V39L+Kulv3epQScND8jqVtVcSvDttNX4XJnu/878m3515m915bHJ+sBO/fHMmFq+JQed0uwKVC/ObV3zV98gX5Lwaql7dor6fvfo5pXRPar4kKIikQfv7RgTNTv2ORPhUF/iRleTelcdG5/TjzSVvKK5F+HVYrXxbw1vYVUfTo6umTfPL91W3jbec1pJrki+Gxe7a+O6jbtO3Hhr/qQLby5YMx2xP9YkR305OrBG65U8T0jTlpSMlSVHTdpeNCZcH3fw2MLhUUMnRS+YP3Nou9rVW4zeYTrWnCUlM+0mjiogJ50vm9rnIZk74Y4/PTB1wKh5W4+cPLpjbp/gwIZDt983bmv6NTXDqotKyk/p5/BPZDze0ifQr3jTacdfZ50VUrzYM7B28Jgz+oj9563lXcqXbT3v/Iesq/uZ707PaOJfKXz9PX3zzKGT8m/buh5G29kQDdXloB5mb7jusIbIr2vPXBt7mFVN1Y26WBZV5p153Ycd0Q5UknO4ru9hJkek9shjXecLqF/ENM1LEiTpFTQuXr+bc/52LduCQMN1ms5IimlZVPOmPFJSpN7QjXFnlvVuFDJ63zNuB1E82Bhe0UfzfhbOyXv2F1JaKvKQZVz2LmXVPsvejdm2PvV2eTMvkhCXG3ne6MpN2u5QX5IgvJott/a9fjbu4TkFMB+uZ54fWU7MvLLqOLfumUuD+8PzkZpnUbLSsr49IFznVAO+uK2Aph+Iy/C9aF2bZ9XtmUHSPF128Aaj1OcjQ7pMv6wb/UH96u9GUpFPoVYxzLAr37Z2zEMSYv/BZ0y6GE3/3NEljwXDkVLv9o5oXv/XYCs+v9ZvKt/+0jz4991hhSqONXoN6ff9vavLteG6Zk3q3fJmXqxwXZuc5tEekaxJt5GLbuoDC1pz5o+Uhe35bn6jzH+YJwAkZP6eBwzH+aYrUO9PzInq2TmkTpkCfhVCV9w0eUm67eSmG7NqjiP2x8wG0y6MrVJh6L8GP10uLCyZbnEH/rW9aIp9PQoFtP/fNX01UZ+ODvxFWrjpwkRWAS0sGU83cWAhdUmpHv0VLCUISYXQgUNmX9C3WSr5n57+0mJtVj7kv0Nesxrp03GrLh2+v9S3f0dV8RKXHhBreINA5vlR5aUkmbfD5i/MKup3e3oGSDlLMLOpDztDi3r9EnVEey7Lok5qkgOLeph+LXsbouOry/Z2yIwM77iGqCdy2IRtJbOiqbpVF9OyZSYt7DFUf2NUzuG6vofpfk4dpo+EnCxApewMLcg8wF7Jhqd+tXmz+Ugnx3sxBBuu0zSd8ezA+EbFJdpYnJSU6bldc/emoTqplJPDaga2nbr94qPklK8pt+a0j9zz/ivzeb6yc9fVLzWTX799T9dfnDGs65QpK/ZZTtm+RYmq7v8ZLCVFBfsc5h6LZt0lT2Rzec5c+rbt4bmpmQ/XM44PKCYiRCWyLqmxV1McYm4IEJcZHsfMtak9IFxng2LabQU0T36QPm03mI5VnpXnjKORRSQl2aGsoTCqO9GtIvYZjsyZQTslpG+7DZpjbirl8ob5Sw/d+8a9D1a7euYZeSlJ4YjYnI55lR9un449fMiKz+HYU4nJRicNDVmm1S8XN/TK8+usG5y7CNQvY3qNYT39Qn1e19o0XKferwrxIsh8HbdwuFK3d/Yhc74RO/PfoQFi3hOErOzRtFqZoVCkfX19Y+8fLf0LlG895RD7bLId5JytWP/FEftjmla/WBEi4x1l0HUls+Oqpvr5iX1XuddT1M8XN/QmfWrPuqWLe11YMp5qVl7VvHuIlBbutpXzkIW29+YLWc533wNNvVve3IuQNonhSVI3S5X0Z7A3afSSCeW1adW9SWlp+Ummx/08PbisWFJhjOmbBBWn5KXEkkpjLqTTFnZS3Wb1fy3sYZrl3bEh2tHF3Lwh2lYyy5uqe3UxpoEp7y8OH7zfcCNVzuG6voe91jdoTAhCIPPp5vCgYgVEBCEqGRlr49kWhx/p6OgEHa6/PDGnV8uO4R2r5BMxV8tJkSyo/4Y7umtH1LfjQxr32qF7zS31ZkXH0KzX7mSeHR4y+aruJ1hn4fy/lu+znJ8X81ug3u8ILSqSBE68wj5SVj1Y0LxQHpIgpLVm37Xy/IZte3huDrMJ12P7FWLGxuMJ1zMO9WHCdf/BZ2jaxvaAcJ1bD/jmpgIZx6OKiSRVptwwu19L3x2aR/LLGO1z3UalSL+6ffc9w5rU5w1tmQGnLXlLGDOKmsSn606zN98abcpxX5XXmSfNyLylG/aetGTb8Wsvvmt3TJyTCtmF6yb7MsWe0LzGQQpPfjUP1lo1JsbP+FGBElLq322z/u2jdpDzZIl3Vlryw9uJN00+13ZGVQwIX3/V5B83E2/ff8c5+cGbrGZm5rVJlaWF+x3mqfZcKBntzKLpC628MqGShBCVHHgi6wK7A0qW/vHxHZ46Ma0LZk7i7YfveYCzMqi5XYYgCK/mK1hv+GP+mb4/vABJSGvwvtKR+ryulRchrb9AX06TCRVzto45BX6SexKOSnv/4u0PzVWgnwd6FxYR3u02mT4FoxlbSMdmUSc1yYAVPcy1DTFX2iHtjIZoYm40w7aScfa9hhQtb6r2dzEH9jAmWH8Y00v+D/t1HhaE67oeZsnwEAYkTLlWQP32wKAmoWvuXvkjiHmAvUCHTexqd23eNFt3YbhuV6eiPsdHh1RtNus8c21E8Tx2Rtuy2lveRUXarn6iOexUv004e09/6EG9W9M+JOttJ6qHcxu2tfj1t3blk1vFlu+zuOvZ8M2uXFPJh+SV88qa//1AF7BnPFo3fNK0vgFigvBquvSNmX2yjcdQ5lLjFDubcF17dZ3/Zvie+XVX121sDwjXOdWAL24qoH70169SMn/YHt3pStN8/tzWyVtSyaJx4dOPRmrO2FlyTlMzfKZ3+836m3FNt+y0OamJMR3L6EcqI6Wyiq3G7bz3g71HyTZcb/A/7vVHTbguqTbtpuHMBV/eM471LyKyKlyns25OEhXstCWZL0naGnLeBExmql9v7lmlXJnSpp8SBaTSfMVN55cuU7Zyt9UmCfHNSGfeOy9tuJjrx7ekE0pGO7VohkIwYzMyd5ubG3nd+jqjvuyX1+CtE57aKF26TLmqfbaxXgdoyBozpX37GCEq2v8YN6qmM07JS4qY1wau5Gls1Mc1Lb0IaYP/cVNjf/u2ub03SUhrzrpj7sy88ubUqhKC9Ou+l3sTniaV9J1dmVFp6/6pGS7Qgk7K3rZm2vIe5tKGmEvtkHZ8QzQRN5pha8meGqWT9dWipsrebeuSsbqLObSH0arHy3vLd3NPhlkQrut6WC6NiaXDwl/bBajPZ8Y3bzP32k/mjqDlzZkH2L1/W2D8sinb03fEmi4L1+3qVOqnq1oV/SXqKOs+RurH3a2D6zJvzRPJOmzidi/mh+3F381rTcp628mP3aHFQnezHkjLRtKufBqna9E+y3glW77bn2v1x4SlAxrXbtp38tz50eMGRYzZcOfLYeYqNvP2IjPn+x28h+cW3Hy4nnlxdHkxISrEczuu4p8wX5KQVJ1yg5uYFe0B4boRHb66pUDq3h4FyOwfVFHs7e4nKTfKeEwKnuJo3nksKhZ51JKdZObFMb9I8obusWRZnm3ZO4tKfX5uy7yx/To0qFrSlxnNhPStPeWi4aRFtuG6cbhpYbieeXaIv9j8u7Co9C8pqcYPomkfzCHIPG3X8xXZKnK+BKyY54C7nTLOyP3FpF/YP2Z+C1i5yc2S2XozfPrdTSPDe43f+ZAb9jIvhpUShMjMox65WjKWqH4ydV+4TDPUHGusBs0/M+OGlxFr74TTL6yf0L4wxStkpX6O8QT1fmWIF0FI65ofnj8zfmRZMUHmD9/PE66n7ujsQxKSyrojLjqnTmqcATqHHmZY3k0boq1dzP0boo0ls6Sp8pwacm0XU79Y07XF+H0XEjifc9HM+4ZKhK2MT0hIuHTzBefssKZl6nsYz8kyQ9PFlPsI/LgS3brZ+DNZESX1ZU/3wpoH2Mdf4v4iuDbHLgvX7Sl2+im5v2+zZbrb3A1JpSat7uIvJvO0Wf/JMJOZUj2Y82tA1HHtD4vyxtRqRfsedkU1WLLP4ubctd+o9M8vHj58+SWDOe+pOeNOejWx/rX2Nu7hOWU3H66rny6oz7zNJuwfkwOH71s6eGvvB+CkZU17QLjOpcM3txRQJk6rJmEus5n0AUN2mUNgSx4yp7VX6n3bZz07pE1BpVTyXf2gaWbsCHOPxBs2TlMpcUuGR/WPtOLTP2rYgtMfWGkYTX6/eugM+xViVOqLM4vDKnqLfFut0Q+H6YxwXXOvMOnLe4ri+5mxNfKLxbLf/9I/8azJduaZwcw7XQlp7WijYjBfrSPnScCaWfbvj7UvJBWXNRmP1DQbuVoyG8P1DM3zVMwQ66c5hwWatx4QhLj86Au6+8xYBczdkrE2rJ9UP2Gu/pMFTMY8zDwtL8WE601ieJ6eVT34s66UzNttlz4dk4mM2IjCIqbcvE/OMIurny38TUoQ3h23mj7gqb18T3o3X/6Woi3qpCYZyK6HsRd214ZoYxcTQEO0sWSWNFXjM5y5vFtktyvttOr+ljEDjH+wIjrVlIkI0q9K236RkZEDJu56YnKaQd/D9Hf3mqaNOW4joEha3qWJ/NA7VvtLjxteTkwQouJ9D1l916DNRzr8x1csJiGG66o7M4N8qvM+lUVT7ze0yy+tNTuJVUaaZt56K+u8LeshK8X+ngXydtuV82UBThoO+WLJPsshG3JCIsxFNDHpVW+eufdAmd+mjXt4ToLmw3U64+SgEiLCq+Uaw2gg2lW1dzOY3rRqTXtAuM6pBnxxT4Evm9vnIZk3Fmazy9ec1/Jqsz4lhyJQyatb+pDSevOfGH6/Uk+PCDXT879tau8t/fWvR4aF+dNPTTq4dOH8eVZ85i+I2Xvb/K+l+tFfDZtkPeBk2KQiYWwlaZnhcbr4yhnhOvVxdQsvwitkpemzbcqb06pJmJFUjPdH6fvC8zPX/v06bjFkVjdlJbluNRv/2r0/pt6vbuGteeWG+ZESsvKWuyWzMVzPPDO4dL6iFZpOPs28V9nwybpxq2D3f3haYS6XzJAr1pTq1h/VpYRX02VGN8xrb+WQVBxn9NoEzaqZF0aXF4vLjTrPSsh48svu0IIi5ty86UUR1cu4fx9l0qo7s2pJSWnQjNsm0Yry0riKEtK7/vxHauY8lAWd1HjzdDY9jL2s2zZEG7uYABqijSWjbWmq7tDF2M1NM63dw4vLjojX/cSYLKLvYWaXMFkFM1wkoHy2rXeTPtufGz3+pkqKrsM8wO7Xao3RvjXnfNp6pMP57eHbjCDD9aTZtXyqTL5u5KstnvLapMp+bdZ/ZBWW+vJPjyLejf/W/fBoDi/Nv32YtabjJ23ZZzk+FzmkSH28tD76z/WXONGvJlwm87ddr79slUMqrH/buodnJUFnE65TKdu65Cclpk0i89ywALGoSK/9nIMt69oDwnV2LWDaPQUyL4wqL87uJW6abKfHRhSVBurvUDUURZG4uLV//pId1zBvbaPer2vjR3LGPaferu/edcVz3oCceYhVWrgv35Bjhg04ZYq5uun761zN87GGDTCX9nzrRN/TBRHagbUM713XLqkdGV5q47PrNDMavlhSmedHiErZ0a1g/oDgLtFnWc9q0bTyxpQqEoIQFQndqflxsofcUFjbpuzeHysTxlaQmBt11JUlszFcp78fGtRp3n1dk9Gpqu4zl6ElFUfGaa+SubRkukxx/6ofL2qYV1S4z0HOdTxVUnRtKeldN/ou30HSz12hfiQT4nOT4n7LuDa9pg/pHTxH35G0/6e+7O/XbCrzWCH18Z/wEmJpzZm3jTaiuDi2kkQcEHmYedGEZZ2Uu23mm/kexl7WbRuirV3M/RuirSWjLWqqbtjF2O2NmdaO2iAuk024ru9hOQZgxonje64KpN5Z2bVWmyVJPPckUm9Wt/IjCVJaJzrJ+IchV/PI2phl4bqZK9nfLs4LbdiwW/RZzktEWKk7aVIRP7K8Tx3enyIqeV1b/3br2edD1M//bpJHGjRTP2jKd2YYlXydt3JPpDspr8bJWrTPYlaiXKXLnAatwYyvU2UK64xIavyoipK8v/5525bzhTbv4Vl6unCdty1+OxJRSuzdbBn32qLmZkVx2SGnOYcyVrYHhOusSsCkewpoXhxD5mm3kRMhmuSV+rS+Td68pq96U96YUlVCiGRt1r5W06kXJ7dt27Kad8HwfVkPgKffXdozPOaemZ7/ZUtH3zwt13zI/SMTTf8WFWqz8gkra+pX6zuUC1lmuDEga8dhdH5WeXtmTSkhCZxwhX33s/ZZZXGA/HQO915RH9a28iHzhe3h7Fq04Iob0U3rDzn0ipUpmvp8KCJATEpKdd2kHRneLnKTirVyht3744zDfZl300pZZ0X0WXBpyWwN12nVw6WdWkyJM7zJkKaVzzd1KSHOGzTu36zXu7m2ZHpgo4n0K9Nq5S3QZJGhf1KfDkeWkfjWmXbJMIIDayXVvejaUnH5UXz397MWozOSlrctKc1fb/LZD/rDVdWbw0Pbyg9mncinvvw7KViWv970iwY36tPZsbV9ZfVnXNC+9dGyTsrernY6ux5mWNptG6LNXcztG6LNJaPpnJuqe3YxQ3tjpn7E9i8pJkQFQ3eZiyAs7WHcdPEtFwXUqW9vxS6JrC0TeTVjHtkx/VBfz4/V3CcnDuh7IJcjXNPcaOdkH65/PxYVICbEpSIOf+NJIG1PqB/z0nNJ9emJ+v05z3KOn0Ul/9O7TOHfZ1zkviaVVjzaEFqzJffAMvPqpMoSCfuSkuaaKynrtsPwG+P4LJpPMed9lmZd1+mqX8Y08ZVVaB19QXdRmvp8ZlQN31Kd1hqNxGO+kNz/2LGH1yeUfVuk3u0J9/euOiZel2XmLevH5b94BfQ7yO1q1rYHhOv6KsCEuwpknIgqLuINnrg5Vj+ZX9+bZwS59BvzQyrUHRizc/OiEeH9l17/kZoY06lK3d7zN29dOX1AtwGLL5ndVyqOR5Xwrjcvx1vhuRlxyDf143m/+beOXhvdv+fQ6FU79u7dsWbusE7Nu846/V5zH4D6xfqetatX8i8kk8lk+WUlyldtHn1ZqX66unutahVLFZLJCspkBUv+UrVm55h7yk+7ompXD/QvrJkrK1o6sHrz2ZfMZ1Pzkg9zr82jPp+f3y04uMu4JbtOXb5xPX7fgl7V8nsVqz9s5yP9eHx2kJvPlYX/sXt/nHFyYHFm4PHGPPdK064smc3hOk1Tn/6d2bZ+m1Exu09eupZwdM24kABZxU5z4z4a7ilxacnM163q9cGRwcVLt5i44dilGwmHlvSvXbxsq1lnPxgyzln3x67QfCJZ9z2Gn0rOv9lfMl7EzuoaVKpcg76T5i1dNn/igK7dx+1+xLkU9TNpx7i2tWo07CqfvvDv+ZP7NQ+q3X7i7vv601g5dVL25jjT2fYw3ZJu2xDt6GJu3hDtKBlN59hU3bSLMe2Ner+9f91aQZXLFCuo/RQNCAyqWafHWuaWNM7Hih7GWQ9fckNAlRTToWKRfL75CshkBfLl9fHOU7jWZO74u6knx9Qqkc/HJ69ffhmzUIEipStWCR52yCjezI3ccrbBF66rn60ND64bXCeokn+RrIZZ2L9iUJ3gusHdlrHWVr/ZHVm5UNHA2tV7b+UL51mLOn4y4+m+MU3KB7YcvmDTwXNXr8bHbo+ZGNqgUcTqxO+cUyWaV517B//Jvp/h6+6wgiLvevOM7qJ0fCbNpJjjPotZz4W61Lf46SENe0ZvOXH51u2rJzdN71ylTP3huwyHmmbKZXa27Xv4bNsip/6o79eXhVWuEDJ9352PP3+8u75zfOOylXuuuW00EI7V7QHhutlqxT/cRED16K9gqaTCWL4HVblZVD/9X4O8AYPPcI64NYtQqW8S485cuPdR/6/09/cunjl7+XGK0b2unBQV54aXzdvwf0+Nj1g4CznrS8abxy81l8GVKY8STsYeO33xzluTEdmdtHHl5fEVJd4hK80+G6RKuX9m97rFsyeOHjM5eumu889/cn6YmOM/28jtL5Dt+2PdtpXPj8wdN3X9Ne0VVN1c/V+XlcyOcJ3JPPX98amN86eOGzdt4fr9cfc/sW+Q0BbOdSXT4/JOqD7fP7Nn5Zwpk6OX7zyV+Dabm0Myz48qJ/Ftt4HzqBtvmvqZmV+fXT93Ou76U7O7Airj85NrcXE3nn0xIbO5k+bYw5j8uWtDtLOLuXFDtLNkNJ1TU3XXLqbvDjlN2NDDckoS/4cAs7e7MqFKIO94JBbzZJ4bOyT3w3VN9hRvr8duWzFv2viJs//edPD84688B43qlPuXbr/n/oiovzxKfPKNZ2GLC233gjnts3QbcJVuZvLVPTGzxo8cNWHGos1nn5kcauryZ9Ffu/fwFm2Fpun0t1f+iZk1YdToSbOX7buezL7PVZeEte0B4bpODn/dVeDH7tD8krLD4/jau1GeqY87uhXxH3CM9zZZo2Ut+Jp6fKB/sdCdVhz6W5CoMBbJZMbT8m2zznS0ObfPvyopOrjq+MvZnYZx+zKYyaAHF81Mia2crbwxtao0X/uNLnh4xcqc0gLuYbTntkPPLZm17dPM8gLqYWZKgNluKmB/uE69Xzd4stnXfbhpsQWTLc/QFfIeHuG6YDrLfyqjilsregSVDozYnaxWnJKX8qo27aZl4ZfywcKGJVqteu2As5XqV6talmi0yPpXRXhETanu/VnXS5jxOvXt9asvDmgAbliPHlw0R2grr0+uLC0SvjfrLTmOSNJ5aQi4h9Ge2w49t2QOacmC6mEOKTESyS0Bu8N19es1Q6Zf1N9AmVv5/o9sx1N0BbyHR7j+H+lrwiqm5lUxhEjWfuO7bycGlS0ZutPyq7zpV6fWCow6avZxdAslqC9HowJrTbmsfxzbwvU8ZjHq/fZuRfxCVuheOeIxBUNBPFVAcWF0Re9qU69z7zZ029Kih7lt1SBj/AIC62H8hcBc9xSwM1ynUo6OGbiK/wU/7llgIeUKum5QWwjX3aASkAVjAerT4QGVK4UtP3tuXf/f6o89wR1P0Xhp4++Ku4tb/io/at1K3ESoz0flwS2XJFlwAz53RU/6prwTXde3wqj4bB4V9qTioizCFqDebexQqFT4PwJ6dgU9TNhN7j+WewH2sP9YDQm6uHaF6+oXW+TyTc9yd1R4QXNbk3noWqPltGURrjuNFgnbJaBKuX1obczKnedf2BAtUh+Oj2rWackdGy+NK5JiuoSMOi6AB2DtIs555bQr02oXDVlmMjhwzmtiCQjkrsDPuFGVS3TcJLCbQdDDcreVYGu2Cwizh9leXqyZuwLKKxMqlwgZv3T58uUr9960dpz6zLQ0y56XzN1CecjWoOvSivx55+Cq5cuXL53SNqDsMJfmxCkbJ5ySKhIVjgCVcmnN2n9tuSWe+hq3bu1lc2+dFY6AQ3KquDnn9zKtVj7BWWuHcCIRJwn8PD8uqFK/A5Y/M+OkfFifLHqY9WZYI/cFhNvDct8KW7RFQPVk26geoZpP+OQD7zxz9BlbYLDOf1yA+nxsZri2Z3QfvN7zMBCue16dokQuEVAnH5bXax591UGj7bukDNioRwtQyQcG1Gu18Kb+dejCKi16mLDq6z+YW4H3sP9gjaHIEIAABAQhgHBdENWETApCQPXm8ISoJbcEkVdk8r8mQH05NmPo8hs/hFzurB6GuzmFXIkem3dP6GEeWzkoGAQgAAEhCyBcF3LtIe8QgAAEIAABCEAAAhCAAAQg4KECCNc9tGJRLAhAAAIQgAAEIAABCEAAAhAQsgDCdSHXHvIOAQhAAAIQgAAEIAABCEAAAh4qgHDdQysWxYIABCAAAQhAAAIQgAAEIAABIQsgXBdy7SHvEIAABCAAAQhAAAIQgAAEIOChAgjXPbRiUSwIQAACEIAABCAAAQhAAAIQELIAwnUh1x7yDgEIQAACEIAABCAAAQhAAAIeKoBw3UMrFsWCAAQgAAEIQAACEIAABCAAASELIFwXcu0h7xCAAAQgAAEIQAACEIAABCDgoQII1z20YlEsCEAAAhCAAAQgAAEIQAACEBCyAMJ1Idce8g4BCEAAAhCAAAQgAAEIQAACHiqAcN1DKxbFggAEIAABCEAAAhCAAAQgAAEhCyBcF3LtIe8QgAAEIAABCEAAAhCAAAQg4KECCNc9tGJRLAhAAAIQgAAEIAABCEAAAhAQsgDCdSHXHvIOAQhAAAIQgAAEIAABCEAAAh4qgHDdQysWxYIABCAAAQhAAAIQgAAEIAABIQsgXBdy7SHvEIAABCAAAQhAAAIQgAAEIOChAgjXPbRiUSwIQAACEIAABCAAAQhAAAIQELIAwnUh1x7yDgEIQAACEIAABCAARL9XtQAAAsVJREFUAQhAAAIeKoBw3UMrFsWCAAQgAAEIQAACEIAABCAAASELIFwXcu0h7xCAAAQgAAEIQAACEIAABCDgoQII1z20YlEsCEAAAhCAAAQgAAEIQAACEBCyAMJ1Idce8g4BCEAAAhCAAAQgAAEIQAACHiqAcN1DKxbFggAEIAABCEAAAhCAAAQgAAEhCyBcF3LtIe8QgAAEIAABCEAAAhCAAAQg4KECCNc9tGJRLAhAAAIQgAAEIAABCEAAAhAQsgDCdSHXHvIOAQhAAAIQgAAEIAABCEAAAh4qgHDdQysWxYIABCAAAQhAAAIQgAAEIAABIQsgXBdy7SHvEIAABCAAAQhAAAIQgAAEIOChAgjXPbRiUSwIQAACEIAABCAAAQhAAAIQELIAwnUh1x7yDgEIQAACEIAABCAAAQhAAAIeKoBw3UMrFsWCAAQgAAEIQAACEIAABCAAASELIFwXcu0h7xCAAAQgAAEIQAACEIAABCDgoQII1z20YlEsCEAAAhCAAAQgAAEIQAACEBCyAMJ1Idce8g4BCEAAAhCAAAQgAAEIQAACHiqAcN1DKxbFggAEIAABCEAAAhCAAAQgAAEhCyBcF3LtIe8QgAAEIAABCEAAAhCAAAQg4KECCNc9tGJRLAhAAAIQgAAEIAABCEAAAhAQsgDCdSHXHvIOAQhAAAIQgAAEIAABCEAAAh4qgHDdQysWxYIABCAAAQhAAAIQgAAEIAABIQsgXBdy7SHvEIAABCAAAQhAAAIQgAAEIOChAgjXPbRiUSwIQAACEIAABCAAAQhAAAIQELIAwnUh1x7yDgEIQAACEIAABCAAAQhAAAIeKoBw3UMrFsWCAAQgAAEIQAACEIAABCAAASELIFwXcu0h7xCAAAQgAAEIQAACEIAABCDgoQII1z20YlEsCEAAAhCAAAQgAAEIQAACEBCywP8BfCU5LeFNnNAAAAAASUVORK5CYII=)"
      ],
      "metadata": {
        "id": "3S3kyqR0MetU"
      }
    },
    {
      "cell_type": "code",
      "source": [
        "def f(x):\n",
        "  return sin(3*x**3 + 7*x**2 + 5*x - 6) * cos(7*x**3 + 5*x**2 + 6*x - 4)\n",
        "\n",
        "X = [1, -8*pi -6, -9 + 10*pi]\n",
        "x = Symbol(\"x\")\n",
        "\n",
        "fx = [f(x).evalf(2, subs={x:X[i]}) for i in range(len(X))]\n",
        "display(fx)"
      ],
      "metadata": {
        "colab": {
          "base_uri": "https://localhost:8080/",
          "height": 34
        },
        "id": "WZVzYwZkMv6g",
        "outputId": "7c631fc5-2d15-4e1d-9581-c6dbd4af7328"
      },
      "execution_count": null,
      "outputs": [
        {
          "output_type": "display_data",
          "data": {
            "text/plain": [
              "[0.056, 0.38, -0.40]"
            ]
          },
          "metadata": {}
        }
      ]
    }
  ],
  "metadata": {
    "kernelspec": {
      "display_name": "Python 3 (ipykernel)",
      "language": "python",
      "name": "python3"
    },
    "language_info": {
      "codemirror_mode": {
        "name": "ipython",
        "version": 3
      },
      "file_extension": ".py",
      "mimetype": "text/x-python",
      "name": "python",
      "nbconvert_exporter": "python",
      "pygments_lexer": "ipython3",
      "version": "3.9.12"
    },
    "colab": {
      "provenance": [],
      "collapsed_sections": [
        "_9uHWXsYlCSD"
      ]
    }
  },
  "nbformat": 4,
  "nbformat_minor": 0
}
