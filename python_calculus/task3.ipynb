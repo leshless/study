{
  "cells": [
    {
      "cell_type": "markdown",
      "metadata": {
        "id": "view-in-github",
        "colab_type": "text"
      },
      "source": [
        "<a href=\"https://colab.research.google.com/github/leshless/study/blob/main/python_calculus/task3.ipynb\" target=\"_parent\"><img src=\"https://colab.research.google.com/assets/colab-badge.svg\" alt=\"Open In Colab\"/></a>"
      ]
    },
    {
      "cell_type": "markdown",
      "metadata": {
        "id": "MXWlhIFiKbyz"
      },
      "source": [
        "## Занятие 3\n",
        "## Математический анализ\n",
        "## Решение нелинейных уравнений в Sympy. Solve и solveset.\n",
        "https://docs.sympy.org/latest/modules/solvers/solveset.html"
      ]
    },
    {
      "cell_type": "code",
      "execution_count": 50,
      "metadata": {
        "id": "MNN37PWHKby0"
      },
      "outputs": [],
      "source": [
        "from sympy import Symbol, symbols, S, solve, solveset, Intersection, Interval, EmptySet, Union, Eq, log, sin, tan, pi\n",
        "import sympy\n",
        "from sympy.plotting import *\n",
        "# Продолжим использовать магию\n",
        "%matplotlib inline"
      ]
    },
    {
      "cell_type": "markdown",
      "metadata": {
        "id": "EPlBYUioKby0"
      },
      "source": [
        "### Задание 1\n",
        "Решить уравнение $6x^4 + 9x^3 - 99x^2 - 66x + 360 = 0$ с помощью solve и solveset."
      ]
    },
    {
      "cell_type": "code",
      "execution_count": 8,
      "metadata": {
        "id": "IZLEZz8HKby1",
        "colab": {
          "base_uri": "https://localhost:8080/",
          "height": 76
        },
        "outputId": "97f67a26-22d3-4017-8ffa-849fcf023a88"
      },
      "outputs": [
        {
          "output_type": "display_data",
          "data": {
            "text/plain": [
              "[-4, -5/2, 2, 3]"
            ]
          },
          "metadata": {}
        },
        {
          "output_type": "display_data",
          "data": {
            "text/plain": [
              "{-4, -5/2, 2, 3}"
            ],
            "text/latex": "$\\displaystyle \\left\\{-4, - \\frac{5}{2}, 2, 3\\right\\}$"
          },
          "metadata": {}
        }
      ],
      "source": [
        "x = symbols('x')\n",
        "eq = Eq(6*x**4 + 9*x**3 - 99*x**2 - 66*x + 360, 0)\n",
        "\n",
        "display(solve(eq, x))\n",
        "display(solveset(eq, x))"
      ]
    },
    {
      "cell_type": "markdown",
      "metadata": {
        "id": "b4MVmgCyKby1"
      },
      "source": [
        "### Задание 2.\n",
        "Найти только вещественные решения уравнения $12x^8 + 32x^6 + 21x^4 - 2x^2 - 3 = 0$."
      ]
    },
    {
      "cell_type": "code",
      "execution_count": 15,
      "metadata": {
        "id": "d1usbtwUKby1",
        "colab": {
          "base_uri": "https://localhost:8080/",
          "height": 68
        },
        "outputId": "920a5499-0050-4b2d-823e-ea3b3f0cd381"
      },
      "outputs": [
        {
          "output_type": "display_data",
          "data": {
            "text/plain": [
              "{-sqrt(3)/3, sqrt(3)/3}"
            ],
            "text/latex": "$\\displaystyle \\left\\{- \\frac{\\sqrt{3}}{3}, \\frac{\\sqrt{3}}{3}\\right\\}$"
          },
          "metadata": {}
        }
      ],
      "source": [
        "x = symbols('x')\n",
        "eq = Eq(12*x**8 + 32*x**6 + 21*x**4 - 2*x**2 - 3, 0)\n",
        "\n",
        "display(solveset(eq, x, domain=S.Reals))"
      ]
    },
    {
      "cell_type": "markdown",
      "metadata": {
        "id": "Npo63HCIKby1"
      },
      "source": [
        "### Задание 3.\n",
        "Решить уравнение $\\log_2(\\sin(x))=-1$."
      ]
    },
    {
      "cell_type": "code",
      "execution_count": 19,
      "metadata": {
        "id": "VARODYa-Kby1",
        "colab": {
          "base_uri": "https://localhost:8080/",
          "height": 58
        },
        "outputId": "8281bfeb-1b7c-4f63-9565-3a803940fb23"
      },
      "outputs": [
        {
          "output_type": "display_data",
          "data": {
            "text/plain": [
              "Union(ImageSet(Lambda(_n, 2*_n*pi + pi/6), Integers), ImageSet(Lambda(_n, 2*_n*pi + 5*pi/6), Integers))"
            ],
            "text/latex": "$\\displaystyle \\left\\{2 n \\pi + \\frac{\\pi}{6}\\; \\middle|\\; n \\in \\mathbb{Z}\\right\\} \\cup \\left\\{2 n \\pi + \\frac{5 \\pi}{6}\\; \\middle|\\; n \\in \\mathbb{Z}\\right\\}$"
          },
          "metadata": {}
        }
      ],
      "source": [
        "x = symbols('x')\n",
        "eq = Eq(log(sin(x), 2), -1)\n",
        "\n",
        "display(solveset(eq, x))"
      ]
    },
    {
      "cell_type": "markdown",
      "metadata": {
        "id": "wt1Cbh0dKby1"
      },
      "source": [
        "### Задание 4.\n",
        "Найти решения уравнения $2{\\rm tg}^2(x) - 3{\\rm tg}(x) - 5 = 0$ на открытом интервале  $(-5\\pi/4, 11\\pi/4)$."
      ]
    },
    {
      "cell_type": "code",
      "source": [
        "x = symbols('x')\n",
        "eq = Eq(2*tan(x)**2 - 3*tan(x) - 5, 0)\n",
        "dom = Interval(-5*pi/4, 11*pi/4, left_open=True, right_open=True)\n",
        "\n",
        "display(solveset(eq, x, dom))"
      ],
      "metadata": {
        "colab": {
          "base_uri": "https://localhost:8080/",
          "height": 58
        },
        "id": "eMOaEPMaDbeu",
        "outputId": "fcee6abf-cc1f-4526-9ac6-9abb8e666191"
      },
      "execution_count": 25,
      "outputs": [
        {
          "output_type": "display_data",
          "data": {
            "text/plain": [
              "{-pi/4, 3*pi/4, 7*pi/4, -pi + atan(5/2), atan(5/2) + pi, atan(5/2) + 2*pi, atan(5/2)}"
            ],
            "text/latex": "$\\displaystyle \\left\\{- \\frac{\\pi}{4}, \\frac{3 \\pi}{4}, \\frac{7 \\pi}{4}, - \\pi + \\operatorname{atan}{\\left(\\frac{5}{2} \\right)}, \\operatorname{atan}{\\left(\\frac{5}{2} \\right)} + \\pi, \\operatorname{atan}{\\left(\\frac{5}{2} \\right)} + 2 \\pi, \\operatorname{atan}{\\left(\\frac{5}{2} \\right)}\\right\\}$"
          },
          "metadata": {}
        }
      ]
    },
    {
      "cell_type": "markdown",
      "metadata": {
        "id": "Zy3eWq-9Kby2"
      },
      "source": [
        "### Задание 5.\n",
        "Найти область определения функции $\\sqrt{\\sin^2 x - 1}$."
      ]
    },
    {
      "cell_type": "code",
      "execution_count": 42,
      "metadata": {
        "id": "w1qlNjnsKby2",
        "colab": {
          "base_uri": "https://localhost:8080/",
          "height": 58
        },
        "outputId": "133b5201-6c39-48d1-a911-17230eb5a9e9"
      },
      "outputs": [
        {
          "output_type": "display_data",
          "data": {
            "text/plain": [
              "Union(ImageSet(Lambda(_n, 2*_n*pi + pi/2), Integers), ImageSet(Lambda(_n, 2*_n*pi + 3*pi/2), Integers))"
            ],
            "text/latex": "$\\displaystyle \\left\\{2 n \\pi + \\frac{\\pi}{2}\\; \\middle|\\; n \\in \\mathbb{Z}\\right\\} \\cup \\left\\{2 n \\pi + \\frac{3 \\pi}{2}\\; \\middle|\\; n \\in \\mathbb{Z}\\right\\}$"
          },
          "metadata": {}
        }
      ],
      "source": [
        "x = symbols('x')\n",
        "ineq = Eq(sin(x)**2 - 1, 0)\n",
        "\n",
        "display(solveset(ineq, x, domain=S.Reals))"
      ]
    },
    {
      "cell_type": "markdown",
      "metadata": {
        "id": "vFX7gsuJKby2"
      },
      "source": [
        "### Задание 6.\n",
        "Найти решение уравнения $\\frac{(x^3 + 5 x^2 - 3 x - 15)\\ln(x^2 - 3)}{x^2 - 3 x + 2} = 0$. Выполнить проверку подстановкой subs.\n",
        "#### Указание.\n",
        "Решение нужно разбить на части. Нужно учесть область определения выражения в левой части уравнения."
      ]
    },
    {
      "cell_type": "code",
      "execution_count": 46,
      "metadata": {
        "id": "touc-j7HKby2",
        "colab": {
          "base_uri": "https://localhost:8080/",
          "height": 37
        },
        "outputId": "e1e32f98-e825-4c31-cce4-dd39fa9f8b56"
      },
      "outputs": [
        {
          "output_type": "display_data",
          "data": {
            "text/plain": [
              "{-5, -2}"
            ],
            "text/latex": "$\\displaystyle \\left\\{-5, -2\\right\\}$"
          },
          "metadata": {}
        }
      ],
      "source": [
        "x = symbols('x')\n",
        "\n",
        "ineq = x**2 - 3 > 0\n",
        "eq = Eq(x**2 - 3*x + 2, 0)\n",
        "\n",
        "dom = Intersection(solveset(ineq, x, domain=S.Reals), solveset(eq, x, domain=S.Reals).complement(S.Reals))\n",
        "\n",
        "num = (x**3 + 5*x**2 - 3*x - 15) * log(x**2 - 3)\n",
        "\n",
        "display(solveset(Eq(num, 0), x, domain=dom))"
      ]
    },
    {
      "cell_type": "markdown",
      "metadata": {
        "id": "Pt5MH-20Kby2"
      },
      "source": [
        "### Индивидуальное задание.\n",
        "Через все точки пересечения графиков функций $f(x)$ и $g(x)$ провести горизонтальные прямые. Изобразить на графике $f(x)$ зеленым цветом, $g(x)$ красным, горизонтальные линии черным.\n",
        "Формулы для $f(x)$ и $g(x)$ включить в легенду.\n",
        "\n",
        "![image.png](data:image/png;base64,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)"
      ]
    },
    {
      "cell_type": "code",
      "execution_count": 65,
      "metadata": {
        "id": "0NGBA0H5Kby2",
        "colab": {
          "base_uri": "https://localhost:8080/",
          "height": 486
        },
        "outputId": "236ceaa7-2fac-45ef-9e75-56d40ca76cc2"
      },
      "outputs": [
        {
          "output_type": "display_data",
          "data": {
            "text/plain": [
              "<Figure size 640x480 with 1 Axes>"
            ],
            "image/png": "[encoded data removed]"
          },
          "metadata": {}
        }
      ],
      "source": [
        "def f(x):\n",
        "  return 7*x**2 - (51/2)*x + 6\n",
        "\n",
        "def g(x):\n",
        "  return -x**2 + (5/2)*x - 1/2\n",
        "\n",
        "x = symbols('x')\n",
        "\n",
        "p = plot(xlim=[-10, 10], ylim=[-10, 10], legend=True, xlabel=\"x\", ylabel=\"f(x), g(x)\", show=False)\n",
        "p.extend(plot(f(x), line_color=\"green\", label=\"7x^2 - (51/2)x + 6\", show=False))\n",
        "p.extend(plot(g(x), line_color=\"red\", label=\"-x^2 + (5/2)x - 1/2\", show=False))\n",
        "\n",
        "eq = Eq(f(x), g(x))\n",
        "points = solve(eq, x, domain=S.Reals)\n",
        "\n",
        "for x0 in points:\n",
        "  y0 = f(x0)\n",
        "  p.extend(plot(y0, line_color=\"black\", label=\"\", show=False))\n",
        "\n",
        "p.show()"
      ]
    }
  ],
  "metadata": {
    "kernelspec": {
      "display_name": "Python 3",
      "language": "python",
      "name": "python3"
    },
    "language_info": {
      "codemirror_mode": {
        "name": "ipython",
        "version": 3
      },
      "file_extension": ".py",
      "mimetype": "text/x-python",
      "name": "python",
      "nbconvert_exporter": "python",
      "pygments_lexer": "ipython3",
      "version": "3.7.3"
    },
    "colab": {
      "provenance": [],
      "include_colab_link": true
    }
  },
  "nbformat": 4,
  "nbformat_minor": 0
}